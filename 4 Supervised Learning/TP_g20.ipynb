{
  "cells": [
    {
      "cell_type": "markdown",
      "metadata": {
        "id": "view-in-github",
        "colab_type": "text"
      },
      "source": [
        "<a href=\"https://colab.research.google.com/github/Tommmster/diplodatos-2022-g20/blob/main/entregable_4_aprendizaje_supervisado/as_g20.ipynb\" target=\"_parent\"><img src=\"https://colab.research.google.com/assets/colab-badge.svg\" alt=\"Open In Colab\"/></a>"
      ]
    },
    {
      "cell_type": "markdown",
      "metadata": {
        "id": "b7YKwkwuBISY"
      },
      "source": [
        "# DiploDatos Kaggle Competition"
      ]
    },
    {
      "cell_type": "markdown",
      "metadata": {
        "id": "ciNuqkmEBISZ"
      },
      "source": [
        "Presentamos un código creado como ejemplo de base para la competición.\n",
        "\n",
        "Deben:\n",
        "\n",
        "- Explorar los datos y aprender de ellos.\n",
        "- Probar diferentes modelos y ver cuáles ajustan mejor dado los datos.\n",
        "- **Obtener una accuracy mejor que la que se presenta en este ejemplo.**\n",
        "- Tratar de obtener la accuracy más alta posible!\n",
        "- Discutir la elección de modelo.\n",
        "\n",
        "El análisis exploratorio y el preprocesamiento de los datos queda a libertad de cada grupo y no deben quedarse con este simple ejemplo."
      ]
    },
    {
      "cell_type": "markdown",
      "source": [
        "### <font color=blue>Descripciones de archivos y campos de datos\n",
        "<font color=blue>***train.csv*** : registros personales de aproximadamente dos tercios (~ 8700) de los pasajeros, que se utilizarán como datos de capacitación.\n",
        "\n",
        "<font color=blue>**PassengerId**- Un Id único para cada pasajero.<br>\n",
        "**HomePlanet**- El planeta del que partió el pasajero, normalmente su planeta de residencia permanente.<br>\n",
        "**CryoSleep**- Indica si el pasajero eligió ser puesto en animación suspendida durante la duración del viaje. Los pasajeros en criosueño están confinados en sus cabinas.<br>\n",
        "**Cabin**- El número de cabina donde se hospeda el pasajero. Toma la forma deck/num/side, donde side puede ser Ppor Babor o Spor Estribor . Babor y estribor son, respectivamente, los lados izquierdo y derecho de una embarcación, mirando hacia proa (la parte delantera del barco), independientemente del sentido de la marcha.<br>\n",
        "**Destination**- El planeta al que desembarcará el pasajero.<br>\n",
        "**Age**- La edad del pasajero.<br>\n",
        "**VIP**- Si el pasajero ha pagado por servicio VIP especial durante el viaje.<br>\n",
        "**RoomService, FoodCourt, ShoppingMall, Spa, VRDeck**- Monto que el pasajero ha facturado en cada uno de los muchos servicios de lujo del Spaceship Titanic .<br>\n",
        "**Name**- El nombre y apellido del pasajero.<br>\n",
        "**Transported**- Si el pasajero fue transportado a otra dimensión. Este es el objetivo, la columna que está tratando de predecir.<br>\n",
        "***test.csv*** : registros personales del tercio restante (~4300) de los pasajeros, que se utilizarán como datos de prueba. Su tarea es predecir el valor de Transported para los pasajeros en este conjunto.<br>**PassengerId**- Id para cada pasajero en el conjunto de prueba.<br>**Transported**- El objetivo. Para cada pasajero, prediga True o False.\n"
      ],
      "metadata": {
        "id": "dLb4nvXkm_6p"
      }
    },
    {
      "cell_type": "code",
      "execution_count": null,
      "metadata": {
        "id": "ysiBqkqHBISa"
      },
      "outputs": [],
      "source": [
        "import pandas as pd\n",
        "import numpy as np\n",
        "import matplotlib.pyplot as plt\n",
        "\n",
        "from sklearn.preprocessing import StandardScaler, LabelEncoder\n",
        "from sklearn.impute import SimpleImputer\n",
        "from sklearn.model_selection import train_test_split, GridSearchCV, StratifiedKFold\n",
        "from sklearn.metrics import accuracy_score, ConfusionMatrixDisplay, classification_report\n",
        "\n",
        "from sklearn.tree import DecisionTreeClassifier"
      ]
    },
    {
      "cell_type": "code",
      "source": [
        "import seaborn as sns\n",
        "import matplotlib.pyplot as plt"
      ],
      "metadata": {
        "id": "dscBelz3SSOY"
      },
      "execution_count": null,
      "outputs": []
    },
    {
      "cell_type": "code",
      "source": [
        "from google.colab import drive\n",
        "\n",
        "drive.mount('/content/drive')\n",
        "df = pd.read_csv('/content/drive/MyDrive/AS/train.csv')\n",
        "df_test = pd.read_csv('/content/drive/MyDrive/AS/test.csv')\n",
        "passengerId = df.PassengerId"
      ],
      "metadata": {
        "colab": {
          "base_uri": "https://localhost:8080/"
        },
        "id": "4sBGQ1rXLjDP",
        "outputId": "f97493cb-9f61-4cb1-d023-2a8e50f25e8e"
      },
      "execution_count": null,
      "outputs": [
        {
          "output_type": "stream",
          "name": "stdout",
          "text": [
            "Mounted at /content/drive\n"
          ]
        }
      ]
    },
    {
      "cell_type": "markdown",
      "metadata": {
        "id": "RUuVusnLBISc"
      },
      "source": [
        "## Algún análisis exploratorio que permita tomar decisiones sobre las variabes a usar, transformaciones de variables, tratamiento de los datos faltantes, etc. etc."
      ]
    },
    {
      "cell_type": "markdown",
      "source": [
        "###<font color=blue> Analisis Exploratorio y Transformacion de variables"
      ],
      "metadata": {
        "id": "X39bkrszn8M1"
      }
    },
    {
      "cell_type": "code",
      "source": [
        "df.info()"
      ],
      "metadata": {
        "id": "UUA-rQYj-KHw",
        "colab": {
          "base_uri": "https://localhost:8080/"
        },
        "outputId": "0fd48032-bf12-4d58-9d92-b9cd9ef746db"
      },
      "execution_count": null,
      "outputs": [
        {
          "output_type": "stream",
          "name": "stdout",
          "text": [
            "<class 'pandas.core.frame.DataFrame'>\n",
            "RangeIndex: 8693 entries, 0 to 8692\n",
            "Data columns (total 14 columns):\n",
            " #   Column        Non-Null Count  Dtype  \n",
            "---  ------        --------------  -----  \n",
            " 0   PassengerId   8693 non-null   object \n",
            " 1   HomePlanet    8492 non-null   object \n",
            " 2   CryoSleep     8476 non-null   object \n",
            " 3   Cabin         8494 non-null   object \n",
            " 4   Destination   8511 non-null   object \n",
            " 5   Age           8514 non-null   float64\n",
            " 6   VIP           8490 non-null   object \n",
            " 7   RoomService   8512 non-null   float64\n",
            " 8   FoodCourt     8510 non-null   float64\n",
            " 9   ShoppingMall  8485 non-null   float64\n",
            " 10  Spa           8510 non-null   float64\n",
            " 11  VRDeck        8505 non-null   float64\n",
            " 12  Name          8493 non-null   object \n",
            " 13  Transported   8693 non-null   bool   \n",
            "dtypes: bool(1), float64(6), object(7)\n",
            "memory usage: 891.5+ KB\n"
          ]
        }
      ]
    },
    {
      "cell_type": "code",
      "source": [
        "plt.figure(figsize = (6,4))\n",
        "g = sns.countplot(x='Transported', data=df, color='blue')\n",
        "g.set(title='Gráfico de barras de Transported')\n"
      ],
      "metadata": {
        "colab": {
          "base_uri": "https://localhost:8080/",
          "height": 313
        },
        "id": "vM6NHJmOpS6M",
        "outputId": "c32a1d78-d3c8-42e0-8b37-9f96787f02ce"
      },
      "execution_count": null,
      "outputs": [
        {
          "output_type": "execute_result",
          "data": {
            "text/plain": [
              "[Text(0.5, 1.0, 'Gráfico de barras de Transported')]"
            ]
          },
          "metadata": {},
          "execution_count": 5
        },
        {
          "output_type": "display_data",
          "data": {
            "text/plain": [
              "<Figure size 432x288 with 1 Axes>"
            ],
            "image/png": "[encoded data removed]"
          },
          "metadata": {
            "needs_background": "light"
          }
        }
      ]
    },
    {
      "cell_type": "markdown",
      "source": [
        "<font color=blue> Como se puede apreciar las clases estan balanceadas."
      ],
      "metadata": {
        "id": "dnSzwfh9NrF_"
      }
    },
    {
      "cell_type": "markdown",
      "source": [
        "<font color=blue> Para la visualizacion de los datos primero vamos a realizar una serie de separacion de columnas acorde a lo indicado, estas corresponderan a las columnas:Cabin, Name a los fines de realizar luego determinadas imputaciones que nos permitiran predecir el valor de la variable objetivo."
      ],
      "metadata": {
        "id": "eBj4rb5-UhGa"
      }
    },
    {
      "cell_type": "code",
      "source": [
        "#Parseamos el campo Cabin,seatamos los campos nuevos, luego recorremos mediante un for el df y para todos aquellos caso que no sean nulos realizado el parseo del campo Cabin\n",
        "\n",
        "for Dataset in (df, df_test):\n",
        " Dataset['Cabin_deck'] = np.NaN\n",
        " Dataset['Cabin_num'] = np.NaN\n",
        " Dataset['Cabin_side'] = np.NaN\n",
        " for i in range(len(Dataset)):\n",
        "    if pd.isna(Dataset.iloc[i]['Cabin']):\n",
        "        continue\n",
        "    deck, num, side = Dataset.iloc[i]['Cabin'].split('/')\n",
        "    Dataset.loc[i, 'Cabin_deck'] = deck\n",
        "    Dataset.loc[i, 'Cabin_num'] = int(num)\n",
        "    Dataset.loc[i, 'Cabin_side'] = side\n",
        "\n"
      ],
      "metadata": {
        "id": "PyisFHcVWUvB"
      },
      "execution_count": null,
      "outputs": []
    },
    {
      "cell_type": "code",
      "source": [
        "#identificamos tipos de variables para el analisis exploratorio del conjunto train\n",
        "variables_categoricas = []\n",
        "variables_numericas = []\n",
        "for columna in df.columns:\n",
        "  if columna in ['PassengerId', 'Transported']:\n",
        "    continue\n",
        "  if df[columna].dtype == 'object':\n",
        "     variables_categoricas += [columna]\n",
        "  else:\n",
        "     variables_numericas += [columna]\n",
        "        "
      ],
      "metadata": {
        "id": "OkNmDufypAp_"
      },
      "execution_count": null,
      "outputs": []
    },
    {
      "cell_type": "code",
      "source": [
        "# veamos como es la distribucion de las clases para las variables mas interesantes\n",
        "categoricas_columns=['Destination','HomePlanet','Cabin_deck','Cabin_side', 'CryoSleep', 'VIP']\n",
        "\n",
        "plt.rcParams['figure.figsize'] = (16,20)\n",
        "for i in range(len(categoricas_columns)):\n",
        " plt.subplot(5,3,i+1) \n",
        " plt.tight_layout()\n",
        " df_column=df[['PassengerId', categoricas_columns[i],'Transported']].drop_duplicates(subset =['PassengerId', categoricas_columns[i]], keep = 'first')\n",
        " g = sns.countplot(x=categoricas_columns[i], data=df_column, hue='Transported')\n",
        " g.set(title='Analisis - '+ categoricas_columns[i] + ' por PassengerId')\n",
        " h, l = g.get_legend_handles_labels()\n",
        " plt.legend(title='Transported', handles=h, labels=['No', 'Yes'])"
      ],
      "metadata": {
        "colab": {
          "base_uri": "https://localhost:8080/",
          "height": 550
        },
        "id": "8zDlHWpNgz51",
        "outputId": "eaa0fac4-42c9-4cce-fad2-3bf832aa9228"
      },
      "execution_count": null,
      "outputs": [
        {
          "output_type": "display_data",
          "data": {
            "text/plain": [
              "<Figure size 1152x1440 with 6 Axes>"
            ],
            "image/png": "[encoded data removed]"
          },
          "metadata": {
            "needs_background": "light"
          }
        }
      ]
    },
    {
      "cell_type": "markdown",
      "source": [
        "<font color=blue>Como se puede apreciar para algunas variables categoricas no se logra identificar algun comportamiento diferente que nos de indicios de que fue o No Transportado.<br> Por otro lado, para la variable CryoSleep cuando es False, es mayor la cantidad de personas no transportadas. Mientras que si es True es menor la cantidad de personas transportadas. Esto puede deberse a que las personas no CryoSleep no se encontraban en sus cabinas al momento del impacto.<br>Veamos algunas variables numericas."
      ],
      "metadata": {
        "id": "ofFVlV0gm-uw"
      }
    },
    {
      "cell_type": "code",
      "source": [
        "df.describe()\n"
      ],
      "metadata": {
        "id": "RvYx0FzkdkhH",
        "colab": {
          "base_uri": "https://localhost:8080/",
          "height": 300
        },
        "outputId": "5e0361dd-88a2-491c-a085-d020c6e2a485"
      },
      "execution_count": null,
      "outputs": [
        {
          "output_type": "execute_result",
          "data": {
            "text/plain": [
              "               Age   RoomService     FoodCourt  ShoppingMall           Spa  \\\n",
              "count  8514.000000   8512.000000   8510.000000   8485.000000   8510.000000   \n",
              "mean     28.827930    224.687617    458.077203    173.729169    311.138778   \n",
              "std      14.489021    666.717663   1611.489240    604.696458   1136.705535   \n",
              "min       0.000000      0.000000      0.000000      0.000000      0.000000   \n",
              "25%      19.000000      0.000000      0.000000      0.000000      0.000000   \n",
              "50%      27.000000      0.000000      0.000000      0.000000      0.000000   \n",
              "75%      38.000000     47.000000     76.000000     27.000000     59.000000   \n",
              "max      79.000000  14327.000000  29813.000000  23492.000000  22408.000000   \n",
              "\n",
              "             VRDeck    Cabin_num  \n",
              "count   8505.000000  8494.000000  \n",
              "mean     304.854791   600.367671  \n",
              "std     1145.717189   511.867226  \n",
              "min        0.000000     0.000000  \n",
              "25%        0.000000   167.250000  \n",
              "50%        0.000000   427.000000  \n",
              "75%       46.000000   999.000000  \n",
              "max    24133.000000  1894.000000  "
            ],
            "text/html": [
              "\n",
              "  <div id=\"df-707f840f-d529-4f77-8ac8-08e5a65b3c55\">\n",
              "    <div class=\"colab-df-container\">\n",
              "      <div>\n",
              "<style scoped>\n",
              "    .dataframe tbody tr th:only-of-type {\n",
              "        vertical-align: middle;\n",
              "    }\n",
              "\n",
              "    .dataframe tbody tr th {\n",
              "        vertical-align: top;\n",
              "    }\n",
              "\n",
              "    .dataframe thead th {\n",
              "        text-align: right;\n",
              "    }\n",
              "</style>\n",
              "<table border=\"1\" class=\"dataframe\">\n",
              "  <thead>\n",
              "    <tr style=\"text-align: right;\">\n",
              "      <th></th>\n",
              "      <th>Age</th>\n",
              "      <th>RoomService</th>\n",
              "      <th>FoodCourt</th>\n",
              "      <th>ShoppingMall</th>\n",
              "      <th>Spa</th>\n",
              "      <th>VRDeck</th>\n",
              "      <th>Cabin_num</th>\n",
              "    </tr>\n",
              "  </thead>\n",
              "  <tbody>\n",
              "    <tr>\n",
              "      <th>count</th>\n",
              "      <td>8514.000000</td>\n",
              "      <td>8512.000000</td>\n",
              "      <td>8510.000000</td>\n",
              "      <td>8485.000000</td>\n",
              "      <td>8510.000000</td>\n",
              "      <td>8505.000000</td>\n",
              "      <td>8494.000000</td>\n",
              "    </tr>\n",
              "    <tr>\n",
              "      <th>mean</th>\n",
              "      <td>28.827930</td>\n",
              "      <td>224.687617</td>\n",
              "      <td>458.077203</td>\n",
              "      <td>173.729169</td>\n",
              "      <td>311.138778</td>\n",
              "      <td>304.854791</td>\n",
              "      <td>600.367671</td>\n",
              "    </tr>\n",
              "    <tr>\n",
              "      <th>std</th>\n",
              "      <td>14.489021</td>\n",
              "      <td>666.717663</td>\n",
              "      <td>1611.489240</td>\n",
              "      <td>604.696458</td>\n",
              "      <td>1136.705535</td>\n",
              "      <td>1145.717189</td>\n",
              "      <td>511.867226</td>\n",
              "    </tr>\n",
              "    <tr>\n",
              "      <th>min</th>\n",
              "      <td>0.000000</td>\n",
              "      <td>0.000000</td>\n",
              "      <td>0.000000</td>\n",
              "      <td>0.000000</td>\n",
              "      <td>0.000000</td>\n",
              "      <td>0.000000</td>\n",
              "      <td>0.000000</td>\n",
              "    </tr>\n",
              "    <tr>\n",
              "      <th>25%</th>\n",
              "      <td>19.000000</td>\n",
              "      <td>0.000000</td>\n",
              "      <td>0.000000</td>\n",
              "      <td>0.000000</td>\n",
              "      <td>0.000000</td>\n",
              "      <td>0.000000</td>\n",
              "      <td>167.250000</td>\n",
              "    </tr>\n",
              "    <tr>\n",
              "      <th>50%</th>\n",
              "      <td>27.000000</td>\n",
              "      <td>0.000000</td>\n",
              "      <td>0.000000</td>\n",
              "      <td>0.000000</td>\n",
              "      <td>0.000000</td>\n",
              "      <td>0.000000</td>\n",
              "      <td>427.000000</td>\n",
              "    </tr>\n",
              "    <tr>\n",
              "      <th>75%</th>\n",
              "      <td>38.000000</td>\n",
              "      <td>47.000000</td>\n",
              "      <td>76.000000</td>\n",
              "      <td>27.000000</td>\n",
              "      <td>59.000000</td>\n",
              "      <td>46.000000</td>\n",
              "      <td>999.000000</td>\n",
              "    </tr>\n",
              "    <tr>\n",
              "      <th>max</th>\n",
              "      <td>79.000000</td>\n",
              "      <td>14327.000000</td>\n",
              "      <td>29813.000000</td>\n",
              "      <td>23492.000000</td>\n",
              "      <td>22408.000000</td>\n",
              "      <td>24133.000000</td>\n",
              "      <td>1894.000000</td>\n",
              "    </tr>\n",
              "  </tbody>\n",
              "</table>\n",
              "</div>\n",
              "      <button class=\"colab-df-convert\" onclick=\"convertToInteractive('df-707f840f-d529-4f77-8ac8-08e5a65b3c55')\"\n",
              "              title=\"Convert this dataframe to an interactive table.\"\n",
              "              style=\"display:none;\">\n",
              "        \n",
              "  <svg xmlns=\"http://www.w3.org/2000/svg\" height=\"24px\"viewBox=\"0 0 24 24\"\n",
              "       width=\"24px\">\n",
              "    <path d=\"M0 0h24v24H0V0z\" fill=\"none\"/>\n",
              "    <path d=\"M18.56 5.44l.94 2.06.94-2.06 2.06-.94-2.06-.94-.94-2.06-.94 2.06-2.06.94zm-11 1L8.5 8.5l.94-2.06 2.06-.94-2.06-.94L8.5 2.5l-.94 2.06-2.06.94zm10 10l.94 2.06.94-2.06 2.06-.94-2.06-.94-.94-2.06-.94 2.06-2.06.94z\"/><path d=\"M17.41 7.96l-1.37-1.37c-.4-.4-.92-.59-1.43-.59-.52 0-1.04.2-1.43.59L10.3 9.45l-7.72 7.72c-.78.78-.78 2.05 0 2.83L4 21.41c.39.39.9.59 1.41.59.51 0 1.02-.2 1.41-.59l7.78-7.78 2.81-2.81c.8-.78.8-2.07 0-2.86zM5.41 20L4 18.59l7.72-7.72 1.47 1.35L5.41 20z\"/>\n",
              "  </svg>\n",
              "      </button>\n",
              "      \n",
              "  <style>\n",
              "    .colab-df-container {\n",
              "      display:flex;\n",
              "      flex-wrap:wrap;\n",
              "      gap: 12px;\n",
              "    }\n",
              "\n",
              "    .colab-df-convert {\n",
              "      background-color: #E8F0FE;\n",
              "      border: none;\n",
              "      border-radius: 50%;\n",
              "      cursor: pointer;\n",
              "      display: none;\n",
              "      fill: #1967D2;\n",
              "      height: 32px;\n",
              "      padding: 0 0 0 0;\n",
              "      width: 32px;\n",
              "    }\n",
              "\n",
              "    .colab-df-convert:hover {\n",
              "      background-color: #E2EBFA;\n",
              "      box-shadow: 0px 1px 2px rgba(60, 64, 67, 0.3), 0px 1px 3px 1px rgba(60, 64, 67, 0.15);\n",
              "      fill: #174EA6;\n",
              "    }\n",
              "\n",
              "    [theme=dark] .colab-df-convert {\n",
              "      background-color: #3B4455;\n",
              "      fill: #D2E3FC;\n",
              "    }\n",
              "\n",
              "    [theme=dark] .colab-df-convert:hover {\n",
              "      background-color: #434B5C;\n",
              "      box-shadow: 0px 1px 3px 1px rgba(0, 0, 0, 0.15);\n",
              "      filter: drop-shadow(0px 1px 2px rgba(0, 0, 0, 0.3));\n",
              "      fill: #FFFFFF;\n",
              "    }\n",
              "  </style>\n",
              "\n",
              "      <script>\n",
              "        const buttonEl =\n",
              "          document.querySelector('#df-707f840f-d529-4f77-8ac8-08e5a65b3c55 button.colab-df-convert');\n",
              "        buttonEl.style.display =\n",
              "          google.colab.kernel.accessAllowed ? 'block' : 'none';\n",
              "\n",
              "        async function convertToInteractive(key) {\n",
              "          const element = document.querySelector('#df-707f840f-d529-4f77-8ac8-08e5a65b3c55');\n",
              "          const dataTable =\n",
              "            await google.colab.kernel.invokeFunction('convertToInteractive',\n",
              "                                                     [key], {});\n",
              "          if (!dataTable) return;\n",
              "\n",
              "          const docLinkHtml = 'Like what you see? Visit the ' +\n",
              "            '<a target=\"_blank\" href=https://colab.research.google.com/notebooks/data_table.ipynb>data table notebook</a>'\n",
              "            + ' to learn more about interactive tables.';\n",
              "          element.innerHTML = '';\n",
              "          dataTable['output_type'] = 'display_data';\n",
              "          await google.colab.output.renderOutput(dataTable, element);\n",
              "          const docLink = document.createElement('div');\n",
              "          docLink.innerHTML = docLinkHtml;\n",
              "          element.appendChild(docLink);\n",
              "        }\n",
              "      </script>\n",
              "    </div>\n",
              "  </div>\n",
              "  "
            ]
          },
          "metadata": {},
          "execution_count": 9
        }
      ]
    },
    {
      "cell_type": "markdown",
      "source": [
        "<font color=blue> Se puede apreciar para la variable Age su media y mediana son similares, mientras que los servicios de lujo RoomService, FoodCourt, ShoppingMall, Spa, VRDeck poseen una mediana de 0 dado que mas de la mitad de las personas no hicieron consumos de lujo."
      ],
      "metadata": {
        "id": "kZ4sIuGEeCkk"
      }
    },
    {
      "cell_type": "code",
      "source": [
        "# veamos sus graficas, pero solo las mas interesantes\n",
        "n_cols = len(variables_numericas)\n",
        "cols_interest=['Age','Cabin_num' ] #, \"FoodCourt\", \"ShoppingMall\", \"Spa\", \"VRDeck\" ,\"RoomService\"\n",
        "fig = plt.figure(figsize=(20, 35))\n",
        "rows = int(n_cols / 3) + (n_cols % 3 > 0)\n",
        "\n",
        "for i, coln in enumerate(cols_interest):\n",
        "    ax = fig.add_subplot(rows,3,i+1)\n",
        "    ax.set_title(cols_interest[i])\n",
        "    sns.kdeplot(data=df, x=coln, hue='Transported', legend=True)\n",
        "    ax.axvline(df[(df.Transported == 1)][cols_interest[i]].mean(), color='#e1812c', linestyle='--')\n",
        "    ax.axvline(df[(df.Transported == 0)][cols_interest[i]].mean(), color='#3274a1', linestyle='--')\n",
        "    ax.legend(['Transported = Yes','Transported = No','mean Transported = Yes','mean Transported = No'], fontsize=10)\n",
        " \n",
        "fig.subplots_adjust(hspace=.5,wspace=0.4)    \n",
        "\n",
        "plt.show()   \n",
        "plt.close()"
      ],
      "metadata": {
        "colab": {
          "base_uri": "https://localhost:8080/",
          "height": 554
        },
        "id": "z-S66cNZtdKV",
        "outputId": "ca75b581-a42d-4514-f50e-817192014ab1"
      },
      "execution_count": null,
      "outputs": [
        {
          "output_type": "display_data",
          "data": {
            "text/plain": [
              "<Figure size 1440x2520 with 2 Axes>"
            ],
            "image/png": "[encoded data removed]"
          },
          "metadata": {
            "needs_background": "light"
          }
        }
      ]
    },
    {
      "cell_type": "markdown",
      "source": [
        "<font color=blue> Tal como se indico antes la media en Age son bastante similares para ambas clases.<br> Por otro lado para el dato Cabin_num se observa tambien una media similar entre ambas clases, aqui la clase Transported tiene una mayor superficie para aquellos casos cuyo valor es menor a la media."
      ],
      "metadata": {
        "id": "95BiLg5XzT_D"
      }
    },
    {
      "cell_type": "markdown",
      "source": [
        "###<font color=blue> Datos Faltantes, deteccion de correlacion e imputacion de datos"
      ],
      "metadata": {
        "id": "lH_hMNwMoLdz"
      }
    },
    {
      "cell_type": "code",
      "source": [
        "#veamos los valores nulos\n",
        "def status(data):\n",
        "    data2=data\n",
        "    # total de rows\n",
        "    tot_rows=len(data2)\n",
        "    # total de nan\n",
        "    d2=data2.isnull().sum().reset_index()\n",
        "    d2.columns=['variable', 'q_nan']\n",
        "    # percentage of nan\n",
        "    d2[['p_nan']]=d2[['q_nan']]/tot_rows\n",
        "    # num of zeros\n",
        "    d2['q_zeros']=(data2==0).sum().values\n",
        "    # perc of zeros\n",
        "    d2['p_zeros']=d2[['q_zeros']]/tot_rows\n",
        "    # total unique values\n",
        "    d2['unique']=data2.nunique().values\n",
        "    # get data types per column\n",
        "    d2['type']=[str(x) for x in data2.dtypes.values]\n",
        "    return(d2)\n",
        "status(df)\n"
      ],
      "metadata": {
        "colab": {
          "base_uri": "https://localhost:8080/",
          "height": 583
        },
        "id": "WsVQ-7rRd-9W",
        "outputId": "e9ac3340-3525-41a7-bfc5-06e1c4809bb7"
      },
      "execution_count": null,
      "outputs": [
        {
          "output_type": "execute_result",
          "data": {
            "text/plain": [
              "        variable  q_nan     p_nan  q_zeros   p_zeros  unique     type\n",
              "0    PassengerId      0  0.000000        0  0.000000    8693   object\n",
              "1     HomePlanet    201  0.023122        0  0.000000       3   object\n",
              "2      CryoSleep    217  0.024963     5439  0.625676       2   object\n",
              "3          Cabin    199  0.022892        0  0.000000    6560   object\n",
              "4    Destination    182  0.020936        0  0.000000       3   object\n",
              "5            Age    179  0.020591      178  0.020476      80  float64\n",
              "6            VIP    203  0.023352     8291  0.953756       2   object\n",
              "7    RoomService    181  0.020821     5577  0.641551    1273  float64\n",
              "8      FoodCourt    183  0.021051     5456  0.627631    1507  float64\n",
              "9   ShoppingMall    208  0.023927     5587  0.642701    1115  float64\n",
              "10           Spa    183  0.021051     5324  0.612447    1327  float64\n",
              "11        VRDeck    188  0.021627     5495  0.632118    1306  float64\n",
              "12          Name    200  0.023007        0  0.000000    8473   object\n",
              "13   Transported      0  0.000000     4315  0.496376       2     bool\n",
              "14    Cabin_deck    199  0.022892        0  0.000000       8   object\n",
              "15     Cabin_num    199  0.022892       18  0.002071    1817  float64\n",
              "16    Cabin_side    199  0.022892        0  0.000000       2   object"
            ],
            "text/html": [
              "\n",
              "  <div id=\"df-52582c4b-fae2-4c6b-94ec-6a916798203f\">\n",
              "    <div class=\"colab-df-container\">\n",
              "      <div>\n",
              "<style scoped>\n",
              "    .dataframe tbody tr th:only-of-type {\n",
              "        vertical-align: middle;\n",
              "    }\n",
              "\n",
              "    .dataframe tbody tr th {\n",
              "        vertical-align: top;\n",
              "    }\n",
              "\n",
              "    .dataframe thead th {\n",
              "        text-align: right;\n",
              "    }\n",
              "</style>\n",
              "<table border=\"1\" class=\"dataframe\">\n",
              "  <thead>\n",
              "    <tr style=\"text-align: right;\">\n",
              "      <th></th>\n",
              "      <th>variable</th>\n",
              "      <th>q_nan</th>\n",
              "      <th>p_nan</th>\n",
              "      <th>q_zeros</th>\n",
              "      <th>p_zeros</th>\n",
              "      <th>unique</th>\n",
              "      <th>type</th>\n",
              "    </tr>\n",
              "  </thead>\n",
              "  <tbody>\n",
              "    <tr>\n",
              "      <th>0</th>\n",
              "      <td>PassengerId</td>\n",
              "      <td>0</td>\n",
              "      <td>0.000000</td>\n",
              "      <td>0</td>\n",
              "      <td>0.000000</td>\n",
              "      <td>8693</td>\n",
              "      <td>object</td>\n",
              "    </tr>\n",
              "    <tr>\n",
              "      <th>1</th>\n",
              "      <td>HomePlanet</td>\n",
              "      <td>201</td>\n",
              "      <td>0.023122</td>\n",
              "      <td>0</td>\n",
              "      <td>0.000000</td>\n",
              "      <td>3</td>\n",
              "      <td>object</td>\n",
              "    </tr>\n",
              "    <tr>\n",
              "      <th>2</th>\n",
              "      <td>CryoSleep</td>\n",
              "      <td>217</td>\n",
              "      <td>0.024963</td>\n",
              "      <td>5439</td>\n",
              "      <td>0.625676</td>\n",
              "      <td>2</td>\n",
              "      <td>object</td>\n",
              "    </tr>\n",
              "    <tr>\n",
              "      <th>3</th>\n",
              "      <td>Cabin</td>\n",
              "      <td>199</td>\n",
              "      <td>0.022892</td>\n",
              "      <td>0</td>\n",
              "      <td>0.000000</td>\n",
              "      <td>6560</td>\n",
              "      <td>object</td>\n",
              "    </tr>\n",
              "    <tr>\n",
              "      <th>4</th>\n",
              "      <td>Destination</td>\n",
              "      <td>182</td>\n",
              "      <td>0.020936</td>\n",
              "      <td>0</td>\n",
              "      <td>0.000000</td>\n",
              "      <td>3</td>\n",
              "      <td>object</td>\n",
              "    </tr>\n",
              "    <tr>\n",
              "      <th>5</th>\n",
              "      <td>Age</td>\n",
              "      <td>179</td>\n",
              "      <td>0.020591</td>\n",
              "      <td>178</td>\n",
              "      <td>0.020476</td>\n",
              "      <td>80</td>\n",
              "      <td>float64</td>\n",
              "    </tr>\n",
              "    <tr>\n",
              "      <th>6</th>\n",
              "      <td>VIP</td>\n",
              "      <td>203</td>\n",
              "      <td>0.023352</td>\n",
              "      <td>8291</td>\n",
              "      <td>0.953756</td>\n",
              "      <td>2</td>\n",
              "      <td>object</td>\n",
              "    </tr>\n",
              "    <tr>\n",
              "      <th>7</th>\n",
              "      <td>RoomService</td>\n",
              "      <td>181</td>\n",
              "      <td>0.020821</td>\n",
              "      <td>5577</td>\n",
              "      <td>0.641551</td>\n",
              "      <td>1273</td>\n",
              "      <td>float64</td>\n",
              "    </tr>\n",
              "    <tr>\n",
              "      <th>8</th>\n",
              "      <td>FoodCourt</td>\n",
              "      <td>183</td>\n",
              "      <td>0.021051</td>\n",
              "      <td>5456</td>\n",
              "      <td>0.627631</td>\n",
              "      <td>1507</td>\n",
              "      <td>float64</td>\n",
              "    </tr>\n",
              "    <tr>\n",
              "      <th>9</th>\n",
              "      <td>ShoppingMall</td>\n",
              "      <td>208</td>\n",
              "      <td>0.023927</td>\n",
              "      <td>5587</td>\n",
              "      <td>0.642701</td>\n",
              "      <td>1115</td>\n",
              "      <td>float64</td>\n",
              "    </tr>\n",
              "    <tr>\n",
              "      <th>10</th>\n",
              "      <td>Spa</td>\n",
              "      <td>183</td>\n",
              "      <td>0.021051</td>\n",
              "      <td>5324</td>\n",
              "      <td>0.612447</td>\n",
              "      <td>1327</td>\n",
              "      <td>float64</td>\n",
              "    </tr>\n",
              "    <tr>\n",
              "      <th>11</th>\n",
              "      <td>VRDeck</td>\n",
              "      <td>188</td>\n",
              "      <td>0.021627</td>\n",
              "      <td>5495</td>\n",
              "      <td>0.632118</td>\n",
              "      <td>1306</td>\n",
              "      <td>float64</td>\n",
              "    </tr>\n",
              "    <tr>\n",
              "      <th>12</th>\n",
              "      <td>Name</td>\n",
              "      <td>200</td>\n",
              "      <td>0.023007</td>\n",
              "      <td>0</td>\n",
              "      <td>0.000000</td>\n",
              "      <td>8473</td>\n",
              "      <td>object</td>\n",
              "    </tr>\n",
              "    <tr>\n",
              "      <th>13</th>\n",
              "      <td>Transported</td>\n",
              "      <td>0</td>\n",
              "      <td>0.000000</td>\n",
              "      <td>4315</td>\n",
              "      <td>0.496376</td>\n",
              "      <td>2</td>\n",
              "      <td>bool</td>\n",
              "    </tr>\n",
              "    <tr>\n",
              "      <th>14</th>\n",
              "      <td>Cabin_deck</td>\n",
              "      <td>199</td>\n",
              "      <td>0.022892</td>\n",
              "      <td>0</td>\n",
              "      <td>0.000000</td>\n",
              "      <td>8</td>\n",
              "      <td>object</td>\n",
              "    </tr>\n",
              "    <tr>\n",
              "      <th>15</th>\n",
              "      <td>Cabin_num</td>\n",
              "      <td>199</td>\n",
              "      <td>0.022892</td>\n",
              "      <td>18</td>\n",
              "      <td>0.002071</td>\n",
              "      <td>1817</td>\n",
              "      <td>float64</td>\n",
              "    </tr>\n",
              "    <tr>\n",
              "      <th>16</th>\n",
              "      <td>Cabin_side</td>\n",
              "      <td>199</td>\n",
              "      <td>0.022892</td>\n",
              "      <td>0</td>\n",
              "      <td>0.000000</td>\n",
              "      <td>2</td>\n",
              "      <td>object</td>\n",
              "    </tr>\n",
              "  </tbody>\n",
              "</table>\n",
              "</div>\n",
              "      <button class=\"colab-df-convert\" onclick=\"convertToInteractive('df-52582c4b-fae2-4c6b-94ec-6a916798203f')\"\n",
              "              title=\"Convert this dataframe to an interactive table.\"\n",
              "              style=\"display:none;\">\n",
              "        \n",
              "  <svg xmlns=\"http://www.w3.org/2000/svg\" height=\"24px\"viewBox=\"0 0 24 24\"\n",
              "       width=\"24px\">\n",
              "    <path d=\"M0 0h24v24H0V0z\" fill=\"none\"/>\n",
              "    <path d=\"M18.56 5.44l.94 2.06.94-2.06 2.06-.94-2.06-.94-.94-2.06-.94 2.06-2.06.94zm-11 1L8.5 8.5l.94-2.06 2.06-.94-2.06-.94L8.5 2.5l-.94 2.06-2.06.94zm10 10l.94 2.06.94-2.06 2.06-.94-2.06-.94-.94-2.06-.94 2.06-2.06.94z\"/><path d=\"M17.41 7.96l-1.37-1.37c-.4-.4-.92-.59-1.43-.59-.52 0-1.04.2-1.43.59L10.3 9.45l-7.72 7.72c-.78.78-.78 2.05 0 2.83L4 21.41c.39.39.9.59 1.41.59.51 0 1.02-.2 1.41-.59l7.78-7.78 2.81-2.81c.8-.78.8-2.07 0-2.86zM5.41 20L4 18.59l7.72-7.72 1.47 1.35L5.41 20z\"/>\n",
              "  </svg>\n",
              "      </button>\n",
              "      \n",
              "  <style>\n",
              "    .colab-df-container {\n",
              "      display:flex;\n",
              "      flex-wrap:wrap;\n",
              "      gap: 12px;\n",
              "    }\n",
              "\n",
              "    .colab-df-convert {\n",
              "      background-color: #E8F0FE;\n",
              "      border: none;\n",
              "      border-radius: 50%;\n",
              "      cursor: pointer;\n",
              "      display: none;\n",
              "      fill: #1967D2;\n",
              "      height: 32px;\n",
              "      padding: 0 0 0 0;\n",
              "      width: 32px;\n",
              "    }\n",
              "\n",
              "    .colab-df-convert:hover {\n",
              "      background-color: #E2EBFA;\n",
              "      box-shadow: 0px 1px 2px rgba(60, 64, 67, 0.3), 0px 1px 3px 1px rgba(60, 64, 67, 0.15);\n",
              "      fill: #174EA6;\n",
              "    }\n",
              "\n",
              "    [theme=dark] .colab-df-convert {\n",
              "      background-color: #3B4455;\n",
              "      fill: #D2E3FC;\n",
              "    }\n",
              "\n",
              "    [theme=dark] .colab-df-convert:hover {\n",
              "      background-color: #434B5C;\n",
              "      box-shadow: 0px 1px 3px 1px rgba(0, 0, 0, 0.15);\n",
              "      filter: drop-shadow(0px 1px 2px rgba(0, 0, 0, 0.3));\n",
              "      fill: #FFFFFF;\n",
              "    }\n",
              "  </style>\n",
              "\n",
              "      <script>\n",
              "        const buttonEl =\n",
              "          document.querySelector('#df-52582c4b-fae2-4c6b-94ec-6a916798203f button.colab-df-convert');\n",
              "        buttonEl.style.display =\n",
              "          google.colab.kernel.accessAllowed ? 'block' : 'none';\n",
              "\n",
              "        async function convertToInteractive(key) {\n",
              "          const element = document.querySelector('#df-52582c4b-fae2-4c6b-94ec-6a916798203f');\n",
              "          const dataTable =\n",
              "            await google.colab.kernel.invokeFunction('convertToInteractive',\n",
              "                                                     [key], {});\n",
              "          if (!dataTable) return;\n",
              "\n",
              "          const docLinkHtml = 'Like what you see? Visit the ' +\n",
              "            '<a target=\"_blank\" href=https://colab.research.google.com/notebooks/data_table.ipynb>data table notebook</a>'\n",
              "            + ' to learn more about interactive tables.';\n",
              "          element.innerHTML = '';\n",
              "          dataTable['output_type'] = 'display_data';\n",
              "          await google.colab.output.renderOutput(dataTable, element);\n",
              "          const docLink = document.createElement('div');\n",
              "          docLink.innerHTML = docLinkHtml;\n",
              "          element.appendChild(docLink);\n",
              "        }\n",
              "      </script>\n",
              "    </div>\n",
              "  </div>\n",
              "  "
            ]
          },
          "metadata": {},
          "execution_count": 11
        }
      ]
    },
    {
      "cell_type": "markdown",
      "source": [
        "<font color=blue> La perdida de datos no es significativa en su mayoria no supera el 3% por variable. Veamos graficamente la perdida de los datos."
      ],
      "metadata": {
        "id": "QhDAviD8OEsl"
      }
    },
    {
      "cell_type": "code",
      "source": [
        "import missingno as msno\n",
        "msno.matrix(df,figsize=(12, 6), fontsize=12, color=[0.5,0,0])"
      ],
      "metadata": {
        "colab": {
          "base_uri": "https://localhost:8080/",
          "height": 457
        },
        "id": "Di-f82WFsiIZ",
        "outputId": "1913c253-551c-453a-c1fd-27510945164c"
      },
      "execution_count": null,
      "outputs": [
        {
          "output_type": "execute_result",
          "data": {
            "text/plain": [
              "<matplotlib.axes._subplots.AxesSubplot at 0x7f8d3dd87310>"
            ]
          },
          "metadata": {},
          "execution_count": 12
        },
        {
          "output_type": "display_data",
          "data": {
            "text/plain": [
              "<Figure size 864x432 with 2 Axes>"
            ],
            "image/png": "[encoded data removed]"
          },
          "metadata": {
            "needs_background": "light"
          }
        }
      ]
    },
    {
      "cell_type": "code",
      "source": [
        "# veamos su correlacion a fin de analizar si la faltante de datos esta relacionada , solo analizaremos las variables mas relavantes\n",
        "variables_nulas=['HomePlanet','CryoSleep','Destination','VIP','Name' ,'Cabin_num'] \n",
        "msno.heatmap(df[variables_nulas],figsize=(12, 6), fontsize=12)"
      ],
      "metadata": {
        "colab": {
          "base_uri": "https://localhost:8080/",
          "height": 447
        },
        "id": "qBRmJOwhs8AA",
        "outputId": "3349f54d-b9a8-4741-a347-56d5026762d6"
      },
      "execution_count": null,
      "outputs": [
        {
          "output_type": "execute_result",
          "data": {
            "text/plain": [
              "<matplotlib.axes._subplots.AxesSubplot at 0x7f8d3dd36690>"
            ]
          },
          "metadata": {},
          "execution_count": 13
        },
        {
          "output_type": "display_data",
          "data": {
            "text/plain": [
              "<Figure size 864x432 with 2 Axes>"
            ],
            "image/png": "[encoded data removed]"
          },
          "metadata": {
            "needs_background": "light"
          }
        }
      ]
    },
    {
      "cell_type": "markdown",
      "source": [
        "<font color=blue> Como se puede apreciar no existe correlacion de perdida de datos entre las variables.<br> Las variables que descartaremos son:<br> \n",
        "PassengerId, dado que no es una variable que explique el comportamiento de las clases.<br>\n",
        "Cabin,dado que esta parseada en Cabin_side, Cabin_num y Cabin_deck.<br>\n",
        "Name, dado que no nos ha sido util para nuestro analisis, no nos explica el comportamiento de las clases. <br>"
      ],
      "metadata": {
        "id": "T2-BV2BRQNHM"
      }
    },
    {
      "cell_type": "markdown",
      "source": [
        "##<font color=blue> Preprocesamiento de Datos\n",
        "<font color=blue>Realizaremos una transformacion de las variables categoricas y booleanas y un OneHotEncoding de los datos para disponibilizarlos para el modelo. "
      ],
      "metadata": {
        "id": "Yptcj8GsbOoB"
      }
    },
    {
      "cell_type": "markdown",
      "source": [
        "###<font color=blue> Transformacion de Variables"
      ],
      "metadata": {
        "id": "-yqbvLXTzXDr"
      }
    },
    {
      "cell_type": "code",
      "source": [
        "# Eliminacion de caracteristicas\n",
        " \n",
        "df_bck = df.copy(deep=True)\n",
        "df_test_bck=df.copy(deep=True)\n",
        "drop_vars = ['PassengerId', 'Name', 'Cabin']\n",
        "\n",
        "df = df.drop(drop_vars, axis=1)\n",
        "df_test = df_test.drop(drop_vars, axis=1)\n",
        "\n"
      ],
      "metadata": {
        "id": "MbTamc7xZ3RX"
      },
      "execution_count": null,
      "outputs": []
    },
    {
      "cell_type": "code",
      "source": [
        "# imputacion de datos\n",
        "imputer_cols = [\"Age\", \"FoodCourt\", \"ShoppingMall\", \"Spa\", \"VRDeck\" ,\"RoomService\", \"Cabin_num\"]\n",
        "imputer = SimpleImputer(strategy=\"median\")\n",
        "df[imputer_cols] = imputer.fit_transform(df[imputer_cols])\n"
      ],
      "metadata": {
        "id": "rTXxQfr7X3qA"
      },
      "execution_count": null,
      "outputs": []
    },
    {
      "cell_type": "code",
      "source": [
        "# imputacion de bools, numericas y categoricas\n",
        "def cols(df):\n",
        "  vs = df.columns.to_series().groupby(df.dtypes).groups\n",
        "  numerical = vs[np.dtype('float64')]\n",
        "  categorical = vs[np.dtype('O')]\n",
        "  c_a = df.columns\n",
        "  c_c = categorical\n",
        "  c_n = numerical\n",
        "  return c_a, c_c, c_n"
      ],
      "metadata": {
        "id": "ySZzohcP1zBZ"
      },
      "execution_count": null,
      "outputs": []
    },
    {
      "cell_type": "code",
      "source": [
        "def nor_num(df):\n",
        "  c_a, c_c, c_n = cols(df)\n",
        "  for col in c_n:\n",
        "    mu = df[col].mean()\n",
        "    st = df[col].std()\n",
        "    for i in range(len(df[col])):\n",
        "      df[col][i] = (df[col][i] - mu) / st"
      ],
      "metadata": {
        "id": "rJJXthnb1_DP"
      },
      "execution_count": null,
      "outputs": []
    },
    {
      "cell_type": "code",
      "source": [
        "def imp_bool(df,col):\n",
        "  for i in range(len(df[col])):\n",
        "    ps = df[col][i]\n",
        "    if str(ps)=='True':\n",
        "      df[col][i] = 1.0\n",
        "    if str(ps)=='False':\n",
        "      df[col][i] =-1.0\n",
        "    if not (str(ps)=='True' or str(ps)=='False'):\n",
        "      df[col][i] = 0.0\n",
        "  df[col] = df[col].astype('float64')"
      ],
      "metadata": {
        "id": "DdPPcD4a2CC3"
      },
      "execution_count": null,
      "outputs": []
    },
    {
      "cell_type": "code",
      "source": [
        "#imputamos los dfs\n",
        "# train\n",
        "nor_num(df)\n",
        "imp_bool(df,'CryoSleep')\n",
        "imp_bool(df,'VIP')\n",
        "\n",
        "#test\n",
        "nor_num(df_test)\n",
        "imp_bool(df_test,'CryoSleep')\n",
        "imp_bool(df_test,'VIP')"
      ],
      "metadata": {
        "colab": {
          "base_uri": "https://localhost:8080/"
        },
        "id": "jUkvmZ-12HMX",
        "outputId": "681b1697-c405-4a7a-8a5e-b4a244713d0d"
      },
      "execution_count": null,
      "outputs": [
        {
          "output_type": "stream",
          "name": "stderr",
          "text": [
            "/usr/local/lib/python3.7/dist-packages/ipykernel_launcher.py:7: SettingWithCopyWarning: \n",
            "A value is trying to be set on a copy of a slice from a DataFrame\n",
            "\n",
            "See the caveats in the documentation: https://pandas.pydata.org/pandas-docs/stable/user_guide/indexing.html#returning-a-view-versus-a-copy\n",
            "  import sys\n",
            "/usr/local/lib/python3.7/dist-packages/ipykernel_launcher.py:5: SettingWithCopyWarning: \n",
            "A value is trying to be set on a copy of a slice from a DataFrame\n",
            "\n",
            "See the caveats in the documentation: https://pandas.pydata.org/pandas-docs/stable/user_guide/indexing.html#returning-a-view-versus-a-copy\n",
            "  \"\"\"\n",
            "/usr/local/lib/python3.7/dist-packages/ipykernel_launcher.py:9: SettingWithCopyWarning: \n",
            "A value is trying to be set on a copy of a slice from a DataFrame\n",
            "\n",
            "See the caveats in the documentation: https://pandas.pydata.org/pandas-docs/stable/user_guide/indexing.html#returning-a-view-versus-a-copy\n",
            "  if __name__ == '__main__':\n"
          ]
        }
      ]
    },
    {
      "cell_type": "code",
      "source": [
        "# Imputamos por Cabin_deck en forma separada dado que es una variable categorica y no en el OneHotEncode\n",
        "Te = LabelEncoder()\n",
        "for dataset in (df, df_test):\n",
        "    dataset['Cabin_deck'] = Te.fit_transform(dataset['Cabin_deck'])"
      ],
      "metadata": {
        "id": "pb_i3VDN3UdA"
      },
      "execution_count": null,
      "outputs": []
    },
    {
      "cell_type": "markdown",
      "source": [
        "####<font color=blue> OneHotEncode"
      ],
      "metadata": {
        "id": "5aOUQktwzmKk"
      }
    },
    {
      "cell_type": "code",
      "source": [
        "#despues de la eliminacion de caracteristicas volvemos a identificamos tipos de variables \n",
        "def encode(df):\n",
        " variables_categoricas = []\n",
        " variables_numericas = []\n",
        " for columna in df.columns:\n",
        "  if df[columna].dtype == 'object':\n",
        "     variables_categoricas += [columna]\n",
        "  else:\n",
        "     variables_numericas += [columna]\n",
        "\n",
        "  #aplicamos OneHotEnconde , creamos un df para cada tipo de variable\n",
        " from sklearn.preprocessing import OneHotEncoder\n",
        " df_cat = df[variables_categoricas]\n",
        " df_num = df[variables_numericas]\n",
        "\n",
        " #valores de las variables categoricas\n",
        " categorias = [df_cat[col].value_counts().index.values for col in variables_categoricas]\n",
        "\n",
        " encoder = OneHotEncoder(categories=categorias, handle_unknown=\"ignore\")\n",
        " encoder.fit(df_cat)\n",
        "\n",
        " et = encoder.transform(df_cat).toarray()#.todense()\n",
        " #agregamos las columnas numericas\n",
        " dat_enc = np.hstack([et, df_num])\n",
        " #obtenemos la matriz \n",
        " dat_enc.shape\n",
        "\n",
        " #Creamos un dataframe a partir de la matriz generada\n",
        " ohc = encoder.get_feature_names_out(df_cat.columns)\n",
        " cols = np.append(ohc, df_num.columns)\n",
        " oh_df = pd.DataFrame(dat_enc, columns = cols)\n",
        " return oh_df\n",
        "\n"
      ],
      "metadata": {
        "id": "K9kmKP-LAK1r"
      },
      "execution_count": null,
      "outputs": []
    },
    {
      "cell_type": "code",
      "source": [
        "#train\n",
        "df_enc = encode(df)\n",
        "df_test = encode(df_test)\n",
        "df_enc.isnull().sum().reset_index()\n",
        "#df_enc[:10]\n"
      ],
      "metadata": {
        "id": "fy8Icqdo5reL",
        "colab": {
          "base_uri": "https://localhost:8080/",
          "height": 645
        },
        "outputId": "c64e7560-e9e4-441e-cee4-2e09960b7bdd"
      },
      "execution_count": null,
      "outputs": [
        {
          "output_type": "execute_result",
          "data": {
            "text/plain": [
              "                        index  0\n",
              "0            HomePlanet_Earth  0\n",
              "1           HomePlanet_Europa  0\n",
              "2             HomePlanet_Mars  0\n",
              "3     Destination_TRAPPIST-1e  0\n",
              "4     Destination_55 Cancri e  0\n",
              "5   Destination_PSO J318.5-22  0\n",
              "6                Cabin_side_S  0\n",
              "7                Cabin_side_P  0\n",
              "8                   CryoSleep  0\n",
              "9                         Age  0\n",
              "10                        VIP  0\n",
              "11                RoomService  0\n",
              "12                  FoodCourt  0\n",
              "13               ShoppingMall  0\n",
              "14                        Spa  0\n",
              "15                     VRDeck  0\n",
              "16                Transported  0\n",
              "17                 Cabin_deck  0\n",
              "18                  Cabin_num  0"
            ],
            "text/html": [
              "\n",
              "  <div id=\"df-096c7d2c-a93e-4938-8110-15b65b13fd08\">\n",
              "    <div class=\"colab-df-container\">\n",
              "      <div>\n",
              "<style scoped>\n",
              "    .dataframe tbody tr th:only-of-type {\n",
              "        vertical-align: middle;\n",
              "    }\n",
              "\n",
              "    .dataframe tbody tr th {\n",
              "        vertical-align: top;\n",
              "    }\n",
              "\n",
              "    .dataframe thead th {\n",
              "        text-align: right;\n",
              "    }\n",
              "</style>\n",
              "<table border=\"1\" class=\"dataframe\">\n",
              "  <thead>\n",
              "    <tr style=\"text-align: right;\">\n",
              "      <th></th>\n",
              "      <th>index</th>\n",
              "      <th>0</th>\n",
              "    </tr>\n",
              "  </thead>\n",
              "  <tbody>\n",
              "    <tr>\n",
              "      <th>0</th>\n",
              "      <td>HomePlanet_Earth</td>\n",
              "      <td>0</td>\n",
              "    </tr>\n",
              "    <tr>\n",
              "      <th>1</th>\n",
              "      <td>HomePlanet_Europa</td>\n",
              "      <td>0</td>\n",
              "    </tr>\n",
              "    <tr>\n",
              "      <th>2</th>\n",
              "      <td>HomePlanet_Mars</td>\n",
              "      <td>0</td>\n",
              "    </tr>\n",
              "    <tr>\n",
              "      <th>3</th>\n",
              "      <td>Destination_TRAPPIST-1e</td>\n",
              "      <td>0</td>\n",
              "    </tr>\n",
              "    <tr>\n",
              "      <th>4</th>\n",
              "      <td>Destination_55 Cancri e</td>\n",
              "      <td>0</td>\n",
              "    </tr>\n",
              "    <tr>\n",
              "      <th>5</th>\n",
              "      <td>Destination_PSO J318.5-22</td>\n",
              "      <td>0</td>\n",
              "    </tr>\n",
              "    <tr>\n",
              "      <th>6</th>\n",
              "      <td>Cabin_side_S</td>\n",
              "      <td>0</td>\n",
              "    </tr>\n",
              "    <tr>\n",
              "      <th>7</th>\n",
              "      <td>Cabin_side_P</td>\n",
              "      <td>0</td>\n",
              "    </tr>\n",
              "    <tr>\n",
              "      <th>8</th>\n",
              "      <td>CryoSleep</td>\n",
              "      <td>0</td>\n",
              "    </tr>\n",
              "    <tr>\n",
              "      <th>9</th>\n",
              "      <td>Age</td>\n",
              "      <td>0</td>\n",
              "    </tr>\n",
              "    <tr>\n",
              "      <th>10</th>\n",
              "      <td>VIP</td>\n",
              "      <td>0</td>\n",
              "    </tr>\n",
              "    <tr>\n",
              "      <th>11</th>\n",
              "      <td>RoomService</td>\n",
              "      <td>0</td>\n",
              "    </tr>\n",
              "    <tr>\n",
              "      <th>12</th>\n",
              "      <td>FoodCourt</td>\n",
              "      <td>0</td>\n",
              "    </tr>\n",
              "    <tr>\n",
              "      <th>13</th>\n",
              "      <td>ShoppingMall</td>\n",
              "      <td>0</td>\n",
              "    </tr>\n",
              "    <tr>\n",
              "      <th>14</th>\n",
              "      <td>Spa</td>\n",
              "      <td>0</td>\n",
              "    </tr>\n",
              "    <tr>\n",
              "      <th>15</th>\n",
              "      <td>VRDeck</td>\n",
              "      <td>0</td>\n",
              "    </tr>\n",
              "    <tr>\n",
              "      <th>16</th>\n",
              "      <td>Transported</td>\n",
              "      <td>0</td>\n",
              "    </tr>\n",
              "    <tr>\n",
              "      <th>17</th>\n",
              "      <td>Cabin_deck</td>\n",
              "      <td>0</td>\n",
              "    </tr>\n",
              "    <tr>\n",
              "      <th>18</th>\n",
              "      <td>Cabin_num</td>\n",
              "      <td>0</td>\n",
              "    </tr>\n",
              "  </tbody>\n",
              "</table>\n",
              "</div>\n",
              "      <button class=\"colab-df-convert\" onclick=\"convertToInteractive('df-096c7d2c-a93e-4938-8110-15b65b13fd08')\"\n",
              "              title=\"Convert this dataframe to an interactive table.\"\n",
              "              style=\"display:none;\">\n",
              "        \n",
              "  <svg xmlns=\"http://www.w3.org/2000/svg\" height=\"24px\"viewBox=\"0 0 24 24\"\n",
              "       width=\"24px\">\n",
              "    <path d=\"M0 0h24v24H0V0z\" fill=\"none\"/>\n",
              "    <path d=\"M18.56 5.44l.94 2.06.94-2.06 2.06-.94-2.06-.94-.94-2.06-.94 2.06-2.06.94zm-11 1L8.5 8.5l.94-2.06 2.06-.94-2.06-.94L8.5 2.5l-.94 2.06-2.06.94zm10 10l.94 2.06.94-2.06 2.06-.94-2.06-.94-.94-2.06-.94 2.06-2.06.94z\"/><path d=\"M17.41 7.96l-1.37-1.37c-.4-.4-.92-.59-1.43-.59-.52 0-1.04.2-1.43.59L10.3 9.45l-7.72 7.72c-.78.78-.78 2.05 0 2.83L4 21.41c.39.39.9.59 1.41.59.51 0 1.02-.2 1.41-.59l7.78-7.78 2.81-2.81c.8-.78.8-2.07 0-2.86zM5.41 20L4 18.59l7.72-7.72 1.47 1.35L5.41 20z\"/>\n",
              "  </svg>\n",
              "      </button>\n",
              "      \n",
              "  <style>\n",
              "    .colab-df-container {\n",
              "      display:flex;\n",
              "      flex-wrap:wrap;\n",
              "      gap: 12px;\n",
              "    }\n",
              "\n",
              "    .colab-df-convert {\n",
              "      background-color: #E8F0FE;\n",
              "      border: none;\n",
              "      border-radius: 50%;\n",
              "      cursor: pointer;\n",
              "      display: none;\n",
              "      fill: #1967D2;\n",
              "      height: 32px;\n",
              "      padding: 0 0 0 0;\n",
              "      width: 32px;\n",
              "    }\n",
              "\n",
              "    .colab-df-convert:hover {\n",
              "      background-color: #E2EBFA;\n",
              "      box-shadow: 0px 1px 2px rgba(60, 64, 67, 0.3), 0px 1px 3px 1px rgba(60, 64, 67, 0.15);\n",
              "      fill: #174EA6;\n",
              "    }\n",
              "\n",
              "    [theme=dark] .colab-df-convert {\n",
              "      background-color: #3B4455;\n",
              "      fill: #D2E3FC;\n",
              "    }\n",
              "\n",
              "    [theme=dark] .colab-df-convert:hover {\n",
              "      background-color: #434B5C;\n",
              "      box-shadow: 0px 1px 3px 1px rgba(0, 0, 0, 0.15);\n",
              "      filter: drop-shadow(0px 1px 2px rgba(0, 0, 0, 0.3));\n",
              "      fill: #FFFFFF;\n",
              "    }\n",
              "  </style>\n",
              "\n",
              "      <script>\n",
              "        const buttonEl =\n",
              "          document.querySelector('#df-096c7d2c-a93e-4938-8110-15b65b13fd08 button.colab-df-convert');\n",
              "        buttonEl.style.display =\n",
              "          google.colab.kernel.accessAllowed ? 'block' : 'none';\n",
              "\n",
              "        async function convertToInteractive(key) {\n",
              "          const element = document.querySelector('#df-096c7d2c-a93e-4938-8110-15b65b13fd08');\n",
              "          const dataTable =\n",
              "            await google.colab.kernel.invokeFunction('convertToInteractive',\n",
              "                                                     [key], {});\n",
              "          if (!dataTable) return;\n",
              "\n",
              "          const docLinkHtml = 'Like what you see? Visit the ' +\n",
              "            '<a target=\"_blank\" href=https://colab.research.google.com/notebooks/data_table.ipynb>data table notebook</a>'\n",
              "            + ' to learn more about interactive tables.';\n",
              "          element.innerHTML = '';\n",
              "          dataTable['output_type'] = 'display_data';\n",
              "          await google.colab.output.renderOutput(dataTable, element);\n",
              "          const docLink = document.createElement('div');\n",
              "          docLink.innerHTML = docLinkHtml;\n",
              "          element.appendChild(docLink);\n",
              "        }\n",
              "      </script>\n",
              "    </div>\n",
              "  </div>\n",
              "  "
            ]
          },
          "metadata": {},
          "execution_count": 22
        }
      ]
    },
    {
      "cell_type": "code",
      "source": [
        "# Convertimos los valores de la variable objetivo en numéricas, para satisfacer a accuracy_score\n",
        "y =df_enc.Transported.apply(lambda b: 1 if b else -1)\n",
        "X =df_enc.drop('Transported',axis=1)\n",
        "X\n",
        "x_train, x_test, y_train, y_test = train_test_split(X, y, train_size=0.8, random_state = 8)"
      ],
      "metadata": {
        "id": "dcGZZa_xBqB9"
      },
      "execution_count": null,
      "outputs": []
    },
    {
      "cell_type": "code",
      "source": [
        "y_train.values"
      ],
      "metadata": {
        "colab": {
          "base_uri": "https://localhost:8080/"
        },
        "id": "PwAzmRaGtogb",
        "outputId": "d6cebb47-5a2d-48ca-fafa-efaf8302c90a"
      },
      "execution_count": null,
      "outputs": [
        {
          "output_type": "execute_result",
          "data": {
            "text/plain": [
              "array([ 1, -1, -1, ...,  1,  1, -1])"
            ]
          },
          "metadata": {},
          "execution_count": 59
        }
      ]
    },
    {
      "cell_type": "code",
      "source": [
        "X[:5]"
      ],
      "metadata": {
        "colab": {
          "base_uri": "https://localhost:8080/",
          "height": 288
        },
        "id": "XBhJn6rPM1oW",
        "outputId": "93de7cb9-9a63-47fb-d0e2-9240ab8cc6dd"
      },
      "execution_count": null,
      "outputs": [
        {
          "output_type": "execute_result",
          "data": {
            "text/plain": [
              "  HomePlanet_Earth HomePlanet_Europa HomePlanet_Mars Destination_TRAPPIST-1e  \\\n",
              "0              0.0               1.0             0.0                     1.0   \n",
              "1              1.0               0.0             0.0                     1.0   \n",
              "2              0.0               1.0             0.0                     1.0   \n",
              "3              0.0               1.0             0.0                     1.0   \n",
              "4              1.0               0.0             0.0                     1.0   \n",
              "\n",
              "  Destination_55 Cancri e Destination_PSO J318.5-22 Cabin_side_S Cabin_side_P  \\\n",
              "0                     0.0                       0.0          0.0          1.0   \n",
              "1                     0.0                       0.0          1.0          0.0   \n",
              "2                     0.0                       0.0          1.0          0.0   \n",
              "3                     0.0                       0.0          1.0          0.0   \n",
              "4                     0.0                       0.0          1.0          0.0   \n",
              "\n",
              "  CryoSleep       Age  VIP RoomService FoodCourt ShoppingMall       Spa  \\\n",
              "0      -1.0  0.711904 -1.0   -0.333085 -0.281011    -0.283562  -0.27061   \n",
              "1      -1.0 -0.334018 -1.0   -0.168064 -0.275371    -0.241757  0.217146   \n",
              "2      -1.0   2.03674  1.0   -0.267985  1.959885    -0.283562  5.695295   \n",
              "3      -1.0  0.293535 -1.0   -0.333085   0.52298     0.336832  2.687022   \n",
              "4      -1.0 -0.891844 -1.0    0.125645 -0.237145    -0.031057  0.231361   \n",
              "\n",
              "     VRDeck Cabin_deck Cabin_num  \n",
              "0 -0.262988          1  -1.17717  \n",
              "1 -0.224192          5  -1.17717  \n",
              "2 -0.219783          0  -1.17717  \n",
              "3 -0.092813          0  -1.17717  \n",
              "4 -0.261225          5 -1.175196  "
            ],
            "text/html": [
              "\n",
              "  <div id=\"df-cd211714-7f77-4cca-9ed1-0d4b9b4f2db8\">\n",
              "    <div class=\"colab-df-container\">\n",
              "      <div>\n",
              "<style scoped>\n",
              "    .dataframe tbody tr th:only-of-type {\n",
              "        vertical-align: middle;\n",
              "    }\n",
              "\n",
              "    .dataframe tbody tr th {\n",
              "        vertical-align: top;\n",
              "    }\n",
              "\n",
              "    .dataframe thead th {\n",
              "        text-align: right;\n",
              "    }\n",
              "</style>\n",
              "<table border=\"1\" class=\"dataframe\">\n",
              "  <thead>\n",
              "    <tr style=\"text-align: right;\">\n",
              "      <th></th>\n",
              "      <th>HomePlanet_Earth</th>\n",
              "      <th>HomePlanet_Europa</th>\n",
              "      <th>HomePlanet_Mars</th>\n",
              "      <th>Destination_TRAPPIST-1e</th>\n",
              "      <th>Destination_55 Cancri e</th>\n",
              "      <th>Destination_PSO J318.5-22</th>\n",
              "      <th>Cabin_side_S</th>\n",
              "      <th>Cabin_side_P</th>\n",
              "      <th>CryoSleep</th>\n",
              "      <th>Age</th>\n",
              "      <th>VIP</th>\n",
              "      <th>RoomService</th>\n",
              "      <th>FoodCourt</th>\n",
              "      <th>ShoppingMall</th>\n",
              "      <th>Spa</th>\n",
              "      <th>VRDeck</th>\n",
              "      <th>Cabin_deck</th>\n",
              "      <th>Cabin_num</th>\n",
              "    </tr>\n",
              "  </thead>\n",
              "  <tbody>\n",
              "    <tr>\n",
              "      <th>0</th>\n",
              "      <td>0.0</td>\n",
              "      <td>1.0</td>\n",
              "      <td>0.0</td>\n",
              "      <td>1.0</td>\n",
              "      <td>0.0</td>\n",
              "      <td>0.0</td>\n",
              "      <td>0.0</td>\n",
              "      <td>1.0</td>\n",
              "      <td>-1.0</td>\n",
              "      <td>0.711904</td>\n",
              "      <td>-1.0</td>\n",
              "      <td>-0.333085</td>\n",
              "      <td>-0.281011</td>\n",
              "      <td>-0.283562</td>\n",
              "      <td>-0.27061</td>\n",
              "      <td>-0.262988</td>\n",
              "      <td>1</td>\n",
              "      <td>-1.17717</td>\n",
              "    </tr>\n",
              "    <tr>\n",
              "      <th>1</th>\n",
              "      <td>1.0</td>\n",
              "      <td>0.0</td>\n",
              "      <td>0.0</td>\n",
              "      <td>1.0</td>\n",
              "      <td>0.0</td>\n",
              "      <td>0.0</td>\n",
              "      <td>1.0</td>\n",
              "      <td>0.0</td>\n",
              "      <td>-1.0</td>\n",
              "      <td>-0.334018</td>\n",
              "      <td>-1.0</td>\n",
              "      <td>-0.168064</td>\n",
              "      <td>-0.275371</td>\n",
              "      <td>-0.241757</td>\n",
              "      <td>0.217146</td>\n",
              "      <td>-0.224192</td>\n",
              "      <td>5</td>\n",
              "      <td>-1.17717</td>\n",
              "    </tr>\n",
              "    <tr>\n",
              "      <th>2</th>\n",
              "      <td>0.0</td>\n",
              "      <td>1.0</td>\n",
              "      <td>0.0</td>\n",
              "      <td>1.0</td>\n",
              "      <td>0.0</td>\n",
              "      <td>0.0</td>\n",
              "      <td>1.0</td>\n",
              "      <td>0.0</td>\n",
              "      <td>-1.0</td>\n",
              "      <td>2.03674</td>\n",
              "      <td>1.0</td>\n",
              "      <td>-0.267985</td>\n",
              "      <td>1.959885</td>\n",
              "      <td>-0.283562</td>\n",
              "      <td>5.695295</td>\n",
              "      <td>-0.219783</td>\n",
              "      <td>0</td>\n",
              "      <td>-1.17717</td>\n",
              "    </tr>\n",
              "    <tr>\n",
              "      <th>3</th>\n",
              "      <td>0.0</td>\n",
              "      <td>1.0</td>\n",
              "      <td>0.0</td>\n",
              "      <td>1.0</td>\n",
              "      <td>0.0</td>\n",
              "      <td>0.0</td>\n",
              "      <td>1.0</td>\n",
              "      <td>0.0</td>\n",
              "      <td>-1.0</td>\n",
              "      <td>0.293535</td>\n",
              "      <td>-1.0</td>\n",
              "      <td>-0.333085</td>\n",
              "      <td>0.52298</td>\n",
              "      <td>0.336832</td>\n",
              "      <td>2.687022</td>\n",
              "      <td>-0.092813</td>\n",
              "      <td>0</td>\n",
              "      <td>-1.17717</td>\n",
              "    </tr>\n",
              "    <tr>\n",
              "      <th>4</th>\n",
              "      <td>1.0</td>\n",
              "      <td>0.0</td>\n",
              "      <td>0.0</td>\n",
              "      <td>1.0</td>\n",
              "      <td>0.0</td>\n",
              "      <td>0.0</td>\n",
              "      <td>1.0</td>\n",
              "      <td>0.0</td>\n",
              "      <td>-1.0</td>\n",
              "      <td>-0.891844</td>\n",
              "      <td>-1.0</td>\n",
              "      <td>0.125645</td>\n",
              "      <td>-0.237145</td>\n",
              "      <td>-0.031057</td>\n",
              "      <td>0.231361</td>\n",
              "      <td>-0.261225</td>\n",
              "      <td>5</td>\n",
              "      <td>-1.175196</td>\n",
              "    </tr>\n",
              "  </tbody>\n",
              "</table>\n",
              "</div>\n",
              "      <button class=\"colab-df-convert\" onclick=\"convertToInteractive('df-cd211714-7f77-4cca-9ed1-0d4b9b4f2db8')\"\n",
              "              title=\"Convert this dataframe to an interactive table.\"\n",
              "              style=\"display:none;\">\n",
              "        \n",
              "  <svg xmlns=\"http://www.w3.org/2000/svg\" height=\"24px\"viewBox=\"0 0 24 24\"\n",
              "       width=\"24px\">\n",
              "    <path d=\"M0 0h24v24H0V0z\" fill=\"none\"/>\n",
              "    <path d=\"M18.56 5.44l.94 2.06.94-2.06 2.06-.94-2.06-.94-.94-2.06-.94 2.06-2.06.94zm-11 1L8.5 8.5l.94-2.06 2.06-.94-2.06-.94L8.5 2.5l-.94 2.06-2.06.94zm10 10l.94 2.06.94-2.06 2.06-.94-2.06-.94-.94-2.06-.94 2.06-2.06.94z\"/><path d=\"M17.41 7.96l-1.37-1.37c-.4-.4-.92-.59-1.43-.59-.52 0-1.04.2-1.43.59L10.3 9.45l-7.72 7.72c-.78.78-.78 2.05 0 2.83L4 21.41c.39.39.9.59 1.41.59.51 0 1.02-.2 1.41-.59l7.78-7.78 2.81-2.81c.8-.78.8-2.07 0-2.86zM5.41 20L4 18.59l7.72-7.72 1.47 1.35L5.41 20z\"/>\n",
              "  </svg>\n",
              "      </button>\n",
              "      \n",
              "  <style>\n",
              "    .colab-df-container {\n",
              "      display:flex;\n",
              "      flex-wrap:wrap;\n",
              "      gap: 12px;\n",
              "    }\n",
              "\n",
              "    .colab-df-convert {\n",
              "      background-color: #E8F0FE;\n",
              "      border: none;\n",
              "      border-radius: 50%;\n",
              "      cursor: pointer;\n",
              "      display: none;\n",
              "      fill: #1967D2;\n",
              "      height: 32px;\n",
              "      padding: 0 0 0 0;\n",
              "      width: 32px;\n",
              "    }\n",
              "\n",
              "    .colab-df-convert:hover {\n",
              "      background-color: #E2EBFA;\n",
              "      box-shadow: 0px 1px 2px rgba(60, 64, 67, 0.3), 0px 1px 3px 1px rgba(60, 64, 67, 0.15);\n",
              "      fill: #174EA6;\n",
              "    }\n",
              "\n",
              "    [theme=dark] .colab-df-convert {\n",
              "      background-color: #3B4455;\n",
              "      fill: #D2E3FC;\n",
              "    }\n",
              "\n",
              "    [theme=dark] .colab-df-convert:hover {\n",
              "      background-color: #434B5C;\n",
              "      box-shadow: 0px 1px 3px 1px rgba(0, 0, 0, 0.15);\n",
              "      filter: drop-shadow(0px 1px 2px rgba(0, 0, 0, 0.3));\n",
              "      fill: #FFFFFF;\n",
              "    }\n",
              "  </style>\n",
              "\n",
              "      <script>\n",
              "        const buttonEl =\n",
              "          document.querySelector('#df-cd211714-7f77-4cca-9ed1-0d4b9b4f2db8 button.colab-df-convert');\n",
              "        buttonEl.style.display =\n",
              "          google.colab.kernel.accessAllowed ? 'block' : 'none';\n",
              "\n",
              "        async function convertToInteractive(key) {\n",
              "          const element = document.querySelector('#df-cd211714-7f77-4cca-9ed1-0d4b9b4f2db8');\n",
              "          const dataTable =\n",
              "            await google.colab.kernel.invokeFunction('convertToInteractive',\n",
              "                                                     [key], {});\n",
              "          if (!dataTable) return;\n",
              "\n",
              "          const docLinkHtml = 'Like what you see? Visit the ' +\n",
              "            '<a target=\"_blank\" href=https://colab.research.google.com/notebooks/data_table.ipynb>data table notebook</a>'\n",
              "            + ' to learn more about interactive tables.';\n",
              "          element.innerHTML = '';\n",
              "          dataTable['output_type'] = 'display_data';\n",
              "          await google.colab.output.renderOutput(dataTable, element);\n",
              "          const docLink = document.createElement('div');\n",
              "          docLink.innerHTML = docLinkHtml;\n",
              "          element.appendChild(docLink);\n",
              "        }\n",
              "      </script>\n",
              "    </div>\n",
              "  </div>\n",
              "  "
            ]
          },
          "metadata": {},
          "execution_count": 54
        }
      ]
    },
    {
      "cell_type": "markdown",
      "metadata": {
        "id": "BujFrHUrBISe"
      },
      "source": [
        "# Planteo modelos\n",
        "Tienen que elegir los 2 mejores modelos así que prueben con varios."
      ]
    },
    {
      "cell_type": "code",
      "source": [
        "scores = [] # [(score, model)]"
      ],
      "metadata": {
        "id": "Qg_c11ZS0SLh"
      },
      "execution_count": null,
      "outputs": []
    },
    {
      "cell_type": "markdown",
      "source": [
        "## Modelo 1: XGB"
      ],
      "metadata": {
        "id": "sWiLgEhLNaHt"
      }
    },
    {
      "cell_type": "code",
      "source": [
        "from sklearn.model_selection import cross_val_score, cross_validate, KFold, StratifiedKFold, LeaveOneOut, LeavePOut\n",
        "from sklearn.metrics import recall_score, accuracy_score, precision_score, f1_score, roc_auc_score, mean_squared_error, r2_score, confusion_matrix, classification_report, ConfusionMatrixDisplay\n",
        "from xgboost import XGBClassifier\n",
        "\n",
        "clfs =  [XGBClassifier()]\n",
        "\n",
        "names = [ 'XGBoost']\n",
        "\n",
        "trained_models = []\n",
        "accuracy_models = []\n",
        "for clf, name in zip(clfs, names):\n",
        "    print(name)\n",
        "    clf.fit(x_train.values, y_train.values)\n",
        "    train_predictions = clf.predict(x_train.values)\n",
        "    accuracy = accuracy_score(y_train.values, train_predictions)\n",
        "    print(f\"Accuracy train {name}: %.2f%%\" % (accuracy * 100.0))\n",
        "\n",
        "    test_predictions = clf.predict(x_test.values)\n",
        "    accuracy = accuracy_score(y_test, test_predictions)\n",
        "    print(f\"Accuracy test {name}: %.2f%%\" % (accuracy * 100.0))\n",
        "    trained_models.append(clf)    \n",
        "    accuracy_models.append(accuracy)"
      ],
      "metadata": {
        "colab": {
          "base_uri": "https://localhost:8080/"
        },
        "id": "PSOOmF0jNKNX",
        "outputId": "a54d1b9d-8e48-4a63-c5e1-20977b4cb699"
      },
      "execution_count": null,
      "outputs": [
        {
          "output_type": "stream",
          "name": "stdout",
          "text": [
            "XGBoost\n",
            "Accuracy train XGBoost: 82.18%\n",
            "Accuracy test XGBoost: 81.48%\n"
          ]
        }
      ]
    },
    {
      "cell_type": "code",
      "source": [
        "models = pd.DataFrame({'Model':names, 'Score':accuracy_models})\n",
        "models.sort_values(by='Score', ascending=False)"
      ],
      "metadata": {
        "id": "7UbbxVFmS45X",
        "outputId": "51f29b15-faf7-4d02-e85d-7c1da2450c10",
        "colab": {
          "base_uri": "https://localhost:8080/",
          "height": 81
        }
      },
      "execution_count": null,
      "outputs": [
        {
          "output_type": "execute_result",
          "data": {
            "text/plain": [
              "     Model     Score\n",
              "0  XGBoost  0.814836"
            ],
            "text/html": [
              "\n",
              "  <div id=\"df-4898c7bc-3872-40b0-8f44-9ac3c65a9253\">\n",
              "    <div class=\"colab-df-container\">\n",
              "      <div>\n",
              "<style scoped>\n",
              "    .dataframe tbody tr th:only-of-type {\n",
              "        vertical-align: middle;\n",
              "    }\n",
              "\n",
              "    .dataframe tbody tr th {\n",
              "        vertical-align: top;\n",
              "    }\n",
              "\n",
              "    .dataframe thead th {\n",
              "        text-align: right;\n",
              "    }\n",
              "</style>\n",
              "<table border=\"1\" class=\"dataframe\">\n",
              "  <thead>\n",
              "    <tr style=\"text-align: right;\">\n",
              "      <th></th>\n",
              "      <th>Model</th>\n",
              "      <th>Score</th>\n",
              "    </tr>\n",
              "  </thead>\n",
              "  <tbody>\n",
              "    <tr>\n",
              "      <th>0</th>\n",
              "      <td>XGBoost</td>\n",
              "      <td>0.814836</td>\n",
              "    </tr>\n",
              "  </tbody>\n",
              "</table>\n",
              "</div>\n",
              "      <button class=\"colab-df-convert\" onclick=\"convertToInteractive('df-4898c7bc-3872-40b0-8f44-9ac3c65a9253')\"\n",
              "              title=\"Convert this dataframe to an interactive table.\"\n",
              "              style=\"display:none;\">\n",
              "        \n",
              "  <svg xmlns=\"http://www.w3.org/2000/svg\" height=\"24px\"viewBox=\"0 0 24 24\"\n",
              "       width=\"24px\">\n",
              "    <path d=\"M0 0h24v24H0V0z\" fill=\"none\"/>\n",
              "    <path d=\"M18.56 5.44l.94 2.06.94-2.06 2.06-.94-2.06-.94-.94-2.06-.94 2.06-2.06.94zm-11 1L8.5 8.5l.94-2.06 2.06-.94-2.06-.94L8.5 2.5l-.94 2.06-2.06.94zm10 10l.94 2.06.94-2.06 2.06-.94-2.06-.94-.94-2.06-.94 2.06-2.06.94z\"/><path d=\"M17.41 7.96l-1.37-1.37c-.4-.4-.92-.59-1.43-.59-.52 0-1.04.2-1.43.59L10.3 9.45l-7.72 7.72c-.78.78-.78 2.05 0 2.83L4 21.41c.39.39.9.59 1.41.59.51 0 1.02-.2 1.41-.59l7.78-7.78 2.81-2.81c.8-.78.8-2.07 0-2.86zM5.41 20L4 18.59l7.72-7.72 1.47 1.35L5.41 20z\"/>\n",
              "  </svg>\n",
              "      </button>\n",
              "      \n",
              "  <style>\n",
              "    .colab-df-container {\n",
              "      display:flex;\n",
              "      flex-wrap:wrap;\n",
              "      gap: 12px;\n",
              "    }\n",
              "\n",
              "    .colab-df-convert {\n",
              "      background-color: #E8F0FE;\n",
              "      border: none;\n",
              "      border-radius: 50%;\n",
              "      cursor: pointer;\n",
              "      display: none;\n",
              "      fill: #1967D2;\n",
              "      height: 32px;\n",
              "      padding: 0 0 0 0;\n",
              "      width: 32px;\n",
              "    }\n",
              "\n",
              "    .colab-df-convert:hover {\n",
              "      background-color: #E2EBFA;\n",
              "      box-shadow: 0px 1px 2px rgba(60, 64, 67, 0.3), 0px 1px 3px 1px rgba(60, 64, 67, 0.15);\n",
              "      fill: #174EA6;\n",
              "    }\n",
              "\n",
              "    [theme=dark] .colab-df-convert {\n",
              "      background-color: #3B4455;\n",
              "      fill: #D2E3FC;\n",
              "    }\n",
              "\n",
              "    [theme=dark] .colab-df-convert:hover {\n",
              "      background-color: #434B5C;\n",
              "      box-shadow: 0px 1px 3px 1px rgba(0, 0, 0, 0.15);\n",
              "      filter: drop-shadow(0px 1px 2px rgba(0, 0, 0, 0.3));\n",
              "      fill: #FFFFFF;\n",
              "    }\n",
              "  </style>\n",
              "\n",
              "      <script>\n",
              "        const buttonEl =\n",
              "          document.querySelector('#df-4898c7bc-3872-40b0-8f44-9ac3c65a9253 button.colab-df-convert');\n",
              "        buttonEl.style.display =\n",
              "          google.colab.kernel.accessAllowed ? 'block' : 'none';\n",
              "\n",
              "        async function convertToInteractive(key) {\n",
              "          const element = document.querySelector('#df-4898c7bc-3872-40b0-8f44-9ac3c65a9253');\n",
              "          const dataTable =\n",
              "            await google.colab.kernel.invokeFunction('convertToInteractive',\n",
              "                                                     [key], {});\n",
              "          if (!dataTable) return;\n",
              "\n",
              "          const docLinkHtml = 'Like what you see? Visit the ' +\n",
              "            '<a target=\"_blank\" href=https://colab.research.google.com/notebooks/data_table.ipynb>data table notebook</a>'\n",
              "            + ' to learn more about interactive tables.';\n",
              "          element.innerHTML = '';\n",
              "          dataTable['output_type'] = 'display_data';\n",
              "          await google.colab.output.renderOutput(dataTable, element);\n",
              "          const docLink = document.createElement('div');\n",
              "          docLink.innerHTML = docLinkHtml;\n",
              "          element.appendChild(docLink);\n",
              "        }\n",
              "      </script>\n",
              "    </div>\n",
              "  </div>\n",
              "  "
            ]
          },
          "metadata": {},
          "execution_count": 61
        }
      ]
    },
    {
      "cell_type": "markdown",
      "metadata": {
        "id": "NtMg5al1BISf"
      },
      "source": [
        "### Algún tipo de ajuste de hiperparámetros de los modelos elegidos"
      ]
    },
    {
      "cell_type": "markdown",
      "source": [
        "###<font color = blue>Hiperparametros ajustados para el Modelo seleccionado:\n",
        "<font color= blue> **learning_rate:** también llamado eta , especifica la rapidez con la que el modelo ajusta los errores residuales mediante el uso de aprendices de base adicionales.<br> **max_depth:** nivel de profundidad.<br>**sub_sample y colsample_bytree:** a los fines de controlar el sobreajuste se utiliza este parametro, dado que permite agregar aleatoriedad para que el entrenamiento sea resistente al ruido."
      ],
      "metadata": {
        "id": "tVWzTWG0bO3t"
      }
    },
    {
      "cell_type": "code",
      "source": [
        "# Los valores de x_train son object. \n",
        "# Algunas funciones se quejan con el mensaje\n",
        "# \"\"\"DataFrame.dtypes for data must be int, float or bool. \n",
        "# Por lo que los tratamos como valores float.\n",
        "x_train.dtypes"
      ],
      "metadata": {
        "id": "oyFX-ovR_4BF",
        "outputId": "47d60eee-8408-4335-d2aa-9e6891031df4",
        "colab": {
          "base_uri": "https://localhost:8080/"
        }
      },
      "execution_count": null,
      "outputs": [
        {
          "output_type": "execute_result",
          "data": {
            "text/plain": [
              "HomePlanet_Earth             object\n",
              "HomePlanet_Europa            object\n",
              "HomePlanet_Mars              object\n",
              "Destination_TRAPPIST-1e      object\n",
              "Destination_55 Cancri e      object\n",
              "Destination_PSO J318.5-22    object\n",
              "Cabin_side_S                 object\n",
              "Cabin_side_P                 object\n",
              "CryoSleep                    object\n",
              "Age                          object\n",
              "VIP                          object\n",
              "RoomService                  object\n",
              "FoodCourt                    object\n",
              "ShoppingMall                 object\n",
              "Spa                          object\n",
              "VRDeck                       object\n",
              "Cabin_deck                   object\n",
              "Cabin_num                    object\n",
              "dtype: object"
            ]
          },
          "metadata": {},
          "execution_count": 76
        }
      ]
    },
    {
      "cell_type": "code",
      "source": [
        "x_train_f = x_train.astype(float)\n",
        "x_test_f = x_test.astype(float)"
      ],
      "metadata": {
        "id": "r7xjrrH0BDnW"
      },
      "execution_count": null,
      "outputs": []
    },
    {
      "cell_type": "code",
      "source": [
        "# Init classifier\n",
        "from sklearn.metrics import accuracy_score\n",
        "import xgboost as xgb\n",
        "xgb_cl = xgb.XGBClassifier()\n",
        "\n",
        "# Fit\n",
        "xgb_cl.fit(x_train_f, y_train)\n",
        "\n",
        "# Predict\n",
        "preds = xgb_cl.predict(x_test_f)"
      ],
      "metadata": {
        "id": "ScNZJ9VWkSjt"
      },
      "execution_count": null,
      "outputs": []
    },
    {
      "cell_type": "code",
      "source": [
        "\n",
        "from sklearn.model_selection import GridSearchCV\n",
        "from sklearn.metrics import ConfusionMatrixDisplay, roc_curve\n",
        "\n",
        "param_grid = {\n",
        "    \"max_depth\":[3,5],\n",
        "    \"learning_rate\":[0.2, 0.5],\n",
        "    \"subsample\": [0.8],\n",
        "    \"colsample_bytree\": [0.5],\n",
        "}\n",
        "\n",
        "# Init classifier\n",
        "xgb_cl = xgb.XGBClassifier(objective=\"binary:logistic\")\n",
        "\n",
        "# Init Grid Search\n",
        "grid_cv = GridSearchCV(xgb_cl, param_grid, n_jobs=-1, cv=3, scoring=\"roc_auc\")\n",
        "\n",
        "grid_cv.fit(x_train_f, y_train)\n"
      ],
      "metadata": {
        "id": "EuUnSsMvi0jW",
        "outputId": "dc193d1a-dbb3-47fe-de62-6cedf2c35e40",
        "colab": {
          "base_uri": "https://localhost:8080/"
        }
      },
      "execution_count": null,
      "outputs": [
        {
          "output_type": "execute_result",
          "data": {
            "text/plain": [
              "GridSearchCV(cv=3, estimator=XGBClassifier(), n_jobs=-1,\n",
              "             param_grid={'colsample_bytree': [0.5], 'learning_rate': [0.2, 0.5],\n",
              "                         'max_depth': [3, 5], 'subsample': [0.8]},\n",
              "             scoring='roc_auc')"
            ]
          },
          "metadata": {},
          "execution_count": 94
        }
      ]
    },
    {
      "cell_type": "code",
      "source": [
        "grid_cv.best_params_"
      ],
      "metadata": {
        "id": "_wi6Zjhypc-M",
        "outputId": "ae339508-c846-4326-abc4-ac7ea4851f93",
        "colab": {
          "base_uri": "https://localhost:8080/"
        }
      },
      "execution_count": null,
      "outputs": [
        {
          "output_type": "execute_result",
          "data": {
            "text/plain": [
              "{'colsample_bytree': 0.5,\n",
              " 'learning_rate': 0.2,\n",
              " 'max_depth': 3,\n",
              " 'subsample': 0.8}"
            ]
          },
          "metadata": {},
          "execution_count": 95
        }
      ]
    },
    {
      "cell_type": "code",
      "source": [
        " grid_cv.best_score_"
      ],
      "metadata": {
        "id": "ly2Phz1_8r6Y",
        "outputId": "7b9eb33b-0f71-417c-8733-afec95b0baad",
        "colab": {
          "base_uri": "https://localhost:8080/"
        }
      },
      "execution_count": null,
      "outputs": [
        {
          "output_type": "execute_result",
          "data": {
            "text/plain": [
              "0.8936740608754178"
            ]
          },
          "metadata": {},
          "execution_count": 97
        }
      ]
    },
    {
      "cell_type": "code",
      "source": [
        "model1 = grid_cv.best_estimator_\n",
        "score1 = grid_cv.best_score_\n",
        "\n",
        "scores.append((score1, model1))"
      ],
      "metadata": {
        "id": "EmKd--cOPNp2"
      },
      "execution_count": null,
      "outputs": []
    },
    {
      "cell_type": "code",
      "source": [
        "fpr, tpr, thresholds = roc_curve(y_test.values, model1.predict_proba(x_test_f)[:,1])\n",
        "plt.plot(fpr, tpr, label='ROC curve')\n",
        "plt.plot([0, 1], [0, 1], 'k--', label='Random guess')\n",
        "plt.xlabel('False Positive Rate')\n",
        "plt.ylabel('True Positive Rate')\n",
        "plt.title('ROC Curve')\n",
        "plt.xlim([-0.02, 1])\n",
        "plt.ylim([0, 1.02])\n",
        "plt.legend(loc=\"lower right\")"
      ],
      "metadata": {
        "id": "9WYrc0Tm89U_",
        "outputId": "a73bb5c5-827b-4bb1-bfdf-4e40c8babe32",
        "colab": {
          "base_uri": "https://localhost:8080/",
          "height": 1000
        }
      },
      "execution_count": null,
      "outputs": [
        {
          "output_type": "execute_result",
          "data": {
            "text/plain": [
              "<matplotlib.legend.Legend at 0x7f8d3127cbd0>"
            ]
          },
          "metadata": {},
          "execution_count": 100
        },
        {
          "output_type": "display_data",
          "data": {
            "text/plain": [
              "<Figure size 1152x1440 with 1 Axes>"
            ],
            "image/png": "[encoded data removed]"
          },
          "metadata": {
            "needs_background": "light"
          }
        }
      ]
    },
    {
      "cell_type": "markdown",
      "source": [
        "<font color=blue> Como se puede apreciar el modelo mejoro sustancialmente principalmente al ajustarlo indicando el parametro objective, que por defecto es reg:squarederror: regresión con pérdida al cuadrado por el de binary:logistic: regresión logística para clasificación binaria, probabilidad de salida que se ajusta a nuestro modelo."
      ],
      "metadata": {
        "id": "SKePnxtMCtK9"
      }
    },
    {
      "cell_type": "markdown",
      "source": [
        "## Modelo 2: NN"
      ],
      "metadata": {
        "id": "x0ZKb_3NPl7O"
      }
    },
    {
      "cell_type": "code",
      "source": [
        "import numpy as np\n",
        "\n",
        "from sklearn import neural_network\n",
        "from sklearn.metrics import accuracy_score, classification_report, ConfusionMatrixDisplay\n",
        "#from mlutils import load_dataset\n",
        "import matplotlib.pyplot as plt\n",
        "\n",
        "%matplotlib inline"
      ],
      "metadata": {
        "id": "97VgiNZxQLzH"
      },
      "execution_count": null,
      "outputs": []
    },
    {
      "cell_type": "code",
      "source": [
        "clf = neural_network.MLPClassifier(hidden_layer_sizes=(6,), \n",
        "                                   activation='logistic', \n",
        "                                   solver='adam', \n",
        "                                   alpha=0.0001, \n",
        "                                   batch_size=20, \n",
        "                                   learning_rate='adaptive', \n",
        "                                   learning_rate_init=0.001, \n",
        "                                   power_t=0.5, \n",
        "                                   max_iter=5000, \n",
        "                                   shuffle=True, \n",
        "                                   random_state=17, \n",
        "                                   tol=0.0001, \n",
        "                                   verbose=False, \n",
        "                                   warm_start=False, \n",
        "                                   momentum=0.9, \n",
        "                                   nesterovs_momentum=True, \n",
        "                                   early_stopping=False, \n",
        "                                   validation_fraction=0.1, \n",
        "                                   beta_1=0.9, \n",
        "                                   beta_2=0.999, \n",
        "                                   epsilon=1e-08, \n",
        "                                   n_iter_no_change=10, \n",
        "                                   max_fun=15000)"
      ],
      "metadata": {
        "id": "gmIwwfERYh1P"
      },
      "execution_count": null,
      "outputs": []
    },
    {
      "cell_type": "code",
      "source": [
        "clf.fit(x_train, y_train.ravel())"
      ],
      "metadata": {
        "id": "5fKNaxuwYwJ-",
        "outputId": "3b54f3c8-d123-45dd-abfb-10cd8f9f4681",
        "colab": {
          "base_uri": "https://localhost:8080/"
        }
      },
      "execution_count": null,
      "outputs": [
        {
          "output_type": "execute_result",
          "data": {
            "text/plain": [
              "MLPClassifier(activation='logistic', batch_size=20, hidden_layer_sizes=(6,),\n",
              "              learning_rate='adaptive', max_iter=5000, random_state=17)"
            ]
          },
          "metadata": {},
          "execution_count": 103
        }
      ]
    },
    {
      "cell_type": "code",
      "source": [
        "y_train_pred = clf.predict(x_train)\n",
        "print(f'Accuracy Train: {accuracy_score(y_train, y_train_pred)*100:.2f}')\n",
        "y_test_pred  = clf.predict(x_test)\n",
        "print(f'Accuracy Test : {accuracy_score(y_test,  y_test_pred )*100:.2f}')"
      ],
      "metadata": {
        "id": "unrS7VumfFo2",
        "outputId": "e0386ce9-bc0a-4ac4-e2d7-f174d44ae95c",
        "colab": {
          "base_uri": "https://localhost:8080/"
        }
      },
      "execution_count": null,
      "outputs": [
        {
          "output_type": "stream",
          "name": "stdout",
          "text": [
            "Accuracy Train: 81.02\n",
            "Accuracy Test : 80.79\n"
          ]
        }
      ]
    },
    {
      "cell_type": "code",
      "source": [
        "model = neural_network.MLPClassifier(alpha=0.0001, \n",
        "                                     batch_size=20, \n",
        "                                     learning_rate_init=0.001, \n",
        "                                     power_t=0.5, \n",
        "                                     max_iter=15000, \n",
        "                                     shuffle=True, \n",
        "                                     random_state=17, \n",
        "                                     tol=0.0001, \n",
        "                                     verbose=False, \n",
        "                                     warm_start=False, \n",
        "                                     momentum=0.9, \n",
        "                                     nesterovs_momentum=True, \n",
        "                                     early_stopping=False, \n",
        "                                     validation_fraction=0.1, \n",
        "                                     beta_1=0.9, \n",
        "                                     beta_2=0.999, \n",
        "                                     epsilon=1e-08, \n",
        "                                     n_iter_no_change=10, \n",
        "                                     max_fun=15000,\n",
        "                                     solver='sgd', \n",
        "                                     learning_rate='adaptive')\n",
        "\n",
        "grid = GridSearchCV(model,\n",
        " {\n",
        "  'hidden_layer_sizes':(7,8,9),\n",
        "  'activation':('logistic','tanh','logistic'),\n",
        "  'solver':('sgd', 'adam','lbfgs'), \n",
        "  'learning_rate':('invscaling','adaptive'), \n",
        " }) \n",
        "                                   \n",
        "grid.fit(x_train,y_train)\n",
        "grid.best_params_"
      ],
      "metadata": {
        "id": "QM373hdMoQ1W",
        "outputId": "d7641ebb-bdae-44f1-dd98-b296277dae72",
        "colab": {
          "base_uri": "https://localhost:8080/"
        }
      },
      "execution_count": null,
      "outputs": [
        {
          "data": {
            "text/plain": [
              "{'activation': 'tanh',\n",
              " 'hidden_layer_sizes': 9,\n",
              " 'learning_rate': 'adaptive',\n",
              " 'solver': 'sgd'}"
            ]
          },
          "execution_count": 105,
          "metadata": {},
          "output_type": "execute_result"
        }
      ]
    },
    {
      "cell_type": "code",
      "source": [
        "best_model = grid.best_estimator_\n",
        "y_train_pred = best_model.predict(x_train)\n",
        "print(f'Accuracy Train: {accuracy_score(y_train, y_train_pred)*100:.2f}')\n",
        "y_test_pred  = best_model.predict(x_test)\n",
        "print(f'Accuracy Test : {accuracy_score(y_test,  y_test_pred )*100:.2f}')\n",
        "\n",
        "# 80.89\n",
        "# 81.15"
      ],
      "metadata": {
        "id": "oJC_wcndwq_J"
      },
      "execution_count": null,
      "outputs": []
    },
    {
      "cell_type": "code",
      "source": [
        "model2 = grid.best_estimator_\n",
        "score2 = grid.best_score_\n",
        "model2\n",
        "\n",
        "scores.append((score2, model2))"
      ],
      "metadata": {
        "id": "t4zbEc1XQiy1"
      },
      "execution_count": null,
      "outputs": []
    },
    {
      "cell_type": "markdown",
      "source": [
        "-------------------"
      ],
      "metadata": {
        "id": "on80f9jJmiv8"
      }
    },
    {
      "cell_type": "markdown",
      "metadata": {
        "id": "klC9YPmM_sNE"
      },
      "source": [
        "## Modelo 3: RF\n",
        "Entrenamos un árbol de desición y un _random forest_"
      ]
    },
    {
      "cell_type": "code",
      "execution_count": null,
      "metadata": {
        "id": "xWgt-IM7_sNG"
      },
      "outputs": [],
      "source": [
        "#X_train, X_test, y_train, y_test = train_test_split(df_train.values, TARGET_COLUMN.values, test_size=0.33, random_state=42)\n",
        "x_train, x_test, y_train, y_test\n",
        "X_train = x_train\n",
        "X_test = x_test"
      ]
    },
    {
      "cell_type": "code",
      "execution_count": null,
      "metadata": {
        "colab": {
          "base_uri": "https://localhost:8080/"
        },
        "outputId": "bae6fb68-0a5d-4c50-b3ba-91a315b341ac",
        "id": "g36yFziZ_sNH"
      },
      "outputs": [
        {
          "output_type": "execute_result",
          "data": {
            "text/plain": [
              "((6954, 18), (1739, 18))"
            ]
          },
          "metadata": {},
          "execution_count": 40
        }
      ],
      "source": [
        "X_train.shape, X_test.shape"
      ]
    },
    {
      "cell_type": "code",
      "execution_count": null,
      "metadata": {
        "colab": {
          "base_uri": "https://localhost:8080/"
        },
        "outputId": "1db68456-4b3c-47a5-eb2f-bcdd857b770e",
        "id": "a0qOOstK_sNI"
      },
      "outputs": [
        {
          "output_type": "execute_result",
          "data": {
            "text/plain": [
              "((6954,), (1739,))"
            ]
          },
          "metadata": {},
          "execution_count": 41
        }
      ],
      "source": [
        "y_train.shape, y_test.shape"
      ]
    },
    {
      "cell_type": "code",
      "execution_count": null,
      "metadata": {
        "id": "U_HPEo0E_sNJ"
      },
      "outputs": [],
      "source": [
        "X = X_train\n",
        "y = y_train"
      ]
    },
    {
      "cell_type": "code",
      "execution_count": null,
      "metadata": {
        "colab": {
          "base_uri": "https://localhost:8080/"
        },
        "outputId": "6c6b943d-fff6-4419-df4e-23bd3ed9898d",
        "id": "kD1CsNDY_sNK"
      },
      "outputs": [
        {
          "output_type": "stream",
          "name": "stdout",
          "text": [
            "(6954, 18)\n",
            "(6954,)\n"
          ]
        }
      ],
      "source": [
        "print(X.shape)\n",
        "print(y.shape)"
      ]
    },
    {
      "cell_type": "markdown",
      "metadata": {
        "id": "3lrbKOER_sNK"
      },
      "source": [
        "Realizamos un análisis sobre distintos valores del hiperparámetro `max_depth`, con el objetivo de tener un valor aproximado. El resto de los hiperparámetros tienen el valor _default_ \n",
        "\n",
        "(Valores en https://scikit-learn.org/stable/modules/generated/sklearn.tree.DecisionTreeClassifier.html#sklearn.tree.DecisionTreeClassifier)"
      ]
    },
    {
      "cell_type": "code",
      "execution_count": null,
      "metadata": {
        "colab": {
          "base_uri": "https://localhost:8080/"
        },
        "outputId": "efe88717-f55f-4a7d-fdd5-f60b7d4e0c37",
        "id": "lQYHlmt5_sNL"
      },
      "outputs": [
        {
          "output_type": "stream",
          "name": "stdout",
          "text": [
            "Depth: None, accuracy_score: 0.7498562392179413, score: 0.7498562392179413\n",
            "Depth: 1, accuracy_score: 0.7285796434732605, score: 0.7285796434732605\n",
            "Depth: 2, accuracy_score: 0.7285796434732605, score: 0.7285796434732605\n",
            "Depth: 3, accuracy_score: 0.7285796434732605, score: 0.7285796434732605\n",
            "Depth: 4, accuracy_score: 0.7814836112708453, score: 0.7814836112708453\n",
            "Depth: 5, accuracy_score: 0.7722829212190915, score: 0.7722829212190915\n",
            "Depth: 6, accuracy_score: 0.7751581368602645, score: 0.7751581368602645\n",
            "Depth: 7, accuracy_score: 0.7757331799884991, score: 0.7757331799884991\n",
            "Depth: 8, accuracy_score: 0.7717078780908568, score: 0.7717078780908568\n",
            "Depth: 9, accuracy_score: 0.7688326624496837, score: 0.7688326624496837\n",
            "Depth: 10, accuracy_score: 0.757906843013226, score: 0.757906843013226\n",
            "Depth: 11, accuracy_score: 0.7659574468085106, score: 0.7659574468085106\n",
            "Depth: 12, accuracy_score: 0.7567567567567568, score: 0.7567567567567568\n",
            "Depth: 13, accuracy_score: 0.7561817136285222, score: 0.7561817136285222\n",
            "Depth: 14, accuracy_score: 0.7590569292696953, score: 0.7590569292696953\n",
            "Depth: 15, accuracy_score: 0.7521564117308798, score: 0.7521564117308798\n",
            "Depth: 16, accuracy_score: 0.7492811960897068, score: 0.7492811960897068\n",
            "Depth: 17, accuracy_score: 0.7556066705002875, score: 0.7556066705002875\n",
            "Depth: 18, accuracy_score: 0.7619321449108684, score: 0.7619321449108684\n",
            "Depth: 19, accuracy_score: 0.7596319723979299, score: 0.7596319723979299\n",
            "Depth: 20, accuracy_score: 0.7429557216791259, score: 0.7429557216791259\n",
            "Depth: 21, accuracy_score: 0.7573317998849913, score: 0.7573317998849913\n",
            "Depth: 22, accuracy_score: 0.7515813686026452, score: 0.7515813686026452\n",
            "Depth: 23, accuracy_score: 0.750431282346176, score: 0.750431282346176\n",
            "Depth: 24, accuracy_score: 0.7441058079355952, score: 0.7441058079355952\n",
            "Depth: 25, accuracy_score: 0.757906843013226, score: 0.757906843013226\n",
            "Depth: 26, accuracy_score: 0.7492811960897068, score: 0.7492811960897068\n",
            "Depth: 27, accuracy_score: 0.7498562392179413, score: 0.7498562392179413\n",
            "Depth: 28, accuracy_score: 0.7521564117308798, score: 0.7521564117308798\n",
            "Depth: 29, accuracy_score: 0.7527314548591144, score: 0.7527314548591144\n",
            "Depth: 30, accuracy_score: 0.7452558941920644, score: 0.7452558941920644\n",
            "Depth: 31, accuracy_score: 0.753306497987349, score: 0.753306497987349\n",
            "Depth: 32, accuracy_score: 0.7567567567567568, score: 0.7567567567567568\n",
            "Depth: 33, accuracy_score: 0.750431282346176, score: 0.750431282346176\n",
            "Depth: 34, accuracy_score: 0.7481311098332375, score: 0.7481311098332375\n",
            "Depth: 35, accuracy_score: 0.7561817136285222, score: 0.7561817136285222\n",
            "Depth: 36, accuracy_score: 0.7492811960897068, score: 0.7492811960897068\n",
            "Depth: 37, accuracy_score: 0.7441058079355952, score: 0.7441058079355952\n",
            "Depth: 38, accuracy_score: 0.7573317998849913, score: 0.7573317998849913\n",
            "Depth: 39, accuracy_score: 0.7550316273720529, score: 0.7550316273720529\n",
            "Depth: 40, accuracy_score: 0.7538815411155837, score: 0.7538815411155837\n",
            "Depth: 41, accuracy_score: 0.7544565842438183, score: 0.7544565842438183\n",
            "Depth: 42, accuracy_score: 0.7487061529614721, score: 0.7487061529614721\n",
            "Depth: 43, accuracy_score: 0.750431282346176, score: 0.750431282346176\n",
            "Depth: 44, accuracy_score: 0.7538815411155837, score: 0.7538815411155837\n",
            "Depth: 45, accuracy_score: 0.7527314548591144, score: 0.7527314548591144\n",
            "Depth: 46, accuracy_score: 0.7544565842438183, score: 0.7544565842438183\n",
            "Depth: 47, accuracy_score: 0.7538815411155837, score: 0.7538815411155837\n",
            "Depth: 48, accuracy_score: 0.7527314548591144, score: 0.7527314548591144\n",
            "Depth: 49, accuracy_score: 0.7538815411155837, score: 0.7538815411155837\n",
            "Depth: 50, accuracy_score: 0.7556066705002875, score: 0.7556066705002875\n",
            "Depth: 51, accuracy_score: 0.7498562392179413, score: 0.7498562392179413\n",
            "Depth: 52, accuracy_score: 0.7550316273720529, score: 0.7550316273720529\n",
            "Depth: 53, accuracy_score: 0.7492811960897068, score: 0.7492811960897068\n",
            "Depth: 54, accuracy_score: 0.7521564117308798, score: 0.7521564117308798\n",
            "Depth: 55, accuracy_score: 0.7544565842438183, score: 0.7544565842438183\n",
            "Depth: 56, accuracy_score: 0.7550316273720529, score: 0.7550316273720529\n",
            "Depth: 57, accuracy_score: 0.7544565842438183, score: 0.7544565842438183\n",
            "Depth: 58, accuracy_score: 0.7487061529614721, score: 0.7487061529614721\n",
            "Depth: 59, accuracy_score: 0.7538815411155837, score: 0.7538815411155837\n",
            "Depth: 60, accuracy_score: 0.7584818861414606, score: 0.7584818861414606\n",
            "Depth: 61, accuracy_score: 0.750431282346176, score: 0.750431282346176\n",
            "Depth: 62, accuracy_score: 0.750431282346176, score: 0.750431282346176\n",
            "Depth: 63, accuracy_score: 0.7498562392179413, score: 0.7498562392179413\n",
            "Depth: 64, accuracy_score: 0.7464059804485337, score: 0.7464059804485337\n",
            "Depth: 65, accuracy_score: 0.7515813686026452, score: 0.7515813686026452\n",
            "Depth: 66, accuracy_score: 0.7481311098332375, score: 0.7481311098332375\n",
            "Depth: 67, accuracy_score: 0.7469810235767682, score: 0.7469810235767682\n",
            "Depth: 68, accuracy_score: 0.7492811960897068, score: 0.7492811960897068\n",
            "Depth: 69, accuracy_score: 0.7584818861414606, score: 0.7584818861414606\n",
            "Depth: 70, accuracy_score: 0.7544565842438183, score: 0.7544565842438183\n",
            "Depth: 71, accuracy_score: 0.7544565842438183, score: 0.7544565842438183\n",
            "Depth: 72, accuracy_score: 0.745830937320299, score: 0.745830937320299\n",
            "Depth: 73, accuracy_score: 0.7492811960897068, score: 0.7492811960897068\n",
            "Depth: 74, accuracy_score: 0.7481311098332375, score: 0.7481311098332375\n",
            "Depth: 75, accuracy_score: 0.7515813686026452, score: 0.7515813686026452\n",
            "Depth: 76, accuracy_score: 0.7538815411155837, score: 0.7538815411155837\n",
            "Depth: 77, accuracy_score: 0.7544565842438183, score: 0.7544565842438183\n",
            "Depth: 78, accuracy_score: 0.7573317998849913, score: 0.7573317998849913\n",
            "Depth: 79, accuracy_score: 0.7481311098332375, score: 0.7481311098332375\n",
            "Depth: 80, accuracy_score: 0.7544565842438183, score: 0.7544565842438183\n",
            "Depth: 81, accuracy_score: 0.7521564117308798, score: 0.7521564117308798\n",
            "Depth: 82, accuracy_score: 0.7567567567567568, score: 0.7567567567567568\n",
            "Depth: 83, accuracy_score: 0.7602070155261644, score: 0.7602070155261644\n",
            "Depth: 84, accuracy_score: 0.7481311098332375, score: 0.7481311098332375\n",
            "Depth: 85, accuracy_score: 0.750431282346176, score: 0.750431282346176\n",
            "Depth: 86, accuracy_score: 0.7561817136285222, score: 0.7561817136285222\n",
            "Depth: 87, accuracy_score: 0.7538815411155837, score: 0.7538815411155837\n",
            "Depth: 88, accuracy_score: 0.7550316273720529, score: 0.7550316273720529\n",
            "Depth: 89, accuracy_score: 0.7567567567567568, score: 0.7567567567567568\n",
            "Depth: 90, accuracy_score: 0.7550316273720529, score: 0.7550316273720529\n",
            "Depth: 91, accuracy_score: 0.7492811960897068, score: 0.7492811960897068\n",
            "Depth: 92, accuracy_score: 0.750431282346176, score: 0.750431282346176\n",
            "Depth: 93, accuracy_score: 0.7515813686026452, score: 0.7515813686026452\n",
            "Depth: 94, accuracy_score: 0.7510063254744106, score: 0.7510063254744106\n",
            "Depth: 95, accuracy_score: 0.7596319723979299, score: 0.7596319723979299\n",
            "Depth: 96, accuracy_score: 0.7498562392179413, score: 0.7498562392179413\n",
            "Depth: 97, accuracy_score: 0.7538815411155837, score: 0.7538815411155837\n",
            "Depth: 98, accuracy_score: 0.7538815411155837, score: 0.7538815411155837\n",
            "Depth: 99, accuracy_score: 0.7596319723979299, score: 0.7596319723979299\n"
          ]
        }
      ],
      "source": [
        "def train_tree(features, target):\n",
        "  \"\"\"\n",
        "  Retorna una función que permite evaluar el conjunto de entrenamiento, dado \n",
        "  un valor para max_depth\n",
        "  \"\"\"\n",
        "  \n",
        "  def run_with(max_depth):\n",
        "    clf = DecisionTreeClassifier(max_depth = max_depth)\n",
        "    clf = clf.fit(features, target)\n",
        "    return clf\n",
        "\n",
        "  return run_with\n",
        "\n",
        "def eval(p, X_test, y_test):\n",
        "  \"\"\"\n",
        "  Retorna el accuracy_score del clasificador p, sobre los valores de entrenamiento\n",
        "  \"\"\"\n",
        "  y_pred = p.predict(X_test)\n",
        "  return accuracy_score(y_test, y_pred), p.score(X_test, y_test)\n",
        "\n",
        "\n",
        "build_tree = train_tree(X, y)\n",
        "e = {}\n",
        "\n",
        "b = build_tree(max_depth = None)\n",
        "acc_score, score = eval(b, X_test, y_test)\n",
        "\n",
        "print(f\"Depth: None, accuracy_score: {acc_score}, score: {score}\")\n",
        "e[0] = acc_score\n",
        "\n",
        "for d in range(1, 100):\n",
        "  candidate_tree = build_tree(d)\n",
        "\n",
        "  acc_score, score = eval(candidate_tree, X_test, y_test)\n",
        "  print(f\"Depth: {d}, accuracy_score: {acc_score}, score: {score}\")\n",
        "  \n",
        "  \n",
        "  e[d] = acc_score"
      ]
    },
    {
      "cell_type": "code",
      "execution_count": null,
      "metadata": {
        "colab": {
          "base_uri": "https://localhost:8080/"
        },
        "outputId": "b5917bd4-39a1-41e1-a830-e000b06d6c41",
        "id": "GF4NSXht_sNM"
      },
      "outputs": [
        {
          "output_type": "stream",
          "name": "stdout",
          "text": [
            "El arbol con mayor accuracy tiene profundidad 4\n"
          ]
        },
        {
          "output_type": "execute_result",
          "data": {
            "text/plain": [
              "(0.7814836112708453, 0.7814836112708453)"
            ]
          },
          "metadata": {},
          "execution_count": 45
        }
      ],
      "source": [
        "d = max(e, key=e.get)\n",
        "depth = None if d == 0 else d\n",
        "\n",
        "print(f\"El arbol con mayor accuracy tiene profundidad {depth}\")\n",
        "tree_pred = build_tree(depth)\n",
        "\n",
        "eval(tree_pred, X_test, y_test)"
      ]
    },
    {
      "cell_type": "code",
      "execution_count": null,
      "metadata": {
        "id": "p-vuB1P4_sNM"
      },
      "outputs": [],
      "source": [
        "def class_names(p):\n",
        "  class_names = map(lambda b: str(b), p.classes_)\n",
        "  return list(class_names)\n",
        "\n",
        "classes = class_names(tree_pred)"
      ]
    },
    {
      "cell_type": "code",
      "execution_count": null,
      "metadata": {
        "colab": {
          "base_uri": "https://localhost:8080/",
          "height": 778
        },
        "outputId": "448d0c60-46ca-4bca-ac5f-9c04ed6d7af9",
        "id": "Mw_dZ_YT_sNM"
      },
      "outputs": [
        {
          "output_type": "execute_result",
          "data": {
            "text/plain": [
              "<graphviz.files.Source at 0x7f3860695b90>"
            ],
            "image/svg+xml": "<?xml version=\"1.0\" encoding=\"UTF-8\" standalone=\"no\"?>\n<!DOCTYPE svg PUBLIC \"-//W3C//DTD SVG 1.1//EN\"\n \"http://www.w3.org/Graphics/SVG/1.1/DTD/svg11.dtd\">\n<!-- Generated by graphviz version 2.40.1 (20161225.0304)\n -->\n<!-- Title: Tree Pages: 1 -->\n<svg width=\"2213pt\" height=\"552pt\"\n viewBox=\"0.00 0.00 2213.00 552.00\" xmlns=\"http://www.w3.org/2000/svg\" xmlns:xlink=\"http://www.w3.org/1999/xlink\">\n<g id=\"graph0\" class=\"graph\" transform=\"scale(1 1) rotate(0) translate(4 548)\">\n<title>Tree</title>\n<polygon fill=\"#ffffff\" stroke=\"transparent\" points=\"-4,4 -4,-548 2209,-548 2209,4 -4,4\"/>\n<!-- 0 -->\n<g id=\"node1\" class=\"node\">\n<title>0</title>\n<path fill=\"#fffefe\" stroke=\"#000000\" d=\"M1202.5,-544C1202.5,-544 1077.5,-544 1077.5,-544 1071.5,-544 1065.5,-538 1065.5,-532 1065.5,-532 1065.5,-473 1065.5,-473 1065.5,-467 1071.5,-461 1077.5,-461 1077.5,-461 1202.5,-461 1202.5,-461 1208.5,-461 1214.5,-467 1214.5,-473 1214.5,-473 1214.5,-532 1214.5,-532 1214.5,-538 1208.5,-544 1202.5,-544\"/>\n<text text-anchor=\"start\" x=\"1088\" y=\"-528.8\" font-family=\"Helvetica,sans-Serif\" font-size=\"14.00\" fill=\"#000000\">CryoSleep ≤ 0.5</text>\n<text text-anchor=\"start\" x=\"1110.5\" y=\"-513.8\" font-family=\"Helvetica,sans-Serif\" font-size=\"14.00\" fill=\"#000000\">gini = 0.5</text>\n<text text-anchor=\"start\" x=\"1088\" y=\"-498.8\" font-family=\"Helvetica,sans-Serif\" font-size=\"14.00\" fill=\"#000000\">samples = 6954</text>\n<text text-anchor=\"start\" x=\"1073.5\" y=\"-483.8\" font-family=\"Helvetica,sans-Serif\" font-size=\"14.00\" fill=\"#000000\">value = [3485, 3469]</text>\n<text text-anchor=\"start\" x=\"1108.5\" y=\"-468.8\" font-family=\"Helvetica,sans-Serif\" font-size=\"14.00\" fill=\"#000000\">class = &#45;1</text>\n</g>\n<!-- 1 -->\n<g id=\"node2\" class=\"node\">\n<title>1</title>\n<path fill=\"#f2c09c\" stroke=\"#000000\" d=\"M938,-425C938,-425 806,-425 806,-425 800,-425 794,-419 794,-413 794,-413 794,-354 794,-354 794,-348 800,-342 806,-342 806,-342 938,-342 938,-342 944,-342 950,-348 950,-354 950,-354 950,-413 950,-413 950,-419 944,-425 938,-425\"/>\n<text text-anchor=\"start\" x=\"802\" y=\"-409.8\" font-family=\"Helvetica,sans-Serif\" font-size=\"14.00\" fill=\"#000000\">RoomService ≤ 0.186</text>\n<text text-anchor=\"start\" x=\"834\" y=\"-394.8\" font-family=\"Helvetica,sans-Serif\" font-size=\"14.00\" fill=\"#000000\">gini = 0.445</text>\n<text text-anchor=\"start\" x=\"820\" y=\"-379.8\" font-family=\"Helvetica,sans-Serif\" font-size=\"14.00\" fill=\"#000000\">samples = 4548</text>\n<text text-anchor=\"start\" x=\"805.5\" y=\"-364.8\" font-family=\"Helvetica,sans-Serif\" font-size=\"14.00\" fill=\"#000000\">value = [3028, 1520]</text>\n<text text-anchor=\"start\" x=\"840.5\" y=\"-349.8\" font-family=\"Helvetica,sans-Serif\" font-size=\"14.00\" fill=\"#000000\">class = &#45;1</text>\n</g>\n<!-- 0&#45;&gt;1 -->\n<g id=\"edge1\" class=\"edge\">\n<title>0&#45;&gt;1</title>\n<path fill=\"none\" stroke=\"#000000\" d=\"M1065.3471,-469.3519C1032.6442,-454.8308 994.0315,-437.6856 959.9452,-422.5503\"/>\n<polygon fill=\"#000000\" stroke=\"#000000\" points=\"961.0197,-419.1979 950.4598,-418.3385 958.1789,-425.5956 961.0197,-419.1979\"/>\n<text text-anchor=\"middle\" x=\"959.4424\" y=\"-437.969\" font-family=\"Helvetica,sans-Serif\" font-size=\"14.00\" fill=\"#000000\">True</text>\n</g>\n<!-- 16 -->\n<g id=\"node17\" class=\"node\">\n<title>16</title>\n<path fill=\"#67b4eb\" stroke=\"#000000\" d=\"M1470.5,-425C1470.5,-425 1319.5,-425 1319.5,-425 1313.5,-425 1307.5,-419 1307.5,-413 1307.5,-413 1307.5,-354 1307.5,-354 1307.5,-348 1313.5,-342 1319.5,-342 1319.5,-342 1470.5,-342 1470.5,-342 1476.5,-342 1482.5,-348 1482.5,-354 1482.5,-354 1482.5,-413 1482.5,-413 1482.5,-419 1476.5,-425 1470.5,-425\"/>\n<text text-anchor=\"start\" x=\"1315.5\" y=\"-409.8\" font-family=\"Helvetica,sans-Serif\" font-size=\"14.00\" fill=\"#000000\">HomePlanet_Earth ≤ 0.5</text>\n<text text-anchor=\"start\" x=\"1357\" y=\"-394.8\" font-family=\"Helvetica,sans-Serif\" font-size=\"14.00\" fill=\"#000000\">gini = 0.308</text>\n<text text-anchor=\"start\" x=\"1343\" y=\"-379.8\" font-family=\"Helvetica,sans-Serif\" font-size=\"14.00\" fill=\"#000000\">samples = 2406</text>\n<text text-anchor=\"start\" x=\"1333\" y=\"-364.8\" font-family=\"Helvetica,sans-Serif\" font-size=\"14.00\" fill=\"#000000\">value = [457, 1949]</text>\n<text text-anchor=\"start\" x=\"1366\" y=\"-349.8\" font-family=\"Helvetica,sans-Serif\" font-size=\"14.00\" fill=\"#000000\">class = 1</text>\n</g>\n<!-- 0&#45;&gt;16 -->\n<g id=\"edge16\" class=\"edge\">\n<title>0&#45;&gt;16</title>\n<path fill=\"none\" stroke=\"#000000\" d=\"M1214.7854,-467.6001C1240.7961,-455.4618 1270.3593,-441.6657 1297.9106,-428.8084\"/>\n<polygon fill=\"#000000\" stroke=\"#000000\" points=\"1299.5871,-431.8884 1307.1689,-424.4879 1296.6269,-425.5451 1299.5871,-431.8884\"/>\n<text text-anchor=\"middle\" x=\"1298.6253\" y=\"-444.2827\" font-family=\"Helvetica,sans-Serif\" font-size=\"14.00\" fill=\"#000000\">False</text>\n</g>\n<!-- 2 -->\n<g id=\"node3\" class=\"node\">\n<title>2</title>\n<path fill=\"#f6d3ba\" stroke=\"#000000\" d=\"M509.5,-306C509.5,-306 384.5,-306 384.5,-306 378.5,-306 372.5,-300 372.5,-294 372.5,-294 372.5,-235 372.5,-235 372.5,-229 378.5,-223 384.5,-223 384.5,-223 509.5,-223 509.5,-223 515.5,-223 521.5,-229 521.5,-235 521.5,-235 521.5,-294 521.5,-294 521.5,-300 515.5,-306 509.5,-306\"/>\n<text text-anchor=\"start\" x=\"405.5\" y=\"-290.8\" font-family=\"Helvetica,sans-Serif\" font-size=\"14.00\" fill=\"#000000\">Spa ≤ &#45;0.088</text>\n<text text-anchor=\"start\" x=\"409\" y=\"-275.8\" font-family=\"Helvetica,sans-Serif\" font-size=\"14.00\" fill=\"#000000\">gini = 0.478</text>\n<text text-anchor=\"start\" x=\"395\" y=\"-260.8\" font-family=\"Helvetica,sans-Serif\" font-size=\"14.00\" fill=\"#000000\">samples = 3418</text>\n<text text-anchor=\"start\" x=\"380.5\" y=\"-245.8\" font-family=\"Helvetica,sans-Serif\" font-size=\"14.00\" fill=\"#000000\">value = [2071, 1347]</text>\n<text text-anchor=\"start\" x=\"415.5\" y=\"-230.8\" font-family=\"Helvetica,sans-Serif\" font-size=\"14.00\" fill=\"#000000\">class = &#45;1</text>\n</g>\n<!-- 1&#45;&gt;2 -->\n<g id=\"edge2\" class=\"edge\">\n<title>1&#45;&gt;2</title>\n<path fill=\"none\" stroke=\"#000000\" d=\"M793.5532,-361.5349C719.2968,-340.7431 608.1284,-309.6159 531.8398,-288.2551\"/>\n<polygon fill=\"#000000\" stroke=\"#000000\" points=\"532.355,-284.7649 521.7817,-285.4389 530.4676,-291.5056 532.355,-284.7649\"/>\n</g>\n<!-- 9 -->\n<g id=\"node10\" class=\"node\">\n<title>9</title>\n<path fill=\"#ea985d\" stroke=\"#000000\" d=\"M928.5,-306C928.5,-306 815.5,-306 815.5,-306 809.5,-306 803.5,-300 803.5,-294 803.5,-294 803.5,-235 803.5,-235 803.5,-229 809.5,-223 815.5,-223 815.5,-223 928.5,-223 928.5,-223 934.5,-223 940.5,-229 940.5,-235 940.5,-235 940.5,-294 940.5,-294 940.5,-300 934.5,-306 928.5,-306\"/>\n<text text-anchor=\"start\" x=\"811.5\" y=\"-290.8\" font-family=\"Helvetica,sans-Serif\" font-size=\"14.00\" fill=\"#000000\">FoodCourt ≤ 0.746</text>\n<text text-anchor=\"start\" x=\"834\" y=\"-275.8\" font-family=\"Helvetica,sans-Serif\" font-size=\"14.00\" fill=\"#000000\">gini = 0.259</text>\n<text text-anchor=\"start\" x=\"820\" y=\"-260.8\" font-family=\"Helvetica,sans-Serif\" font-size=\"14.00\" fill=\"#000000\">samples = 1130</text>\n<text text-anchor=\"start\" x=\"814\" y=\"-245.8\" font-family=\"Helvetica,sans-Serif\" font-size=\"14.00\" fill=\"#000000\">value = [957, 173]</text>\n<text text-anchor=\"start\" x=\"840.5\" y=\"-230.8\" font-family=\"Helvetica,sans-Serif\" font-size=\"14.00\" fill=\"#000000\">class = &#45;1</text>\n</g>\n<!-- 1&#45;&gt;9 -->\n<g id=\"edge9\" class=\"edge\">\n<title>1&#45;&gt;9</title>\n<path fill=\"none\" stroke=\"#000000\" d=\"M872,-341.8796C872,-333.6838 872,-324.9891 872,-316.5013\"/>\n<polygon fill=\"#000000\" stroke=\"#000000\" points=\"875.5001,-316.298 872,-306.2981 868.5001,-316.2981 875.5001,-316.298\"/>\n</g>\n<!-- 3 -->\n<g id=\"node4\" class=\"node\">\n<title>3</title>\n<path fill=\"#fefcfa\" stroke=\"#000000\" d=\"M278.5,-187C278.5,-187 153.5,-187 153.5,-187 147.5,-187 141.5,-181 141.5,-175 141.5,-175 141.5,-116 141.5,-116 141.5,-110 147.5,-104 153.5,-104 153.5,-104 278.5,-104 278.5,-104 284.5,-104 290.5,-110 290.5,-116 290.5,-116 290.5,-175 290.5,-175 290.5,-181 284.5,-187 278.5,-187\"/>\n<text text-anchor=\"start\" x=\"163\" y=\"-171.8\" font-family=\"Helvetica,sans-Serif\" font-size=\"14.00\" fill=\"#000000\">VRDeck ≤ 0.029</text>\n<text text-anchor=\"start\" x=\"186.5\" y=\"-156.8\" font-family=\"Helvetica,sans-Serif\" font-size=\"14.00\" fill=\"#000000\">gini = 0.5</text>\n<text text-anchor=\"start\" x=\"164\" y=\"-141.8\" font-family=\"Helvetica,sans-Serif\" font-size=\"14.00\" fill=\"#000000\">samples = 2293</text>\n<text text-anchor=\"start\" x=\"149.5\" y=\"-126.8\" font-family=\"Helvetica,sans-Serif\" font-size=\"14.00\" fill=\"#000000\">value = [1161, 1132]</text>\n<text text-anchor=\"start\" x=\"184.5\" y=\"-111.8\" font-family=\"Helvetica,sans-Serif\" font-size=\"14.00\" fill=\"#000000\">class = &#45;1</text>\n</g>\n<!-- 2&#45;&gt;3 -->\n<g id=\"edge3\" class=\"edge\">\n<title>2&#45;&gt;3</title>\n<path fill=\"none\" stroke=\"#000000\" d=\"M372.3199,-226.0284C349.1769,-214.1063 323.5245,-200.8914 299.8051,-188.6723\"/>\n<polygon fill=\"#000000\" stroke=\"#000000\" points=\"301.311,-185.511 290.8184,-184.0428 298.1052,-191.7338 301.311,-185.511\"/>\n</g>\n<!-- 6 -->\n<g id=\"node7\" class=\"node\">\n<title>6</title>\n<path fill=\"#eb9f68\" stroke=\"#000000\" d=\"M503.5,-187C503.5,-187 390.5,-187 390.5,-187 384.5,-187 378.5,-181 378.5,-175 378.5,-175 378.5,-116 378.5,-116 378.5,-110 384.5,-104 390.5,-104 390.5,-104 503.5,-104 503.5,-104 509.5,-104 515.5,-110 515.5,-116 515.5,-116 515.5,-175 515.5,-175 515.5,-181 509.5,-187 503.5,-187\"/>\n<text text-anchor=\"start\" x=\"386.5\" y=\"-171.8\" font-family=\"Helvetica,sans-Serif\" font-size=\"14.00\" fill=\"#000000\">FoodCourt ≤ 0.553</text>\n<text text-anchor=\"start\" x=\"409\" y=\"-156.8\" font-family=\"Helvetica,sans-Serif\" font-size=\"14.00\" fill=\"#000000\">gini = 0.309</text>\n<text text-anchor=\"start\" x=\"395\" y=\"-141.8\" font-family=\"Helvetica,sans-Serif\" font-size=\"14.00\" fill=\"#000000\">samples = 1125</text>\n<text text-anchor=\"start\" x=\"389\" y=\"-126.8\" font-family=\"Helvetica,sans-Serif\" font-size=\"14.00\" fill=\"#000000\">value = [910, 215]</text>\n<text text-anchor=\"start\" x=\"415.5\" y=\"-111.8\" font-family=\"Helvetica,sans-Serif\" font-size=\"14.00\" fill=\"#000000\">class = &#45;1</text>\n</g>\n<!-- 2&#45;&gt;6 -->\n<g id=\"edge6\" class=\"edge\">\n<title>2&#45;&gt;6</title>\n<path fill=\"none\" stroke=\"#000000\" d=\"M447,-222.8796C447,-214.6838 447,-205.9891 447,-197.5013\"/>\n<polygon fill=\"#000000\" stroke=\"#000000\" points=\"450.5001,-197.298 447,-187.2981 443.5001,-197.2981 450.5001,-197.298\"/>\n</g>\n<!-- 4 -->\n<g id=\"node5\" class=\"node\">\n<title>4</title>\n<path fill=\"#b8dcf6\" stroke=\"#000000\" d=\"M120,-68C120,-68 12,-68 12,-68 6,-68 0,-62 0,-56 0,-56 0,-12 0,-12 0,-6 6,0 12,0 12,0 120,0 120,0 126,0 132,-6 132,-12 132,-12 132,-56 132,-56 132,-62 126,-68 120,-68\"/>\n<text text-anchor=\"start\" x=\"28\" y=\"-52.8\" font-family=\"Helvetica,sans-Serif\" font-size=\"14.00\" fill=\"#000000\">gini = 0.476</text>\n<text text-anchor=\"start\" x=\"14\" y=\"-37.8\" font-family=\"Helvetica,sans-Serif\" font-size=\"14.00\" fill=\"#000000\">samples = 1612</text>\n<text text-anchor=\"start\" x=\"8\" y=\"-22.8\" font-family=\"Helvetica,sans-Serif\" font-size=\"14.00\" fill=\"#000000\">value = [631, 981]</text>\n<text text-anchor=\"start\" x=\"37\" y=\"-7.8\" font-family=\"Helvetica,sans-Serif\" font-size=\"14.00\" fill=\"#000000\">class = 1</text>\n</g>\n<!-- 3&#45;&gt;4 -->\n<g id=\"edge4\" class=\"edge\">\n<title>3&#45;&gt;4</title>\n<path fill=\"none\" stroke=\"#000000\" d=\"M160.1455,-103.9815C147.1632,-94.3313 133.3606,-84.0714 120.4403,-74.4673\"/>\n<polygon fill=\"#000000\" stroke=\"#000000\" points=\"122.2083,-71.4204 112.0946,-68.2637 118.0322,-77.0384 122.2083,-71.4204\"/>\n</g>\n<!-- 5 -->\n<g id=\"node6\" class=\"node\">\n<title>5</title>\n<path fill=\"#eca571\" stroke=\"#000000\" d=\"M270,-68C270,-68 162,-68 162,-68 156,-68 150,-62 150,-56 150,-56 150,-12 150,-12 150,-6 156,0 162,0 162,0 270,0 270,0 276,0 282,-6 282,-12 282,-12 282,-56 282,-56 282,-62 276,-68 270,-68\"/>\n<text text-anchor=\"start\" x=\"178\" y=\"-52.8\" font-family=\"Helvetica,sans-Serif\" font-size=\"14.00\" fill=\"#000000\">gini = 0.345</text>\n<text text-anchor=\"start\" x=\"168\" y=\"-37.8\" font-family=\"Helvetica,sans-Serif\" font-size=\"14.00\" fill=\"#000000\">samples = 681</text>\n<text text-anchor=\"start\" x=\"158\" y=\"-22.8\" font-family=\"Helvetica,sans-Serif\" font-size=\"14.00\" fill=\"#000000\">value = [530, 151]</text>\n<text text-anchor=\"start\" x=\"184.5\" y=\"-7.8\" font-family=\"Helvetica,sans-Serif\" font-size=\"14.00\" fill=\"#000000\">class = &#45;1</text>\n</g>\n<!-- 3&#45;&gt;5 -->\n<g id=\"edge5\" class=\"edge\">\n<title>3&#45;&gt;5</title>\n<path fill=\"none\" stroke=\"#000000\" d=\"M216,-103.9815C216,-95.618 216,-86.7965 216,-78.3409\"/>\n<polygon fill=\"#000000\" stroke=\"#000000\" points=\"219.5001,-78.2636 216,-68.2637 212.5001,-78.2637 219.5001,-78.2636\"/>\n</g>\n<!-- 7 -->\n<g id=\"node8\" class=\"node\">\n<title>7</title>\n<path fill=\"#e99355\" stroke=\"#000000\" d=\"M420,-68C420,-68 312,-68 312,-68 306,-68 300,-62 300,-56 300,-56 300,-12 300,-12 300,-6 306,0 312,0 312,0 420,0 420,0 426,0 432,-6 432,-12 432,-12 432,-56 432,-56 432,-62 426,-68 420,-68\"/>\n<text text-anchor=\"start\" x=\"328\" y=\"-52.8\" font-family=\"Helvetica,sans-Serif\" font-size=\"14.00\" fill=\"#000000\">gini = 0.216</text>\n<text text-anchor=\"start\" x=\"318\" y=\"-37.8\" font-family=\"Helvetica,sans-Serif\" font-size=\"14.00\" fill=\"#000000\">samples = 862</text>\n<text text-anchor=\"start\" x=\"308\" y=\"-22.8\" font-family=\"Helvetica,sans-Serif\" font-size=\"14.00\" fill=\"#000000\">value = [756, 106]</text>\n<text text-anchor=\"start\" x=\"334.5\" y=\"-7.8\" font-family=\"Helvetica,sans-Serif\" font-size=\"14.00\" fill=\"#000000\">class = &#45;1</text>\n</g>\n<!-- 6&#45;&gt;7 -->\n<g id=\"edge7\" class=\"edge\">\n<title>6&#45;&gt;7</title>\n<path fill=\"none\" stroke=\"#000000\" d=\"M416.8386,-103.9815C410.2955,-94.9747 403.3666,-85.4367 396.7992,-76.3965\"/>\n<polygon fill=\"#000000\" stroke=\"#000000\" points=\"399.6002,-74.2971 390.8911,-68.2637 393.9369,-78.4113 399.6002,-74.2971\"/>\n</g>\n<!-- 8 -->\n<g id=\"node9\" class=\"node\">\n<title>8</title>\n<path fill=\"#f7dac5\" stroke=\"#000000\" d=\"M570,-68C570,-68 462,-68 462,-68 456,-68 450,-62 450,-56 450,-56 450,-12 450,-12 450,-6 456,0 462,0 462,0 570,0 570,0 576,0 582,-6 582,-12 582,-12 582,-56 582,-56 582,-62 576,-68 570,-68\"/>\n<text text-anchor=\"start\" x=\"478\" y=\"-52.8\" font-family=\"Helvetica,sans-Serif\" font-size=\"14.00\" fill=\"#000000\">gini = 0.485</text>\n<text text-anchor=\"start\" x=\"468\" y=\"-37.8\" font-family=\"Helvetica,sans-Serif\" font-size=\"14.00\" fill=\"#000000\">samples = 263</text>\n<text text-anchor=\"start\" x=\"458\" y=\"-22.8\" font-family=\"Helvetica,sans-Serif\" font-size=\"14.00\" fill=\"#000000\">value = [154, 109]</text>\n<text text-anchor=\"start\" x=\"484.5\" y=\"-7.8\" font-family=\"Helvetica,sans-Serif\" font-size=\"14.00\" fill=\"#000000\">class = &#45;1</text>\n</g>\n<!-- 6&#45;&gt;8 -->\n<g id=\"edge8\" class=\"edge\">\n<title>6&#45;&gt;8</title>\n<path fill=\"none\" stroke=\"#000000\" d=\"M472.6931,-103.9815C478.1531,-95.1585 483.9284,-85.8258 489.4207,-76.9506\"/>\n<polygon fill=\"#000000\" stroke=\"#000000\" points=\"492.5104,-78.609 494.7965,-68.2637 486.558,-74.9254 492.5104,-78.609\"/>\n</g>\n<!-- 10 -->\n<g id=\"node11\" class=\"node\">\n<title>10</title>\n<path fill=\"#e99659\" stroke=\"#000000\" d=\"M861.5,-187C861.5,-187 728.5,-187 728.5,-187 722.5,-187 716.5,-181 716.5,-175 716.5,-175 716.5,-116 716.5,-116 716.5,-110 722.5,-104 728.5,-104 728.5,-104 861.5,-104 861.5,-104 867.5,-104 873.5,-110 873.5,-116 873.5,-116 873.5,-175 873.5,-175 873.5,-181 867.5,-187 861.5,-187\"/>\n<text text-anchor=\"start\" x=\"724.5\" y=\"-171.8\" font-family=\"Helvetica,sans-Serif\" font-size=\"14.00\" fill=\"#000000\">ShoppingMall ≤ 2.635</text>\n<text text-anchor=\"start\" x=\"757\" y=\"-156.8\" font-family=\"Helvetica,sans-Serif\" font-size=\"14.00\" fill=\"#000000\">gini = 0.242</text>\n<text text-anchor=\"start\" x=\"743\" y=\"-141.8\" font-family=\"Helvetica,sans-Serif\" font-size=\"14.00\" fill=\"#000000\">samples = 1088</text>\n<text text-anchor=\"start\" x=\"737\" y=\"-126.8\" font-family=\"Helvetica,sans-Serif\" font-size=\"14.00\" fill=\"#000000\">value = [935, 153]</text>\n<text text-anchor=\"start\" x=\"763.5\" y=\"-111.8\" font-family=\"Helvetica,sans-Serif\" font-size=\"14.00\" fill=\"#000000\">class = &#45;1</text>\n</g>\n<!-- 9&#45;&gt;10 -->\n<g id=\"edge10\" class=\"edge\">\n<title>9&#45;&gt;10</title>\n<path fill=\"none\" stroke=\"#000000\" d=\"M845.0691,-222.8796C839.4163,-214.1434 833.3967,-204.8404 827.5634,-195.8253\"/>\n<polygon fill=\"#000000\" stroke=\"#000000\" points=\"830.4169,-193.7924 822.0458,-187.2981 824.5399,-197.5952 830.4169,-193.7924\"/>\n</g>\n<!-- 13 -->\n<g id=\"node14\" class=\"node\">\n<title>13</title>\n<path fill=\"#fdf4ed\" stroke=\"#000000\" d=\"M996,-187C996,-187 904,-187 904,-187 898,-187 892,-181 892,-175 892,-175 892,-116 892,-116 892,-110 898,-104 904,-104 904,-104 996,-104 996,-104 1002,-104 1008,-110 1008,-116 1008,-116 1008,-175 1008,-175 1008,-181 1002,-187 996,-187\"/>\n<text text-anchor=\"start\" x=\"908.5\" y=\"-171.8\" font-family=\"Helvetica,sans-Serif\" font-size=\"14.00\" fill=\"#000000\">Spa ≤ &#45;0.069</text>\n<text text-anchor=\"start\" x=\"912\" y=\"-156.8\" font-family=\"Helvetica,sans-Serif\" font-size=\"14.00\" fill=\"#000000\">gini = 0.499</text>\n<text text-anchor=\"start\" x=\"906\" y=\"-141.8\" font-family=\"Helvetica,sans-Serif\" font-size=\"14.00\" fill=\"#000000\">samples = 42</text>\n<text text-anchor=\"start\" x=\"900\" y=\"-126.8\" font-family=\"Helvetica,sans-Serif\" font-size=\"14.00\" fill=\"#000000\">value = [22, 20]</text>\n<text text-anchor=\"start\" x=\"918.5\" y=\"-111.8\" font-family=\"Helvetica,sans-Serif\" font-size=\"14.00\" fill=\"#000000\">class = &#45;1</text>\n</g>\n<!-- 9&#45;&gt;13 -->\n<g id=\"edge13\" class=\"edge\">\n<title>9&#45;&gt;13</title>\n<path fill=\"none\" stroke=\"#000000\" d=\"M899.2806,-222.8796C905.0068,-214.1434 911.1046,-204.8404 917.0137,-195.8253\"/>\n<polygon fill=\"#000000\" stroke=\"#000000\" points=\"920.0482,-197.5803 922.6029,-187.2981 914.1937,-193.7429 920.0482,-197.5803\"/>\n</g>\n<!-- 11 -->\n<g id=\"node12\" class=\"node\">\n<title>11</title>\n<path fill=\"#e99457\" stroke=\"#000000\" d=\"M720,-68C720,-68 612,-68 612,-68 606,-68 600,-62 600,-56 600,-56 600,-12 600,-12 600,-6 606,0 612,0 612,0 720,0 720,0 726,0 732,-6 732,-12 732,-12 732,-56 732,-56 732,-62 726,-68 720,-68\"/>\n<text text-anchor=\"start\" x=\"628\" y=\"-52.8\" font-family=\"Helvetica,sans-Serif\" font-size=\"14.00\" fill=\"#000000\">gini = 0.228</text>\n<text text-anchor=\"start\" x=\"614\" y=\"-37.8\" font-family=\"Helvetica,sans-Serif\" font-size=\"14.00\" fill=\"#000000\">samples = 1062</text>\n<text text-anchor=\"start\" x=\"608\" y=\"-22.8\" font-family=\"Helvetica,sans-Serif\" font-size=\"14.00\" fill=\"#000000\">value = [923, 139]</text>\n<text text-anchor=\"start\" x=\"634.5\" y=\"-7.8\" font-family=\"Helvetica,sans-Serif\" font-size=\"14.00\" fill=\"#000000\">class = &#45;1</text>\n</g>\n<!-- 10&#45;&gt;11 -->\n<g id=\"edge11\" class=\"edge\">\n<title>10&#45;&gt;11</title>\n<path fill=\"none\" stroke=\"#000000\" d=\"M746.9652,-103.9815C736.013,-94.5151 724.3821,-84.462 713.4544,-75.0168\"/>\n<polygon fill=\"#000000\" stroke=\"#000000\" points=\"715.4957,-72.155 705.6414,-68.2637 710.9182,-77.4509 715.4957,-72.155\"/>\n</g>\n<!-- 12 -->\n<g id=\"node13\" class=\"node\">\n<title>12</title>\n<path fill=\"#e3f1fb\" stroke=\"#000000\" d=\"M854,-68C854,-68 762,-68 762,-68 756,-68 750,-62 750,-56 750,-56 750,-12 750,-12 750,-6 756,0 762,0 762,0 854,0 854,0 860,0 866,-6 866,-12 866,-12 866,-56 866,-56 866,-62 860,-68 854,-68\"/>\n<text text-anchor=\"start\" x=\"770\" y=\"-52.8\" font-family=\"Helvetica,sans-Serif\" font-size=\"14.00\" fill=\"#000000\">gini = 0.497</text>\n<text text-anchor=\"start\" x=\"764\" y=\"-37.8\" font-family=\"Helvetica,sans-Serif\" font-size=\"14.00\" fill=\"#000000\">samples = 26</text>\n<text text-anchor=\"start\" x=\"758\" y=\"-22.8\" font-family=\"Helvetica,sans-Serif\" font-size=\"14.00\" fill=\"#000000\">value = [12, 14]</text>\n<text text-anchor=\"start\" x=\"779\" y=\"-7.8\" font-family=\"Helvetica,sans-Serif\" font-size=\"14.00\" fill=\"#000000\">class = 1</text>\n</g>\n<!-- 10&#45;&gt;12 -->\n<g id=\"edge12\" class=\"edge\">\n<title>10&#45;&gt;12</title>\n<path fill=\"none\" stroke=\"#000000\" d=\"M799.8407,-103.9815C800.8158,-95.618 801.8443,-86.7965 802.8302,-78.3409\"/>\n<polygon fill=\"#000000\" stroke=\"#000000\" points=\"806.3234,-78.6017 804.0051,-68.2637 799.3705,-77.791 806.3234,-78.6017\"/>\n</g>\n<!-- 14 -->\n<g id=\"node15\" class=\"node\">\n<title>14</title>\n<path fill=\"#96cbf1\" stroke=\"#000000\" d=\"M979.5,-68C979.5,-68 896.5,-68 896.5,-68 890.5,-68 884.5,-62 884.5,-56 884.5,-56 884.5,-12 884.5,-12 884.5,-6 890.5,0 896.5,0 896.5,0 979.5,0 979.5,0 985.5,0 991.5,-6 991.5,-12 991.5,-12 991.5,-56 991.5,-56 991.5,-62 985.5,-68 979.5,-68\"/>\n<text text-anchor=\"start\" x=\"900\" y=\"-52.8\" font-family=\"Helvetica,sans-Serif\" font-size=\"14.00\" fill=\"#000000\">gini = 0.435</text>\n<text text-anchor=\"start\" x=\"894\" y=\"-37.8\" font-family=\"Helvetica,sans-Serif\" font-size=\"14.00\" fill=\"#000000\">samples = 25</text>\n<text text-anchor=\"start\" x=\"892.5\" y=\"-22.8\" font-family=\"Helvetica,sans-Serif\" font-size=\"14.00\" fill=\"#000000\">value = [8, 17]</text>\n<text text-anchor=\"start\" x=\"909\" y=\"-7.8\" font-family=\"Helvetica,sans-Serif\" font-size=\"14.00\" fill=\"#000000\">class = 1</text>\n</g>\n<!-- 13&#45;&gt;14 -->\n<g id=\"edge14\" class=\"edge\">\n<title>13&#45;&gt;14</title>\n<path fill=\"none\" stroke=\"#000000\" d=\"M945.5316,-103.9815C944.6315,-95.618 943.6821,-86.7965 942.7721,-78.3409\"/>\n<polygon fill=\"#000000\" stroke=\"#000000\" points=\"946.2376,-77.8317 941.6876,-68.2637 939.2778,-78.5808 946.2376,-77.8317\"/>\n</g>\n<!-- 15 -->\n<g id=\"node16\" class=\"node\">\n<title>15</title>\n<path fill=\"#eb9c63\" stroke=\"#000000\" d=\"M1104.5,-68C1104.5,-68 1021.5,-68 1021.5,-68 1015.5,-68 1009.5,-62 1009.5,-56 1009.5,-56 1009.5,-12 1009.5,-12 1009.5,-6 1015.5,0 1021.5,0 1021.5,0 1104.5,0 1104.5,0 1110.5,0 1116.5,-6 1116.5,-12 1116.5,-12 1116.5,-56 1116.5,-56 1116.5,-62 1110.5,-68 1104.5,-68\"/>\n<text text-anchor=\"start\" x=\"1025\" y=\"-52.8\" font-family=\"Helvetica,sans-Serif\" font-size=\"14.00\" fill=\"#000000\">gini = 0.291</text>\n<text text-anchor=\"start\" x=\"1019\" y=\"-37.8\" font-family=\"Helvetica,sans-Serif\" font-size=\"14.00\" fill=\"#000000\">samples = 17</text>\n<text text-anchor=\"start\" x=\"1017.5\" y=\"-22.8\" font-family=\"Helvetica,sans-Serif\" font-size=\"14.00\" fill=\"#000000\">value = [14, 3]</text>\n<text text-anchor=\"start\" x=\"1031.5\" y=\"-7.8\" font-family=\"Helvetica,sans-Serif\" font-size=\"14.00\" fill=\"#000000\">class = &#45;1</text>\n</g>\n<!-- 13&#45;&gt;15 -->\n<g id=\"edge15\" class=\"edge\">\n<title>13&#45;&gt;15</title>\n<path fill=\"none\" stroke=\"#000000\" d=\"M992.077,-103.9815C1001.5776,-94.607 1011.6613,-84.6572 1021.1524,-75.2921\"/>\n<polygon fill=\"#000000\" stroke=\"#000000\" points=\"1023.6155,-77.7787 1028.2754,-68.2637 1018.6989,-72.796 1023.6155,-77.7787\"/>\n</g>\n<!-- 17 -->\n<g id=\"node18\" class=\"node\">\n<title>17</title>\n<path fill=\"#44a2e6\" stroke=\"#000000\" d=\"M1477,-306C1477,-306 1313,-306 1313,-306 1307,-306 1301,-300 1301,-294 1301,-294 1301,-235 1301,-235 1301,-229 1307,-223 1313,-223 1313,-223 1477,-223 1477,-223 1483,-223 1489,-229 1489,-235 1489,-235 1489,-294 1489,-294 1489,-300 1483,-306 1477,-306\"/>\n<text text-anchor=\"start\" x=\"1309\" y=\"-290.8\" font-family=\"Helvetica,sans-Serif\" font-size=\"14.00\" fill=\"#000000\">HomePlanet_Europa ≤ 0.5</text>\n<text text-anchor=\"start\" x=\"1357\" y=\"-275.8\" font-family=\"Helvetica,sans-Serif\" font-size=\"14.00\" fill=\"#000000\">gini = 0.098</text>\n<text text-anchor=\"start\" x=\"1343\" y=\"-260.8\" font-family=\"Helvetica,sans-Serif\" font-size=\"14.00\" fill=\"#000000\">samples = 1318</text>\n<text text-anchor=\"start\" x=\"1337\" y=\"-245.8\" font-family=\"Helvetica,sans-Serif\" font-size=\"14.00\" fill=\"#000000\">value = [68, 1250]</text>\n<text text-anchor=\"start\" x=\"1366\" y=\"-230.8\" font-family=\"Helvetica,sans-Serif\" font-size=\"14.00\" fill=\"#000000\">class = 1</text>\n</g>\n<!-- 16&#45;&gt;17 -->\n<g id=\"edge17\" class=\"edge\">\n<title>16&#45;&gt;17</title>\n<path fill=\"none\" stroke=\"#000000\" d=\"M1395,-341.8796C1395,-333.6838 1395,-324.9891 1395,-316.5013\"/>\n<polygon fill=\"#000000\" stroke=\"#000000\" points=\"1398.5001,-316.298 1395,-306.2981 1391.5001,-316.2981 1398.5001,-316.298\"/>\n</g>\n<!-- 24 -->\n<g id=\"node25\" class=\"node\">\n<title>24</title>\n<path fill=\"#a7d4f3\" stroke=\"#000000\" d=\"M1841,-306C1841,-306 1717,-306 1717,-306 1711,-306 1705,-300 1705,-294 1705,-294 1705,-235 1705,-235 1705,-229 1711,-223 1717,-223 1717,-223 1841,-223 1841,-223 1847,-223 1853,-229 1853,-235 1853,-235 1853,-294 1853,-294 1853,-300 1847,-306 1841,-306\"/>\n<text text-anchor=\"start\" x=\"1713\" y=\"-290.8\" font-family=\"Helvetica,sans-Serif\" font-size=\"14.00\" fill=\"#000000\">Cabin_num ≤ &#45;0.044</text>\n<text text-anchor=\"start\" x=\"1741\" y=\"-275.8\" font-family=\"Helvetica,sans-Serif\" font-size=\"14.00\" fill=\"#000000\">gini = 0.459</text>\n<text text-anchor=\"start\" x=\"1727\" y=\"-260.8\" font-family=\"Helvetica,sans-Serif\" font-size=\"14.00\" fill=\"#000000\">samples = 1088</text>\n<text text-anchor=\"start\" x=\"1721\" y=\"-245.8\" font-family=\"Helvetica,sans-Serif\" font-size=\"14.00\" fill=\"#000000\">value = [389, 699]</text>\n<text text-anchor=\"start\" x=\"1750\" y=\"-230.8\" font-family=\"Helvetica,sans-Serif\" font-size=\"14.00\" fill=\"#000000\">class = 1</text>\n</g>\n<!-- 16&#45;&gt;24 -->\n<g id=\"edge24\" class=\"edge\">\n<title>16&#45;&gt;24</title>\n<path fill=\"none\" stroke=\"#000000\" d=\"M1482.616,-356.3482C1546.2807,-336.6187 1631.9448,-310.0718 1694.8025,-290.5925\"/>\n<polygon fill=\"#000000\" stroke=\"#000000\" points=\"1696.1722,-293.8323 1704.688,-287.529 1694.1001,-287.146 1696.1722,-293.8323\"/>\n</g>\n<!-- 18 -->\n<g id=\"node19\" class=\"node\">\n<title>18</title>\n<path fill=\"#4fa8e8\" stroke=\"#000000\" d=\"M1378,-187C1378,-187 1272,-187 1272,-187 1266,-187 1260,-181 1260,-175 1260,-175 1260,-116 1260,-116 1260,-110 1266,-104 1272,-104 1272,-104 1378,-104 1378,-104 1384,-104 1390,-110 1390,-116 1390,-116 1390,-175 1390,-175 1390,-181 1384,-187 1378,-187\"/>\n<text text-anchor=\"start\" x=\"1268\" y=\"-171.8\" font-family=\"Helvetica,sans-Serif\" font-size=\"14.00\" fill=\"#000000\">Cabin_deck ≤ 4.5</text>\n<text text-anchor=\"start\" x=\"1287\" y=\"-156.8\" font-family=\"Helvetica,sans-Serif\" font-size=\"14.00\" fill=\"#000000\">gini = 0.182</text>\n<text text-anchor=\"start\" x=\"1277\" y=\"-141.8\" font-family=\"Helvetica,sans-Serif\" font-size=\"14.00\" fill=\"#000000\">samples = 581</text>\n<text text-anchor=\"start\" x=\"1271\" y=\"-126.8\" font-family=\"Helvetica,sans-Serif\" font-size=\"14.00\" fill=\"#000000\">value = [59, 522]</text>\n<text text-anchor=\"start\" x=\"1296\" y=\"-111.8\" font-family=\"Helvetica,sans-Serif\" font-size=\"14.00\" fill=\"#000000\">class = 1</text>\n</g>\n<!-- 17&#45;&gt;18 -->\n<g id=\"edge18\" class=\"edge\">\n<title>17&#45;&gt;18</title>\n<path fill=\"none\" stroke=\"#000000\" d=\"M1370.5174,-222.8796C1365.4315,-214.2335 1360.0189,-205.0322 1354.7672,-196.1042\"/>\n<polygon fill=\"#000000\" stroke=\"#000000\" points=\"1357.6741,-194.1428 1349.5871,-187.2981 1351.6406,-197.692 1357.6741,-194.1428\"/>\n</g>\n<!-- 21 -->\n<g id=\"node22\" class=\"node\">\n<title>21</title>\n<path fill=\"#3b9ee5\" stroke=\"#000000\" d=\"M1512,-187C1512,-187 1420,-187 1420,-187 1414,-187 1408,-181 1408,-175 1408,-175 1408,-116 1408,-116 1408,-110 1414,-104 1420,-104 1420,-104 1512,-104 1512,-104 1518,-104 1524,-110 1524,-116 1524,-116 1524,-175 1524,-175 1524,-181 1518,-187 1512,-187\"/>\n<text text-anchor=\"start\" x=\"1424.5\" y=\"-171.8\" font-family=\"Helvetica,sans-Serif\" font-size=\"14.00\" fill=\"#000000\">Age ≤ &#45;1.798</text>\n<text text-anchor=\"start\" x=\"1428\" y=\"-156.8\" font-family=\"Helvetica,sans-Serif\" font-size=\"14.00\" fill=\"#000000\">gini = 0.024</text>\n<text text-anchor=\"start\" x=\"1418\" y=\"-141.8\" font-family=\"Helvetica,sans-Serif\" font-size=\"14.00\" fill=\"#000000\">samples = 737</text>\n<text text-anchor=\"start\" x=\"1416\" y=\"-126.8\" font-family=\"Helvetica,sans-Serif\" font-size=\"14.00\" fill=\"#000000\">value = [9, 728]</text>\n<text text-anchor=\"start\" x=\"1437\" y=\"-111.8\" font-family=\"Helvetica,sans-Serif\" font-size=\"14.00\" fill=\"#000000\">class = 1</text>\n</g>\n<!-- 17&#45;&gt;21 -->\n<g id=\"edge21\" class=\"edge\">\n<title>17&#45;&gt;21</title>\n<path fill=\"none\" stroke=\"#000000\" d=\"M1419.8324,-222.8796C1424.9909,-214.2335 1430.4808,-205.0322 1435.8076,-196.1042\"/>\n<polygon fill=\"#000000\" stroke=\"#000000\" points=\"1438.9436,-197.679 1441.0617,-187.2981 1432.9322,-194.0924 1438.9436,-197.679\"/>\n</g>\n<!-- 19 -->\n<g id=\"node20\" class=\"node\">\n<title>19</title>\n<path fill=\"#add7f4\" stroke=\"#000000\" d=\"M1239,-68C1239,-68 1147,-68 1147,-68 1141,-68 1135,-62 1135,-56 1135,-56 1135,-12 1135,-12 1135,-6 1141,0 1147,0 1147,0 1239,0 1239,0 1245,0 1251,-6 1251,-12 1251,-12 1251,-56 1251,-56 1251,-62 1245,-68 1239,-68\"/>\n<text text-anchor=\"start\" x=\"1155\" y=\"-52.8\" font-family=\"Helvetica,sans-Serif\" font-size=\"14.00\" fill=\"#000000\">gini = 0.466</text>\n<text text-anchor=\"start\" x=\"1145\" y=\"-37.8\" font-family=\"Helvetica,sans-Serif\" font-size=\"14.00\" fill=\"#000000\">samples = 127</text>\n<text text-anchor=\"start\" x=\"1143\" y=\"-22.8\" font-family=\"Helvetica,sans-Serif\" font-size=\"14.00\" fill=\"#000000\">value = [47, 80]</text>\n<text text-anchor=\"start\" x=\"1164\" y=\"-7.8\" font-family=\"Helvetica,sans-Serif\" font-size=\"14.00\" fill=\"#000000\">class = 1</text>\n</g>\n<!-- 18&#45;&gt;19 -->\n<g id=\"edge19\" class=\"edge\">\n<title>18&#45;&gt;19</title>\n<path fill=\"none\" stroke=\"#000000\" d=\"M1275.8481,-103.9815C1264.5324,-94.4232 1252.5087,-84.2668 1241.2325,-74.7419\"/>\n<polygon fill=\"#000000\" stroke=\"#000000\" points=\"1243.4612,-72.0429 1233.5633,-68.2637 1238.9441,-77.3904 1243.4612,-72.0429\"/>\n</g>\n<!-- 20 -->\n<g id=\"node21\" class=\"node\">\n<title>20</title>\n<path fill=\"#3ea0e6\" stroke=\"#000000\" d=\"M1381,-68C1381,-68 1281,-68 1281,-68 1275,-68 1269,-62 1269,-56 1269,-56 1269,-12 1269,-12 1269,-6 1275,0 1281,0 1281,0 1381,0 1381,0 1387,0 1393,-6 1393,-12 1393,-12 1393,-56 1393,-56 1393,-62 1387,-68 1381,-68\"/>\n<text text-anchor=\"start\" x=\"1293\" y=\"-52.8\" font-family=\"Helvetica,sans-Serif\" font-size=\"14.00\" fill=\"#000000\">gini = 0.051</text>\n<text text-anchor=\"start\" x=\"1283\" y=\"-37.8\" font-family=\"Helvetica,sans-Serif\" font-size=\"14.00\" fill=\"#000000\">samples = 454</text>\n<text text-anchor=\"start\" x=\"1277\" y=\"-22.8\" font-family=\"Helvetica,sans-Serif\" font-size=\"14.00\" fill=\"#000000\">value = [12, 442]</text>\n<text text-anchor=\"start\" x=\"1302\" y=\"-7.8\" font-family=\"Helvetica,sans-Serif\" font-size=\"14.00\" fill=\"#000000\">class = 1</text>\n</g>\n<!-- 18&#45;&gt;20 -->\n<g id=\"edge20\" class=\"edge\">\n<title>18&#45;&gt;20</title>\n<path fill=\"none\" stroke=\"#000000\" d=\"M1327.2342,-103.9815C1327.6842,-95.618 1328.1589,-86.7965 1328.6139,-78.3409\"/>\n<polygon fill=\"#000000\" stroke=\"#000000\" points=\"1332.1137,-78.4373 1329.1562,-68.2637 1325.1238,-78.0611 1332.1137,-78.4373\"/>\n</g>\n<!-- 22 -->\n<g id=\"node23\" class=\"node\">\n<title>22</title>\n<path fill=\"#e58139\" stroke=\"#000000\" d=\"M1498.5,-68C1498.5,-68 1423.5,-68 1423.5,-68 1417.5,-68 1411.5,-62 1411.5,-56 1411.5,-56 1411.5,-12 1411.5,-12 1411.5,-6 1417.5,0 1423.5,0 1423.5,0 1498.5,0 1498.5,0 1504.5,0 1510.5,-6 1510.5,-12 1510.5,-12 1510.5,-56 1510.5,-56 1510.5,-62 1504.5,-68 1498.5,-68\"/>\n<text text-anchor=\"start\" x=\"1431.5\" y=\"-52.8\" font-family=\"Helvetica,sans-Serif\" font-size=\"14.00\" fill=\"#000000\">gini = 0.0</text>\n<text text-anchor=\"start\" x=\"1421.5\" y=\"-37.8\" font-family=\"Helvetica,sans-Serif\" font-size=\"14.00\" fill=\"#000000\">samples = 3</text>\n<text text-anchor=\"start\" x=\"1419.5\" y=\"-22.8\" font-family=\"Helvetica,sans-Serif\" font-size=\"14.00\" fill=\"#000000\">value = [3, 0]</text>\n<text text-anchor=\"start\" x=\"1429.5\" y=\"-7.8\" font-family=\"Helvetica,sans-Serif\" font-size=\"14.00\" fill=\"#000000\">class = &#45;1</text>\n</g>\n<!-- 21&#45;&gt;22 -->\n<g id=\"edge22\" class=\"edge\">\n<title>21&#45;&gt;22</title>\n<path fill=\"none\" stroke=\"#000000\" d=\"M1464.1382,-103.9815C1463.7631,-95.618 1463.3676,-86.7965 1462.9884,-78.3409\"/>\n<polygon fill=\"#000000\" stroke=\"#000000\" points=\"1466.481,-78.0968 1462.5365,-68.2637 1459.4881,-78.4105 1466.481,-78.0968\"/>\n</g>\n<!-- 23 -->\n<g id=\"node24\" class=\"node\">\n<title>23</title>\n<path fill=\"#3b9ee5\" stroke=\"#000000\" d=\"M1633,-68C1633,-68 1541,-68 1541,-68 1535,-68 1529,-62 1529,-56 1529,-56 1529,-12 1529,-12 1529,-6 1535,0 1541,0 1541,0 1633,0 1633,0 1639,0 1645,-6 1645,-12 1645,-12 1645,-56 1645,-56 1645,-62 1639,-68 1633,-68\"/>\n<text text-anchor=\"start\" x=\"1549\" y=\"-52.8\" font-family=\"Helvetica,sans-Serif\" font-size=\"14.00\" fill=\"#000000\">gini = 0.016</text>\n<text text-anchor=\"start\" x=\"1539\" y=\"-37.8\" font-family=\"Helvetica,sans-Serif\" font-size=\"14.00\" fill=\"#000000\">samples = 734</text>\n<text text-anchor=\"start\" x=\"1537\" y=\"-22.8\" font-family=\"Helvetica,sans-Serif\" font-size=\"14.00\" fill=\"#000000\">value = [6, 728]</text>\n<text text-anchor=\"start\" x=\"1558\" y=\"-7.8\" font-family=\"Helvetica,sans-Serif\" font-size=\"14.00\" fill=\"#000000\">class = 1</text>\n</g>\n<!-- 21&#45;&gt;23 -->\n<g id=\"edge23\" class=\"edge\">\n<title>21&#45;&gt;23</title>\n<path fill=\"none\" stroke=\"#000000\" d=\"M1511.0559,-103.9815C1521.2291,-94.607 1532.0267,-84.6572 1542.1898,-75.2921\"/>\n<polygon fill=\"#000000\" stroke=\"#000000\" points=\"1544.8349,-77.6141 1549.817,-68.2637 1540.0913,-72.4663 1544.8349,-77.6141\"/>\n</g>\n<!-- 25 -->\n<g id=\"node26\" class=\"node\">\n<title>25</title>\n<path fill=\"#d7ebfa\" stroke=\"#000000\" d=\"M1841,-187C1841,-187 1717,-187 1717,-187 1711,-187 1705,-181 1705,-175 1705,-175 1705,-116 1705,-116 1705,-110 1711,-104 1717,-104 1717,-104 1841,-104 1841,-104 1847,-104 1853,-110 1853,-116 1853,-116 1853,-175 1853,-175 1853,-181 1847,-187 1841,-187\"/>\n<text text-anchor=\"start\" x=\"1713\" y=\"-171.8\" font-family=\"Helvetica,sans-Serif\" font-size=\"14.00\" fill=\"#000000\">Cabin_num ≤ &#45;0.054</text>\n<text text-anchor=\"start\" x=\"1741\" y=\"-156.8\" font-family=\"Helvetica,sans-Serif\" font-size=\"14.00\" fill=\"#000000\">gini = 0.494</text>\n<text text-anchor=\"start\" x=\"1731\" y=\"-141.8\" font-family=\"Helvetica,sans-Serif\" font-size=\"14.00\" fill=\"#000000\">samples = 444</text>\n<text text-anchor=\"start\" x=\"1721\" y=\"-126.8\" font-family=\"Helvetica,sans-Serif\" font-size=\"14.00\" fill=\"#000000\">value = [197, 247]</text>\n<text text-anchor=\"start\" x=\"1750\" y=\"-111.8\" font-family=\"Helvetica,sans-Serif\" font-size=\"14.00\" fill=\"#000000\">class = 1</text>\n</g>\n<!-- 24&#45;&gt;25 -->\n<g id=\"edge25\" class=\"edge\">\n<title>24&#45;&gt;25</title>\n<path fill=\"none\" stroke=\"#000000\" d=\"M1779,-222.8796C1779,-214.6838 1779,-205.9891 1779,-197.5013\"/>\n<polygon fill=\"#000000\" stroke=\"#000000\" points=\"1782.5001,-197.298 1779,-187.2981 1775.5001,-197.2981 1782.5001,-197.298\"/>\n</g>\n<!-- 28 -->\n<g id=\"node29\" class=\"node\">\n<title>28</title>\n<path fill=\"#8dc7f0\" stroke=\"#000000\" d=\"M2052.5,-187C2052.5,-187 1933.5,-187 1933.5,-187 1927.5,-187 1921.5,-181 1921.5,-175 1921.5,-175 1921.5,-116 1921.5,-116 1921.5,-110 1927.5,-104 1933.5,-104 1933.5,-104 2052.5,-104 2052.5,-104 2058.5,-104 2064.5,-110 2064.5,-116 2064.5,-116 2064.5,-175 2064.5,-175 2064.5,-181 2058.5,-187 2052.5,-187\"/>\n<text text-anchor=\"start\" x=\"1929.5\" y=\"-171.8\" font-family=\"Helvetica,sans-Serif\" font-size=\"14.00\" fill=\"#000000\">Cabin_side_P ≤ 0.5</text>\n<text text-anchor=\"start\" x=\"1955\" y=\"-156.8\" font-family=\"Helvetica,sans-Serif\" font-size=\"14.00\" fill=\"#000000\">gini = 0.419</text>\n<text text-anchor=\"start\" x=\"1945\" y=\"-141.8\" font-family=\"Helvetica,sans-Serif\" font-size=\"14.00\" fill=\"#000000\">samples = 644</text>\n<text text-anchor=\"start\" x=\"1935\" y=\"-126.8\" font-family=\"Helvetica,sans-Serif\" font-size=\"14.00\" fill=\"#000000\">value = [192, 452]</text>\n<text text-anchor=\"start\" x=\"1964\" y=\"-111.8\" font-family=\"Helvetica,sans-Serif\" font-size=\"14.00\" fill=\"#000000\">class = 1</text>\n</g>\n<!-- 24&#45;&gt;28 -->\n<g id=\"edge28\" class=\"edge\">\n<title>24&#45;&gt;28</title>\n<path fill=\"none\" stroke=\"#000000\" d=\"M1853.2462,-223.2135C1872.4038,-212.5605 1893.1117,-201.0454 1912.5684,-190.226\"/>\n<polygon fill=\"#000000\" stroke=\"#000000\" points=\"1914.3712,-193.2283 1921.4099,-185.3095 1910.9692,-187.1105 1914.3712,-193.2283\"/>\n</g>\n<!-- 26 -->\n<g id=\"node27\" class=\"node\">\n<title>26</title>\n<path fill=\"#d4eaf9\" stroke=\"#000000\" d=\"M1783,-68C1783,-68 1675,-68 1675,-68 1669,-68 1663,-62 1663,-56 1663,-56 1663,-12 1663,-12 1663,-6 1669,0 1675,0 1675,0 1783,0 1783,0 1789,0 1795,-6 1795,-12 1795,-12 1795,-56 1795,-56 1795,-62 1789,-68 1783,-68\"/>\n<text text-anchor=\"start\" x=\"1691\" y=\"-52.8\" font-family=\"Helvetica,sans-Serif\" font-size=\"14.00\" fill=\"#000000\">gini = 0.492</text>\n<text text-anchor=\"start\" x=\"1681\" y=\"-37.8\" font-family=\"Helvetica,sans-Serif\" font-size=\"14.00\" fill=\"#000000\">samples = 440</text>\n<text text-anchor=\"start\" x=\"1671\" y=\"-22.8\" font-family=\"Helvetica,sans-Serif\" font-size=\"14.00\" fill=\"#000000\">value = [193, 247]</text>\n<text text-anchor=\"start\" x=\"1700\" y=\"-7.8\" font-family=\"Helvetica,sans-Serif\" font-size=\"14.00\" fill=\"#000000\">class = 1</text>\n</g>\n<!-- 25&#45;&gt;26 -->\n<g id=\"edge26\" class=\"edge\">\n<title>25&#45;&gt;26</title>\n<path fill=\"none\" stroke=\"#000000\" d=\"M1760.3818,-103.9815C1756.5078,-95.3423 1752.4145,-86.2144 1748.5094,-77.5059\"/>\n<polygon fill=\"#000000\" stroke=\"#000000\" points=\"1751.6503,-75.9561 1744.3649,-68.2637 1745.2631,-78.8204 1751.6503,-75.9561\"/>\n</g>\n<!-- 27 -->\n<g id=\"node28\" class=\"node\">\n<title>27</title>\n<path fill=\"#e58139\" stroke=\"#000000\" d=\"M1900.5,-68C1900.5,-68 1825.5,-68 1825.5,-68 1819.5,-68 1813.5,-62 1813.5,-56 1813.5,-56 1813.5,-12 1813.5,-12 1813.5,-6 1819.5,0 1825.5,0 1825.5,0 1900.5,0 1900.5,0 1906.5,0 1912.5,-6 1912.5,-12 1912.5,-12 1912.5,-56 1912.5,-56 1912.5,-62 1906.5,-68 1900.5,-68\"/>\n<text text-anchor=\"start\" x=\"1833.5\" y=\"-52.8\" font-family=\"Helvetica,sans-Serif\" font-size=\"14.00\" fill=\"#000000\">gini = 0.0</text>\n<text text-anchor=\"start\" x=\"1823.5\" y=\"-37.8\" font-family=\"Helvetica,sans-Serif\" font-size=\"14.00\" fill=\"#000000\">samples = 4</text>\n<text text-anchor=\"start\" x=\"1821.5\" y=\"-22.8\" font-family=\"Helvetica,sans-Serif\" font-size=\"14.00\" fill=\"#000000\">value = [4, 0]</text>\n<text text-anchor=\"start\" x=\"1831.5\" y=\"-7.8\" font-family=\"Helvetica,sans-Serif\" font-size=\"14.00\" fill=\"#000000\">class = &#45;1</text>\n</g>\n<!-- 25&#45;&gt;27 -->\n<g id=\"edge27\" class=\"edge\">\n<title>25&#45;&gt;27</title>\n<path fill=\"none\" stroke=\"#000000\" d=\"M1810.2785,-103.9815C1817.0639,-94.9747 1824.2495,-85.4367 1831.0601,-76.3965\"/>\n<polygon fill=\"#000000\" stroke=\"#000000\" points=\"1833.9653,-78.3568 1837.187,-68.2637 1828.3743,-74.1448 1833.9653,-78.3568\"/>\n</g>\n<!-- 29 -->\n<g id=\"node30\" class=\"node\">\n<title>29</title>\n<path fill=\"#62b2ea\" stroke=\"#000000\" d=\"M2043,-68C2043,-68 1943,-68 1943,-68 1937,-68 1931,-62 1931,-56 1931,-56 1931,-12 1931,-12 1931,-6 1937,0 1943,0 1943,0 2043,0 2043,0 2049,0 2055,-6 2055,-12 2055,-12 2055,-56 2055,-56 2055,-62 2049,-68 2043,-68\"/>\n<text text-anchor=\"start\" x=\"1955\" y=\"-52.8\" font-family=\"Helvetica,sans-Serif\" font-size=\"14.00\" fill=\"#000000\">gini = 0.286</text>\n<text text-anchor=\"start\" x=\"1945\" y=\"-37.8\" font-family=\"Helvetica,sans-Serif\" font-size=\"14.00\" fill=\"#000000\">samples = 312</text>\n<text text-anchor=\"start\" x=\"1939\" y=\"-22.8\" font-family=\"Helvetica,sans-Serif\" font-size=\"14.00\" fill=\"#000000\">value = [54, 258]</text>\n<text text-anchor=\"start\" x=\"1964\" y=\"-7.8\" font-family=\"Helvetica,sans-Serif\" font-size=\"14.00\" fill=\"#000000\">class = 1</text>\n</g>\n<!-- 28&#45;&gt;29 -->\n<g id=\"edge29\" class=\"edge\">\n<title>28&#45;&gt;29</title>\n<path fill=\"none\" stroke=\"#000000\" d=\"M1993,-103.9815C1993,-95.618 1993,-86.7965 1993,-78.3409\"/>\n<polygon fill=\"#000000\" stroke=\"#000000\" points=\"1996.5001,-78.2636 1993,-68.2637 1989.5001,-78.2637 1996.5001,-78.2636\"/>\n</g>\n<!-- 30 -->\n<g id=\"node31\" class=\"node\">\n<title>30</title>\n<path fill=\"#c6e3f7\" stroke=\"#000000\" d=\"M2193,-68C2193,-68 2085,-68 2085,-68 2079,-68 2073,-62 2073,-56 2073,-56 2073,-12 2073,-12 2073,-6 2079,0 2085,0 2085,0 2193,0 2193,0 2199,0 2205,-6 2205,-12 2205,-12 2205,-56 2205,-56 2205,-62 2199,-68 2193,-68\"/>\n<text text-anchor=\"start\" x=\"2101\" y=\"-52.8\" font-family=\"Helvetica,sans-Serif\" font-size=\"14.00\" fill=\"#000000\">gini = 0.486</text>\n<text text-anchor=\"start\" x=\"2091\" y=\"-37.8\" font-family=\"Helvetica,sans-Serif\" font-size=\"14.00\" fill=\"#000000\">samples = 332</text>\n<text text-anchor=\"start\" x=\"2081\" y=\"-22.8\" font-family=\"Helvetica,sans-Serif\" font-size=\"14.00\" fill=\"#000000\">value = [138, 194]</text>\n<text text-anchor=\"start\" x=\"2110\" y=\"-7.8\" font-family=\"Helvetica,sans-Serif\" font-size=\"14.00\" fill=\"#000000\">class = 1</text>\n</g>\n<!-- 28&#45;&gt;30 -->\n<g id=\"edge30\" class=\"edge\">\n<title>28&#45;&gt;30</title>\n<path fill=\"none\" stroke=\"#000000\" d=\"M2047.365,-103.9815C2060.0011,-94.3313 2073.4356,-84.0714 2086.0115,-74.4673\"/>\n<polygon fill=\"#000000\" stroke=\"#000000\" points=\"2088.3114,-77.1148 2094.1346,-68.2637 2084.0628,-71.5515 2088.3114,-77.1148\"/>\n</g>\n</g>\n</svg>\n"
          },
          "metadata": {},
          "execution_count": 47
        }
      ],
      "source": [
        "dot_data = export_graphviz(tree_pred, out_file=None, \n",
        "                           feature_names=x_train.columns, \n",
        "                           class_names = classes,\n",
        "                         filled=True, rounded=True,\n",
        "                         special_characters=True)\n",
        "graph = graphviz.Source(dot_data)\n",
        "graph"
      ]
    },
    {
      "cell_type": "markdown",
      "metadata": {
        "id": "mfRFt2q4_sNN"
      },
      "source": [
        "## Búsqueda de hiperparámetros\n",
        "Utilizamos búsqueda con validación cruzada para encontrar el mejor conjunto de hiperparámetros, utilizando un conjunto acotado de valores"
      ]
    },
    {
      "cell_type": "code",
      "execution_count": null,
      "metadata": {
        "colab": {
          "base_uri": "https://localhost:8080/"
        },
        "outputId": "db8a88b3-7817-4830-87c7-7fe36756e1bf",
        "id": "vL2DSgbX_sNN"
      },
      "outputs": [
        {
          "output_type": "execute_result",
          "data": {
            "text/plain": [
              "GridSearchCV(estimator=DecisionTreeClassifier(),\n",
              "             param_grid=[{'max_depth': [None, 2, 3, 4, 5, 6, 7, 8, 9, 10, 11,\n",
              "                                        12, 13, 14, 15, 16, 17, 18, 19, 20, 21,\n",
              "                                        22, 23, 24, 25, 26, 27, 28, 29, 30, ...],\n",
              "                          'max_leaf_nodes': [2, 3, 4, 5, 6, 7, 8, 9],\n",
              "                          'min_samples_split': [2, 3, 4, 5, 6, 7, 8, 9, 10, 11,\n",
              "                                                12, 13, 14, 15, 16, 17, 18, 19,\n",
              "                                                20, 21, 22, 23, 24]},\n",
              "                         {'criterion': ['gini', 'entropy'],\n",
              "                          'max_features': ['auto', 'sqrt', 'log2']}])"
            ]
          },
          "metadata": {},
          "execution_count": 48
        }
      ],
      "source": [
        "params = [\n",
        "    {\n",
        "        'max_leaf_nodes': list(range(2, 10)), \n",
        "        'min_samples_split': list(range(2, 25)),\n",
        "        'max_depth': [None] + list(range(2, 50))\n",
        "    },\n",
        "    \n",
        "    {\n",
        "        'max_features': ['auto', 'sqrt', 'log2'],\n",
        "        'criterion' :['gini', 'entropy']\n",
        "    }\n",
        "]\n",
        "\n",
        "\n",
        "tree = DecisionTreeClassifier()\n",
        "clf = GridSearchCV(tree, params)\n",
        "clf.fit(X_train, y_train)"
      ]
    },
    {
      "cell_type": "code",
      "execution_count": null,
      "metadata": {
        "id": "Ntb2b7DG_sNP"
      },
      "outputs": [],
      "source": [
        "clf.cv_results_"
      ]
    },
    {
      "cell_type": "markdown",
      "metadata": {
        "id": "86CXOeMs_sNP"
      },
      "source": [
        "Podemos obtener los parámetros que obtuvieron el mejor resultado, así como la media de resultados obtenidos al relizar cross validation"
      ]
    },
    {
      "cell_type": "code",
      "execution_count": null,
      "metadata": {
        "colab": {
          "base_uri": "https://localhost:8080/"
        },
        "outputId": "a314249a-326d-452e-aad5-b0cfea1c04ca",
        "id": "nweApDc0_sNQ"
      },
      "outputs": [
        {
          "output_type": "execute_result",
          "data": {
            "text/plain": [
              "({'max_depth': None, 'max_leaf_nodes': 8, 'min_samples_split': 2},\n",
              " 0.7686241976943247)"
            ]
          },
          "metadata": {},
          "execution_count": 50
        }
      ],
      "source": [
        "clf.best_params_, clf.best_score_"
      ]
    },
    {
      "cell_type": "code",
      "execution_count": null,
      "metadata": {
        "colab": {
          "base_uri": "https://localhost:8080/"
        },
        "outputId": "a57ee389-6d52-4fa7-a349-fac1c3f7c47a",
        "id": "YmLSscC4_sNQ"
      },
      "outputs": [
        {
          "output_type": "execute_result",
          "data": {
            "text/plain": [
              "DecisionTreeClassifier(max_leaf_nodes=8)"
            ]
          },
          "metadata": {},
          "execution_count": 51
        }
      ],
      "source": [
        "best_tree = clf.best_estimator_\n",
        "\n",
        "best_tree\n",
        "scores.append((clf.best_score_, clf.best_estimator_))"
      ]
    },
    {
      "cell_type": "code",
      "execution_count": null,
      "metadata": {
        "colab": {
          "base_uri": "https://localhost:8080/"
        },
        "outputId": "62bf3f72-c958-4b68-faad-c2aed1145595",
        "id": "Uqz7cQvc_sNQ"
      },
      "outputs": [
        {
          "output_type": "execute_result",
          "data": {
            "text/plain": [
              "(0.7866589994249569, 0.7866589994249569)"
            ]
          },
          "metadata": {},
          "execution_count": 52
        }
      ],
      "source": [
        "# accuracy_score\n",
        "eval(best_tree, X_test, y_test)"
      ]
    },
    {
      "cell_type": "code",
      "execution_count": null,
      "metadata": {
        "colab": {
          "base_uri": "https://localhost:8080/",
          "height": 917
        },
        "outputId": "a11dc82c-bb6e-486a-8aad-cc50d44654b4",
        "id": "l8uKTMCy_sNR"
      },
      "outputs": [
        {
          "output_type": "execute_result",
          "data": {
            "text/plain": [
              "<graphviz.files.Source at 0x7f38530bcd50>"
            ],
            "image/svg+xml": "<?xml version=\"1.0\" encoding=\"UTF-8\" standalone=\"no\"?>\n<!DOCTYPE svg PUBLIC \"-//W3C//DTD SVG 1.1//EN\"\n \"http://www.w3.org/Graphics/SVG/1.1/DTD/svg11.dtd\">\n<!-- Generated by graphviz version 2.40.1 (20161225.0304)\n -->\n<!-- Title: Tree Pages: 1 -->\n<svg width=\"910pt\" height=\"671pt\"\n viewBox=\"0.00 0.00 910.00 671.00\" xmlns=\"http://www.w3.org/2000/svg\" xmlns:xlink=\"http://www.w3.org/1999/xlink\">\n<g id=\"graph0\" class=\"graph\" transform=\"scale(1 1) rotate(0) translate(4 667)\">\n<title>Tree</title>\n<polygon fill=\"#ffffff\" stroke=\"transparent\" points=\"-4,4 -4,-667 906,-667 906,4 -4,4\"/>\n<!-- 0 -->\n<g id=\"node1\" class=\"node\">\n<title>0</title>\n<path fill=\"#fffefe\" stroke=\"#000000\" d=\"M664.5,-663C664.5,-663 539.5,-663 539.5,-663 533.5,-663 527.5,-657 527.5,-651 527.5,-651 527.5,-592 527.5,-592 527.5,-586 533.5,-580 539.5,-580 539.5,-580 664.5,-580 664.5,-580 670.5,-580 676.5,-586 676.5,-592 676.5,-592 676.5,-651 676.5,-651 676.5,-657 670.5,-663 664.5,-663\"/>\n<text text-anchor=\"start\" x=\"550\" y=\"-647.8\" font-family=\"Helvetica,sans-Serif\" font-size=\"14.00\" fill=\"#000000\">CryoSleep ≤ 0.5</text>\n<text text-anchor=\"start\" x=\"572.5\" y=\"-632.8\" font-family=\"Helvetica,sans-Serif\" font-size=\"14.00\" fill=\"#000000\">gini = 0.5</text>\n<text text-anchor=\"start\" x=\"550\" y=\"-617.8\" font-family=\"Helvetica,sans-Serif\" font-size=\"14.00\" fill=\"#000000\">samples = 6954</text>\n<text text-anchor=\"start\" x=\"535.5\" y=\"-602.8\" font-family=\"Helvetica,sans-Serif\" font-size=\"14.00\" fill=\"#000000\">value = [3485, 3469]</text>\n<text text-anchor=\"start\" x=\"570.5\" y=\"-587.8\" font-family=\"Helvetica,sans-Serif\" font-size=\"14.00\" fill=\"#000000\">class = &#45;1</text>\n</g>\n<!-- 1 -->\n<g id=\"node2\" class=\"node\">\n<title>1</title>\n<path fill=\"#f2c09c\" stroke=\"#000000\" d=\"M576,-544C576,-544 444,-544 444,-544 438,-544 432,-538 432,-532 432,-532 432,-473 432,-473 432,-467 438,-461 444,-461 444,-461 576,-461 576,-461 582,-461 588,-467 588,-473 588,-473 588,-532 588,-532 588,-538 582,-544 576,-544\"/>\n<text text-anchor=\"start\" x=\"440\" y=\"-528.8\" font-family=\"Helvetica,sans-Serif\" font-size=\"14.00\" fill=\"#000000\">RoomService ≤ 0.186</text>\n<text text-anchor=\"start\" x=\"472\" y=\"-513.8\" font-family=\"Helvetica,sans-Serif\" font-size=\"14.00\" fill=\"#000000\">gini = 0.445</text>\n<text text-anchor=\"start\" x=\"458\" y=\"-498.8\" font-family=\"Helvetica,sans-Serif\" font-size=\"14.00\" fill=\"#000000\">samples = 4548</text>\n<text text-anchor=\"start\" x=\"443.5\" y=\"-483.8\" font-family=\"Helvetica,sans-Serif\" font-size=\"14.00\" fill=\"#000000\">value = [3028, 1520]</text>\n<text text-anchor=\"start\" x=\"478.5\" y=\"-468.8\" font-family=\"Helvetica,sans-Serif\" font-size=\"14.00\" fill=\"#000000\">class = &#45;1</text>\n</g>\n<!-- 0&#45;&gt;1 -->\n<g id=\"edge1\" class=\"edge\">\n<title>0&#45;&gt;1</title>\n<path fill=\"none\" stroke=\"#000000\" d=\"M569.8229,-579.8796C562.9296,-570.9633 555.5798,-561.4565 548.4761,-552.268\"/>\n<polygon fill=\"#000000\" stroke=\"#000000\" points=\"551.1999,-550.0687 542.3145,-544.2981 545.6619,-554.3502 551.1999,-550.0687\"/>\n<text text-anchor=\"middle\" x=\"539.1413\" y=\"-565.3959\" font-family=\"Helvetica,sans-Serif\" font-size=\"14.00\" fill=\"#000000\">True</text>\n</g>\n<!-- 2 -->\n<g id=\"node13\" class=\"node\">\n<title>2</title>\n<path fill=\"#67b4eb\" stroke=\"#000000\" d=\"M769.5,-544C769.5,-544 618.5,-544 618.5,-544 612.5,-544 606.5,-538 606.5,-532 606.5,-532 606.5,-473 606.5,-473 606.5,-467 612.5,-461 618.5,-461 618.5,-461 769.5,-461 769.5,-461 775.5,-461 781.5,-467 781.5,-473 781.5,-473 781.5,-532 781.5,-532 781.5,-538 775.5,-544 769.5,-544\"/>\n<text text-anchor=\"start\" x=\"614.5\" y=\"-528.8\" font-family=\"Helvetica,sans-Serif\" font-size=\"14.00\" fill=\"#000000\">HomePlanet_Earth ≤ 0.5</text>\n<text text-anchor=\"start\" x=\"656\" y=\"-513.8\" font-family=\"Helvetica,sans-Serif\" font-size=\"14.00\" fill=\"#000000\">gini = 0.308</text>\n<text text-anchor=\"start\" x=\"642\" y=\"-498.8\" font-family=\"Helvetica,sans-Serif\" font-size=\"14.00\" fill=\"#000000\">samples = 2406</text>\n<text text-anchor=\"start\" x=\"632\" y=\"-483.8\" font-family=\"Helvetica,sans-Serif\" font-size=\"14.00\" fill=\"#000000\">value = [457, 1949]</text>\n<text text-anchor=\"start\" x=\"665\" y=\"-468.8\" font-family=\"Helvetica,sans-Serif\" font-size=\"14.00\" fill=\"#000000\">class = 1</text>\n</g>\n<!-- 0&#45;&gt;2 -->\n<g id=\"edge12\" class=\"edge\">\n<title>0&#45;&gt;2</title>\n<path fill=\"none\" stroke=\"#000000\" d=\"M634.1771,-579.8796C641.0704,-570.9633 648.4202,-561.4565 655.5239,-552.268\"/>\n<polygon fill=\"#000000\" stroke=\"#000000\" points=\"658.3381,-554.3502 661.6855,-544.2981 652.8001,-550.0687 658.3381,-554.3502\"/>\n<text text-anchor=\"middle\" x=\"664.8587\" y=\"-565.3959\" font-family=\"Helvetica,sans-Serif\" font-size=\"14.00\" fill=\"#000000\">False</text>\n</g>\n<!-- 5 -->\n<g id=\"node3\" class=\"node\">\n<title>5</title>\n<path fill=\"#f6d3ba\" stroke=\"#000000\" d=\"M422.5,-425C422.5,-425 297.5,-425 297.5,-425 291.5,-425 285.5,-419 285.5,-413 285.5,-413 285.5,-354 285.5,-354 285.5,-348 291.5,-342 297.5,-342 297.5,-342 422.5,-342 422.5,-342 428.5,-342 434.5,-348 434.5,-354 434.5,-354 434.5,-413 434.5,-413 434.5,-419 428.5,-425 422.5,-425\"/>\n<text text-anchor=\"start\" x=\"318.5\" y=\"-409.8\" font-family=\"Helvetica,sans-Serif\" font-size=\"14.00\" fill=\"#000000\">Spa ≤ &#45;0.088</text>\n<text text-anchor=\"start\" x=\"322\" y=\"-394.8\" font-family=\"Helvetica,sans-Serif\" font-size=\"14.00\" fill=\"#000000\">gini = 0.478</text>\n<text text-anchor=\"start\" x=\"308\" y=\"-379.8\" font-family=\"Helvetica,sans-Serif\" font-size=\"14.00\" fill=\"#000000\">samples = 3418</text>\n<text text-anchor=\"start\" x=\"293.5\" y=\"-364.8\" font-family=\"Helvetica,sans-Serif\" font-size=\"14.00\" fill=\"#000000\">value = [2071, 1347]</text>\n<text text-anchor=\"start\" x=\"328.5\" y=\"-349.8\" font-family=\"Helvetica,sans-Serif\" font-size=\"14.00\" fill=\"#000000\">class = &#45;1</text>\n</g>\n<!-- 1&#45;&gt;5 -->\n<g id=\"edge2\" class=\"edge\">\n<title>1&#45;&gt;5</title>\n<path fill=\"none\" stroke=\"#000000\" d=\"M457.5373,-460.8796C445.5479,-451.368 432.7113,-441.1843 420.4184,-431.432\"/>\n<polygon fill=\"#000000\" stroke=\"#000000\" points=\"422.4425,-428.5701 412.4331,-425.0969 418.0919,-434.054 422.4425,-428.5701\"/>\n</g>\n<!-- 6 -->\n<g id=\"node12\" class=\"node\">\n<title>6</title>\n<path fill=\"#ea985d\" stroke=\"#000000\" d=\"M573,-417.5C573,-417.5 465,-417.5 465,-417.5 459,-417.5 453,-411.5 453,-405.5 453,-405.5 453,-361.5 453,-361.5 453,-355.5 459,-349.5 465,-349.5 465,-349.5 573,-349.5 573,-349.5 579,-349.5 585,-355.5 585,-361.5 585,-361.5 585,-405.5 585,-405.5 585,-411.5 579,-417.5 573,-417.5\"/>\n<text text-anchor=\"start\" x=\"481\" y=\"-402.3\" font-family=\"Helvetica,sans-Serif\" font-size=\"14.00\" fill=\"#000000\">gini = 0.259</text>\n<text text-anchor=\"start\" x=\"467\" y=\"-387.3\" font-family=\"Helvetica,sans-Serif\" font-size=\"14.00\" fill=\"#000000\">samples = 1130</text>\n<text text-anchor=\"start\" x=\"461\" y=\"-372.3\" font-family=\"Helvetica,sans-Serif\" font-size=\"14.00\" fill=\"#000000\">value = [957, 173]</text>\n<text text-anchor=\"start\" x=\"487.5\" y=\"-357.3\" font-family=\"Helvetica,sans-Serif\" font-size=\"14.00\" fill=\"#000000\">class = &#45;1</text>\n</g>\n<!-- 1&#45;&gt;6 -->\n<g id=\"edge11\" class=\"edge\">\n<title>1&#45;&gt;6</title>\n<path fill=\"none\" stroke=\"#000000\" d=\"M513.1478,-460.8796C513.9545,-450.2134 514.8251,-438.7021 515.6419,-427.9015\"/>\n<polygon fill=\"#000000\" stroke=\"#000000\" points=\"519.1405,-428.0504 516.4048,-417.8149 512.1605,-427.5225 519.1405,-428.0504\"/>\n</g>\n<!-- 7 -->\n<g id=\"node4\" class=\"node\">\n<title>7</title>\n<path fill=\"#fefcfa\" stroke=\"#000000\" d=\"M343.5,-306C343.5,-306 218.5,-306 218.5,-306 212.5,-306 206.5,-300 206.5,-294 206.5,-294 206.5,-235 206.5,-235 206.5,-229 212.5,-223 218.5,-223 218.5,-223 343.5,-223 343.5,-223 349.5,-223 355.5,-229 355.5,-235 355.5,-235 355.5,-294 355.5,-294 355.5,-300 349.5,-306 343.5,-306\"/>\n<text text-anchor=\"start\" x=\"228\" y=\"-290.8\" font-family=\"Helvetica,sans-Serif\" font-size=\"14.00\" fill=\"#000000\">VRDeck ≤ 0.029</text>\n<text text-anchor=\"start\" x=\"251.5\" y=\"-275.8\" font-family=\"Helvetica,sans-Serif\" font-size=\"14.00\" fill=\"#000000\">gini = 0.5</text>\n<text text-anchor=\"start\" x=\"229\" y=\"-260.8\" font-family=\"Helvetica,sans-Serif\" font-size=\"14.00\" fill=\"#000000\">samples = 2293</text>\n<text text-anchor=\"start\" x=\"214.5\" y=\"-245.8\" font-family=\"Helvetica,sans-Serif\" font-size=\"14.00\" fill=\"#000000\">value = [1161, 1132]</text>\n<text text-anchor=\"start\" x=\"249.5\" y=\"-230.8\" font-family=\"Helvetica,sans-Serif\" font-size=\"14.00\" fill=\"#000000\">class = &#45;1</text>\n</g>\n<!-- 5&#45;&gt;7 -->\n<g id=\"edge3\" class=\"edge\">\n<title>5&#45;&gt;7</title>\n<path fill=\"none\" stroke=\"#000000\" d=\"M332.3696,-341.8796C326.57,-333.1434 320.3941,-323.8404 314.4092,-314.8253\"/>\n<polygon fill=\"#000000\" stroke=\"#000000\" points=\"317.1951,-312.6935 308.7483,-306.2981 311.3632,-316.5652 317.1951,-312.6935\"/>\n</g>\n<!-- 8 -->\n<g id=\"node11\" class=\"node\">\n<title>8</title>\n<path fill=\"#eb9f68\" stroke=\"#000000\" d=\"M494,-298.5C494,-298.5 386,-298.5 386,-298.5 380,-298.5 374,-292.5 374,-286.5 374,-286.5 374,-242.5 374,-242.5 374,-236.5 380,-230.5 386,-230.5 386,-230.5 494,-230.5 494,-230.5 500,-230.5 506,-236.5 506,-242.5 506,-242.5 506,-286.5 506,-286.5 506,-292.5 500,-298.5 494,-298.5\"/>\n<text text-anchor=\"start\" x=\"402\" y=\"-283.3\" font-family=\"Helvetica,sans-Serif\" font-size=\"14.00\" fill=\"#000000\">gini = 0.309</text>\n<text text-anchor=\"start\" x=\"388\" y=\"-268.3\" font-family=\"Helvetica,sans-Serif\" font-size=\"14.00\" fill=\"#000000\">samples = 1125</text>\n<text text-anchor=\"start\" x=\"382\" y=\"-253.3\" font-family=\"Helvetica,sans-Serif\" font-size=\"14.00\" fill=\"#000000\">value = [910, 215]</text>\n<text text-anchor=\"start\" x=\"408.5\" y=\"-238.3\" font-family=\"Helvetica,sans-Serif\" font-size=\"14.00\" fill=\"#000000\">class = &#45;1</text>\n</g>\n<!-- 5&#45;&gt;8 -->\n<g id=\"edge10\" class=\"edge\">\n<title>5&#45;&gt;8</title>\n<path fill=\"none\" stroke=\"#000000\" d=\"M387.9801,-341.8796C395.5203,-330.6636 403.6887,-318.5131 411.2691,-307.2372\"/>\n<polygon fill=\"#000000\" stroke=\"#000000\" points=\"414.2566,-309.0667 416.9311,-298.8149 408.4473,-305.1612 414.2566,-309.0667\"/>\n</g>\n<!-- 9 -->\n<g id=\"node5\" class=\"node\">\n<title>9</title>\n<path fill=\"#b8dcf6\" stroke=\"#000000\" d=\"M260.5,-187C260.5,-187 147.5,-187 147.5,-187 141.5,-187 135.5,-181 135.5,-175 135.5,-175 135.5,-116 135.5,-116 135.5,-110 141.5,-104 147.5,-104 147.5,-104 260.5,-104 260.5,-104 266.5,-104 272.5,-110 272.5,-116 272.5,-116 272.5,-175 272.5,-175 272.5,-181 266.5,-187 260.5,-187\"/>\n<text text-anchor=\"start\" x=\"143.5\" y=\"-171.8\" font-family=\"Helvetica,sans-Serif\" font-size=\"14.00\" fill=\"#000000\">FoodCourt ≤ 0.945</text>\n<text text-anchor=\"start\" x=\"166\" y=\"-156.8\" font-family=\"Helvetica,sans-Serif\" font-size=\"14.00\" fill=\"#000000\">gini = 0.476</text>\n<text text-anchor=\"start\" x=\"152\" y=\"-141.8\" font-family=\"Helvetica,sans-Serif\" font-size=\"14.00\" fill=\"#000000\">samples = 1612</text>\n<text text-anchor=\"start\" x=\"146\" y=\"-126.8\" font-family=\"Helvetica,sans-Serif\" font-size=\"14.00\" fill=\"#000000\">value = [631, 981]</text>\n<text text-anchor=\"start\" x=\"175\" y=\"-111.8\" font-family=\"Helvetica,sans-Serif\" font-size=\"14.00\" fill=\"#000000\">class = 1</text>\n</g>\n<!-- 7&#45;&gt;9 -->\n<g id=\"edge4\" class=\"edge\">\n<title>7&#45;&gt;9</title>\n<path fill=\"none\" stroke=\"#000000\" d=\"M254.0691,-222.8796C248.4163,-214.1434 242.3967,-204.8404 236.5634,-195.8253\"/>\n<polygon fill=\"#000000\" stroke=\"#000000\" points=\"239.4169,-193.7924 231.0458,-187.2981 233.5399,-197.5952 239.4169,-193.7924\"/>\n</g>\n<!-- 10 -->\n<g id=\"node8\" class=\"node\">\n<title>10</title>\n<path fill=\"#eca571\" stroke=\"#000000\" d=\"M415.5,-187C415.5,-187 302.5,-187 302.5,-187 296.5,-187 290.5,-181 290.5,-175 290.5,-175 290.5,-116 290.5,-116 290.5,-110 296.5,-104 302.5,-104 302.5,-104 415.5,-104 415.5,-104 421.5,-104 427.5,-110 427.5,-116 427.5,-116 427.5,-175 427.5,-175 427.5,-181 421.5,-187 415.5,-187\"/>\n<text text-anchor=\"start\" x=\"298.5\" y=\"-171.8\" font-family=\"Helvetica,sans-Serif\" font-size=\"14.00\" fill=\"#000000\">FoodCourt ≤ 1.515</text>\n<text text-anchor=\"start\" x=\"321\" y=\"-156.8\" font-family=\"Helvetica,sans-Serif\" font-size=\"14.00\" fill=\"#000000\">gini = 0.345</text>\n<text text-anchor=\"start\" x=\"311\" y=\"-141.8\" font-family=\"Helvetica,sans-Serif\" font-size=\"14.00\" fill=\"#000000\">samples = 681</text>\n<text text-anchor=\"start\" x=\"301\" y=\"-126.8\" font-family=\"Helvetica,sans-Serif\" font-size=\"14.00\" fill=\"#000000\">value = [530, 151]</text>\n<text text-anchor=\"start\" x=\"327.5\" y=\"-111.8\" font-family=\"Helvetica,sans-Serif\" font-size=\"14.00\" fill=\"#000000\">class = &#45;1</text>\n</g>\n<!-- 7&#45;&gt;10 -->\n<g id=\"edge7\" class=\"edge\">\n<title>7&#45;&gt;10</title>\n<path fill=\"none\" stroke=\"#000000\" d=\"M308.2806,-222.8796C314.0068,-214.1434 320.1046,-204.8404 326.0137,-195.8253\"/>\n<polygon fill=\"#000000\" stroke=\"#000000\" points=\"329.0482,-197.5803 331.6029,-187.2981 323.1937,-193.7429 329.0482,-197.5803\"/>\n</g>\n<!-- 13 -->\n<g id=\"node6\" class=\"node\">\n<title>13</title>\n<path fill=\"#cae5f8\" stroke=\"#000000\" d=\"M120,-68C120,-68 12,-68 12,-68 6,-68 0,-62 0,-56 0,-56 0,-12 0,-12 0,-6 6,0 12,0 12,0 120,0 120,0 126,0 132,-6 132,-12 132,-12 132,-56 132,-56 132,-62 126,-68 120,-68\"/>\n<text text-anchor=\"start\" x=\"28\" y=\"-52.8\" font-family=\"Helvetica,sans-Serif\" font-size=\"14.00\" fill=\"#000000\">gini = 0.488</text>\n<text text-anchor=\"start\" x=\"14\" y=\"-37.8\" font-family=\"Helvetica,sans-Serif\" font-size=\"14.00\" fill=\"#000000\">samples = 1490</text>\n<text text-anchor=\"start\" x=\"8\" y=\"-22.8\" font-family=\"Helvetica,sans-Serif\" font-size=\"14.00\" fill=\"#000000\">value = [630, 860]</text>\n<text text-anchor=\"start\" x=\"37\" y=\"-7.8\" font-family=\"Helvetica,sans-Serif\" font-size=\"14.00\" fill=\"#000000\">class = 1</text>\n</g>\n<!-- 9&#45;&gt;13 -->\n<g id=\"edge5\" class=\"edge\">\n<title>9&#45;&gt;13</title>\n<path fill=\"none\" stroke=\"#000000\" d=\"M152.6139,-103.9815C140.7839,-94.4232 128.2136,-84.2668 116.4249,-74.7419\"/>\n<polygon fill=\"#000000\" stroke=\"#000000\" points=\"118.3851,-71.826 108.4071,-68.2637 113.9858,-77.2708 118.3851,-71.826\"/>\n</g>\n<!-- 14 -->\n<g id=\"node7\" class=\"node\">\n<title>14</title>\n<path fill=\"#3b9ee5\" stroke=\"#000000\" d=\"M254,-68C254,-68 162,-68 162,-68 156,-68 150,-62 150,-56 150,-56 150,-12 150,-12 150,-6 156,0 162,0 162,0 254,0 254,0 260,0 266,-6 266,-12 266,-12 266,-56 266,-56 266,-62 260,-68 254,-68\"/>\n<text text-anchor=\"start\" x=\"170\" y=\"-52.8\" font-family=\"Helvetica,sans-Serif\" font-size=\"14.00\" fill=\"#000000\">gini = 0.016</text>\n<text text-anchor=\"start\" x=\"160\" y=\"-37.8\" font-family=\"Helvetica,sans-Serif\" font-size=\"14.00\" fill=\"#000000\">samples = 122</text>\n<text text-anchor=\"start\" x=\"158\" y=\"-22.8\" font-family=\"Helvetica,sans-Serif\" font-size=\"14.00\" fill=\"#000000\">value = [1, 121]</text>\n<text text-anchor=\"start\" x=\"179\" y=\"-7.8\" font-family=\"Helvetica,sans-Serif\" font-size=\"14.00\" fill=\"#000000\">class = 1</text>\n</g>\n<!-- 9&#45;&gt;14 -->\n<g id=\"edge6\" class=\"edge\">\n<title>9&#45;&gt;14</title>\n<path fill=\"none\" stroke=\"#000000\" d=\"M205.4895,-103.9815C205.7895,-95.618 206.106,-86.7965 206.4093,-78.3409\"/>\n<polygon fill=\"#000000\" stroke=\"#000000\" points=\"209.91,-78.3828 206.7708,-68.2637 202.9145,-78.1317 209.91,-78.3828\"/>\n</g>\n<!-- 11 -->\n<g id=\"node9\" class=\"node\">\n<title>11</title>\n<path fill=\"#ea9a60\" stroke=\"#000000\" d=\"M410,-68C410,-68 302,-68 302,-68 296,-68 290,-62 290,-56 290,-56 290,-12 290,-12 290,-6 296,0 302,0 302,0 410,0 410,0 416,0 422,-6 422,-12 422,-12 422,-56 422,-56 422,-62 416,-68 410,-68\"/>\n<text text-anchor=\"start\" x=\"318\" y=\"-52.8\" font-family=\"Helvetica,sans-Serif\" font-size=\"14.00\" fill=\"#000000\">gini = 0.274</text>\n<text text-anchor=\"start\" x=\"308\" y=\"-37.8\" font-family=\"Helvetica,sans-Serif\" font-size=\"14.00\" fill=\"#000000\">samples = 611</text>\n<text text-anchor=\"start\" x=\"298\" y=\"-22.8\" font-family=\"Helvetica,sans-Serif\" font-size=\"14.00\" fill=\"#000000\">value = [511, 100]</text>\n<text text-anchor=\"start\" x=\"324.5\" y=\"-7.8\" font-family=\"Helvetica,sans-Serif\" font-size=\"14.00\" fill=\"#000000\">class = &#45;1</text>\n</g>\n<!-- 10&#45;&gt;11 -->\n<g id=\"edge8\" class=\"edge\">\n<title>10&#45;&gt;11</title>\n<path fill=\"none\" stroke=\"#000000\" d=\"M357.8829,-103.9815C357.6579,-95.618 357.4205,-86.7965 357.193,-78.3409\"/>\n<polygon fill=\"#000000\" stroke=\"#000000\" points=\"360.6897,-78.1659 356.9219,-68.2637 353.6922,-78.3542 360.6897,-78.1659\"/>\n</g>\n<!-- 12 -->\n<g id=\"node10\" class=\"node\">\n<title>12</title>\n<path fill=\"#83c2ef\" stroke=\"#000000\" d=\"M544,-68C544,-68 452,-68 452,-68 446,-68 440,-62 440,-56 440,-56 440,-12 440,-12 440,-6 446,0 452,0 452,0 544,0 544,0 550,0 556,-6 556,-12 556,-12 556,-56 556,-56 556,-62 550,-68 544,-68\"/>\n<text text-anchor=\"start\" x=\"460\" y=\"-52.8\" font-family=\"Helvetica,sans-Serif\" font-size=\"14.00\" fill=\"#000000\">gini = 0.396</text>\n<text text-anchor=\"start\" x=\"454\" y=\"-37.8\" font-family=\"Helvetica,sans-Serif\" font-size=\"14.00\" fill=\"#000000\">samples = 70</text>\n<text text-anchor=\"start\" x=\"448\" y=\"-22.8\" font-family=\"Helvetica,sans-Serif\" font-size=\"14.00\" fill=\"#000000\">value = [19, 51]</text>\n<text text-anchor=\"start\" x=\"469\" y=\"-7.8\" font-family=\"Helvetica,sans-Serif\" font-size=\"14.00\" fill=\"#000000\">class = 1</text>\n</g>\n<!-- 10&#45;&gt;12 -->\n<g id=\"edge9\" class=\"edge\">\n<title>10&#45;&gt;12</title>\n<path fill=\"none\" stroke=\"#000000\" d=\"M410.7585,-103.9815C422.6742,-94.4232 435.3356,-84.2668 447.2097,-74.7419\"/>\n<polygon fill=\"#000000\" stroke=\"#000000\" points=\"449.6752,-77.2511 455.2856,-68.2637 445.2951,-71.7907 449.6752,-77.2511\"/>\n</g>\n<!-- 3 -->\n<g id=\"node14\" class=\"node\">\n<title>3</title>\n<path fill=\"#44a2e6\" stroke=\"#000000\" d=\"M740,-417.5C740,-417.5 632,-417.5 632,-417.5 626,-417.5 620,-411.5 620,-405.5 620,-405.5 620,-361.5 620,-361.5 620,-355.5 626,-349.5 632,-349.5 632,-349.5 740,-349.5 740,-349.5 746,-349.5 752,-355.5 752,-361.5 752,-361.5 752,-405.5 752,-405.5 752,-411.5 746,-417.5 740,-417.5\"/>\n<text text-anchor=\"start\" x=\"648\" y=\"-402.3\" font-family=\"Helvetica,sans-Serif\" font-size=\"14.00\" fill=\"#000000\">gini = 0.098</text>\n<text text-anchor=\"start\" x=\"634\" y=\"-387.3\" font-family=\"Helvetica,sans-Serif\" font-size=\"14.00\" fill=\"#000000\">samples = 1318</text>\n<text text-anchor=\"start\" x=\"628\" y=\"-372.3\" font-family=\"Helvetica,sans-Serif\" font-size=\"14.00\" fill=\"#000000\">value = [68, 1250]</text>\n<text text-anchor=\"start\" x=\"657\" y=\"-357.3\" font-family=\"Helvetica,sans-Serif\" font-size=\"14.00\" fill=\"#000000\">class = 1</text>\n</g>\n<!-- 2&#45;&gt;3 -->\n<g id=\"edge13\" class=\"edge\">\n<title>2&#45;&gt;3</title>\n<path fill=\"none\" stroke=\"#000000\" d=\"M691.202,-460.8796C690.4849,-450.2134 689.7111,-438.7021 688.985,-427.9015\"/>\n<polygon fill=\"#000000\" stroke=\"#000000\" points=\"692.4699,-427.5576 688.3069,-417.8149 685.4856,-428.0272 692.4699,-427.5576\"/>\n</g>\n<!-- 4 -->\n<g id=\"node15\" class=\"node\">\n<title>4</title>\n<path fill=\"#a7d4f3\" stroke=\"#000000\" d=\"M890,-417.5C890,-417.5 782,-417.5 782,-417.5 776,-417.5 770,-411.5 770,-405.5 770,-405.5 770,-361.5 770,-361.5 770,-355.5 776,-349.5 782,-349.5 782,-349.5 890,-349.5 890,-349.5 896,-349.5 902,-355.5 902,-361.5 902,-361.5 902,-405.5 902,-405.5 902,-411.5 896,-417.5 890,-417.5\"/>\n<text text-anchor=\"start\" x=\"798\" y=\"-402.3\" font-family=\"Helvetica,sans-Serif\" font-size=\"14.00\" fill=\"#000000\">gini = 0.459</text>\n<text text-anchor=\"start\" x=\"784\" y=\"-387.3\" font-family=\"Helvetica,sans-Serif\" font-size=\"14.00\" fill=\"#000000\">samples = 1088</text>\n<text text-anchor=\"start\" x=\"778\" y=\"-372.3\" font-family=\"Helvetica,sans-Serif\" font-size=\"14.00\" fill=\"#000000\">value = [389, 699]</text>\n<text text-anchor=\"start\" x=\"807\" y=\"-357.3\" font-family=\"Helvetica,sans-Serif\" font-size=\"14.00\" fill=\"#000000\">class = 1</text>\n</g>\n<!-- 2&#45;&gt;4 -->\n<g id=\"edge14\" class=\"edge\">\n<title>2&#45;&gt;4</title>\n<path fill=\"none\" stroke=\"#000000\" d=\"M743.6647,-460.8796C757.8358,-449.0038 773.257,-436.0804 787.3658,-424.2568\"/>\n<polygon fill=\"#000000\" stroke=\"#000000\" points=\"789.6363,-426.9206 795.0528,-417.8149 785.1402,-421.5554 789.6363,-426.9206\"/>\n</g>\n</g>\n</svg>\n"
          },
          "metadata": {},
          "execution_count": 53
        }
      ],
      "source": [
        "dot_data = export_graphviz(best_tree, out_file=None, \n",
        "                           feature_names=x_train.columns, \n",
        "                           class_names = class_names(best_tree),\n",
        "                         filled=True, rounded=True,\n",
        "                         special_characters=True)\n",
        "graph = graphviz.Source(dot_data)\n",
        "graph"
      ]
    },
    {
      "cell_type": "markdown",
      "metadata": {
        "id": "Mlhr_gRr_sNR"
      },
      "source": [
        "### Performance"
      ]
    },
    {
      "cell_type": "markdown",
      "metadata": {
        "id": "WPjHZoLT_sNS"
      },
      "source": [
        "#### Confusion matrix"
      ]
    },
    {
      "cell_type": "code",
      "execution_count": null,
      "metadata": {
        "colab": {
          "base_uri": "https://localhost:8080/",
          "height": 1000
        },
        "outputId": "240991e4-1488-4134-d4a6-4fbaeb1da9d4",
        "id": "Y10ENcCc_sNS"
      },
      "outputs": [
        {
          "output_type": "display_data",
          "data": {
            "text/plain": [
              "<Figure size 1152x1440 with 2 Axes>"
            ],
            "image/png": "[encoded data removed]"
          },
          "metadata": {
            "needs_background": "light"
          }
        }
      ],
      "source": [
        "# Obtenemos un conjunto de predicciones para comparar con los valores objetivos\n",
        "# Usamos los conjuntos de entrenamiento (no los de test)\n",
        "y_train_pred = cross_val_predict(best_tree, X_train, y_train, cv= 3)\n",
        "\n",
        "cm = confusion_matrix(y_train, y_train_pred)\n",
        "disp = ConfusionMatrixDisplay(confusion_matrix=cm, display_labels=class_names(best_tree))\n",
        "p = disp.plot()\n"
      ]
    },
    {
      "cell_type": "markdown",
      "metadata": {
        "id": "PkfRpuTA_sNS"
      },
      "source": [
        "#### Recall\n",
        "¿Cuál es el total de predicciones positivas que fueron clasificadas correctamente? Es decir, que porcentaje de personas transportadas fué reconocido como tal."
      ]
    },
    {
      "cell_type": "code",
      "execution_count": null,
      "metadata": {
        "colab": {
          "base_uri": "https://localhost:8080/"
        },
        "outputId": "c99aeb58-89e6-4e89-d1ef-1d433d9c4eca",
        "id": "LbXzcUvz_sNT"
      },
      "outputs": [
        {
          "output_type": "execute_result",
          "data": {
            "text/plain": [
              "0.832228307869703"
            ]
          },
          "metadata": {},
          "execution_count": 55
        }
      ],
      "source": [
        "recall_score(y_train, y_train_pred)"
      ]
    },
    {
      "cell_type": "markdown",
      "metadata": {
        "id": "zQj3ASQv_sNT"
      },
      "source": [
        "#### Precisión\n",
        "¿ Cuál es el porcentaje de positivos verdaderos? De aquellas personas que fueron identificadas como transportadas, ¿Qué porcentaje es verdadero?"
      ]
    },
    {
      "cell_type": "code",
      "execution_count": null,
      "metadata": {
        "colab": {
          "base_uri": "https://localhost:8080/"
        },
        "outputId": "2997a6a4-c5cf-44b5-e1a8-deb9ddd966a1",
        "id": "RYx6cWK1_sNT"
      },
      "outputs": [
        {
          "output_type": "execute_result",
          "data": {
            "text/plain": [
              "0.7284885187988898"
            ]
          },
          "metadata": {},
          "execution_count": 56
        }
      ],
      "source": [
        "precision_score(y_train, y_train_pred)"
      ]
    },
    {
      "cell_type": "code",
      "execution_count": null,
      "metadata": {
        "id": "-pJbgMeO_sNU"
      },
      "outputs": [],
      "source": [
        "X_train, X_test, y_train, y_test = train_test_split(x_train.values, y.values, test_size=0.33, random_state=42)"
      ]
    },
    {
      "cell_type": "code",
      "execution_count": null,
      "metadata": {
        "colab": {
          "base_uri": "https://localhost:8080/"
        },
        "outputId": "a742d130-f55c-454f-c443-5660d58a5f5d",
        "id": "eXgQFlGF_sNU"
      },
      "outputs": [
        {
          "output_type": "execute_result",
          "data": {
            "text/plain": [
              "((4659, 18), (2295, 18))"
            ]
          },
          "metadata": {},
          "execution_count": 58
        }
      ],
      "source": [
        "X_train.shape, X_test.shape"
      ]
    },
    {
      "cell_type": "code",
      "execution_count": null,
      "metadata": {
        "colab": {
          "base_uri": "https://localhost:8080/"
        },
        "outputId": "fedf2159-ff52-4dc6-c0fc-0f4be8a905c9",
        "id": "WsM0f-CY_sNU"
      },
      "outputs": [
        {
          "output_type": "execute_result",
          "data": {
            "text/plain": [
              "((4659,), (2295,))"
            ]
          },
          "metadata": {},
          "execution_count": 59
        }
      ],
      "source": [
        "y_train.shape, y_test.shape"
      ]
    },
    {
      "cell_type": "code",
      "execution_count": null,
      "metadata": {
        "id": "bdoNL8by_sNU"
      },
      "outputs": [],
      "source": [
        "X = X_train\n",
        "y = y_train"
      ]
    },
    {
      "cell_type": "code",
      "execution_count": null,
      "metadata": {
        "colab": {
          "base_uri": "https://localhost:8080/"
        },
        "outputId": "8d9b5b63-c6b3-4d1e-9f6a-cd22a5ca5eaf",
        "id": "QIdr09gm_sNV"
      },
      "outputs": [
        {
          "output_type": "stream",
          "name": "stdout",
          "text": [
            "(4659, 18)\n",
            "(4659,)\n"
          ]
        }
      ],
      "source": [
        "print(X.shape)\n",
        "print(y.shape)"
      ]
    },
    {
      "cell_type": "markdown",
      "metadata": {
        "id": "LHZwXDHR_sNV"
      },
      "source": [
        "Realizamos un análisis sobre distintos valores del hiperparámetro `max_depth`, con el objetivo de tener un valor aproximado. El resto de los hiperparámetros tienen el valor _default_ \n",
        "\n",
        "(Valores en https://scikit-learn.org/stable/modules/generated/sklearn.tree.DecisionTreeClassifier.html#sklearn.tree.DecisionTreeClassifier)"
      ]
    },
    {
      "cell_type": "code",
      "execution_count": null,
      "metadata": {
        "colab": {
          "base_uri": "https://localhost:8080/"
        },
        "outputId": "d270c47a-e441-4d7f-e598-c9cd1a30ca23",
        "id": "jLHWUZHD_sNW"
      },
      "outputs": [
        {
          "output_type": "stream",
          "name": "stdout",
          "text": [
            "Depth: None, accuracy_score: 0.7411764705882353, score: 0.7411764705882353\n",
            "Depth: 1, accuracy_score: 0.7285403050108933, score: 0.7285403050108933\n",
            "Depth: 2, accuracy_score: 0.7285403050108933, score: 0.7285403050108933\n",
            "Depth: 3, accuracy_score: 0.7281045751633987, score: 0.7281045751633987\n",
            "Depth: 4, accuracy_score: 0.775599128540305, score: 0.775599128540305\n",
            "Depth: 5, accuracy_score: 0.7751633986928105, score: 0.7751633986928105\n",
            "Depth: 6, accuracy_score: 0.7725490196078432, score: 0.7725490196078432\n",
            "Depth: 7, accuracy_score: 0.7751633986928105, score: 0.7751633986928105\n",
            "Depth: 8, accuracy_score: 0.7734204793028322, score: 0.7734204793028322\n",
            "Depth: 9, accuracy_score: 0.7690631808278867, score: 0.7690631808278867\n",
            "Depth: 10, accuracy_score: 0.7660130718954249, score: 0.7660130718954249\n",
            "Depth: 11, accuracy_score: 0.7751633986928105, score: 0.7751633986928105\n",
            "Depth: 12, accuracy_score: 0.7694989106753812, score: 0.7694989106753812\n",
            "Depth: 13, accuracy_score: 0.7708061002178649, score: 0.7708061002178649\n",
            "Depth: 14, accuracy_score: 0.7708061002178649, score: 0.7708061002178649\n",
            "Depth: 15, accuracy_score: 0.7577342047930283, score: 0.7577342047930283\n",
            "Depth: 16, accuracy_score: 0.7516339869281046, score: 0.7516339869281046\n",
            "Depth: 17, accuracy_score: 0.7581699346405228, score: 0.7581699346405228\n",
            "Depth: 18, accuracy_score: 0.7520697167755991, score: 0.7520697167755991\n",
            "Depth: 19, accuracy_score: 0.7459694989106754, score: 0.7459694989106754\n",
            "Depth: 20, accuracy_score: 0.7498910675381264, score: 0.7498910675381264\n",
            "Depth: 21, accuracy_score: 0.7455337690631808, score: 0.7455337690631808\n",
            "Depth: 22, accuracy_score: 0.7477124183006536, score: 0.7477124183006536\n",
            "Depth: 23, accuracy_score: 0.7459694989106754, score: 0.7459694989106754\n",
            "Depth: 24, accuracy_score: 0.743355119825708, score: 0.743355119825708\n",
            "Depth: 25, accuracy_score: 0.7520697167755991, score: 0.7520697167755991\n",
            "Depth: 26, accuracy_score: 0.7468409586056645, score: 0.7468409586056645\n",
            "Depth: 27, accuracy_score: 0.7472766884531591, score: 0.7472766884531591\n",
            "Depth: 28, accuracy_score: 0.7416122004357298, score: 0.7416122004357298\n",
            "Depth: 29, accuracy_score: 0.7437908496732026, score: 0.7437908496732026\n",
            "Depth: 30, accuracy_score: 0.7381263616557734, score: 0.7381263616557734\n",
            "Depth: 31, accuracy_score: 0.7538126361655774, score: 0.7538126361655774\n",
            "Depth: 32, accuracy_score: 0.7416122004357298, score: 0.7416122004357298\n",
            "Depth: 33, accuracy_score: 0.7477124183006536, score: 0.7477124183006536\n",
            "Depth: 34, accuracy_score: 0.7446623093681917, score: 0.7446623093681917\n",
            "Depth: 35, accuracy_score: 0.742483660130719, score: 0.742483660130719\n",
            "Depth: 36, accuracy_score: 0.7516339869281046, score: 0.7516339869281046\n",
            "Depth: 37, accuracy_score: 0.7398692810457517, score: 0.7398692810457517\n",
            "Depth: 38, accuracy_score: 0.7507625272331154, score: 0.7507625272331154\n",
            "Depth: 39, accuracy_score: 0.7459694989106754, score: 0.7459694989106754\n",
            "Depth: 40, accuracy_score: 0.7459694989106754, score: 0.7459694989106754\n",
            "Depth: 41, accuracy_score: 0.7481481481481481, score: 0.7481481481481481\n",
            "Depth: 42, accuracy_score: 0.7372549019607844, score: 0.7372549019607844\n",
            "Depth: 43, accuracy_score: 0.7355119825708061, score: 0.7355119825708061\n",
            "Depth: 44, accuracy_score: 0.742483660130719, score: 0.742483660130719\n",
            "Depth: 45, accuracy_score: 0.7507625272331154, score: 0.7507625272331154\n",
            "Depth: 46, accuracy_score: 0.7477124183006536, score: 0.7477124183006536\n",
            "Depth: 47, accuracy_score: 0.7472766884531591, score: 0.7472766884531591\n",
            "Depth: 48, accuracy_score: 0.7490196078431373, score: 0.7490196078431373\n",
            "Depth: 49, accuracy_score: 0.7442265795206972, score: 0.7442265795206972\n",
            "Depth: 50, accuracy_score: 0.7407407407407407, score: 0.7407407407407407\n",
            "Depth: 51, accuracy_score: 0.74640522875817, score: 0.74640522875817\n",
            "Depth: 52, accuracy_score: 0.7407407407407407, score: 0.7407407407407407\n",
            "Depth: 53, accuracy_score: 0.738562091503268, score: 0.738562091503268\n",
            "Depth: 54, accuracy_score: 0.74640522875817, score: 0.74640522875817\n",
            "Depth: 55, accuracy_score: 0.74640522875817, score: 0.74640522875817\n",
            "Depth: 56, accuracy_score: 0.7442265795206972, score: 0.7442265795206972\n",
            "Depth: 57, accuracy_score: 0.7485838779956427, score: 0.7485838779956427\n",
            "Depth: 58, accuracy_score: 0.7481481481481481, score: 0.7481481481481481\n",
            "Depth: 59, accuracy_score: 0.7381263616557734, score: 0.7381263616557734\n",
            "Depth: 60, accuracy_score: 0.7472766884531591, score: 0.7472766884531591\n",
            "Depth: 61, accuracy_score: 0.7490196078431373, score: 0.7490196078431373\n",
            "Depth: 62, accuracy_score: 0.7455337690631808, score: 0.7455337690631808\n",
            "Depth: 63, accuracy_score: 0.743355119825708, score: 0.743355119825708\n",
            "Depth: 64, accuracy_score: 0.7450980392156863, score: 0.7450980392156863\n",
            "Depth: 65, accuracy_score: 0.743355119825708, score: 0.743355119825708\n",
            "Depth: 66, accuracy_score: 0.7481481481481481, score: 0.7481481481481481\n",
            "Depth: 67, accuracy_score: 0.7420479302832244, score: 0.7420479302832244\n",
            "Depth: 68, accuracy_score: 0.7403050108932462, score: 0.7403050108932462\n",
            "Depth: 69, accuracy_score: 0.7450980392156863, score: 0.7450980392156863\n",
            "Depth: 70, accuracy_score: 0.7472766884531591, score: 0.7472766884531591\n",
            "Depth: 71, accuracy_score: 0.7450980392156863, score: 0.7450980392156863\n",
            "Depth: 72, accuracy_score: 0.739433551198257, score: 0.739433551198257\n",
            "Depth: 73, accuracy_score: 0.7420479302832244, score: 0.7420479302832244\n",
            "Depth: 74, accuracy_score: 0.7481481481481481, score: 0.7481481481481481\n",
            "Depth: 75, accuracy_score: 0.7459694989106754, score: 0.7459694989106754\n",
            "Depth: 76, accuracy_score: 0.7442265795206972, score: 0.7442265795206972\n",
            "Depth: 77, accuracy_score: 0.7442265795206972, score: 0.7442265795206972\n",
            "Depth: 78, accuracy_score: 0.7542483660130719, score: 0.7542483660130719\n",
            "Depth: 79, accuracy_score: 0.738562091503268, score: 0.738562091503268\n",
            "Depth: 80, accuracy_score: 0.74640522875817, score: 0.74640522875817\n",
            "Depth: 81, accuracy_score: 0.7442265795206972, score: 0.7442265795206972\n",
            "Depth: 82, accuracy_score: 0.7442265795206972, score: 0.7442265795206972\n",
            "Depth: 83, accuracy_score: 0.74640522875817, score: 0.74640522875817\n",
            "Depth: 84, accuracy_score: 0.7420479302832244, score: 0.7420479302832244\n",
            "Depth: 85, accuracy_score: 0.7442265795206972, score: 0.7442265795206972\n",
            "Depth: 86, accuracy_score: 0.7494553376906318, score: 0.7494553376906318\n",
            "Depth: 87, accuracy_score: 0.7507625272331154, score: 0.7507625272331154\n",
            "Depth: 88, accuracy_score: 0.743355119825708, score: 0.743355119825708\n",
            "Depth: 89, accuracy_score: 0.7490196078431373, score: 0.7490196078431373\n",
            "Depth: 90, accuracy_score: 0.742483660130719, score: 0.742483660130719\n",
            "Depth: 91, accuracy_score: 0.7494553376906318, score: 0.7494553376906318\n",
            "Depth: 92, accuracy_score: 0.7459694989106754, score: 0.7459694989106754\n",
            "Depth: 93, accuracy_score: 0.7420479302832244, score: 0.7420479302832244\n",
            "Depth: 94, accuracy_score: 0.7442265795206972, score: 0.7442265795206972\n",
            "Depth: 95, accuracy_score: 0.7455337690631808, score: 0.7455337690631808\n",
            "Depth: 96, accuracy_score: 0.7446623093681917, score: 0.7446623093681917\n",
            "Depth: 97, accuracy_score: 0.7420479302832244, score: 0.7420479302832244\n",
            "Depth: 98, accuracy_score: 0.742483660130719, score: 0.742483660130719\n",
            "Depth: 99, accuracy_score: 0.74640522875817, score: 0.74640522875817\n"
          ]
        }
      ],
      "source": [
        "def train_tree(features, target):\n",
        "  \"\"\"\n",
        "  Retorna una función que permite evaluar el conjunto de entrenamiento, dado \n",
        "  un valor para max_depth\n",
        "  \"\"\"\n",
        "  \n",
        "  def run_with(max_depth):\n",
        "    clf = DecisionTreeClassifier(max_depth = max_depth)\n",
        "    clf = clf.fit(features, target)\n",
        "    return clf\n",
        "\n",
        "  return run_with\n",
        "\n",
        "def eval(p, X_test, y_test):\n",
        "  \"\"\"\n",
        "  Retorna el accuracy_score del clasificador p, sobre los valores de entrenamiento\n",
        "  \"\"\"\n",
        "  y_pred = p.predict(X_test)\n",
        "  return accuracy_score(y_test, y_pred), p.score(X_test, y_test)\n",
        "\n",
        "\n",
        "build_tree = train_tree(X, y)\n",
        "e = {}\n",
        "\n",
        "b = build_tree(max_depth = None)\n",
        "acc_score, score = eval(b, X_test, y_test)\n",
        "\n",
        "print(f\"Depth: None, accuracy_score: {acc_score}, score: {score}\")\n",
        "e[0] = acc_score\n",
        "\n",
        "for d in range(1, 100):\n",
        "  candidate_tree = build_tree(d)\n",
        "\n",
        "  acc_score, score = eval(candidate_tree, X_test, y_test)\n",
        "  print(f\"Depth: {d}, accuracy_score: {acc_score}, score: {score}\")\n",
        "  \n",
        "  \n",
        "  e[d] = acc_score"
      ]
    },
    {
      "cell_type": "code",
      "execution_count": null,
      "metadata": {
        "colab": {
          "base_uri": "https://localhost:8080/"
        },
        "outputId": "3fbc7678-cea9-440e-a2a5-d1bece536aeb",
        "id": "CthrjWbe_sNW"
      },
      "outputs": [
        {
          "output_type": "stream",
          "name": "stdout",
          "text": [
            "El arbol con mayor accuracy tiene profundidad 4\n"
          ]
        },
        {
          "output_type": "execute_result",
          "data": {
            "text/plain": [
              "(0.775599128540305, 0.775599128540305)"
            ]
          },
          "metadata": {},
          "execution_count": 63
        }
      ],
      "source": [
        "d = max(e, key=e.get)\n",
        "depth = None if d == 0 else d\n",
        "\n",
        "print(f\"El arbol con mayor accuracy tiene profundidad {depth}\")\n",
        "tree_pred = build_tree(depth)\n",
        "\n",
        "eval(tree_pred, X_test, y_test)"
      ]
    },
    {
      "cell_type": "code",
      "execution_count": null,
      "metadata": {
        "id": "KnKbMLw1_sNW"
      },
      "outputs": [],
      "source": [
        "def class_names(p):\n",
        "  class_names = map(lambda b: str(b), p.classes_)\n",
        "  return list(class_names)\n",
        "\n",
        "classes = class_names(tree_pred)"
      ]
    },
    {
      "cell_type": "code",
      "execution_count": null,
      "metadata": {
        "colab": {
          "base_uri": "https://localhost:8080/",
          "height": 778
        },
        "outputId": "4206603b-d20a-40e9-8ed5-909caf680820",
        "id": "bp6zYisE_sNW"
      },
      "outputs": [
        {
          "output_type": "execute_result",
          "data": {
            "text/plain": [
              "<graphviz.files.Source at 0x7f3852aba810>"
            ],
            "image/svg+xml": "<?xml version=\"1.0\" encoding=\"UTF-8\" standalone=\"no\"?>\n<!DOCTYPE svg PUBLIC \"-//W3C//DTD SVG 1.1//EN\"\n \"http://www.w3.org/Graphics/SVG/1.1/DTD/svg11.dtd\">\n<!-- Generated by graphviz version 2.40.1 (20161225.0304)\n -->\n<!-- Title: Tree Pages: 1 -->\n<svg width=\"2137pt\" height=\"552pt\"\n viewBox=\"0.00 0.00 2137.00 552.00\" xmlns=\"http://www.w3.org/2000/svg\" xmlns:xlink=\"http://www.w3.org/1999/xlink\">\n<g id=\"graph0\" class=\"graph\" transform=\"scale(1 1) rotate(0) translate(4 548)\">\n<title>Tree</title>\n<polygon fill=\"#ffffff\" stroke=\"transparent\" points=\"-4,4 -4,-548 2133,-548 2133,4 -4,4\"/>\n<!-- 0 -->\n<g id=\"node1\" class=\"node\">\n<title>0</title>\n<path fill=\"#fffffe\" stroke=\"#000000\" d=\"M1133.5,-544C1133.5,-544 1008.5,-544 1008.5,-544 1002.5,-544 996.5,-538 996.5,-532 996.5,-532 996.5,-473 996.5,-473 996.5,-467 1002.5,-461 1008.5,-461 1008.5,-461 1133.5,-461 1133.5,-461 1139.5,-461 1145.5,-467 1145.5,-473 1145.5,-473 1145.5,-532 1145.5,-532 1145.5,-538 1139.5,-544 1133.5,-544\"/>\n<text text-anchor=\"start\" x=\"1019\" y=\"-528.8\" font-family=\"Helvetica,sans-Serif\" font-size=\"14.00\" fill=\"#000000\">CryoSleep ≤ 0.5</text>\n<text text-anchor=\"start\" x=\"1041.5\" y=\"-513.8\" font-family=\"Helvetica,sans-Serif\" font-size=\"14.00\" fill=\"#000000\">gini = 0.5</text>\n<text text-anchor=\"start\" x=\"1019\" y=\"-498.8\" font-family=\"Helvetica,sans-Serif\" font-size=\"14.00\" fill=\"#000000\">samples = 4659</text>\n<text text-anchor=\"start\" x=\"1004.5\" y=\"-483.8\" font-family=\"Helvetica,sans-Serif\" font-size=\"14.00\" fill=\"#000000\">value = [2333, 2326]</text>\n<text text-anchor=\"start\" x=\"1039.5\" y=\"-468.8\" font-family=\"Helvetica,sans-Serif\" font-size=\"14.00\" fill=\"#000000\">class = &#45;1</text>\n</g>\n<!-- 1 -->\n<g id=\"node2\" class=\"node\">\n<title>1</title>\n<path fill=\"#f2c29f\" stroke=\"#000000\" d=\"M896,-425C896,-425 764,-425 764,-425 758,-425 752,-419 752,-413 752,-413 752,-354 752,-354 752,-348 758,-342 764,-342 764,-342 896,-342 896,-342 902,-342 908,-348 908,-354 908,-354 908,-413 908,-413 908,-419 902,-425 896,-425\"/>\n<text text-anchor=\"start\" x=\"760\" y=\"-409.8\" font-family=\"Helvetica,sans-Serif\" font-size=\"14.00\" fill=\"#000000\">RoomService ≤ 0.188</text>\n<text text-anchor=\"start\" x=\"792\" y=\"-394.8\" font-family=\"Helvetica,sans-Serif\" font-size=\"14.00\" fill=\"#000000\">gini = 0.449</text>\n<text text-anchor=\"start\" x=\"778\" y=\"-379.8\" font-family=\"Helvetica,sans-Serif\" font-size=\"14.00\" fill=\"#000000\">samples = 3061</text>\n<text text-anchor=\"start\" x=\"763.5\" y=\"-364.8\" font-family=\"Helvetica,sans-Serif\" font-size=\"14.00\" fill=\"#000000\">value = [2020, 1041]</text>\n<text text-anchor=\"start\" x=\"798.5\" y=\"-349.8\" font-family=\"Helvetica,sans-Serif\" font-size=\"14.00\" fill=\"#000000\">class = &#45;1</text>\n</g>\n<!-- 0&#45;&gt;1 -->\n<g id=\"edge1\" class=\"edge\">\n<title>0&#45;&gt;1</title>\n<path fill=\"none\" stroke=\"#000000\" d=\"M996.3965,-465.6626C971.2934,-453.2673 943.066,-439.3293 917.0881,-426.502\"/>\n<polygon fill=\"#000000\" stroke=\"#000000\" points=\"918.5181,-423.3047 908.002,-422.0155 915.4189,-429.5813 918.5181,-423.3047\"/>\n<text text-anchor=\"middle\" x=\"916.026\" y=\"-441.9928\" font-family=\"Helvetica,sans-Serif\" font-size=\"14.00\" fill=\"#000000\">True</text>\n</g>\n<!-- 16 -->\n<g id=\"node17\" class=\"node\">\n<title>16</title>\n<path fill=\"#69b5eb\" stroke=\"#000000\" d=\"M1404.5,-425C1404.5,-425 1253.5,-425 1253.5,-425 1247.5,-425 1241.5,-419 1241.5,-413 1241.5,-413 1241.5,-354 1241.5,-354 1241.5,-348 1247.5,-342 1253.5,-342 1253.5,-342 1404.5,-342 1404.5,-342 1410.5,-342 1416.5,-348 1416.5,-354 1416.5,-354 1416.5,-413 1416.5,-413 1416.5,-419 1410.5,-425 1404.5,-425\"/>\n<text text-anchor=\"start\" x=\"1249.5\" y=\"-409.8\" font-family=\"Helvetica,sans-Serif\" font-size=\"14.00\" fill=\"#000000\">HomePlanet_Earth ≤ 0.5</text>\n<text text-anchor=\"start\" x=\"1291\" y=\"-394.8\" font-family=\"Helvetica,sans-Serif\" font-size=\"14.00\" fill=\"#000000\">gini = 0.315</text>\n<text text-anchor=\"start\" x=\"1277\" y=\"-379.8\" font-family=\"Helvetica,sans-Serif\" font-size=\"14.00\" fill=\"#000000\">samples = 1598</text>\n<text text-anchor=\"start\" x=\"1267\" y=\"-364.8\" font-family=\"Helvetica,sans-Serif\" font-size=\"14.00\" fill=\"#000000\">value = [313, 1285]</text>\n<text text-anchor=\"start\" x=\"1300\" y=\"-349.8\" font-family=\"Helvetica,sans-Serif\" font-size=\"14.00\" fill=\"#000000\">class = 1</text>\n</g>\n<!-- 0&#45;&gt;16 -->\n<g id=\"edge16\" class=\"edge\">\n<title>0&#45;&gt;16</title>\n<path fill=\"none\" stroke=\"#000000\" d=\"M1145.6243,-468.0803C1172.6164,-455.6304 1203.4963,-441.3874 1232.1223,-428.1839\"/>\n<polygon fill=\"#000000\" stroke=\"#000000\" points=\"1233.7149,-431.3038 1241.3295,-423.9371 1230.783,-424.9473 1233.7149,-431.3038\"/>\n<text text-anchor=\"middle\" x=\"1232.6811\" y=\"-443.6936\" font-family=\"Helvetica,sans-Serif\" font-size=\"14.00\" fill=\"#000000\">False</text>\n</g>\n<!-- 2 -->\n<g id=\"node3\" class=\"node\">\n<title>2</title>\n<path fill=\"#f7d6bf\" stroke=\"#000000\" d=\"M493,-306C493,-306 377,-306 377,-306 371,-306 365,-300 365,-294 365,-294 365,-235 365,-235 365,-229 371,-223 377,-223 377,-223 493,-223 493,-223 499,-223 505,-229 505,-235 505,-235 505,-294 505,-294 505,-300 499,-306 493,-306\"/>\n<text text-anchor=\"start\" x=\"393.5\" y=\"-290.8\" font-family=\"Helvetica,sans-Serif\" font-size=\"14.00\" fill=\"#000000\">Spa ≤ &#45;0.042</text>\n<text text-anchor=\"start\" x=\"397\" y=\"-275.8\" font-family=\"Helvetica,sans-Serif\" font-size=\"14.00\" fill=\"#000000\">gini = 0.481</text>\n<text text-anchor=\"start\" x=\"383\" y=\"-260.8\" font-family=\"Helvetica,sans-Serif\" font-size=\"14.00\" fill=\"#000000\">samples = 2304</text>\n<text text-anchor=\"start\" x=\"373\" y=\"-245.8\" font-family=\"Helvetica,sans-Serif\" font-size=\"14.00\" fill=\"#000000\">value = [1376, 928]</text>\n<text text-anchor=\"start\" x=\"403.5\" y=\"-230.8\" font-family=\"Helvetica,sans-Serif\" font-size=\"14.00\" fill=\"#000000\">class = &#45;1</text>\n</g>\n<!-- 1&#45;&gt;2 -->\n<g id=\"edge2\" class=\"edge\">\n<title>1&#45;&gt;2</title>\n<path fill=\"none\" stroke=\"#000000\" d=\"M751.9607,-359.9894C683.4934,-339.3626 584.3449,-309.4925 515.2324,-288.6713\"/>\n<polygon fill=\"#000000\" stroke=\"#000000\" points=\"515.8452,-285.2006 505.2606,-285.6671 513.8259,-291.903 515.8452,-285.2006\"/>\n</g>\n<!-- 9 -->\n<g id=\"node10\" class=\"node\">\n<title>9</title>\n<path fill=\"#ea975c\" stroke=\"#000000\" d=\"M896.5,-306C896.5,-306 763.5,-306 763.5,-306 757.5,-306 751.5,-300 751.5,-294 751.5,-294 751.5,-235 751.5,-235 751.5,-229 757.5,-223 763.5,-223 763.5,-223 896.5,-223 896.5,-223 902.5,-223 908.5,-229 908.5,-235 908.5,-235 908.5,-294 908.5,-294 908.5,-300 902.5,-306 896.5,-306\"/>\n<text text-anchor=\"start\" x=\"759.5\" y=\"-290.8\" font-family=\"Helvetica,sans-Serif\" font-size=\"14.00\" fill=\"#000000\">ShoppingMall ≤ 3.025</text>\n<text text-anchor=\"start\" x=\"792\" y=\"-275.8\" font-family=\"Helvetica,sans-Serif\" font-size=\"14.00\" fill=\"#000000\">gini = 0.254</text>\n<text text-anchor=\"start\" x=\"782\" y=\"-260.8\" font-family=\"Helvetica,sans-Serif\" font-size=\"14.00\" fill=\"#000000\">samples = 757</text>\n<text text-anchor=\"start\" x=\"772\" y=\"-245.8\" font-family=\"Helvetica,sans-Serif\" font-size=\"14.00\" fill=\"#000000\">value = [644, 113]</text>\n<text text-anchor=\"start\" x=\"798.5\" y=\"-230.8\" font-family=\"Helvetica,sans-Serif\" font-size=\"14.00\" fill=\"#000000\">class = &#45;1</text>\n</g>\n<!-- 1&#45;&gt;9 -->\n<g id=\"edge9\" class=\"edge\">\n<title>1&#45;&gt;9</title>\n<path fill=\"none\" stroke=\"#000000\" d=\"M830,-341.8796C830,-333.6838 830,-324.9891 830,-316.5013\"/>\n<polygon fill=\"#000000\" stroke=\"#000000\" points=\"833.5001,-316.298 830,-306.2981 826.5001,-316.2981 833.5001,-316.298\"/>\n</g>\n<!-- 3 -->\n<g id=\"node4\" class=\"node\">\n<title>3</title>\n<path fill=\"#fffdfc\" stroke=\"#000000\" d=\"M270,-187C270,-187 162,-187 162,-187 156,-187 150,-181 150,-175 150,-175 150,-116 150,-116 150,-110 156,-104 162,-104 162,-104 270,-104 270,-104 276,-104 282,-110 282,-116 282,-116 282,-175 282,-175 282,-181 276,-187 270,-187\"/>\n<text text-anchor=\"start\" x=\"160.5\" y=\"-171.8\" font-family=\"Helvetica,sans-Serif\" font-size=\"14.00\" fill=\"#000000\">VRDeck ≤ &#45;0.057</text>\n<text text-anchor=\"start\" x=\"186.5\" y=\"-156.8\" font-family=\"Helvetica,sans-Serif\" font-size=\"14.00\" fill=\"#000000\">gini = 0.5</text>\n<text text-anchor=\"start\" x=\"164\" y=\"-141.8\" font-family=\"Helvetica,sans-Serif\" font-size=\"14.00\" fill=\"#000000\">samples = 1585</text>\n<text text-anchor=\"start\" x=\"158\" y=\"-126.8\" font-family=\"Helvetica,sans-Serif\" font-size=\"14.00\" fill=\"#000000\">value = [799, 786]</text>\n<text text-anchor=\"start\" x=\"184.5\" y=\"-111.8\" font-family=\"Helvetica,sans-Serif\" font-size=\"14.00\" fill=\"#000000\">class = &#45;1</text>\n</g>\n<!-- 2&#45;&gt;3 -->\n<g id=\"edge3\" class=\"edge\">\n<title>2&#45;&gt;3</title>\n<path fill=\"none\" stroke=\"#000000\" d=\"M364.8034,-226.3566C341.2845,-213.577 314.9766,-199.2818 291.098,-186.3067\"/>\n<polygon fill=\"#000000\" stroke=\"#000000\" points=\"292.5339,-183.1036 282.0762,-181.4044 289.1917,-189.2542 292.5339,-183.1036\"/>\n</g>\n<!-- 6 -->\n<g id=\"node7\" class=\"node\">\n<title>6</title>\n<path fill=\"#eba06a\" stroke=\"#000000\" d=\"M491.5,-187C491.5,-187 378.5,-187 378.5,-187 372.5,-187 366.5,-181 366.5,-175 366.5,-175 366.5,-116 366.5,-116 366.5,-110 372.5,-104 378.5,-104 378.5,-104 491.5,-104 491.5,-104 497.5,-104 503.5,-110 503.5,-116 503.5,-116 503.5,-175 503.5,-175 503.5,-181 497.5,-187 491.5,-187\"/>\n<text text-anchor=\"start\" x=\"374.5\" y=\"-171.8\" font-family=\"Helvetica,sans-Serif\" font-size=\"14.00\" fill=\"#000000\">FoodCourt ≤ 0.728</text>\n<text text-anchor=\"start\" x=\"397\" y=\"-156.8\" font-family=\"Helvetica,sans-Serif\" font-size=\"14.00\" fill=\"#000000\">gini = 0.317</text>\n<text text-anchor=\"start\" x=\"387\" y=\"-141.8\" font-family=\"Helvetica,sans-Serif\" font-size=\"14.00\" fill=\"#000000\">samples = 719</text>\n<text text-anchor=\"start\" x=\"377\" y=\"-126.8\" font-family=\"Helvetica,sans-Serif\" font-size=\"14.00\" fill=\"#000000\">value = [577, 142]</text>\n<text text-anchor=\"start\" x=\"403.5\" y=\"-111.8\" font-family=\"Helvetica,sans-Serif\" font-size=\"14.00\" fill=\"#000000\">class = &#45;1</text>\n</g>\n<!-- 2&#45;&gt;6 -->\n<g id=\"edge6\" class=\"edge\">\n<title>2&#45;&gt;6</title>\n<path fill=\"none\" stroke=\"#000000\" d=\"M435,-222.8796C435,-214.6838 435,-205.9891 435,-197.5013\"/>\n<polygon fill=\"#000000\" stroke=\"#000000\" points=\"438.5001,-197.298 435,-187.2981 431.5001,-197.2981 438.5001,-197.298\"/>\n</g>\n<!-- 4 -->\n<g id=\"node5\" class=\"node\">\n<title>4</title>\n<path fill=\"#b6dbf5\" stroke=\"#000000\" d=\"M120,-68C120,-68 12,-68 12,-68 6,-68 0,-62 0,-56 0,-56 0,-12 0,-12 0,-6 6,0 12,0 12,0 120,0 120,0 126,0 132,-6 132,-12 132,-12 132,-56 132,-56 132,-62 126,-68 120,-68\"/>\n<text text-anchor=\"start\" x=\"28\" y=\"-52.8\" font-family=\"Helvetica,sans-Serif\" font-size=\"14.00\" fill=\"#000000\">gini = 0.474</text>\n<text text-anchor=\"start\" x=\"14\" y=\"-37.8\" font-family=\"Helvetica,sans-Serif\" font-size=\"14.00\" fill=\"#000000\">samples = 1077</text>\n<text text-anchor=\"start\" x=\"8\" y=\"-22.8\" font-family=\"Helvetica,sans-Serif\" font-size=\"14.00\" fill=\"#000000\">value = [416, 661]</text>\n<text text-anchor=\"start\" x=\"37\" y=\"-7.8\" font-family=\"Helvetica,sans-Serif\" font-size=\"14.00\" fill=\"#000000\">class = 1</text>\n</g>\n<!-- 3&#45;&gt;4 -->\n<g id=\"edge4\" class=\"edge\">\n<title>3&#45;&gt;4</title>\n<path fill=\"none\" stroke=\"#000000\" d=\"M160.1455,-103.9815C147.1632,-94.3313 133.3606,-84.0714 120.4403,-74.4673\"/>\n<polygon fill=\"#000000\" stroke=\"#000000\" points=\"122.2083,-71.4204 112.0946,-68.2637 118.0322,-77.0384 122.2083,-71.4204\"/>\n</g>\n<!-- 5 -->\n<g id=\"node6\" class=\"node\">\n<title>5</title>\n<path fill=\"#edaa7a\" stroke=\"#000000\" d=\"M270,-68C270,-68 162,-68 162,-68 156,-68 150,-62 150,-56 150,-56 150,-12 150,-12 150,-6 156,0 162,0 162,0 270,0 270,0 276,0 282,-6 282,-12 282,-12 282,-56 282,-56 282,-62 276,-68 270,-68\"/>\n<text text-anchor=\"start\" x=\"178\" y=\"-52.8\" font-family=\"Helvetica,sans-Serif\" font-size=\"14.00\" fill=\"#000000\">gini = 0.371</text>\n<text text-anchor=\"start\" x=\"168\" y=\"-37.8\" font-family=\"Helvetica,sans-Serif\" font-size=\"14.00\" fill=\"#000000\">samples = 508</text>\n<text text-anchor=\"start\" x=\"158\" y=\"-22.8\" font-family=\"Helvetica,sans-Serif\" font-size=\"14.00\" fill=\"#000000\">value = [383, 125]</text>\n<text text-anchor=\"start\" x=\"184.5\" y=\"-7.8\" font-family=\"Helvetica,sans-Serif\" font-size=\"14.00\" fill=\"#000000\">class = &#45;1</text>\n</g>\n<!-- 3&#45;&gt;5 -->\n<g id=\"edge5\" class=\"edge\">\n<title>3&#45;&gt;5</title>\n<path fill=\"none\" stroke=\"#000000\" d=\"M216,-103.9815C216,-95.618 216,-86.7965 216,-78.3409\"/>\n<polygon fill=\"#000000\" stroke=\"#000000\" points=\"219.5001,-78.2636 216,-68.2637 212.5001,-78.2637 219.5001,-78.2636\"/>\n</g>\n<!-- 7 -->\n<g id=\"node8\" class=\"node\">\n<title>7</title>\n<path fill=\"#e99457\" stroke=\"#000000\" d=\"M412,-68C412,-68 312,-68 312,-68 306,-68 300,-62 300,-56 300,-56 300,-12 300,-12 300,-6 306,0 312,0 312,0 412,0 412,0 418,0 424,-6 424,-12 424,-12 424,-56 424,-56 424,-62 418,-68 412,-68\"/>\n<text text-anchor=\"start\" x=\"328.5\" y=\"-52.8\" font-family=\"Helvetica,sans-Serif\" font-size=\"14.00\" fill=\"#000000\">gini = 0.23</text>\n<text text-anchor=\"start\" x=\"314\" y=\"-37.8\" font-family=\"Helvetica,sans-Serif\" font-size=\"14.00\" fill=\"#000000\">samples = 574</text>\n<text text-anchor=\"start\" x=\"308\" y=\"-22.8\" font-family=\"Helvetica,sans-Serif\" font-size=\"14.00\" fill=\"#000000\">value = [498, 76]</text>\n<text text-anchor=\"start\" x=\"330.5\" y=\"-7.8\" font-family=\"Helvetica,sans-Serif\" font-size=\"14.00\" fill=\"#000000\">class = &#45;1</text>\n</g>\n<!-- 6&#45;&gt;7 -->\n<g id=\"edge7\" class=\"edge\">\n<title>6&#45;&gt;7</title>\n<path fill=\"none\" stroke=\"#000000\" d=\"M407.8175,-103.9815C401.9808,-95.0666 395.8034,-85.6313 389.9386,-76.6734\"/>\n<polygon fill=\"#000000\" stroke=\"#000000\" points=\"392.8386,-74.7129 384.4327,-68.2637 386.9821,-78.5472 392.8386,-74.7129\"/>\n</g>\n<!-- 8 -->\n<g id=\"node9\" class=\"node\">\n<title>8</title>\n<path fill=\"#fbeade\" stroke=\"#000000\" d=\"M546,-68C546,-68 454,-68 454,-68 448,-68 442,-62 442,-56 442,-56 442,-12 442,-12 442,-6 448,0 454,0 454,0 546,0 546,0 552,0 558,-6 558,-12 558,-12 558,-56 558,-56 558,-62 552,-68 546,-68\"/>\n<text text-anchor=\"start\" x=\"462\" y=\"-52.8\" font-family=\"Helvetica,sans-Serif\" font-size=\"14.00\" fill=\"#000000\">gini = 0.496</text>\n<text text-anchor=\"start\" x=\"452\" y=\"-37.8\" font-family=\"Helvetica,sans-Serif\" font-size=\"14.00\" fill=\"#000000\">samples = 145</text>\n<text text-anchor=\"start\" x=\"450\" y=\"-22.8\" font-family=\"Helvetica,sans-Serif\" font-size=\"14.00\" fill=\"#000000\">value = [79, 66]</text>\n<text text-anchor=\"start\" x=\"468.5\" y=\"-7.8\" font-family=\"Helvetica,sans-Serif\" font-size=\"14.00\" fill=\"#000000\">class = &#45;1</text>\n</g>\n<!-- 6&#45;&gt;8 -->\n<g id=\"edge8\" class=\"edge\">\n<title>6&#45;&gt;8</title>\n<path fill=\"none\" stroke=\"#000000\" d=\"M459.2036,-103.9815C464.3471,-95.1585 469.7877,-85.8258 474.9616,-76.9506\"/>\n<polygon fill=\"#000000\" stroke=\"#000000\" points=\"478.013,-78.6656 480.0257,-68.2637 471.9656,-75.1402 478.013,-78.6656\"/>\n</g>\n<!-- 10 -->\n<g id=\"node11\" class=\"node\">\n<title>10</title>\n<path fill=\"#e99659\" stroke=\"#000000\" d=\"M817.5,-187C817.5,-187 704.5,-187 704.5,-187 698.5,-187 692.5,-181 692.5,-175 692.5,-175 692.5,-116 692.5,-116 692.5,-110 698.5,-104 704.5,-104 704.5,-104 817.5,-104 817.5,-104 823.5,-104 829.5,-110 829.5,-116 829.5,-116 829.5,-175 829.5,-175 829.5,-181 823.5,-187 817.5,-187\"/>\n<text text-anchor=\"start\" x=\"700.5\" y=\"-171.8\" font-family=\"Helvetica,sans-Serif\" font-size=\"14.00\" fill=\"#000000\">FoodCourt ≤ 2.009</text>\n<text text-anchor=\"start\" x=\"723\" y=\"-156.8\" font-family=\"Helvetica,sans-Serif\" font-size=\"14.00\" fill=\"#000000\">gini = 0.242</text>\n<text text-anchor=\"start\" x=\"713\" y=\"-141.8\" font-family=\"Helvetica,sans-Serif\" font-size=\"14.00\" fill=\"#000000\">samples = 746</text>\n<text text-anchor=\"start\" x=\"703\" y=\"-126.8\" font-family=\"Helvetica,sans-Serif\" font-size=\"14.00\" fill=\"#000000\">value = [641, 105]</text>\n<text text-anchor=\"start\" x=\"729.5\" y=\"-111.8\" font-family=\"Helvetica,sans-Serif\" font-size=\"14.00\" fill=\"#000000\">class = &#45;1</text>\n</g>\n<!-- 9&#45;&gt;10 -->\n<g id=\"edge10\" class=\"edge\">\n<title>9&#45;&gt;10</title>\n<path fill=\"none\" stroke=\"#000000\" d=\"M805.8671,-222.8796C800.8539,-214.2335 795.5187,-205.0322 790.3419,-196.1042\"/>\n<polygon fill=\"#000000\" stroke=\"#000000\" points=\"793.2798,-194.1934 785.2359,-187.2981 787.2242,-197.7047 793.2798,-194.1934\"/>\n</g>\n<!-- 13 -->\n<g id=\"node14\" class=\"node\">\n<title>13</title>\n<path fill=\"#83c2ef\" stroke=\"#000000\" d=\"M940,-187C940,-187 860,-187 860,-187 854,-187 848,-181 848,-175 848,-175 848,-116 848,-116 848,-110 854,-104 860,-104 860,-104 940,-104 940,-104 946,-104 952,-110 952,-116 952,-116 952,-175 952,-175 952,-181 946,-187 940,-187\"/>\n<text text-anchor=\"start\" x=\"858.5\" y=\"-171.8\" font-family=\"Helvetica,sans-Serif\" font-size=\"14.00\" fill=\"#000000\">Age ≤ &#45;0.683</text>\n<text text-anchor=\"start\" x=\"862\" y=\"-156.8\" font-family=\"Helvetica,sans-Serif\" font-size=\"14.00\" fill=\"#000000\">gini = 0.397</text>\n<text text-anchor=\"start\" x=\"856\" y=\"-141.8\" font-family=\"Helvetica,sans-Serif\" font-size=\"14.00\" fill=\"#000000\">samples = 11</text>\n<text text-anchor=\"start\" x=\"858.5\" y=\"-126.8\" font-family=\"Helvetica,sans-Serif\" font-size=\"14.00\" fill=\"#000000\">value = [3, 8]</text>\n<text text-anchor=\"start\" x=\"871\" y=\"-111.8\" font-family=\"Helvetica,sans-Serif\" font-size=\"14.00\" fill=\"#000000\">class = 1</text>\n</g>\n<!-- 9&#45;&gt;13 -->\n<g id=\"edge13\" class=\"edge\">\n<title>9&#45;&gt;13</title>\n<path fill=\"none\" stroke=\"#000000\" d=\"M854.4826,-222.8796C859.5685,-214.2335 864.9811,-205.0322 870.2328,-196.1042\"/>\n<polygon fill=\"#000000\" stroke=\"#000000\" points=\"873.3594,-197.692 875.4129,-187.2981 867.3259,-194.1428 873.3594,-197.692\"/>\n</g>\n<!-- 11 -->\n<g id=\"node12\" class=\"node\">\n<title>11</title>\n<path fill=\"#e99457\" stroke=\"#000000\" d=\"M688,-68C688,-68 588,-68 588,-68 582,-68 576,-62 576,-56 576,-56 576,-12 576,-12 576,-6 582,0 588,0 588,0 688,0 688,0 694,0 700,-6 700,-12 700,-12 700,-56 700,-56 700,-62 694,-68 688,-68\"/>\n<text text-anchor=\"start\" x=\"600\" y=\"-52.8\" font-family=\"Helvetica,sans-Serif\" font-size=\"14.00\" fill=\"#000000\">gini = 0.228</text>\n<text text-anchor=\"start\" x=\"590\" y=\"-37.8\" font-family=\"Helvetica,sans-Serif\" font-size=\"14.00\" fill=\"#000000\">samples = 732</text>\n<text text-anchor=\"start\" x=\"584\" y=\"-22.8\" font-family=\"Helvetica,sans-Serif\" font-size=\"14.00\" fill=\"#000000\">value = [636, 96]</text>\n<text text-anchor=\"start\" x=\"606.5\" y=\"-7.8\" font-family=\"Helvetica,sans-Serif\" font-size=\"14.00\" fill=\"#000000\">class = &#45;1</text>\n</g>\n<!-- 10&#45;&gt;11 -->\n<g id=\"edge11\" class=\"edge\">\n<title>10&#45;&gt;11</title>\n<path fill=\"none\" stroke=\"#000000\" d=\"M715.1993,-103.9815C704.7566,-94.5151 693.6667,-84.462 683.2472,-75.0168\"/>\n<polygon fill=\"#000000\" stroke=\"#000000\" points=\"685.5572,-72.3868 675.7976,-68.2637 680.8559,-77.5731 685.5572,-72.3868\"/>\n</g>\n<!-- 12 -->\n<g id=\"node13\" class=\"node\">\n<title>12</title>\n<path fill=\"#a7d3f3\" stroke=\"#000000\" d=\"M810,-68C810,-68 730,-68 730,-68 724,-68 718,-62 718,-56 718,-56 718,-12 718,-12 718,-6 724,0 730,0 730,0 810,0 810,0 816,0 822,-6 822,-12 822,-12 822,-56 822,-56 822,-62 816,-68 810,-68\"/>\n<text text-anchor=\"start\" x=\"732\" y=\"-52.8\" font-family=\"Helvetica,sans-Serif\" font-size=\"14.00\" fill=\"#000000\">gini = 0.459</text>\n<text text-anchor=\"start\" x=\"726\" y=\"-37.8\" font-family=\"Helvetica,sans-Serif\" font-size=\"14.00\" fill=\"#000000\">samples = 14</text>\n<text text-anchor=\"start\" x=\"728.5\" y=\"-22.8\" font-family=\"Helvetica,sans-Serif\" font-size=\"14.00\" fill=\"#000000\">value = [5, 9]</text>\n<text text-anchor=\"start\" x=\"741\" y=\"-7.8\" font-family=\"Helvetica,sans-Serif\" font-size=\"14.00\" fill=\"#000000\">class = 1</text>\n</g>\n<!-- 10&#45;&gt;12 -->\n<g id=\"edge12\" class=\"edge\">\n<title>10&#45;&gt;12</title>\n<path fill=\"none\" stroke=\"#000000\" d=\"M764.3513,-103.9815C765.0263,-95.618 765.7384,-86.7965 766.4209,-78.3409\"/>\n<polygon fill=\"#000000\" stroke=\"#000000\" points=\"769.9183,-78.5129 767.2343,-68.2637 762.941,-77.9496 769.9183,-78.5129\"/>\n</g>\n<!-- 14 -->\n<g id=\"node15\" class=\"node\">\n<title>14</title>\n<path fill=\"#eeab7b\" stroke=\"#000000\" d=\"M927.5,-68C927.5,-68 852.5,-68 852.5,-68 846.5,-68 840.5,-62 840.5,-56 840.5,-56 840.5,-12 840.5,-12 840.5,-6 846.5,0 852.5,0 852.5,0 927.5,0 927.5,0 933.5,0 939.5,-6 939.5,-12 939.5,-12 939.5,-56 939.5,-56 939.5,-62 933.5,-68 927.5,-68\"/>\n<text text-anchor=\"start\" x=\"852\" y=\"-52.8\" font-family=\"Helvetica,sans-Serif\" font-size=\"14.00\" fill=\"#000000\">gini = 0.375</text>\n<text text-anchor=\"start\" x=\"850.5\" y=\"-37.8\" font-family=\"Helvetica,sans-Serif\" font-size=\"14.00\" fill=\"#000000\">samples = 4</text>\n<text text-anchor=\"start\" x=\"848.5\" y=\"-22.8\" font-family=\"Helvetica,sans-Serif\" font-size=\"14.00\" fill=\"#000000\">value = [3, 1]</text>\n<text text-anchor=\"start\" x=\"858.5\" y=\"-7.8\" font-family=\"Helvetica,sans-Serif\" font-size=\"14.00\" fill=\"#000000\">class = &#45;1</text>\n</g>\n<!-- 13&#45;&gt;14 -->\n<g id=\"edge14\" class=\"edge\">\n<title>13&#45;&gt;14</title>\n<path fill=\"none\" stroke=\"#000000\" d=\"M896.2764,-103.9815C895.5263,-95.618 894.7351,-86.7965 893.9768,-78.3409\"/>\n<polygon fill=\"#000000\" stroke=\"#000000\" points=\"897.4523,-77.911 893.073,-68.2637 890.4803,-78.5364 897.4523,-77.911\"/>\n</g>\n<!-- 15 -->\n<g id=\"node16\" class=\"node\">\n<title>15</title>\n<path fill=\"#399de5\" stroke=\"#000000\" d=\"M1044.5,-68C1044.5,-68 969.5,-68 969.5,-68 963.5,-68 957.5,-62 957.5,-56 957.5,-56 957.5,-12 957.5,-12 957.5,-6 963.5,0 969.5,0 969.5,0 1044.5,0 1044.5,0 1050.5,0 1056.5,-6 1056.5,-12 1056.5,-12 1056.5,-56 1056.5,-56 1056.5,-62 1050.5,-68 1044.5,-68\"/>\n<text text-anchor=\"start\" x=\"977.5\" y=\"-52.8\" font-family=\"Helvetica,sans-Serif\" font-size=\"14.00\" fill=\"#000000\">gini = 0.0</text>\n<text text-anchor=\"start\" x=\"967.5\" y=\"-37.8\" font-family=\"Helvetica,sans-Serif\" font-size=\"14.00\" fill=\"#000000\">samples = 7</text>\n<text text-anchor=\"start\" x=\"965.5\" y=\"-22.8\" font-family=\"Helvetica,sans-Serif\" font-size=\"14.00\" fill=\"#000000\">value = [0, 7]</text>\n<text text-anchor=\"start\" x=\"978\" y=\"-7.8\" font-family=\"Helvetica,sans-Serif\" font-size=\"14.00\" fill=\"#000000\">class = 1</text>\n</g>\n<!-- 13&#45;&gt;15 -->\n<g id=\"edge15\" class=\"edge\">\n<title>13&#45;&gt;15</title>\n<path fill=\"none\" stroke=\"#000000\" d=\"M939.8429,-103.9815C948.7508,-94.6989 958.2001,-84.8522 967.1099,-75.5677\"/>\n<polygon fill=\"#000000\" stroke=\"#000000\" points=\"969.7205,-77.9023 974.1192,-68.2637 964.6698,-73.0555 969.7205,-77.9023\"/>\n</g>\n<!-- 17 -->\n<g id=\"node18\" class=\"node\">\n<title>17</title>\n<path fill=\"#44a3e6\" stroke=\"#000000\" d=\"M1411,-306C1411,-306 1247,-306 1247,-306 1241,-306 1235,-300 1235,-294 1235,-294 1235,-235 1235,-235 1235,-229 1241,-223 1247,-223 1247,-223 1411,-223 1411,-223 1417,-223 1423,-229 1423,-235 1423,-235 1423,-294 1423,-294 1423,-300 1417,-306 1411,-306\"/>\n<text text-anchor=\"start\" x=\"1243\" y=\"-290.8\" font-family=\"Helvetica,sans-Serif\" font-size=\"14.00\" fill=\"#000000\">HomePlanet_Europa ≤ 0.5</text>\n<text text-anchor=\"start\" x=\"1291\" y=\"-275.8\" font-family=\"Helvetica,sans-Serif\" font-size=\"14.00\" fill=\"#000000\">gini = 0.101</text>\n<text text-anchor=\"start\" x=\"1281\" y=\"-260.8\" font-family=\"Helvetica,sans-Serif\" font-size=\"14.00\" fill=\"#000000\">samples = 878</text>\n<text text-anchor=\"start\" x=\"1275\" y=\"-245.8\" font-family=\"Helvetica,sans-Serif\" font-size=\"14.00\" fill=\"#000000\">value = [47, 831]</text>\n<text text-anchor=\"start\" x=\"1300\" y=\"-230.8\" font-family=\"Helvetica,sans-Serif\" font-size=\"14.00\" fill=\"#000000\">class = 1</text>\n</g>\n<!-- 16&#45;&gt;17 -->\n<g id=\"edge17\" class=\"edge\">\n<title>16&#45;&gt;17</title>\n<path fill=\"none\" stroke=\"#000000\" d=\"M1329,-341.8796C1329,-333.6838 1329,-324.9891 1329,-316.5013\"/>\n<polygon fill=\"#000000\" stroke=\"#000000\" points=\"1332.5001,-316.298 1329,-306.2981 1325.5001,-316.2981 1332.5001,-316.298\"/>\n</g>\n<!-- 24 -->\n<g id=\"node25\" class=\"node\">\n<title>24</title>\n<path fill=\"#add6f4\" stroke=\"#000000\" d=\"M1773,-306C1773,-306 1649,-306 1649,-306 1643,-306 1637,-300 1637,-294 1637,-294 1637,-235 1637,-235 1637,-229 1643,-223 1649,-223 1649,-223 1773,-223 1773,-223 1779,-223 1785,-229 1785,-235 1785,-235 1785,-294 1785,-294 1785,-300 1779,-306 1773,-306\"/>\n<text text-anchor=\"start\" x=\"1645\" y=\"-290.8\" font-family=\"Helvetica,sans-Serif\" font-size=\"14.00\" fill=\"#000000\">Cabin_num ≤ &#45;0.044</text>\n<text text-anchor=\"start\" x=\"1673\" y=\"-275.8\" font-family=\"Helvetica,sans-Serif\" font-size=\"14.00\" fill=\"#000000\">gini = 0.466</text>\n<text text-anchor=\"start\" x=\"1663\" y=\"-260.8\" font-family=\"Helvetica,sans-Serif\" font-size=\"14.00\" fill=\"#000000\">samples = 720</text>\n<text text-anchor=\"start\" x=\"1653\" y=\"-245.8\" font-family=\"Helvetica,sans-Serif\" font-size=\"14.00\" fill=\"#000000\">value = [266, 454]</text>\n<text text-anchor=\"start\" x=\"1682\" y=\"-230.8\" font-family=\"Helvetica,sans-Serif\" font-size=\"14.00\" fill=\"#000000\">class = 1</text>\n</g>\n<!-- 16&#45;&gt;24 -->\n<g id=\"edge24\" class=\"edge\">\n<title>16&#45;&gt;24</title>\n<path fill=\"none\" stroke=\"#000000\" d=\"M1416.6385,-356.199C1479.8872,-336.4959 1564.7755,-310.0516 1627.1389,-290.6243\"/>\n<polygon fill=\"#000000\" stroke=\"#000000\" points=\"1628.4412,-293.8846 1636.9476,-287.5687 1626.3592,-287.2013 1628.4412,-293.8846\"/>\n</g>\n<!-- 18 -->\n<g id=\"node19\" class=\"node\">\n<title>18</title>\n<path fill=\"#50a8e8\" stroke=\"#000000\" d=\"M1312,-187C1312,-187 1206,-187 1206,-187 1200,-187 1194,-181 1194,-175 1194,-175 1194,-116 1194,-116 1194,-110 1200,-104 1206,-104 1206,-104 1312,-104 1312,-104 1318,-104 1324,-110 1324,-116 1324,-116 1324,-175 1324,-175 1324,-181 1318,-187 1312,-187\"/>\n<text text-anchor=\"start\" x=\"1202\" y=\"-171.8\" font-family=\"Helvetica,sans-Serif\" font-size=\"14.00\" fill=\"#000000\">Cabin_deck ≤ 4.5</text>\n<text text-anchor=\"start\" x=\"1221\" y=\"-156.8\" font-family=\"Helvetica,sans-Serif\" font-size=\"14.00\" fill=\"#000000\">gini = 0.186</text>\n<text text-anchor=\"start\" x=\"1211\" y=\"-141.8\" font-family=\"Helvetica,sans-Serif\" font-size=\"14.00\" fill=\"#000000\">samples = 396</text>\n<text text-anchor=\"start\" x=\"1205\" y=\"-126.8\" font-family=\"Helvetica,sans-Serif\" font-size=\"14.00\" fill=\"#000000\">value = [41, 355]</text>\n<text text-anchor=\"start\" x=\"1230\" y=\"-111.8\" font-family=\"Helvetica,sans-Serif\" font-size=\"14.00\" fill=\"#000000\">class = 1</text>\n</g>\n<!-- 17&#45;&gt;18 -->\n<g id=\"edge18\" class=\"edge\">\n<title>17&#45;&gt;18</title>\n<path fill=\"none\" stroke=\"#000000\" d=\"M1304.5174,-222.8796C1299.4315,-214.2335 1294.0189,-205.0322 1288.7672,-196.1042\"/>\n<polygon fill=\"#000000\" stroke=\"#000000\" points=\"1291.6741,-194.1428 1283.5871,-187.2981 1285.6406,-197.692 1291.6741,-194.1428\"/>\n</g>\n<!-- 21 -->\n<g id=\"node22\" class=\"node\">\n<title>21</title>\n<path fill=\"#3b9ee5\" stroke=\"#000000\" d=\"M1446,-187C1446,-187 1354,-187 1354,-187 1348,-187 1342,-181 1342,-175 1342,-175 1342,-116 1342,-116 1342,-110 1348,-104 1354,-104 1354,-104 1446,-104 1446,-104 1452,-104 1458,-110 1458,-116 1458,-116 1458,-175 1458,-175 1458,-181 1452,-187 1446,-187\"/>\n<text text-anchor=\"start\" x=\"1358.5\" y=\"-171.8\" font-family=\"Helvetica,sans-Serif\" font-size=\"14.00\" fill=\"#000000\">Age ≤ &#45;1.798</text>\n<text text-anchor=\"start\" x=\"1362\" y=\"-156.8\" font-family=\"Helvetica,sans-Serif\" font-size=\"14.00\" fill=\"#000000\">gini = 0.025</text>\n<text text-anchor=\"start\" x=\"1352\" y=\"-141.8\" font-family=\"Helvetica,sans-Serif\" font-size=\"14.00\" fill=\"#000000\">samples = 482</text>\n<text text-anchor=\"start\" x=\"1350\" y=\"-126.8\" font-family=\"Helvetica,sans-Serif\" font-size=\"14.00\" fill=\"#000000\">value = [6, 476]</text>\n<text text-anchor=\"start\" x=\"1371\" y=\"-111.8\" font-family=\"Helvetica,sans-Serif\" font-size=\"14.00\" fill=\"#000000\">class = 1</text>\n</g>\n<!-- 17&#45;&gt;21 -->\n<g id=\"edge21\" class=\"edge\">\n<title>17&#45;&gt;21</title>\n<path fill=\"none\" stroke=\"#000000\" d=\"M1353.8324,-222.8796C1358.9909,-214.2335 1364.4808,-205.0322 1369.8076,-196.1042\"/>\n<polygon fill=\"#000000\" stroke=\"#000000\" points=\"1372.9436,-197.679 1375.0617,-187.2981 1366.9322,-194.0924 1372.9436,-197.679\"/>\n</g>\n<!-- 19 -->\n<g id=\"node20\" class=\"node\">\n<title>19</title>\n<path fill=\"#bcdef6\" stroke=\"#000000\" d=\"M1179,-68C1179,-68 1087,-68 1087,-68 1081,-68 1075,-62 1075,-56 1075,-56 1075,-12 1075,-12 1075,-6 1081,0 1087,0 1087,0 1179,0 1179,0 1185,0 1191,-6 1191,-12 1191,-12 1191,-56 1191,-56 1191,-62 1185,-68 1179,-68\"/>\n<text text-anchor=\"start\" x=\"1095\" y=\"-52.8\" font-family=\"Helvetica,sans-Serif\" font-size=\"14.00\" fill=\"#000000\">gini = 0.479</text>\n<text text-anchor=\"start\" x=\"1089\" y=\"-37.8\" font-family=\"Helvetica,sans-Serif\" font-size=\"14.00\" fill=\"#000000\">samples = 88</text>\n<text text-anchor=\"start\" x=\"1083\" y=\"-22.8\" font-family=\"Helvetica,sans-Serif\" font-size=\"14.00\" fill=\"#000000\">value = [35, 53]</text>\n<text text-anchor=\"start\" x=\"1104\" y=\"-7.8\" font-family=\"Helvetica,sans-Serif\" font-size=\"14.00\" fill=\"#000000\">class = 1</text>\n</g>\n<!-- 18&#45;&gt;19 -->\n<g id=\"edge19\" class=\"edge\">\n<title>18&#45;&gt;19</title>\n<path fill=\"none\" stroke=\"#000000\" d=\"M1212.0823,-103.9815C1201.3848,-94.5151 1190.0244,-84.462 1179.3508,-75.0168\"/>\n<polygon fill=\"#000000\" stroke=\"#000000\" points=\"1181.5278,-72.2696 1171.7195,-68.2637 1176.8889,-77.5118 1181.5278,-72.2696\"/>\n</g>\n<!-- 20 -->\n<g id=\"node21\" class=\"node\">\n<title>20</title>\n<path fill=\"#3d9fe6\" stroke=\"#000000\" d=\"M1313,-68C1313,-68 1221,-68 1221,-68 1215,-68 1209,-62 1209,-56 1209,-56 1209,-12 1209,-12 1209,-6 1215,0 1221,0 1221,0 1313,0 1313,0 1319,0 1325,-6 1325,-12 1325,-12 1325,-56 1325,-56 1325,-62 1319,-68 1313,-68\"/>\n<text text-anchor=\"start\" x=\"1229\" y=\"-52.8\" font-family=\"Helvetica,sans-Serif\" font-size=\"14.00\" fill=\"#000000\">gini = 0.038</text>\n<text text-anchor=\"start\" x=\"1219\" y=\"-37.8\" font-family=\"Helvetica,sans-Serif\" font-size=\"14.00\" fill=\"#000000\">samples = 308</text>\n<text text-anchor=\"start\" x=\"1217\" y=\"-22.8\" font-family=\"Helvetica,sans-Serif\" font-size=\"14.00\" fill=\"#000000\">value = [6, 302]</text>\n<text text-anchor=\"start\" x=\"1238\" y=\"-7.8\" font-family=\"Helvetica,sans-Serif\" font-size=\"14.00\" fill=\"#000000\">class = 1</text>\n</g>\n<!-- 18&#45;&gt;20 -->\n<g id=\"edge20\" class=\"edge\">\n<title>18&#45;&gt;20</title>\n<path fill=\"none\" stroke=\"#000000\" d=\"M1261.9789,-103.9815C1262.579,-95.618 1263.2119,-86.7965 1263.8186,-78.3409\"/>\n<polygon fill=\"#000000\" stroke=\"#000000\" points=\"1267.3169,-78.4885 1264.5416,-68.2637 1260.3349,-77.9875 1267.3169,-78.4885\"/>\n</g>\n<!-- 22 -->\n<g id=\"node23\" class=\"node\">\n<title>22</title>\n<path fill=\"#e58139\" stroke=\"#000000\" d=\"M1430.5,-68C1430.5,-68 1355.5,-68 1355.5,-68 1349.5,-68 1343.5,-62 1343.5,-56 1343.5,-56 1343.5,-12 1343.5,-12 1343.5,-6 1349.5,0 1355.5,0 1355.5,0 1430.5,0 1430.5,0 1436.5,0 1442.5,-6 1442.5,-12 1442.5,-12 1442.5,-56 1442.5,-56 1442.5,-62 1436.5,-68 1430.5,-68\"/>\n<text text-anchor=\"start\" x=\"1363.5\" y=\"-52.8\" font-family=\"Helvetica,sans-Serif\" font-size=\"14.00\" fill=\"#000000\">gini = 0.0</text>\n<text text-anchor=\"start\" x=\"1353.5\" y=\"-37.8\" font-family=\"Helvetica,sans-Serif\" font-size=\"14.00\" fill=\"#000000\">samples = 2</text>\n<text text-anchor=\"start\" x=\"1351.5\" y=\"-22.8\" font-family=\"Helvetica,sans-Serif\" font-size=\"14.00\" fill=\"#000000\">value = [2, 0]</text>\n<text text-anchor=\"start\" x=\"1361.5\" y=\"-7.8\" font-family=\"Helvetica,sans-Serif\" font-size=\"14.00\" fill=\"#000000\">class = &#45;1</text>\n</g>\n<!-- 21&#45;&gt;22 -->\n<g id=\"edge22\" class=\"edge\">\n<title>21&#45;&gt;22</title>\n<path fill=\"none\" stroke=\"#000000\" d=\"M1397.3935,-103.9815C1396.8684,-95.618 1396.3146,-86.7965 1395.7837,-78.3409\"/>\n<polygon fill=\"#000000\" stroke=\"#000000\" points=\"1399.2709,-78.0247 1395.1511,-68.2637 1392.2846,-78.4634 1399.2709,-78.0247\"/>\n</g>\n<!-- 23 -->\n<g id=\"node24\" class=\"node\">\n<title>23</title>\n<path fill=\"#3b9ee5\" stroke=\"#000000\" d=\"M1565,-68C1565,-68 1473,-68 1473,-68 1467,-68 1461,-62 1461,-56 1461,-56 1461,-12 1461,-12 1461,-6 1467,0 1473,0 1473,0 1565,0 1565,0 1571,0 1577,-6 1577,-12 1577,-12 1577,-56 1577,-56 1577,-62 1571,-68 1565,-68\"/>\n<text text-anchor=\"start\" x=\"1481\" y=\"-52.8\" font-family=\"Helvetica,sans-Serif\" font-size=\"14.00\" fill=\"#000000\">gini = 0.017</text>\n<text text-anchor=\"start\" x=\"1471\" y=\"-37.8\" font-family=\"Helvetica,sans-Serif\" font-size=\"14.00\" fill=\"#000000\">samples = 480</text>\n<text text-anchor=\"start\" x=\"1469\" y=\"-22.8\" font-family=\"Helvetica,sans-Serif\" font-size=\"14.00\" fill=\"#000000\">value = [4, 476]</text>\n<text text-anchor=\"start\" x=\"1490\" y=\"-7.8\" font-family=\"Helvetica,sans-Serif\" font-size=\"14.00\" fill=\"#000000\">class = 1</text>\n</g>\n<!-- 21&#45;&gt;23 -->\n<g id=\"edge23\" class=\"edge\">\n<title>21&#45;&gt;23</title>\n<path fill=\"none\" stroke=\"#000000\" d=\"M1444.3112,-103.9815C1454.3163,-94.607 1464.9354,-84.6572 1474.9304,-75.2921\"/>\n<polygon fill=\"#000000\" stroke=\"#000000\" points=\"1477.5274,-77.6551 1482.4316,-68.2637 1472.7412,-72.547 1477.5274,-77.6551\"/>\n</g>\n<!-- 25 -->\n<g id=\"node26\" class=\"node\">\n<title>25</title>\n<path fill=\"#d9ecfa\" stroke=\"#000000\" d=\"M1773,-187C1773,-187 1649,-187 1649,-187 1643,-187 1637,-181 1637,-175 1637,-175 1637,-116 1637,-116 1637,-110 1643,-104 1649,-104 1649,-104 1773,-104 1773,-104 1779,-104 1785,-110 1785,-116 1785,-116 1785,-175 1785,-175 1785,-181 1779,-187 1773,-187\"/>\n<text text-anchor=\"start\" x=\"1645\" y=\"-171.8\" font-family=\"Helvetica,sans-Serif\" font-size=\"14.00\" fill=\"#000000\">Cabin_num ≤ &#45;0.054</text>\n<text text-anchor=\"start\" x=\"1673\" y=\"-156.8\" font-family=\"Helvetica,sans-Serif\" font-size=\"14.00\" fill=\"#000000\">gini = 0.494</text>\n<text text-anchor=\"start\" x=\"1663\" y=\"-141.8\" font-family=\"Helvetica,sans-Serif\" font-size=\"14.00\" fill=\"#000000\">samples = 298</text>\n<text text-anchor=\"start\" x=\"1653\" y=\"-126.8\" font-family=\"Helvetica,sans-Serif\" font-size=\"14.00\" fill=\"#000000\">value = [133, 165]</text>\n<text text-anchor=\"start\" x=\"1682\" y=\"-111.8\" font-family=\"Helvetica,sans-Serif\" font-size=\"14.00\" fill=\"#000000\">class = 1</text>\n</g>\n<!-- 24&#45;&gt;25 -->\n<g id=\"edge25\" class=\"edge\">\n<title>24&#45;&gt;25</title>\n<path fill=\"none\" stroke=\"#000000\" d=\"M1711,-222.8796C1711,-214.6838 1711,-205.9891 1711,-197.5013\"/>\n<polygon fill=\"#000000\" stroke=\"#000000\" points=\"1714.5001,-197.298 1711,-187.2981 1707.5001,-197.2981 1714.5001,-197.298\"/>\n</g>\n<!-- 28 -->\n<g id=\"node29\" class=\"node\">\n<title>28</title>\n<path fill=\"#94caf1\" stroke=\"#000000\" d=\"M1984.5,-187C1984.5,-187 1865.5,-187 1865.5,-187 1859.5,-187 1853.5,-181 1853.5,-175 1853.5,-175 1853.5,-116 1853.5,-116 1853.5,-110 1859.5,-104 1865.5,-104 1865.5,-104 1984.5,-104 1984.5,-104 1990.5,-104 1996.5,-110 1996.5,-116 1996.5,-116 1996.5,-175 1996.5,-175 1996.5,-181 1990.5,-187 1984.5,-187\"/>\n<text text-anchor=\"start\" x=\"1861.5\" y=\"-171.8\" font-family=\"Helvetica,sans-Serif\" font-size=\"14.00\" fill=\"#000000\">Cabin_side_S ≤ 0.5</text>\n<text text-anchor=\"start\" x=\"1887\" y=\"-156.8\" font-family=\"Helvetica,sans-Serif\" font-size=\"14.00\" fill=\"#000000\">gini = 0.432</text>\n<text text-anchor=\"start\" x=\"1877\" y=\"-141.8\" font-family=\"Helvetica,sans-Serif\" font-size=\"14.00\" fill=\"#000000\">samples = 422</text>\n<text text-anchor=\"start\" x=\"1867\" y=\"-126.8\" font-family=\"Helvetica,sans-Serif\" font-size=\"14.00\" fill=\"#000000\">value = [133, 289]</text>\n<text text-anchor=\"start\" x=\"1896\" y=\"-111.8\" font-family=\"Helvetica,sans-Serif\" font-size=\"14.00\" fill=\"#000000\">class = 1</text>\n</g>\n<!-- 24&#45;&gt;28 -->\n<g id=\"edge28\" class=\"edge\">\n<title>24&#45;&gt;28</title>\n<path fill=\"none\" stroke=\"#000000\" d=\"M1785.2462,-223.2135C1804.4038,-212.5605 1825.1117,-201.0454 1844.5684,-190.226\"/>\n<polygon fill=\"#000000\" stroke=\"#000000\" points=\"1846.3712,-193.2283 1853.4099,-185.3095 1842.9692,-187.1105 1846.3712,-193.2283\"/>\n</g>\n<!-- 26 -->\n<g id=\"node27\" class=\"node\">\n<title>26</title>\n<path fill=\"#d4eaf9\" stroke=\"#000000\" d=\"M1715,-68C1715,-68 1607,-68 1607,-68 1601,-68 1595,-62 1595,-56 1595,-56 1595,-12 1595,-12 1595,-6 1601,0 1607,0 1607,0 1715,0 1715,0 1721,0 1727,-6 1727,-12 1727,-12 1727,-56 1727,-56 1727,-62 1721,-68 1715,-68\"/>\n<text text-anchor=\"start\" x=\"1623\" y=\"-52.8\" font-family=\"Helvetica,sans-Serif\" font-size=\"14.00\" fill=\"#000000\">gini = 0.493</text>\n<text text-anchor=\"start\" x=\"1613\" y=\"-37.8\" font-family=\"Helvetica,sans-Serif\" font-size=\"14.00\" fill=\"#000000\">samples = 294</text>\n<text text-anchor=\"start\" x=\"1603\" y=\"-22.8\" font-family=\"Helvetica,sans-Serif\" font-size=\"14.00\" fill=\"#000000\">value = [129, 165]</text>\n<text text-anchor=\"start\" x=\"1632\" y=\"-7.8\" font-family=\"Helvetica,sans-Serif\" font-size=\"14.00\" fill=\"#000000\">class = 1</text>\n</g>\n<!-- 25&#45;&gt;26 -->\n<g id=\"edge26\" class=\"edge\">\n<title>25&#45;&gt;26</title>\n<path fill=\"none\" stroke=\"#000000\" d=\"M1692.3818,-103.9815C1688.5078,-95.3423 1684.4145,-86.2144 1680.5094,-77.5059\"/>\n<polygon fill=\"#000000\" stroke=\"#000000\" points=\"1683.6503,-75.9561 1676.3649,-68.2637 1677.2631,-78.8204 1683.6503,-75.9561\"/>\n</g>\n<!-- 27 -->\n<g id=\"node28\" class=\"node\">\n<title>27</title>\n<path fill=\"#e58139\" stroke=\"#000000\" d=\"M1832.5,-68C1832.5,-68 1757.5,-68 1757.5,-68 1751.5,-68 1745.5,-62 1745.5,-56 1745.5,-56 1745.5,-12 1745.5,-12 1745.5,-6 1751.5,0 1757.5,0 1757.5,0 1832.5,0 1832.5,0 1838.5,0 1844.5,-6 1844.5,-12 1844.5,-12 1844.5,-56 1844.5,-56 1844.5,-62 1838.5,-68 1832.5,-68\"/>\n<text text-anchor=\"start\" x=\"1765.5\" y=\"-52.8\" font-family=\"Helvetica,sans-Serif\" font-size=\"14.00\" fill=\"#000000\">gini = 0.0</text>\n<text text-anchor=\"start\" x=\"1755.5\" y=\"-37.8\" font-family=\"Helvetica,sans-Serif\" font-size=\"14.00\" fill=\"#000000\">samples = 4</text>\n<text text-anchor=\"start\" x=\"1753.5\" y=\"-22.8\" font-family=\"Helvetica,sans-Serif\" font-size=\"14.00\" fill=\"#000000\">value = [4, 0]</text>\n<text text-anchor=\"start\" x=\"1763.5\" y=\"-7.8\" font-family=\"Helvetica,sans-Serif\" font-size=\"14.00\" fill=\"#000000\">class = &#45;1</text>\n</g>\n<!-- 25&#45;&gt;27 -->\n<g id=\"edge27\" class=\"edge\">\n<title>25&#45;&gt;27</title>\n<path fill=\"none\" stroke=\"#000000\" d=\"M1742.2785,-103.9815C1749.0639,-94.9747 1756.2495,-85.4367 1763.0601,-76.3965\"/>\n<polygon fill=\"#000000\" stroke=\"#000000\" points=\"1765.9653,-78.3568 1769.187,-68.2637 1760.3743,-74.1448 1765.9653,-78.3568\"/>\n</g>\n<!-- 29 -->\n<g id=\"node30\" class=\"node\">\n<title>29</title>\n<path fill=\"#c9e4f8\" stroke=\"#000000\" d=\"M1975,-68C1975,-68 1875,-68 1875,-68 1869,-68 1863,-62 1863,-56 1863,-56 1863,-12 1863,-12 1863,-6 1869,0 1875,0 1875,0 1975,0 1975,0 1981,0 1987,-6 1987,-12 1987,-12 1987,-56 1987,-56 1987,-62 1981,-68 1975,-68\"/>\n<text text-anchor=\"start\" x=\"1887\" y=\"-52.8\" font-family=\"Helvetica,sans-Serif\" font-size=\"14.00\" fill=\"#000000\">gini = 0.487</text>\n<text text-anchor=\"start\" x=\"1877\" y=\"-37.8\" font-family=\"Helvetica,sans-Serif\" font-size=\"14.00\" fill=\"#000000\">samples = 226</text>\n<text text-anchor=\"start\" x=\"1871\" y=\"-22.8\" font-family=\"Helvetica,sans-Serif\" font-size=\"14.00\" fill=\"#000000\">value = [95, 131]</text>\n<text text-anchor=\"start\" x=\"1896\" y=\"-7.8\" font-family=\"Helvetica,sans-Serif\" font-size=\"14.00\" fill=\"#000000\">class = 1</text>\n</g>\n<!-- 28&#45;&gt;29 -->\n<g id=\"edge29\" class=\"edge\">\n<title>28&#45;&gt;29</title>\n<path fill=\"none\" stroke=\"#000000\" d=\"M1925,-103.9815C1925,-95.618 1925,-86.7965 1925,-78.3409\"/>\n<polygon fill=\"#000000\" stroke=\"#000000\" points=\"1928.5001,-78.2636 1925,-68.2637 1921.5001,-78.2637 1928.5001,-78.2636\"/>\n</g>\n<!-- 30 -->\n<g id=\"node31\" class=\"node\">\n<title>30</title>\n<path fill=\"#69b5eb\" stroke=\"#000000\" d=\"M2117,-68C2117,-68 2017,-68 2017,-68 2011,-68 2005,-62 2005,-56 2005,-56 2005,-12 2005,-12 2005,-6 2011,0 2017,0 2017,0 2117,0 2117,0 2123,0 2129,-6 2129,-12 2129,-12 2129,-56 2129,-56 2129,-62 2123,-68 2117,-68\"/>\n<text text-anchor=\"start\" x=\"2029\" y=\"-52.8\" font-family=\"Helvetica,sans-Serif\" font-size=\"14.00\" fill=\"#000000\">gini = 0.313</text>\n<text text-anchor=\"start\" x=\"2019\" y=\"-37.8\" font-family=\"Helvetica,sans-Serif\" font-size=\"14.00\" fill=\"#000000\">samples = 196</text>\n<text text-anchor=\"start\" x=\"2013\" y=\"-22.8\" font-family=\"Helvetica,sans-Serif\" font-size=\"14.00\" fill=\"#000000\">value = [38, 158]</text>\n<text text-anchor=\"start\" x=\"2038\" y=\"-7.8\" font-family=\"Helvetica,sans-Serif\" font-size=\"14.00\" fill=\"#000000\">class = 1</text>\n</g>\n<!-- 28&#45;&gt;30 -->\n<g id=\"edge30\" class=\"edge\">\n<title>28&#45;&gt;30</title>\n<path fill=\"none\" stroke=\"#000000\" d=\"M1977.8756,-103.9815C1990.1655,-94.3313 2003.2319,-84.0714 2015.4632,-74.4673\"/>\n<polygon fill=\"#000000\" stroke=\"#000000\" points=\"2017.6602,-77.1923 2023.3638,-68.2637 2013.3371,-71.6867 2017.6602,-77.1923\"/>\n</g>\n</g>\n</svg>\n"
          },
          "metadata": {},
          "execution_count": 65
        }
      ],
      "source": [
        "dot_data = export_graphviz(tree_pred, out_file=None, \n",
        "                           feature_names=x_train.columns, \n",
        "                           class_names = classes,\n",
        "                         filled=True, rounded=True,\n",
        "                         special_characters=True)\n",
        "graph = graphviz.Source(dot_data)\n",
        "graph"
      ]
    },
    {
      "cell_type": "markdown",
      "metadata": {
        "id": "S77t1-7X_sNX"
      },
      "source": [
        "## Búsqueda de hiperparámetros"
      ]
    },
    {
      "cell_type": "code",
      "execution_count": null,
      "metadata": {
        "colab": {
          "base_uri": "https://localhost:8080/"
        },
        "outputId": "af078a02-6f24-4f7b-db81-620178186a5b",
        "id": "cBhmQmwL_sNX"
      },
      "outputs": [
        {
          "output_type": "execute_result",
          "data": {
            "text/plain": [
              "GridSearchCV(estimator=DecisionTreeClassifier(),\n",
              "             param_grid=[{'max_depth': [None, 2, 3, 4, 5, 6, 7, 8, 9, 10, 11,\n",
              "                                        12, 13, 14, 15, 16, 17, 18, 19, 20, 21,\n",
              "                                        22, 23, 24, 25, 26, 27, 28, 29, 30, ...],\n",
              "                          'max_leaf_nodes': [2, 3, 4, 5, 6, 7, 8, 9],\n",
              "                          'min_samples_split': [2, 3, 4, 5, 6, 7, 8, 9, 10, 11,\n",
              "                                                12, 13, 14, 15, 16, 17, 18, 19,\n",
              "                                                20, 21, 22, 23, 24]},\n",
              "                         {'criterion': ['gini', 'entropy'],\n",
              "                          'max_features': ['auto', 'sqrt', 'log2']}])"
            ]
          },
          "metadata": {},
          "execution_count": 66
        }
      ],
      "source": [
        "params = [\n",
        "    {\n",
        "        'max_leaf_nodes': list(range(2, 10)), \n",
        "        'min_samples_split': list(range(2, 25)),\n",
        "        'max_depth': [None] + list(range(2, 50))\n",
        "    },\n",
        "    \n",
        "    {\n",
        "        'max_features': ['auto', 'sqrt', 'log2'],\n",
        "        'criterion' :['gini', 'entropy']\n",
        "    }\n",
        "]\n",
        "\n",
        "\n",
        "tree = DecisionTreeClassifier()\n",
        "clf = GridSearchCV(tree, params)\n",
        "clf.fit(X_train, y_train)"
      ]
    },
    {
      "cell_type": "code",
      "execution_count": null,
      "metadata": {
        "colab": {
          "base_uri": "https://localhost:8080/"
        },
        "outputId": "48fb8ece-eb6e-44b2-cdf3-7eef78140684",
        "id": "3zzEbU8w_sNY"
      },
      "outputs": [
        {
          "output_type": "execute_result",
          "data": {
            "text/plain": [
              "{'mean_fit_time': array([0.00933995, 0.00890808, 0.0088573 , ..., 0.01433606, 0.01318045,\n",
              "        0.01257915]),\n",
              " 'std_fit_time': array([0.00115682, 0.000302  , 0.00023763, ..., 0.00168894, 0.00098978,\n",
              "        0.00025706]),\n",
              " 'mean_score_time': array([0.00171118, 0.00171041, 0.00168891, ..., 0.00187569, 0.00163531,\n",
              "        0.00161586]),\n",
              " 'std_score_time': array([4.26206537e-05, 3.85466146e-05, 3.90393661e-05, ...,\n",
              "        4.24444628e-04, 9.17673080e-05, 7.99553119e-05]),\n",
              " 'param_max_depth': masked_array(data=[None, None, None, ..., --, --, --],\n",
              "              mask=[False, False, False, ...,  True,  True,  True],\n",
              "        fill_value='?',\n",
              "             dtype=object),\n",
              " 'param_max_leaf_nodes': masked_array(data=[2, 2, 2, ..., --, --, --],\n",
              "              mask=[False, False, False, ...,  True,  True,  True],\n",
              "        fill_value='?',\n",
              "             dtype=object),\n",
              " 'param_min_samples_split': masked_array(data=[2, 3, 4, ..., --, --, --],\n",
              "              mask=[False, False, False, ...,  True,  True,  True],\n",
              "        fill_value='?',\n",
              "             dtype=object),\n",
              " 'param_criterion': masked_array(data=[--, --, --, ..., 'entropy', 'entropy', 'entropy'],\n",
              "              mask=[ True,  True,  True, ..., False, False, False],\n",
              "        fill_value='?',\n",
              "             dtype=object),\n",
              " 'param_max_features': masked_array(data=[--, --, --, ..., 'auto', 'sqrt', 'log2'],\n",
              "              mask=[ True,  True,  True, ..., False, False, False],\n",
              "        fill_value='?',\n",
              "             dtype=object),\n",
              " 'params': [{'max_depth': None, 'max_leaf_nodes': 2, 'min_samples_split': 2},\n",
              "  {'max_depth': None, 'max_leaf_nodes': 2, 'min_samples_split': 3},\n",
              "  {'max_depth': None, 'max_leaf_nodes': 2, 'min_samples_split': 4},\n",
              "  {'max_depth': None, 'max_leaf_nodes': 2, 'min_samples_split': 5},\n",
              "  {'max_depth': None, 'max_leaf_nodes': 2, 'min_samples_split': 6},\n",
              "  {'max_depth': None, 'max_leaf_nodes': 2, 'min_samples_split': 7},\n",
              "  {'max_depth': None, 'max_leaf_nodes': 2, 'min_samples_split': 8},\n",
              "  {'max_depth': None, 'max_leaf_nodes': 2, 'min_samples_split': 9},\n",
              "  {'max_depth': None, 'max_leaf_nodes': 2, 'min_samples_split': 10},\n",
              "  {'max_depth': None, 'max_leaf_nodes': 2, 'min_samples_split': 11},\n",
              "  {'max_depth': None, 'max_leaf_nodes': 2, 'min_samples_split': 12},\n",
              "  {'max_depth': None, 'max_leaf_nodes': 2, 'min_samples_split': 13},\n",
              "  {'max_depth': None, 'max_leaf_nodes': 2, 'min_samples_split': 14},\n",
              "  {'max_depth': None, 'max_leaf_nodes': 2, 'min_samples_split': 15},\n",
              "  {'max_depth': None, 'max_leaf_nodes': 2, 'min_samples_split': 16},\n",
              "  {'max_depth': None, 'max_leaf_nodes': 2, 'min_samples_split': 17},\n",
              "  {'max_depth': None, 'max_leaf_nodes': 2, 'min_samples_split': 18},\n",
              "  {'max_depth': None, 'max_leaf_nodes': 2, 'min_samples_split': 19},\n",
              "  {'max_depth': None, 'max_leaf_nodes': 2, 'min_samples_split': 20},\n",
              "  {'max_depth': None, 'max_leaf_nodes': 2, 'min_samples_split': 21},\n",
              "  {'max_depth': None, 'max_leaf_nodes': 2, 'min_samples_split': 22},\n",
              "  {'max_depth': None, 'max_leaf_nodes': 2, 'min_samples_split': 23},\n",
              "  {'max_depth': None, 'max_leaf_nodes': 2, 'min_samples_split': 24},\n",
              "  {'max_depth': None, 'max_leaf_nodes': 3, 'min_samples_split': 2},\n",
              "  {'max_depth': None, 'max_leaf_nodes': 3, 'min_samples_split': 3},\n",
              "  {'max_depth': None, 'max_leaf_nodes': 3, 'min_samples_split': 4},\n",
              "  {'max_depth': None, 'max_leaf_nodes': 3, 'min_samples_split': 5},\n",
              "  {'max_depth': None, 'max_leaf_nodes': 3, 'min_samples_split': 6},\n",
              "  {'max_depth': None, 'max_leaf_nodes': 3, 'min_samples_split': 7},\n",
              "  {'max_depth': None, 'max_leaf_nodes': 3, 'min_samples_split': 8},\n",
              "  {'max_depth': None, 'max_leaf_nodes': 3, 'min_samples_split': 9},\n",
              "  {'max_depth': None, 'max_leaf_nodes': 3, 'min_samples_split': 10},\n",
              "  {'max_depth': None, 'max_leaf_nodes': 3, 'min_samples_split': 11},\n",
              "  {'max_depth': None, 'max_leaf_nodes': 3, 'min_samples_split': 12},\n",
              "  {'max_depth': None, 'max_leaf_nodes': 3, 'min_samples_split': 13},\n",
              "  {'max_depth': None, 'max_leaf_nodes': 3, 'min_samples_split': 14},\n",
              "  {'max_depth': None, 'max_leaf_nodes': 3, 'min_samples_split': 15},\n",
              "  {'max_depth': None, 'max_leaf_nodes': 3, 'min_samples_split': 16},\n",
              "  {'max_depth': None, 'max_leaf_nodes': 3, 'min_samples_split': 17},\n",
              "  {'max_depth': None, 'max_leaf_nodes': 3, 'min_samples_split': 18},\n",
              "  {'max_depth': None, 'max_leaf_nodes': 3, 'min_samples_split': 19},\n",
              "  {'max_depth': None, 'max_leaf_nodes': 3, 'min_samples_split': 20},\n",
              "  {'max_depth': None, 'max_leaf_nodes': 3, 'min_samples_split': 21},\n",
              "  {'max_depth': None, 'max_leaf_nodes': 3, 'min_samples_split': 22},\n",
              "  {'max_depth': None, 'max_leaf_nodes': 3, 'min_samples_split': 23},\n",
              "  {'max_depth': None, 'max_leaf_nodes': 3, 'min_samples_split': 24},\n",
              "  {'max_depth': None, 'max_leaf_nodes': 4, 'min_samples_split': 2},\n",
              "  {'max_depth': None, 'max_leaf_nodes': 4, 'min_samples_split': 3},\n",
              "  {'max_depth': None, 'max_leaf_nodes': 4, 'min_samples_split': 4},\n",
              "  {'max_depth': None, 'max_leaf_nodes': 4, 'min_samples_split': 5},\n",
              "  {'max_depth': None, 'max_leaf_nodes': 4, 'min_samples_split': 6},\n",
              "  {'max_depth': None, 'max_leaf_nodes': 4, 'min_samples_split': 7},\n",
              "  {'max_depth': None, 'max_leaf_nodes': 4, 'min_samples_split': 8},\n",
              "  {'max_depth': None, 'max_leaf_nodes': 4, 'min_samples_split': 9},\n",
              "  {'max_depth': None, 'max_leaf_nodes': 4, 'min_samples_split': 10},\n",
              "  {'max_depth': None, 'max_leaf_nodes': 4, 'min_samples_split': 11},\n",
              "  {'max_depth': None, 'max_leaf_nodes': 4, 'min_samples_split': 12},\n",
              "  {'max_depth': None, 'max_leaf_nodes': 4, 'min_samples_split': 13},\n",
              "  {'max_depth': None, 'max_leaf_nodes': 4, 'min_samples_split': 14},\n",
              "  {'max_depth': None, 'max_leaf_nodes': 4, 'min_samples_split': 15},\n",
              "  {'max_depth': None, 'max_leaf_nodes': 4, 'min_samples_split': 16},\n",
              "  {'max_depth': None, 'max_leaf_nodes': 4, 'min_samples_split': 17},\n",
              "  {'max_depth': None, 'max_leaf_nodes': 4, 'min_samples_split': 18},\n",
              "  {'max_depth': None, 'max_leaf_nodes': 4, 'min_samples_split': 19},\n",
              "  {'max_depth': None, 'max_leaf_nodes': 4, 'min_samples_split': 20},\n",
              "  {'max_depth': None, 'max_leaf_nodes': 4, 'min_samples_split': 21},\n",
              "  {'max_depth': None, 'max_leaf_nodes': 4, 'min_samples_split': 22},\n",
              "  {'max_depth': None, 'max_leaf_nodes': 4, 'min_samples_split': 23},\n",
              "  {'max_depth': None, 'max_leaf_nodes': 4, 'min_samples_split': 24},\n",
              "  {'max_depth': None, 'max_leaf_nodes': 5, 'min_samples_split': 2},\n",
              "  {'max_depth': None, 'max_leaf_nodes': 5, 'min_samples_split': 3},\n",
              "  {'max_depth': None, 'max_leaf_nodes': 5, 'min_samples_split': 4},\n",
              "  {'max_depth': None, 'max_leaf_nodes': 5, 'min_samples_split': 5},\n",
              "  {'max_depth': None, 'max_leaf_nodes': 5, 'min_samples_split': 6},\n",
              "  {'max_depth': None, 'max_leaf_nodes': 5, 'min_samples_split': 7},\n",
              "  {'max_depth': None, 'max_leaf_nodes': 5, 'min_samples_split': 8},\n",
              "  {'max_depth': None, 'max_leaf_nodes': 5, 'min_samples_split': 9},\n",
              "  {'max_depth': None, 'max_leaf_nodes': 5, 'min_samples_split': 10},\n",
              "  {'max_depth': None, 'max_leaf_nodes': 5, 'min_samples_split': 11},\n",
              "  {'max_depth': None, 'max_leaf_nodes': 5, 'min_samples_split': 12},\n",
              "  {'max_depth': None, 'max_leaf_nodes': 5, 'min_samples_split': 13},\n",
              "  {'max_depth': None, 'max_leaf_nodes': 5, 'min_samples_split': 14},\n",
              "  {'max_depth': None, 'max_leaf_nodes': 5, 'min_samples_split': 15},\n",
              "  {'max_depth': None, 'max_leaf_nodes': 5, 'min_samples_split': 16},\n",
              "  {'max_depth': None, 'max_leaf_nodes': 5, 'min_samples_split': 17},\n",
              "  {'max_depth': None, 'max_leaf_nodes': 5, 'min_samples_split': 18},\n",
              "  {'max_depth': None, 'max_leaf_nodes': 5, 'min_samples_split': 19},\n",
              "  {'max_depth': None, 'max_leaf_nodes': 5, 'min_samples_split': 20},\n",
              "  {'max_depth': None, 'max_leaf_nodes': 5, 'min_samples_split': 21},\n",
              "  {'max_depth': None, 'max_leaf_nodes': 5, 'min_samples_split': 22},\n",
              "  {'max_depth': None, 'max_leaf_nodes': 5, 'min_samples_split': 23},\n",
              "  {'max_depth': None, 'max_leaf_nodes': 5, 'min_samples_split': 24},\n",
              "  {'max_depth': None, 'max_leaf_nodes': 6, 'min_samples_split': 2},\n",
              "  {'max_depth': None, 'max_leaf_nodes': 6, 'min_samples_split': 3},\n",
              "  {'max_depth': None, 'max_leaf_nodes': 6, 'min_samples_split': 4},\n",
              "  {'max_depth': None, 'max_leaf_nodes': 6, 'min_samples_split': 5},\n",
              "  {'max_depth': None, 'max_leaf_nodes': 6, 'min_samples_split': 6},\n",
              "  {'max_depth': None, 'max_leaf_nodes': 6, 'min_samples_split': 7},\n",
              "  {'max_depth': None, 'max_leaf_nodes': 6, 'min_samples_split': 8},\n",
              "  {'max_depth': None, 'max_leaf_nodes': 6, 'min_samples_split': 9},\n",
              "  {'max_depth': None, 'max_leaf_nodes': 6, 'min_samples_split': 10},\n",
              "  {'max_depth': None, 'max_leaf_nodes': 6, 'min_samples_split': 11},\n",
              "  {'max_depth': None, 'max_leaf_nodes': 6, 'min_samples_split': 12},\n",
              "  {'max_depth': None, 'max_leaf_nodes': 6, 'min_samples_split': 13},\n",
              "  {'max_depth': None, 'max_leaf_nodes': 6, 'min_samples_split': 14},\n",
              "  {'max_depth': None, 'max_leaf_nodes': 6, 'min_samples_split': 15},\n",
              "  {'max_depth': None, 'max_leaf_nodes': 6, 'min_samples_split': 16},\n",
              "  {'max_depth': None, 'max_leaf_nodes': 6, 'min_samples_split': 17},\n",
              "  {'max_depth': None, 'max_leaf_nodes': 6, 'min_samples_split': 18},\n",
              "  {'max_depth': None, 'max_leaf_nodes': 6, 'min_samples_split': 19},\n",
              "  {'max_depth': None, 'max_leaf_nodes': 6, 'min_samples_split': 20},\n",
              "  {'max_depth': None, 'max_leaf_nodes': 6, 'min_samples_split': 21},\n",
              "  {'max_depth': None, 'max_leaf_nodes': 6, 'min_samples_split': 22},\n",
              "  {'max_depth': None, 'max_leaf_nodes': 6, 'min_samples_split': 23},\n",
              "  {'max_depth': None, 'max_leaf_nodes': 6, 'min_samples_split': 24},\n",
              "  {'max_depth': None, 'max_leaf_nodes': 7, 'min_samples_split': 2},\n",
              "  {'max_depth': None, 'max_leaf_nodes': 7, 'min_samples_split': 3},\n",
              "  {'max_depth': None, 'max_leaf_nodes': 7, 'min_samples_split': 4},\n",
              "  {'max_depth': None, 'max_leaf_nodes': 7, 'min_samples_split': 5},\n",
              "  {'max_depth': None, 'max_leaf_nodes': 7, 'min_samples_split': 6},\n",
              "  {'max_depth': None, 'max_leaf_nodes': 7, 'min_samples_split': 7},\n",
              "  {'max_depth': None, 'max_leaf_nodes': 7, 'min_samples_split': 8},\n",
              "  {'max_depth': None, 'max_leaf_nodes': 7, 'min_samples_split': 9},\n",
              "  {'max_depth': None, 'max_leaf_nodes': 7, 'min_samples_split': 10},\n",
              "  {'max_depth': None, 'max_leaf_nodes': 7, 'min_samples_split': 11},\n",
              "  {'max_depth': None, 'max_leaf_nodes': 7, 'min_samples_split': 12},\n",
              "  {'max_depth': None, 'max_leaf_nodes': 7, 'min_samples_split': 13},\n",
              "  {'max_depth': None, 'max_leaf_nodes': 7, 'min_samples_split': 14},\n",
              "  {'max_depth': None, 'max_leaf_nodes': 7, 'min_samples_split': 15},\n",
              "  {'max_depth': None, 'max_leaf_nodes': 7, 'min_samples_split': 16},\n",
              "  {'max_depth': None, 'max_leaf_nodes': 7, 'min_samples_split': 17},\n",
              "  {'max_depth': None, 'max_leaf_nodes': 7, 'min_samples_split': 18},\n",
              "  {'max_depth': None, 'max_leaf_nodes': 7, 'min_samples_split': 19},\n",
              "  {'max_depth': None, 'max_leaf_nodes': 7, 'min_samples_split': 20},\n",
              "  {'max_depth': None, 'max_leaf_nodes': 7, 'min_samples_split': 21},\n",
              "  {'max_depth': None, 'max_leaf_nodes': 7, 'min_samples_split': 22},\n",
              "  {'max_depth': None, 'max_leaf_nodes': 7, 'min_samples_split': 23},\n",
              "  {'max_depth': None, 'max_leaf_nodes': 7, 'min_samples_split': 24},\n",
              "  {'max_depth': None, 'max_leaf_nodes': 8, 'min_samples_split': 2},\n",
              "  {'max_depth': None, 'max_leaf_nodes': 8, 'min_samples_split': 3},\n",
              "  {'max_depth': None, 'max_leaf_nodes': 8, 'min_samples_split': 4},\n",
              "  {'max_depth': None, 'max_leaf_nodes': 8, 'min_samples_split': 5},\n",
              "  {'max_depth': None, 'max_leaf_nodes': 8, 'min_samples_split': 6},\n",
              "  {'max_depth': None, 'max_leaf_nodes': 8, 'min_samples_split': 7},\n",
              "  {'max_depth': None, 'max_leaf_nodes': 8, 'min_samples_split': 8},\n",
              "  {'max_depth': None, 'max_leaf_nodes': 8, 'min_samples_split': 9},\n",
              "  {'max_depth': None, 'max_leaf_nodes': 8, 'min_samples_split': 10},\n",
              "  {'max_depth': None, 'max_leaf_nodes': 8, 'min_samples_split': 11},\n",
              "  {'max_depth': None, 'max_leaf_nodes': 8, 'min_samples_split': 12},\n",
              "  {'max_depth': None, 'max_leaf_nodes': 8, 'min_samples_split': 13},\n",
              "  {'max_depth': None, 'max_leaf_nodes': 8, 'min_samples_split': 14},\n",
              "  {'max_depth': None, 'max_leaf_nodes': 8, 'min_samples_split': 15},\n",
              "  {'max_depth': None, 'max_leaf_nodes': 8, 'min_samples_split': 16},\n",
              "  {'max_depth': None, 'max_leaf_nodes': 8, 'min_samples_split': 17},\n",
              "  {'max_depth': None, 'max_leaf_nodes': 8, 'min_samples_split': 18},\n",
              "  {'max_depth': None, 'max_leaf_nodes': 8, 'min_samples_split': 19},\n",
              "  {'max_depth': None, 'max_leaf_nodes': 8, 'min_samples_split': 20},\n",
              "  {'max_depth': None, 'max_leaf_nodes': 8, 'min_samples_split': 21},\n",
              "  {'max_depth': None, 'max_leaf_nodes': 8, 'min_samples_split': 22},\n",
              "  {'max_depth': None, 'max_leaf_nodes': 8, 'min_samples_split': 23},\n",
              "  {'max_depth': None, 'max_leaf_nodes': 8, 'min_samples_split': 24},\n",
              "  {'max_depth': None, 'max_leaf_nodes': 9, 'min_samples_split': 2},\n",
              "  {'max_depth': None, 'max_leaf_nodes': 9, 'min_samples_split': 3},\n",
              "  {'max_depth': None, 'max_leaf_nodes': 9, 'min_samples_split': 4},\n",
              "  {'max_depth': None, 'max_leaf_nodes': 9, 'min_samples_split': 5},\n",
              "  {'max_depth': None, 'max_leaf_nodes': 9, 'min_samples_split': 6},\n",
              "  {'max_depth': None, 'max_leaf_nodes': 9, 'min_samples_split': 7},\n",
              "  {'max_depth': None, 'max_leaf_nodes': 9, 'min_samples_split': 8},\n",
              "  {'max_depth': None, 'max_leaf_nodes': 9, 'min_samples_split': 9},\n",
              "  {'max_depth': None, 'max_leaf_nodes': 9, 'min_samples_split': 10},\n",
              "  {'max_depth': None, 'max_leaf_nodes': 9, 'min_samples_split': 11},\n",
              "  {'max_depth': None, 'max_leaf_nodes': 9, 'min_samples_split': 12},\n",
              "  {'max_depth': None, 'max_leaf_nodes': 9, 'min_samples_split': 13},\n",
              "  {'max_depth': None, 'max_leaf_nodes': 9, 'min_samples_split': 14},\n",
              "  {'max_depth': None, 'max_leaf_nodes': 9, 'min_samples_split': 15},\n",
              "  {'max_depth': None, 'max_leaf_nodes': 9, 'min_samples_split': 16},\n",
              "  {'max_depth': None, 'max_leaf_nodes': 9, 'min_samples_split': 17},\n",
              "  {'max_depth': None, 'max_leaf_nodes': 9, 'min_samples_split': 18},\n",
              "  {'max_depth': None, 'max_leaf_nodes': 9, 'min_samples_split': 19},\n",
              "  {'max_depth': None, 'max_leaf_nodes': 9, 'min_samples_split': 20},\n",
              "  {'max_depth': None, 'max_leaf_nodes': 9, 'min_samples_split': 21},\n",
              "  {'max_depth': None, 'max_leaf_nodes': 9, 'min_samples_split': 22},\n",
              "  {'max_depth': None, 'max_leaf_nodes': 9, 'min_samples_split': 23},\n",
              "  {'max_depth': None, 'max_leaf_nodes': 9, 'min_samples_split': 24},\n",
              "  {'max_depth': 2, 'max_leaf_nodes': 2, 'min_samples_split': 2},\n",
              "  {'max_depth': 2, 'max_leaf_nodes': 2, 'min_samples_split': 3},\n",
              "  {'max_depth': 2, 'max_leaf_nodes': 2, 'min_samples_split': 4},\n",
              "  {'max_depth': 2, 'max_leaf_nodes': 2, 'min_samples_split': 5},\n",
              "  {'max_depth': 2, 'max_leaf_nodes': 2, 'min_samples_split': 6},\n",
              "  {'max_depth': 2, 'max_leaf_nodes': 2, 'min_samples_split': 7},\n",
              "  {'max_depth': 2, 'max_leaf_nodes': 2, 'min_samples_split': 8},\n",
              "  {'max_depth': 2, 'max_leaf_nodes': 2, 'min_samples_split': 9},\n",
              "  {'max_depth': 2, 'max_leaf_nodes': 2, 'min_samples_split': 10},\n",
              "  {'max_depth': 2, 'max_leaf_nodes': 2, 'min_samples_split': 11},\n",
              "  {'max_depth': 2, 'max_leaf_nodes': 2, 'min_samples_split': 12},\n",
              "  {'max_depth': 2, 'max_leaf_nodes': 2, 'min_samples_split': 13},\n",
              "  {'max_depth': 2, 'max_leaf_nodes': 2, 'min_samples_split': 14},\n",
              "  {'max_depth': 2, 'max_leaf_nodes': 2, 'min_samples_split': 15},\n",
              "  {'max_depth': 2, 'max_leaf_nodes': 2, 'min_samples_split': 16},\n",
              "  {'max_depth': 2, 'max_leaf_nodes': 2, 'min_samples_split': 17},\n",
              "  {'max_depth': 2, 'max_leaf_nodes': 2, 'min_samples_split': 18},\n",
              "  {'max_depth': 2, 'max_leaf_nodes': 2, 'min_samples_split': 19},\n",
              "  {'max_depth': 2, 'max_leaf_nodes': 2, 'min_samples_split': 20},\n",
              "  {'max_depth': 2, 'max_leaf_nodes': 2, 'min_samples_split': 21},\n",
              "  {'max_depth': 2, 'max_leaf_nodes': 2, 'min_samples_split': 22},\n",
              "  {'max_depth': 2, 'max_leaf_nodes': 2, 'min_samples_split': 23},\n",
              "  {'max_depth': 2, 'max_leaf_nodes': 2, 'min_samples_split': 24},\n",
              "  {'max_depth': 2, 'max_leaf_nodes': 3, 'min_samples_split': 2},\n",
              "  {'max_depth': 2, 'max_leaf_nodes': 3, 'min_samples_split': 3},\n",
              "  {'max_depth': 2, 'max_leaf_nodes': 3, 'min_samples_split': 4},\n",
              "  {'max_depth': 2, 'max_leaf_nodes': 3, 'min_samples_split': 5},\n",
              "  {'max_depth': 2, 'max_leaf_nodes': 3, 'min_samples_split': 6},\n",
              "  {'max_depth': 2, 'max_leaf_nodes': 3, 'min_samples_split': 7},\n",
              "  {'max_depth': 2, 'max_leaf_nodes': 3, 'min_samples_split': 8},\n",
              "  {'max_depth': 2, 'max_leaf_nodes': 3, 'min_samples_split': 9},\n",
              "  {'max_depth': 2, 'max_leaf_nodes': 3, 'min_samples_split': 10},\n",
              "  {'max_depth': 2, 'max_leaf_nodes': 3, 'min_samples_split': 11},\n",
              "  {'max_depth': 2, 'max_leaf_nodes': 3, 'min_samples_split': 12},\n",
              "  {'max_depth': 2, 'max_leaf_nodes': 3, 'min_samples_split': 13},\n",
              "  {'max_depth': 2, 'max_leaf_nodes': 3, 'min_samples_split': 14},\n",
              "  {'max_depth': 2, 'max_leaf_nodes': 3, 'min_samples_split': 15},\n",
              "  {'max_depth': 2, 'max_leaf_nodes': 3, 'min_samples_split': 16},\n",
              "  {'max_depth': 2, 'max_leaf_nodes': 3, 'min_samples_split': 17},\n",
              "  {'max_depth': 2, 'max_leaf_nodes': 3, 'min_samples_split': 18},\n",
              "  {'max_depth': 2, 'max_leaf_nodes': 3, 'min_samples_split': 19},\n",
              "  {'max_depth': 2, 'max_leaf_nodes': 3, 'min_samples_split': 20},\n",
              "  {'max_depth': 2, 'max_leaf_nodes': 3, 'min_samples_split': 21},\n",
              "  {'max_depth': 2, 'max_leaf_nodes': 3, 'min_samples_split': 22},\n",
              "  {'max_depth': 2, 'max_leaf_nodes': 3, 'min_samples_split': 23},\n",
              "  {'max_depth': 2, 'max_leaf_nodes': 3, 'min_samples_split': 24},\n",
              "  {'max_depth': 2, 'max_leaf_nodes': 4, 'min_samples_split': 2},\n",
              "  {'max_depth': 2, 'max_leaf_nodes': 4, 'min_samples_split': 3},\n",
              "  {'max_depth': 2, 'max_leaf_nodes': 4, 'min_samples_split': 4},\n",
              "  {'max_depth': 2, 'max_leaf_nodes': 4, 'min_samples_split': 5},\n",
              "  {'max_depth': 2, 'max_leaf_nodes': 4, 'min_samples_split': 6},\n",
              "  {'max_depth': 2, 'max_leaf_nodes': 4, 'min_samples_split': 7},\n",
              "  {'max_depth': 2, 'max_leaf_nodes': 4, 'min_samples_split': 8},\n",
              "  {'max_depth': 2, 'max_leaf_nodes': 4, 'min_samples_split': 9},\n",
              "  {'max_depth': 2, 'max_leaf_nodes': 4, 'min_samples_split': 10},\n",
              "  {'max_depth': 2, 'max_leaf_nodes': 4, 'min_samples_split': 11},\n",
              "  {'max_depth': 2, 'max_leaf_nodes': 4, 'min_samples_split': 12},\n",
              "  {'max_depth': 2, 'max_leaf_nodes': 4, 'min_samples_split': 13},\n",
              "  {'max_depth': 2, 'max_leaf_nodes': 4, 'min_samples_split': 14},\n",
              "  {'max_depth': 2, 'max_leaf_nodes': 4, 'min_samples_split': 15},\n",
              "  {'max_depth': 2, 'max_leaf_nodes': 4, 'min_samples_split': 16},\n",
              "  {'max_depth': 2, 'max_leaf_nodes': 4, 'min_samples_split': 17},\n",
              "  {'max_depth': 2, 'max_leaf_nodes': 4, 'min_samples_split': 18},\n",
              "  {'max_depth': 2, 'max_leaf_nodes': 4, 'min_samples_split': 19},\n",
              "  {'max_depth': 2, 'max_leaf_nodes': 4, 'min_samples_split': 20},\n",
              "  {'max_depth': 2, 'max_leaf_nodes': 4, 'min_samples_split': 21},\n",
              "  {'max_depth': 2, 'max_leaf_nodes': 4, 'min_samples_split': 22},\n",
              "  {'max_depth': 2, 'max_leaf_nodes': 4, 'min_samples_split': 23},\n",
              "  {'max_depth': 2, 'max_leaf_nodes': 4, 'min_samples_split': 24},\n",
              "  {'max_depth': 2, 'max_leaf_nodes': 5, 'min_samples_split': 2},\n",
              "  {'max_depth': 2, 'max_leaf_nodes': 5, 'min_samples_split': 3},\n",
              "  {'max_depth': 2, 'max_leaf_nodes': 5, 'min_samples_split': 4},\n",
              "  {'max_depth': 2, 'max_leaf_nodes': 5, 'min_samples_split': 5},\n",
              "  {'max_depth': 2, 'max_leaf_nodes': 5, 'min_samples_split': 6},\n",
              "  {'max_depth': 2, 'max_leaf_nodes': 5, 'min_samples_split': 7},\n",
              "  {'max_depth': 2, 'max_leaf_nodes': 5, 'min_samples_split': 8},\n",
              "  {'max_depth': 2, 'max_leaf_nodes': 5, 'min_samples_split': 9},\n",
              "  {'max_depth': 2, 'max_leaf_nodes': 5, 'min_samples_split': 10},\n",
              "  {'max_depth': 2, 'max_leaf_nodes': 5, 'min_samples_split': 11},\n",
              "  {'max_depth': 2, 'max_leaf_nodes': 5, 'min_samples_split': 12},\n",
              "  {'max_depth': 2, 'max_leaf_nodes': 5, 'min_samples_split': 13},\n",
              "  {'max_depth': 2, 'max_leaf_nodes': 5, 'min_samples_split': 14},\n",
              "  {'max_depth': 2, 'max_leaf_nodes': 5, 'min_samples_split': 15},\n",
              "  {'max_depth': 2, 'max_leaf_nodes': 5, 'min_samples_split': 16},\n",
              "  {'max_depth': 2, 'max_leaf_nodes': 5, 'min_samples_split': 17},\n",
              "  {'max_depth': 2, 'max_leaf_nodes': 5, 'min_samples_split': 18},\n",
              "  {'max_depth': 2, 'max_leaf_nodes': 5, 'min_samples_split': 19},\n",
              "  {'max_depth': 2, 'max_leaf_nodes': 5, 'min_samples_split': 20},\n",
              "  {'max_depth': 2, 'max_leaf_nodes': 5, 'min_samples_split': 21},\n",
              "  {'max_depth': 2, 'max_leaf_nodes': 5, 'min_samples_split': 22},\n",
              "  {'max_depth': 2, 'max_leaf_nodes': 5, 'min_samples_split': 23},\n",
              "  {'max_depth': 2, 'max_leaf_nodes': 5, 'min_samples_split': 24},\n",
              "  {'max_depth': 2, 'max_leaf_nodes': 6, 'min_samples_split': 2},\n",
              "  {'max_depth': 2, 'max_leaf_nodes': 6, 'min_samples_split': 3},\n",
              "  {'max_depth': 2, 'max_leaf_nodes': 6, 'min_samples_split': 4},\n",
              "  {'max_depth': 2, 'max_leaf_nodes': 6, 'min_samples_split': 5},\n",
              "  {'max_depth': 2, 'max_leaf_nodes': 6, 'min_samples_split': 6},\n",
              "  {'max_depth': 2, 'max_leaf_nodes': 6, 'min_samples_split': 7},\n",
              "  {'max_depth': 2, 'max_leaf_nodes': 6, 'min_samples_split': 8},\n",
              "  {'max_depth': 2, 'max_leaf_nodes': 6, 'min_samples_split': 9},\n",
              "  {'max_depth': 2, 'max_leaf_nodes': 6, 'min_samples_split': 10},\n",
              "  {'max_depth': 2, 'max_leaf_nodes': 6, 'min_samples_split': 11},\n",
              "  {'max_depth': 2, 'max_leaf_nodes': 6, 'min_samples_split': 12},\n",
              "  {'max_depth': 2, 'max_leaf_nodes': 6, 'min_samples_split': 13},\n",
              "  {'max_depth': 2, 'max_leaf_nodes': 6, 'min_samples_split': 14},\n",
              "  {'max_depth': 2, 'max_leaf_nodes': 6, 'min_samples_split': 15},\n",
              "  {'max_depth': 2, 'max_leaf_nodes': 6, 'min_samples_split': 16},\n",
              "  {'max_depth': 2, 'max_leaf_nodes': 6, 'min_samples_split': 17},\n",
              "  {'max_depth': 2, 'max_leaf_nodes': 6, 'min_samples_split': 18},\n",
              "  {'max_depth': 2, 'max_leaf_nodes': 6, 'min_samples_split': 19},\n",
              "  {'max_depth': 2, 'max_leaf_nodes': 6, 'min_samples_split': 20},\n",
              "  {'max_depth': 2, 'max_leaf_nodes': 6, 'min_samples_split': 21},\n",
              "  {'max_depth': 2, 'max_leaf_nodes': 6, 'min_samples_split': 22},\n",
              "  {'max_depth': 2, 'max_leaf_nodes': 6, 'min_samples_split': 23},\n",
              "  {'max_depth': 2, 'max_leaf_nodes': 6, 'min_samples_split': 24},\n",
              "  {'max_depth': 2, 'max_leaf_nodes': 7, 'min_samples_split': 2},\n",
              "  {'max_depth': 2, 'max_leaf_nodes': 7, 'min_samples_split': 3},\n",
              "  {'max_depth': 2, 'max_leaf_nodes': 7, 'min_samples_split': 4},\n",
              "  {'max_depth': 2, 'max_leaf_nodes': 7, 'min_samples_split': 5},\n",
              "  {'max_depth': 2, 'max_leaf_nodes': 7, 'min_samples_split': 6},\n",
              "  {'max_depth': 2, 'max_leaf_nodes': 7, 'min_samples_split': 7},\n",
              "  {'max_depth': 2, 'max_leaf_nodes': 7, 'min_samples_split': 8},\n",
              "  {'max_depth': 2, 'max_leaf_nodes': 7, 'min_samples_split': 9},\n",
              "  {'max_depth': 2, 'max_leaf_nodes': 7, 'min_samples_split': 10},\n",
              "  {'max_depth': 2, 'max_leaf_nodes': 7, 'min_samples_split': 11},\n",
              "  {'max_depth': 2, 'max_leaf_nodes': 7, 'min_samples_split': 12},\n",
              "  {'max_depth': 2, 'max_leaf_nodes': 7, 'min_samples_split': 13},\n",
              "  {'max_depth': 2, 'max_leaf_nodes': 7, 'min_samples_split': 14},\n",
              "  {'max_depth': 2, 'max_leaf_nodes': 7, 'min_samples_split': 15},\n",
              "  {'max_depth': 2, 'max_leaf_nodes': 7, 'min_samples_split': 16},\n",
              "  {'max_depth': 2, 'max_leaf_nodes': 7, 'min_samples_split': 17},\n",
              "  {'max_depth': 2, 'max_leaf_nodes': 7, 'min_samples_split': 18},\n",
              "  {'max_depth': 2, 'max_leaf_nodes': 7, 'min_samples_split': 19},\n",
              "  {'max_depth': 2, 'max_leaf_nodes': 7, 'min_samples_split': 20},\n",
              "  {'max_depth': 2, 'max_leaf_nodes': 7, 'min_samples_split': 21},\n",
              "  {'max_depth': 2, 'max_leaf_nodes': 7, 'min_samples_split': 22},\n",
              "  {'max_depth': 2, 'max_leaf_nodes': 7, 'min_samples_split': 23},\n",
              "  {'max_depth': 2, 'max_leaf_nodes': 7, 'min_samples_split': 24},\n",
              "  {'max_depth': 2, 'max_leaf_nodes': 8, 'min_samples_split': 2},\n",
              "  {'max_depth': 2, 'max_leaf_nodes': 8, 'min_samples_split': 3},\n",
              "  {'max_depth': 2, 'max_leaf_nodes': 8, 'min_samples_split': 4},\n",
              "  {'max_depth': 2, 'max_leaf_nodes': 8, 'min_samples_split': 5},\n",
              "  {'max_depth': 2, 'max_leaf_nodes': 8, 'min_samples_split': 6},\n",
              "  {'max_depth': 2, 'max_leaf_nodes': 8, 'min_samples_split': 7},\n",
              "  {'max_depth': 2, 'max_leaf_nodes': 8, 'min_samples_split': 8},\n",
              "  {'max_depth': 2, 'max_leaf_nodes': 8, 'min_samples_split': 9},\n",
              "  {'max_depth': 2, 'max_leaf_nodes': 8, 'min_samples_split': 10},\n",
              "  {'max_depth': 2, 'max_leaf_nodes': 8, 'min_samples_split': 11},\n",
              "  {'max_depth': 2, 'max_leaf_nodes': 8, 'min_samples_split': 12},\n",
              "  {'max_depth': 2, 'max_leaf_nodes': 8, 'min_samples_split': 13},\n",
              "  {'max_depth': 2, 'max_leaf_nodes': 8, 'min_samples_split': 14},\n",
              "  {'max_depth': 2, 'max_leaf_nodes': 8, 'min_samples_split': 15},\n",
              "  {'max_depth': 2, 'max_leaf_nodes': 8, 'min_samples_split': 16},\n",
              "  {'max_depth': 2, 'max_leaf_nodes': 8, 'min_samples_split': 17},\n",
              "  {'max_depth': 2, 'max_leaf_nodes': 8, 'min_samples_split': 18},\n",
              "  {'max_depth': 2, 'max_leaf_nodes': 8, 'min_samples_split': 19},\n",
              "  {'max_depth': 2, 'max_leaf_nodes': 8, 'min_samples_split': 20},\n",
              "  {'max_depth': 2, 'max_leaf_nodes': 8, 'min_samples_split': 21},\n",
              "  {'max_depth': 2, 'max_leaf_nodes': 8, 'min_samples_split': 22},\n",
              "  {'max_depth': 2, 'max_leaf_nodes': 8, 'min_samples_split': 23},\n",
              "  {'max_depth': 2, 'max_leaf_nodes': 8, 'min_samples_split': 24},\n",
              "  {'max_depth': 2, 'max_leaf_nodes': 9, 'min_samples_split': 2},\n",
              "  {'max_depth': 2, 'max_leaf_nodes': 9, 'min_samples_split': 3},\n",
              "  {'max_depth': 2, 'max_leaf_nodes': 9, 'min_samples_split': 4},\n",
              "  {'max_depth': 2, 'max_leaf_nodes': 9, 'min_samples_split': 5},\n",
              "  {'max_depth': 2, 'max_leaf_nodes': 9, 'min_samples_split': 6},\n",
              "  {'max_depth': 2, 'max_leaf_nodes': 9, 'min_samples_split': 7},\n",
              "  {'max_depth': 2, 'max_leaf_nodes': 9, 'min_samples_split': 8},\n",
              "  {'max_depth': 2, 'max_leaf_nodes': 9, 'min_samples_split': 9},\n",
              "  {'max_depth': 2, 'max_leaf_nodes': 9, 'min_samples_split': 10},\n",
              "  {'max_depth': 2, 'max_leaf_nodes': 9, 'min_samples_split': 11},\n",
              "  {'max_depth': 2, 'max_leaf_nodes': 9, 'min_samples_split': 12},\n",
              "  {'max_depth': 2, 'max_leaf_nodes': 9, 'min_samples_split': 13},\n",
              "  {'max_depth': 2, 'max_leaf_nodes': 9, 'min_samples_split': 14},\n",
              "  {'max_depth': 2, 'max_leaf_nodes': 9, 'min_samples_split': 15},\n",
              "  {'max_depth': 2, 'max_leaf_nodes': 9, 'min_samples_split': 16},\n",
              "  {'max_depth': 2, 'max_leaf_nodes': 9, 'min_samples_split': 17},\n",
              "  {'max_depth': 2, 'max_leaf_nodes': 9, 'min_samples_split': 18},\n",
              "  {'max_depth': 2, 'max_leaf_nodes': 9, 'min_samples_split': 19},\n",
              "  {'max_depth': 2, 'max_leaf_nodes': 9, 'min_samples_split': 20},\n",
              "  {'max_depth': 2, 'max_leaf_nodes': 9, 'min_samples_split': 21},\n",
              "  {'max_depth': 2, 'max_leaf_nodes': 9, 'min_samples_split': 22},\n",
              "  {'max_depth': 2, 'max_leaf_nodes': 9, 'min_samples_split': 23},\n",
              "  {'max_depth': 2, 'max_leaf_nodes': 9, 'min_samples_split': 24},\n",
              "  {'max_depth': 3, 'max_leaf_nodes': 2, 'min_samples_split': 2},\n",
              "  {'max_depth': 3, 'max_leaf_nodes': 2, 'min_samples_split': 3},\n",
              "  {'max_depth': 3, 'max_leaf_nodes': 2, 'min_samples_split': 4},\n",
              "  {'max_depth': 3, 'max_leaf_nodes': 2, 'min_samples_split': 5},\n",
              "  {'max_depth': 3, 'max_leaf_nodes': 2, 'min_samples_split': 6},\n",
              "  {'max_depth': 3, 'max_leaf_nodes': 2, 'min_samples_split': 7},\n",
              "  {'max_depth': 3, 'max_leaf_nodes': 2, 'min_samples_split': 8},\n",
              "  {'max_depth': 3, 'max_leaf_nodes': 2, 'min_samples_split': 9},\n",
              "  {'max_depth': 3, 'max_leaf_nodes': 2, 'min_samples_split': 10},\n",
              "  {'max_depth': 3, 'max_leaf_nodes': 2, 'min_samples_split': 11},\n",
              "  {'max_depth': 3, 'max_leaf_nodes': 2, 'min_samples_split': 12},\n",
              "  {'max_depth': 3, 'max_leaf_nodes': 2, 'min_samples_split': 13},\n",
              "  {'max_depth': 3, 'max_leaf_nodes': 2, 'min_samples_split': 14},\n",
              "  {'max_depth': 3, 'max_leaf_nodes': 2, 'min_samples_split': 15},\n",
              "  {'max_depth': 3, 'max_leaf_nodes': 2, 'min_samples_split': 16},\n",
              "  {'max_depth': 3, 'max_leaf_nodes': 2, 'min_samples_split': 17},\n",
              "  {'max_depth': 3, 'max_leaf_nodes': 2, 'min_samples_split': 18},\n",
              "  {'max_depth': 3, 'max_leaf_nodes': 2, 'min_samples_split': 19},\n",
              "  {'max_depth': 3, 'max_leaf_nodes': 2, 'min_samples_split': 20},\n",
              "  {'max_depth': 3, 'max_leaf_nodes': 2, 'min_samples_split': 21},\n",
              "  {'max_depth': 3, 'max_leaf_nodes': 2, 'min_samples_split': 22},\n",
              "  {'max_depth': 3, 'max_leaf_nodes': 2, 'min_samples_split': 23},\n",
              "  {'max_depth': 3, 'max_leaf_nodes': 2, 'min_samples_split': 24},\n",
              "  {'max_depth': 3, 'max_leaf_nodes': 3, 'min_samples_split': 2},\n",
              "  {'max_depth': 3, 'max_leaf_nodes': 3, 'min_samples_split': 3},\n",
              "  {'max_depth': 3, 'max_leaf_nodes': 3, 'min_samples_split': 4},\n",
              "  {'max_depth': 3, 'max_leaf_nodes': 3, 'min_samples_split': 5},\n",
              "  {'max_depth': 3, 'max_leaf_nodes': 3, 'min_samples_split': 6},\n",
              "  {'max_depth': 3, 'max_leaf_nodes': 3, 'min_samples_split': 7},\n",
              "  {'max_depth': 3, 'max_leaf_nodes': 3, 'min_samples_split': 8},\n",
              "  {'max_depth': 3, 'max_leaf_nodes': 3, 'min_samples_split': 9},\n",
              "  {'max_depth': 3, 'max_leaf_nodes': 3, 'min_samples_split': 10},\n",
              "  {'max_depth': 3, 'max_leaf_nodes': 3, 'min_samples_split': 11},\n",
              "  {'max_depth': 3, 'max_leaf_nodes': 3, 'min_samples_split': 12},\n",
              "  {'max_depth': 3, 'max_leaf_nodes': 3, 'min_samples_split': 13},\n",
              "  {'max_depth': 3, 'max_leaf_nodes': 3, 'min_samples_split': 14},\n",
              "  {'max_depth': 3, 'max_leaf_nodes': 3, 'min_samples_split': 15},\n",
              "  {'max_depth': 3, 'max_leaf_nodes': 3, 'min_samples_split': 16},\n",
              "  {'max_depth': 3, 'max_leaf_nodes': 3, 'min_samples_split': 17},\n",
              "  {'max_depth': 3, 'max_leaf_nodes': 3, 'min_samples_split': 18},\n",
              "  {'max_depth': 3, 'max_leaf_nodes': 3, 'min_samples_split': 19},\n",
              "  {'max_depth': 3, 'max_leaf_nodes': 3, 'min_samples_split': 20},\n",
              "  {'max_depth': 3, 'max_leaf_nodes': 3, 'min_samples_split': 21},\n",
              "  {'max_depth': 3, 'max_leaf_nodes': 3, 'min_samples_split': 22},\n",
              "  {'max_depth': 3, 'max_leaf_nodes': 3, 'min_samples_split': 23},\n",
              "  {'max_depth': 3, 'max_leaf_nodes': 3, 'min_samples_split': 24},\n",
              "  {'max_depth': 3, 'max_leaf_nodes': 4, 'min_samples_split': 2},\n",
              "  {'max_depth': 3, 'max_leaf_nodes': 4, 'min_samples_split': 3},\n",
              "  {'max_depth': 3, 'max_leaf_nodes': 4, 'min_samples_split': 4},\n",
              "  {'max_depth': 3, 'max_leaf_nodes': 4, 'min_samples_split': 5},\n",
              "  {'max_depth': 3, 'max_leaf_nodes': 4, 'min_samples_split': 6},\n",
              "  {'max_depth': 3, 'max_leaf_nodes': 4, 'min_samples_split': 7},\n",
              "  {'max_depth': 3, 'max_leaf_nodes': 4, 'min_samples_split': 8},\n",
              "  {'max_depth': 3, 'max_leaf_nodes': 4, 'min_samples_split': 9},\n",
              "  {'max_depth': 3, 'max_leaf_nodes': 4, 'min_samples_split': 10},\n",
              "  {'max_depth': 3, 'max_leaf_nodes': 4, 'min_samples_split': 11},\n",
              "  {'max_depth': 3, 'max_leaf_nodes': 4, 'min_samples_split': 12},\n",
              "  {'max_depth': 3, 'max_leaf_nodes': 4, 'min_samples_split': 13},\n",
              "  {'max_depth': 3, 'max_leaf_nodes': 4, 'min_samples_split': 14},\n",
              "  {'max_depth': 3, 'max_leaf_nodes': 4, 'min_samples_split': 15},\n",
              "  {'max_depth': 3, 'max_leaf_nodes': 4, 'min_samples_split': 16},\n",
              "  {'max_depth': 3, 'max_leaf_nodes': 4, 'min_samples_split': 17},\n",
              "  {'max_depth': 3, 'max_leaf_nodes': 4, 'min_samples_split': 18},\n",
              "  {'max_depth': 3, 'max_leaf_nodes': 4, 'min_samples_split': 19},\n",
              "  {'max_depth': 3, 'max_leaf_nodes': 4, 'min_samples_split': 20},\n",
              "  {'max_depth': 3, 'max_leaf_nodes': 4, 'min_samples_split': 21},\n",
              "  {'max_depth': 3, 'max_leaf_nodes': 4, 'min_samples_split': 22},\n",
              "  {'max_depth': 3, 'max_leaf_nodes': 4, 'min_samples_split': 23},\n",
              "  {'max_depth': 3, 'max_leaf_nodes': 4, 'min_samples_split': 24},\n",
              "  {'max_depth': 3, 'max_leaf_nodes': 5, 'min_samples_split': 2},\n",
              "  {'max_depth': 3, 'max_leaf_nodes': 5, 'min_samples_split': 3},\n",
              "  {'max_depth': 3, 'max_leaf_nodes': 5, 'min_samples_split': 4},\n",
              "  {'max_depth': 3, 'max_leaf_nodes': 5, 'min_samples_split': 5},\n",
              "  {'max_depth': 3, 'max_leaf_nodes': 5, 'min_samples_split': 6},\n",
              "  {'max_depth': 3, 'max_leaf_nodes': 5, 'min_samples_split': 7},\n",
              "  {'max_depth': 3, 'max_leaf_nodes': 5, 'min_samples_split': 8},\n",
              "  {'max_depth': 3, 'max_leaf_nodes': 5, 'min_samples_split': 9},\n",
              "  {'max_depth': 3, 'max_leaf_nodes': 5, 'min_samples_split': 10},\n",
              "  {'max_depth': 3, 'max_leaf_nodes': 5, 'min_samples_split': 11},\n",
              "  {'max_depth': 3, 'max_leaf_nodes': 5, 'min_samples_split': 12},\n",
              "  {'max_depth': 3, 'max_leaf_nodes': 5, 'min_samples_split': 13},\n",
              "  {'max_depth': 3, 'max_leaf_nodes': 5, 'min_samples_split': 14},\n",
              "  {'max_depth': 3, 'max_leaf_nodes': 5, 'min_samples_split': 15},\n",
              "  {'max_depth': 3, 'max_leaf_nodes': 5, 'min_samples_split': 16},\n",
              "  {'max_depth': 3, 'max_leaf_nodes': 5, 'min_samples_split': 17},\n",
              "  {'max_depth': 3, 'max_leaf_nodes': 5, 'min_samples_split': 18},\n",
              "  {'max_depth': 3, 'max_leaf_nodes': 5, 'min_samples_split': 19},\n",
              "  {'max_depth': 3, 'max_leaf_nodes': 5, 'min_samples_split': 20},\n",
              "  {'max_depth': 3, 'max_leaf_nodes': 5, 'min_samples_split': 21},\n",
              "  {'max_depth': 3, 'max_leaf_nodes': 5, 'min_samples_split': 22},\n",
              "  {'max_depth': 3, 'max_leaf_nodes': 5, 'min_samples_split': 23},\n",
              "  {'max_depth': 3, 'max_leaf_nodes': 5, 'min_samples_split': 24},\n",
              "  {'max_depth': 3, 'max_leaf_nodes': 6, 'min_samples_split': 2},\n",
              "  {'max_depth': 3, 'max_leaf_nodes': 6, 'min_samples_split': 3},\n",
              "  {'max_depth': 3, 'max_leaf_nodes': 6, 'min_samples_split': 4},\n",
              "  {'max_depth': 3, 'max_leaf_nodes': 6, 'min_samples_split': 5},\n",
              "  {'max_depth': 3, 'max_leaf_nodes': 6, 'min_samples_split': 6},\n",
              "  {'max_depth': 3, 'max_leaf_nodes': 6, 'min_samples_split': 7},\n",
              "  {'max_depth': 3, 'max_leaf_nodes': 6, 'min_samples_split': 8},\n",
              "  {'max_depth': 3, 'max_leaf_nodes': 6, 'min_samples_split': 9},\n",
              "  {'max_depth': 3, 'max_leaf_nodes': 6, 'min_samples_split': 10},\n",
              "  {'max_depth': 3, 'max_leaf_nodes': 6, 'min_samples_split': 11},\n",
              "  {'max_depth': 3, 'max_leaf_nodes': 6, 'min_samples_split': 12},\n",
              "  {'max_depth': 3, 'max_leaf_nodes': 6, 'min_samples_split': 13},\n",
              "  {'max_depth': 3, 'max_leaf_nodes': 6, 'min_samples_split': 14},\n",
              "  {'max_depth': 3, 'max_leaf_nodes': 6, 'min_samples_split': 15},\n",
              "  {'max_depth': 3, 'max_leaf_nodes': 6, 'min_samples_split': 16},\n",
              "  {'max_depth': 3, 'max_leaf_nodes': 6, 'min_samples_split': 17},\n",
              "  {'max_depth': 3, 'max_leaf_nodes': 6, 'min_samples_split': 18},\n",
              "  {'max_depth': 3, 'max_leaf_nodes': 6, 'min_samples_split': 19},\n",
              "  {'max_depth': 3, 'max_leaf_nodes': 6, 'min_samples_split': 20},\n",
              "  {'max_depth': 3, 'max_leaf_nodes': 6, 'min_samples_split': 21},\n",
              "  {'max_depth': 3, 'max_leaf_nodes': 6, 'min_samples_split': 22},\n",
              "  {'max_depth': 3, 'max_leaf_nodes': 6, 'min_samples_split': 23},\n",
              "  {'max_depth': 3, 'max_leaf_nodes': 6, 'min_samples_split': 24},\n",
              "  {'max_depth': 3, 'max_leaf_nodes': 7, 'min_samples_split': 2},\n",
              "  {'max_depth': 3, 'max_leaf_nodes': 7, 'min_samples_split': 3},\n",
              "  {'max_depth': 3, 'max_leaf_nodes': 7, 'min_samples_split': 4},\n",
              "  {'max_depth': 3, 'max_leaf_nodes': 7, 'min_samples_split': 5},\n",
              "  {'max_depth': 3, 'max_leaf_nodes': 7, 'min_samples_split': 6},\n",
              "  {'max_depth': 3, 'max_leaf_nodes': 7, 'min_samples_split': 7},\n",
              "  {'max_depth': 3, 'max_leaf_nodes': 7, 'min_samples_split': 8},\n",
              "  {'max_depth': 3, 'max_leaf_nodes': 7, 'min_samples_split': 9},\n",
              "  {'max_depth': 3, 'max_leaf_nodes': 7, 'min_samples_split': 10},\n",
              "  {'max_depth': 3, 'max_leaf_nodes': 7, 'min_samples_split': 11},\n",
              "  {'max_depth': 3, 'max_leaf_nodes': 7, 'min_samples_split': 12},\n",
              "  {'max_depth': 3, 'max_leaf_nodes': 7, 'min_samples_split': 13},\n",
              "  {'max_depth': 3, 'max_leaf_nodes': 7, 'min_samples_split': 14},\n",
              "  {'max_depth': 3, 'max_leaf_nodes': 7, 'min_samples_split': 15},\n",
              "  {'max_depth': 3, 'max_leaf_nodes': 7, 'min_samples_split': 16},\n",
              "  {'max_depth': 3, 'max_leaf_nodes': 7, 'min_samples_split': 17},\n",
              "  {'max_depth': 3, 'max_leaf_nodes': 7, 'min_samples_split': 18},\n",
              "  {'max_depth': 3, 'max_leaf_nodes': 7, 'min_samples_split': 19},\n",
              "  {'max_depth': 3, 'max_leaf_nodes': 7, 'min_samples_split': 20},\n",
              "  {'max_depth': 3, 'max_leaf_nodes': 7, 'min_samples_split': 21},\n",
              "  {'max_depth': 3, 'max_leaf_nodes': 7, 'min_samples_split': 22},\n",
              "  {'max_depth': 3, 'max_leaf_nodes': 7, 'min_samples_split': 23},\n",
              "  {'max_depth': 3, 'max_leaf_nodes': 7, 'min_samples_split': 24},\n",
              "  {'max_depth': 3, 'max_leaf_nodes': 8, 'min_samples_split': 2},\n",
              "  {'max_depth': 3, 'max_leaf_nodes': 8, 'min_samples_split': 3},\n",
              "  {'max_depth': 3, 'max_leaf_nodes': 8, 'min_samples_split': 4},\n",
              "  {'max_depth': 3, 'max_leaf_nodes': 8, 'min_samples_split': 5},\n",
              "  {'max_depth': 3, 'max_leaf_nodes': 8, 'min_samples_split': 6},\n",
              "  {'max_depth': 3, 'max_leaf_nodes': 8, 'min_samples_split': 7},\n",
              "  {'max_depth': 3, 'max_leaf_nodes': 8, 'min_samples_split': 8},\n",
              "  {'max_depth': 3, 'max_leaf_nodes': 8, 'min_samples_split': 9},\n",
              "  {'max_depth': 3, 'max_leaf_nodes': 8, 'min_samples_split': 10},\n",
              "  {'max_depth': 3, 'max_leaf_nodes': 8, 'min_samples_split': 11},\n",
              "  {'max_depth': 3, 'max_leaf_nodes': 8, 'min_samples_split': 12},\n",
              "  {'max_depth': 3, 'max_leaf_nodes': 8, 'min_samples_split': 13},\n",
              "  {'max_depth': 3, 'max_leaf_nodes': 8, 'min_samples_split': 14},\n",
              "  {'max_depth': 3, 'max_leaf_nodes': 8, 'min_samples_split': 15},\n",
              "  {'max_depth': 3, 'max_leaf_nodes': 8, 'min_samples_split': 16},\n",
              "  {'max_depth': 3, 'max_leaf_nodes': 8, 'min_samples_split': 17},\n",
              "  {'max_depth': 3, 'max_leaf_nodes': 8, 'min_samples_split': 18},\n",
              "  {'max_depth': 3, 'max_leaf_nodes': 8, 'min_samples_split': 19},\n",
              "  {'max_depth': 3, 'max_leaf_nodes': 8, 'min_samples_split': 20},\n",
              "  {'max_depth': 3, 'max_leaf_nodes': 8, 'min_samples_split': 21},\n",
              "  {'max_depth': 3, 'max_leaf_nodes': 8, 'min_samples_split': 22},\n",
              "  {'max_depth': 3, 'max_leaf_nodes': 8, 'min_samples_split': 23},\n",
              "  {'max_depth': 3, 'max_leaf_nodes': 8, 'min_samples_split': 24},\n",
              "  {'max_depth': 3, 'max_leaf_nodes': 9, 'min_samples_split': 2},\n",
              "  {'max_depth': 3, 'max_leaf_nodes': 9, 'min_samples_split': 3},\n",
              "  {'max_depth': 3, 'max_leaf_nodes': 9, 'min_samples_split': 4},\n",
              "  {'max_depth': 3, 'max_leaf_nodes': 9, 'min_samples_split': 5},\n",
              "  {'max_depth': 3, 'max_leaf_nodes': 9, 'min_samples_split': 6},\n",
              "  {'max_depth': 3, 'max_leaf_nodes': 9, 'min_samples_split': 7},\n",
              "  {'max_depth': 3, 'max_leaf_nodes': 9, 'min_samples_split': 8},\n",
              "  {'max_depth': 3, 'max_leaf_nodes': 9, 'min_samples_split': 9},\n",
              "  {'max_depth': 3, 'max_leaf_nodes': 9, 'min_samples_split': 10},\n",
              "  {'max_depth': 3, 'max_leaf_nodes': 9, 'min_samples_split': 11},\n",
              "  {'max_depth': 3, 'max_leaf_nodes': 9, 'min_samples_split': 12},\n",
              "  {'max_depth': 3, 'max_leaf_nodes': 9, 'min_samples_split': 13},\n",
              "  {'max_depth': 3, 'max_leaf_nodes': 9, 'min_samples_split': 14},\n",
              "  {'max_depth': 3, 'max_leaf_nodes': 9, 'min_samples_split': 15},\n",
              "  {'max_depth': 3, 'max_leaf_nodes': 9, 'min_samples_split': 16},\n",
              "  {'max_depth': 3, 'max_leaf_nodes': 9, 'min_samples_split': 17},\n",
              "  {'max_depth': 3, 'max_leaf_nodes': 9, 'min_samples_split': 18},\n",
              "  {'max_depth': 3, 'max_leaf_nodes': 9, 'min_samples_split': 19},\n",
              "  {'max_depth': 3, 'max_leaf_nodes': 9, 'min_samples_split': 20},\n",
              "  {'max_depth': 3, 'max_leaf_nodes': 9, 'min_samples_split': 21},\n",
              "  {'max_depth': 3, 'max_leaf_nodes': 9, 'min_samples_split': 22},\n",
              "  {'max_depth': 3, 'max_leaf_nodes': 9, 'min_samples_split': 23},\n",
              "  {'max_depth': 3, 'max_leaf_nodes': 9, 'min_samples_split': 24},\n",
              "  {'max_depth': 4, 'max_leaf_nodes': 2, 'min_samples_split': 2},\n",
              "  {'max_depth': 4, 'max_leaf_nodes': 2, 'min_samples_split': 3},\n",
              "  {'max_depth': 4, 'max_leaf_nodes': 2, 'min_samples_split': 4},\n",
              "  {'max_depth': 4, 'max_leaf_nodes': 2, 'min_samples_split': 5},\n",
              "  {'max_depth': 4, 'max_leaf_nodes': 2, 'min_samples_split': 6},\n",
              "  {'max_depth': 4, 'max_leaf_nodes': 2, 'min_samples_split': 7},\n",
              "  {'max_depth': 4, 'max_leaf_nodes': 2, 'min_samples_split': 8},\n",
              "  {'max_depth': 4, 'max_leaf_nodes': 2, 'min_samples_split': 9},\n",
              "  {'max_depth': 4, 'max_leaf_nodes': 2, 'min_samples_split': 10},\n",
              "  {'max_depth': 4, 'max_leaf_nodes': 2, 'min_samples_split': 11},\n",
              "  {'max_depth': 4, 'max_leaf_nodes': 2, 'min_samples_split': 12},\n",
              "  {'max_depth': 4, 'max_leaf_nodes': 2, 'min_samples_split': 13},\n",
              "  {'max_depth': 4, 'max_leaf_nodes': 2, 'min_samples_split': 14},\n",
              "  {'max_depth': 4, 'max_leaf_nodes': 2, 'min_samples_split': 15},\n",
              "  {'max_depth': 4, 'max_leaf_nodes': 2, 'min_samples_split': 16},\n",
              "  {'max_depth': 4, 'max_leaf_nodes': 2, 'min_samples_split': 17},\n",
              "  {'max_depth': 4, 'max_leaf_nodes': 2, 'min_samples_split': 18},\n",
              "  {'max_depth': 4, 'max_leaf_nodes': 2, 'min_samples_split': 19},\n",
              "  {'max_depth': 4, 'max_leaf_nodes': 2, 'min_samples_split': 20},\n",
              "  {'max_depth': 4, 'max_leaf_nodes': 2, 'min_samples_split': 21},\n",
              "  {'max_depth': 4, 'max_leaf_nodes': 2, 'min_samples_split': 22},\n",
              "  {'max_depth': 4, 'max_leaf_nodes': 2, 'min_samples_split': 23},\n",
              "  {'max_depth': 4, 'max_leaf_nodes': 2, 'min_samples_split': 24},\n",
              "  {'max_depth': 4, 'max_leaf_nodes': 3, 'min_samples_split': 2},\n",
              "  {'max_depth': 4, 'max_leaf_nodes': 3, 'min_samples_split': 3},\n",
              "  {'max_depth': 4, 'max_leaf_nodes': 3, 'min_samples_split': 4},\n",
              "  {'max_depth': 4, 'max_leaf_nodes': 3, 'min_samples_split': 5},\n",
              "  {'max_depth': 4, 'max_leaf_nodes': 3, 'min_samples_split': 6},\n",
              "  {'max_depth': 4, 'max_leaf_nodes': 3, 'min_samples_split': 7},\n",
              "  {'max_depth': 4, 'max_leaf_nodes': 3, 'min_samples_split': 8},\n",
              "  {'max_depth': 4, 'max_leaf_nodes': 3, 'min_samples_split': 9},\n",
              "  {'max_depth': 4, 'max_leaf_nodes': 3, 'min_samples_split': 10},\n",
              "  {'max_depth': 4, 'max_leaf_nodes': 3, 'min_samples_split': 11},\n",
              "  {'max_depth': 4, 'max_leaf_nodes': 3, 'min_samples_split': 12},\n",
              "  {'max_depth': 4, 'max_leaf_nodes': 3, 'min_samples_split': 13},\n",
              "  {'max_depth': 4, 'max_leaf_nodes': 3, 'min_samples_split': 14},\n",
              "  {'max_depth': 4, 'max_leaf_nodes': 3, 'min_samples_split': 15},\n",
              "  {'max_depth': 4, 'max_leaf_nodes': 3, 'min_samples_split': 16},\n",
              "  {'max_depth': 4, 'max_leaf_nodes': 3, 'min_samples_split': 17},\n",
              "  {'max_depth': 4, 'max_leaf_nodes': 3, 'min_samples_split': 18},\n",
              "  {'max_depth': 4, 'max_leaf_nodes': 3, 'min_samples_split': 19},\n",
              "  {'max_depth': 4, 'max_leaf_nodes': 3, 'min_samples_split': 20},\n",
              "  {'max_depth': 4, 'max_leaf_nodes': 3, 'min_samples_split': 21},\n",
              "  {'max_depth': 4, 'max_leaf_nodes': 3, 'min_samples_split': 22},\n",
              "  {'max_depth': 4, 'max_leaf_nodes': 3, 'min_samples_split': 23},\n",
              "  {'max_depth': 4, 'max_leaf_nodes': 3, 'min_samples_split': 24},\n",
              "  {'max_depth': 4, 'max_leaf_nodes': 4, 'min_samples_split': 2},\n",
              "  {'max_depth': 4, 'max_leaf_nodes': 4, 'min_samples_split': 3},\n",
              "  {'max_depth': 4, 'max_leaf_nodes': 4, 'min_samples_split': 4},\n",
              "  {'max_depth': 4, 'max_leaf_nodes': 4, 'min_samples_split': 5},\n",
              "  {'max_depth': 4, 'max_leaf_nodes': 4, 'min_samples_split': 6},\n",
              "  {'max_depth': 4, 'max_leaf_nodes': 4, 'min_samples_split': 7},\n",
              "  {'max_depth': 4, 'max_leaf_nodes': 4, 'min_samples_split': 8},\n",
              "  {'max_depth': 4, 'max_leaf_nodes': 4, 'min_samples_split': 9},\n",
              "  {'max_depth': 4, 'max_leaf_nodes': 4, 'min_samples_split': 10},\n",
              "  {'max_depth': 4, 'max_leaf_nodes': 4, 'min_samples_split': 11},\n",
              "  {'max_depth': 4, 'max_leaf_nodes': 4, 'min_samples_split': 12},\n",
              "  {'max_depth': 4, 'max_leaf_nodes': 4, 'min_samples_split': 13},\n",
              "  {'max_depth': 4, 'max_leaf_nodes': 4, 'min_samples_split': 14},\n",
              "  {'max_depth': 4, 'max_leaf_nodes': 4, 'min_samples_split': 15},\n",
              "  {'max_depth': 4, 'max_leaf_nodes': 4, 'min_samples_split': 16},\n",
              "  {'max_depth': 4, 'max_leaf_nodes': 4, 'min_samples_split': 17},\n",
              "  {'max_depth': 4, 'max_leaf_nodes': 4, 'min_samples_split': 18},\n",
              "  {'max_depth': 4, 'max_leaf_nodes': 4, 'min_samples_split': 19},\n",
              "  {'max_depth': 4, 'max_leaf_nodes': 4, 'min_samples_split': 20},\n",
              "  {'max_depth': 4, 'max_leaf_nodes': 4, 'min_samples_split': 21},\n",
              "  {'max_depth': 4, 'max_leaf_nodes': 4, 'min_samples_split': 22},\n",
              "  {'max_depth': 4, 'max_leaf_nodes': 4, 'min_samples_split': 23},\n",
              "  {'max_depth': 4, 'max_leaf_nodes': 4, 'min_samples_split': 24},\n",
              "  {'max_depth': 4, 'max_leaf_nodes': 5, 'min_samples_split': 2},\n",
              "  {'max_depth': 4, 'max_leaf_nodes': 5, 'min_samples_split': 3},\n",
              "  {'max_depth': 4, 'max_leaf_nodes': 5, 'min_samples_split': 4},\n",
              "  {'max_depth': 4, 'max_leaf_nodes': 5, 'min_samples_split': 5},\n",
              "  {'max_depth': 4, 'max_leaf_nodes': 5, 'min_samples_split': 6},\n",
              "  {'max_depth': 4, 'max_leaf_nodes': 5, 'min_samples_split': 7},\n",
              "  {'max_depth': 4, 'max_leaf_nodes': 5, 'min_samples_split': 8},\n",
              "  {'max_depth': 4, 'max_leaf_nodes': 5, 'min_samples_split': 9},\n",
              "  {'max_depth': 4, 'max_leaf_nodes': 5, 'min_samples_split': 10},\n",
              "  {'max_depth': 4, 'max_leaf_nodes': 5, 'min_samples_split': 11},\n",
              "  {'max_depth': 4, 'max_leaf_nodes': 5, 'min_samples_split': 12},\n",
              "  {'max_depth': 4, 'max_leaf_nodes': 5, 'min_samples_split': 13},\n",
              "  {'max_depth': 4, 'max_leaf_nodes': 5, 'min_samples_split': 14},\n",
              "  {'max_depth': 4, 'max_leaf_nodes': 5, 'min_samples_split': 15},\n",
              "  {'max_depth': 4, 'max_leaf_nodes': 5, 'min_samples_split': 16},\n",
              "  {'max_depth': 4, 'max_leaf_nodes': 5, 'min_samples_split': 17},\n",
              "  {'max_depth': 4, 'max_leaf_nodes': 5, 'min_samples_split': 18},\n",
              "  {'max_depth': 4, 'max_leaf_nodes': 5, 'min_samples_split': 19},\n",
              "  {'max_depth': 4, 'max_leaf_nodes': 5, 'min_samples_split': 20},\n",
              "  {'max_depth': 4, 'max_leaf_nodes': 5, 'min_samples_split': 21},\n",
              "  {'max_depth': 4, 'max_leaf_nodes': 5, 'min_samples_split': 22},\n",
              "  {'max_depth': 4, 'max_leaf_nodes': 5, 'min_samples_split': 23},\n",
              "  {'max_depth': 4, 'max_leaf_nodes': 5, 'min_samples_split': 24},\n",
              "  {'max_depth': 4, 'max_leaf_nodes': 6, 'min_samples_split': 2},\n",
              "  {'max_depth': 4, 'max_leaf_nodes': 6, 'min_samples_split': 3},\n",
              "  {'max_depth': 4, 'max_leaf_nodes': 6, 'min_samples_split': 4},\n",
              "  {'max_depth': 4, 'max_leaf_nodes': 6, 'min_samples_split': 5},\n",
              "  {'max_depth': 4, 'max_leaf_nodes': 6, 'min_samples_split': 6},\n",
              "  {'max_depth': 4, 'max_leaf_nodes': 6, 'min_samples_split': 7},\n",
              "  {'max_depth': 4, 'max_leaf_nodes': 6, 'min_samples_split': 8},\n",
              "  {'max_depth': 4, 'max_leaf_nodes': 6, 'min_samples_split': 9},\n",
              "  {'max_depth': 4, 'max_leaf_nodes': 6, 'min_samples_split': 10},\n",
              "  {'max_depth': 4, 'max_leaf_nodes': 6, 'min_samples_split': 11},\n",
              "  {'max_depth': 4, 'max_leaf_nodes': 6, 'min_samples_split': 12},\n",
              "  {'max_depth': 4, 'max_leaf_nodes': 6, 'min_samples_split': 13},\n",
              "  {'max_depth': 4, 'max_leaf_nodes': 6, 'min_samples_split': 14},\n",
              "  {'max_depth': 4, 'max_leaf_nodes': 6, 'min_samples_split': 15},\n",
              "  {'max_depth': 4, 'max_leaf_nodes': 6, 'min_samples_split': 16},\n",
              "  {'max_depth': 4, 'max_leaf_nodes': 6, 'min_samples_split': 17},\n",
              "  {'max_depth': 4, 'max_leaf_nodes': 6, 'min_samples_split': 18},\n",
              "  {'max_depth': 4, 'max_leaf_nodes': 6, 'min_samples_split': 19},\n",
              "  {'max_depth': 4, 'max_leaf_nodes': 6, 'min_samples_split': 20},\n",
              "  {'max_depth': 4, 'max_leaf_nodes': 6, 'min_samples_split': 21},\n",
              "  {'max_depth': 4, 'max_leaf_nodes': 6, 'min_samples_split': 22},\n",
              "  {'max_depth': 4, 'max_leaf_nodes': 6, 'min_samples_split': 23},\n",
              "  {'max_depth': 4, 'max_leaf_nodes': 6, 'min_samples_split': 24},\n",
              "  {'max_depth': 4, 'max_leaf_nodes': 7, 'min_samples_split': 2},\n",
              "  {'max_depth': 4, 'max_leaf_nodes': 7, 'min_samples_split': 3},\n",
              "  {'max_depth': 4, 'max_leaf_nodes': 7, 'min_samples_split': 4},\n",
              "  {'max_depth': 4, 'max_leaf_nodes': 7, 'min_samples_split': 5},\n",
              "  {'max_depth': 4, 'max_leaf_nodes': 7, 'min_samples_split': 6},\n",
              "  {'max_depth': 4, 'max_leaf_nodes': 7, 'min_samples_split': 7},\n",
              "  {'max_depth': 4, 'max_leaf_nodes': 7, 'min_samples_split': 8},\n",
              "  {'max_depth': 4, 'max_leaf_nodes': 7, 'min_samples_split': 9},\n",
              "  {'max_depth': 4, 'max_leaf_nodes': 7, 'min_samples_split': 10},\n",
              "  {'max_depth': 4, 'max_leaf_nodes': 7, 'min_samples_split': 11},\n",
              "  {'max_depth': 4, 'max_leaf_nodes': 7, 'min_samples_split': 12},\n",
              "  {'max_depth': 4, 'max_leaf_nodes': 7, 'min_samples_split': 13},\n",
              "  {'max_depth': 4, 'max_leaf_nodes': 7, 'min_samples_split': 14},\n",
              "  {'max_depth': 4, 'max_leaf_nodes': 7, 'min_samples_split': 15},\n",
              "  {'max_depth': 4, 'max_leaf_nodes': 7, 'min_samples_split': 16},\n",
              "  {'max_depth': 4, 'max_leaf_nodes': 7, 'min_samples_split': 17},\n",
              "  {'max_depth': 4, 'max_leaf_nodes': 7, 'min_samples_split': 18},\n",
              "  {'max_depth': 4, 'max_leaf_nodes': 7, 'min_samples_split': 19},\n",
              "  {'max_depth': 4, 'max_leaf_nodes': 7, 'min_samples_split': 20},\n",
              "  {'max_depth': 4, 'max_leaf_nodes': 7, 'min_samples_split': 21},\n",
              "  {'max_depth': 4, 'max_leaf_nodes': 7, 'min_samples_split': 22},\n",
              "  {'max_depth': 4, 'max_leaf_nodes': 7, 'min_samples_split': 23},\n",
              "  {'max_depth': 4, 'max_leaf_nodes': 7, 'min_samples_split': 24},\n",
              "  {'max_depth': 4, 'max_leaf_nodes': 8, 'min_samples_split': 2},\n",
              "  {'max_depth': 4, 'max_leaf_nodes': 8, 'min_samples_split': 3},\n",
              "  {'max_depth': 4, 'max_leaf_nodes': 8, 'min_samples_split': 4},\n",
              "  {'max_depth': 4, 'max_leaf_nodes': 8, 'min_samples_split': 5},\n",
              "  {'max_depth': 4, 'max_leaf_nodes': 8, 'min_samples_split': 6},\n",
              "  {'max_depth': 4, 'max_leaf_nodes': 8, 'min_samples_split': 7},\n",
              "  {'max_depth': 4, 'max_leaf_nodes': 8, 'min_samples_split': 8},\n",
              "  {'max_depth': 4, 'max_leaf_nodes': 8, 'min_samples_split': 9},\n",
              "  {'max_depth': 4, 'max_leaf_nodes': 8, 'min_samples_split': 10},\n",
              "  {'max_depth': 4, 'max_leaf_nodes': 8, 'min_samples_split': 11},\n",
              "  {'max_depth': 4, 'max_leaf_nodes': 8, 'min_samples_split': 12},\n",
              "  {'max_depth': 4, 'max_leaf_nodes': 8, 'min_samples_split': 13},\n",
              "  {'max_depth': 4, 'max_leaf_nodes': 8, 'min_samples_split': 14},\n",
              "  {'max_depth': 4, 'max_leaf_nodes': 8, 'min_samples_split': 15},\n",
              "  {'max_depth': 4, 'max_leaf_nodes': 8, 'min_samples_split': 16},\n",
              "  {'max_depth': 4, 'max_leaf_nodes': 8, 'min_samples_split': 17},\n",
              "  {'max_depth': 4, 'max_leaf_nodes': 8, 'min_samples_split': 18},\n",
              "  {'max_depth': 4, 'max_leaf_nodes': 8, 'min_samples_split': 19},\n",
              "  {'max_depth': 4, 'max_leaf_nodes': 8, 'min_samples_split': 20},\n",
              "  {'max_depth': 4, 'max_leaf_nodes': 8, 'min_samples_split': 21},\n",
              "  {'max_depth': 4, 'max_leaf_nodes': 8, 'min_samples_split': 22},\n",
              "  {'max_depth': 4, 'max_leaf_nodes': 8, 'min_samples_split': 23},\n",
              "  {'max_depth': 4, 'max_leaf_nodes': 8, 'min_samples_split': 24},\n",
              "  {'max_depth': 4, 'max_leaf_nodes': 9, 'min_samples_split': 2},\n",
              "  {'max_depth': 4, 'max_leaf_nodes': 9, 'min_samples_split': 3},\n",
              "  {'max_depth': 4, 'max_leaf_nodes': 9, 'min_samples_split': 4},\n",
              "  {'max_depth': 4, 'max_leaf_nodes': 9, 'min_samples_split': 5},\n",
              "  {'max_depth': 4, 'max_leaf_nodes': 9, 'min_samples_split': 6},\n",
              "  {'max_depth': 4, 'max_leaf_nodes': 9, 'min_samples_split': 7},\n",
              "  {'max_depth': 4, 'max_leaf_nodes': 9, 'min_samples_split': 8},\n",
              "  {'max_depth': 4, 'max_leaf_nodes': 9, 'min_samples_split': 9},\n",
              "  {'max_depth': 4, 'max_leaf_nodes': 9, 'min_samples_split': 10},\n",
              "  {'max_depth': 4, 'max_leaf_nodes': 9, 'min_samples_split': 11},\n",
              "  {'max_depth': 4, 'max_leaf_nodes': 9, 'min_samples_split': 12},\n",
              "  {'max_depth': 4, 'max_leaf_nodes': 9, 'min_samples_split': 13},\n",
              "  {'max_depth': 4, 'max_leaf_nodes': 9, 'min_samples_split': 14},\n",
              "  {'max_depth': 4, 'max_leaf_nodes': 9, 'min_samples_split': 15},\n",
              "  {'max_depth': 4, 'max_leaf_nodes': 9, 'min_samples_split': 16},\n",
              "  {'max_depth': 4, 'max_leaf_nodes': 9, 'min_samples_split': 17},\n",
              "  {'max_depth': 4, 'max_leaf_nodes': 9, 'min_samples_split': 18},\n",
              "  {'max_depth': 4, 'max_leaf_nodes': 9, 'min_samples_split': 19},\n",
              "  {'max_depth': 4, 'max_leaf_nodes': 9, 'min_samples_split': 20},\n",
              "  {'max_depth': 4, 'max_leaf_nodes': 9, 'min_samples_split': 21},\n",
              "  {'max_depth': 4, 'max_leaf_nodes': 9, 'min_samples_split': 22},\n",
              "  {'max_depth': 4, 'max_leaf_nodes': 9, 'min_samples_split': 23},\n",
              "  {'max_depth': 4, 'max_leaf_nodes': 9, 'min_samples_split': 24},\n",
              "  {'max_depth': 5, 'max_leaf_nodes': 2, 'min_samples_split': 2},\n",
              "  {'max_depth': 5, 'max_leaf_nodes': 2, 'min_samples_split': 3},\n",
              "  {'max_depth': 5, 'max_leaf_nodes': 2, 'min_samples_split': 4},\n",
              "  {'max_depth': 5, 'max_leaf_nodes': 2, 'min_samples_split': 5},\n",
              "  {'max_depth': 5, 'max_leaf_nodes': 2, 'min_samples_split': 6},\n",
              "  {'max_depth': 5, 'max_leaf_nodes': 2, 'min_samples_split': 7},\n",
              "  {'max_depth': 5, 'max_leaf_nodes': 2, 'min_samples_split': 8},\n",
              "  {'max_depth': 5, 'max_leaf_nodes': 2, 'min_samples_split': 9},\n",
              "  {'max_depth': 5, 'max_leaf_nodes': 2, 'min_samples_split': 10},\n",
              "  {'max_depth': 5, 'max_leaf_nodes': 2, 'min_samples_split': 11},\n",
              "  {'max_depth': 5, 'max_leaf_nodes': 2, 'min_samples_split': 12},\n",
              "  {'max_depth': 5, 'max_leaf_nodes': 2, 'min_samples_split': 13},\n",
              "  {'max_depth': 5, 'max_leaf_nodes': 2, 'min_samples_split': 14},\n",
              "  {'max_depth': 5, 'max_leaf_nodes': 2, 'min_samples_split': 15},\n",
              "  {'max_depth': 5, 'max_leaf_nodes': 2, 'min_samples_split': 16},\n",
              "  {'max_depth': 5, 'max_leaf_nodes': 2, 'min_samples_split': 17},\n",
              "  {'max_depth': 5, 'max_leaf_nodes': 2, 'min_samples_split': 18},\n",
              "  {'max_depth': 5, 'max_leaf_nodes': 2, 'min_samples_split': 19},\n",
              "  {'max_depth': 5, 'max_leaf_nodes': 2, 'min_samples_split': 20},\n",
              "  {'max_depth': 5, 'max_leaf_nodes': 2, 'min_samples_split': 21},\n",
              "  {'max_depth': 5, 'max_leaf_nodes': 2, 'min_samples_split': 22},\n",
              "  {'max_depth': 5, 'max_leaf_nodes': 2, 'min_samples_split': 23},\n",
              "  {'max_depth': 5, 'max_leaf_nodes': 2, 'min_samples_split': 24},\n",
              "  {'max_depth': 5, 'max_leaf_nodes': 3, 'min_samples_split': 2},\n",
              "  {'max_depth': 5, 'max_leaf_nodes': 3, 'min_samples_split': 3},\n",
              "  {'max_depth': 5, 'max_leaf_nodes': 3, 'min_samples_split': 4},\n",
              "  {'max_depth': 5, 'max_leaf_nodes': 3, 'min_samples_split': 5},\n",
              "  {'max_depth': 5, 'max_leaf_nodes': 3, 'min_samples_split': 6},\n",
              "  {'max_depth': 5, 'max_leaf_nodes': 3, 'min_samples_split': 7},\n",
              "  {'max_depth': 5, 'max_leaf_nodes': 3, 'min_samples_split': 8},\n",
              "  {'max_depth': 5, 'max_leaf_nodes': 3, 'min_samples_split': 9},\n",
              "  {'max_depth': 5, 'max_leaf_nodes': 3, 'min_samples_split': 10},\n",
              "  {'max_depth': 5, 'max_leaf_nodes': 3, 'min_samples_split': 11},\n",
              "  {'max_depth': 5, 'max_leaf_nodes': 3, 'min_samples_split': 12},\n",
              "  {'max_depth': 5, 'max_leaf_nodes': 3, 'min_samples_split': 13},\n",
              "  {'max_depth': 5, 'max_leaf_nodes': 3, 'min_samples_split': 14},\n",
              "  {'max_depth': 5, 'max_leaf_nodes': 3, 'min_samples_split': 15},\n",
              "  {'max_depth': 5, 'max_leaf_nodes': 3, 'min_samples_split': 16},\n",
              "  {'max_depth': 5, 'max_leaf_nodes': 3, 'min_samples_split': 17},\n",
              "  {'max_depth': 5, 'max_leaf_nodes': 3, 'min_samples_split': 18},\n",
              "  {'max_depth': 5, 'max_leaf_nodes': 3, 'min_samples_split': 19},\n",
              "  {'max_depth': 5, 'max_leaf_nodes': 3, 'min_samples_split': 20},\n",
              "  {'max_depth': 5, 'max_leaf_nodes': 3, 'min_samples_split': 21},\n",
              "  {'max_depth': 5, 'max_leaf_nodes': 3, 'min_samples_split': 22},\n",
              "  {'max_depth': 5, 'max_leaf_nodes': 3, 'min_samples_split': 23},\n",
              "  {'max_depth': 5, 'max_leaf_nodes': 3, 'min_samples_split': 24},\n",
              "  {'max_depth': 5, 'max_leaf_nodes': 4, 'min_samples_split': 2},\n",
              "  {'max_depth': 5, 'max_leaf_nodes': 4, 'min_samples_split': 3},\n",
              "  {'max_depth': 5, 'max_leaf_nodes': 4, 'min_samples_split': 4},\n",
              "  {'max_depth': 5, 'max_leaf_nodes': 4, 'min_samples_split': 5},\n",
              "  {'max_depth': 5, 'max_leaf_nodes': 4, 'min_samples_split': 6},\n",
              "  {'max_depth': 5, 'max_leaf_nodes': 4, 'min_samples_split': 7},\n",
              "  {'max_depth': 5, 'max_leaf_nodes': 4, 'min_samples_split': 8},\n",
              "  {'max_depth': 5, 'max_leaf_nodes': 4, 'min_samples_split': 9},\n",
              "  {'max_depth': 5, 'max_leaf_nodes': 4, 'min_samples_split': 10},\n",
              "  {'max_depth': 5, 'max_leaf_nodes': 4, 'min_samples_split': 11},\n",
              "  {'max_depth': 5, 'max_leaf_nodes': 4, 'min_samples_split': 12},\n",
              "  {'max_depth': 5, 'max_leaf_nodes': 4, 'min_samples_split': 13},\n",
              "  {'max_depth': 5, 'max_leaf_nodes': 4, 'min_samples_split': 14},\n",
              "  {'max_depth': 5, 'max_leaf_nodes': 4, 'min_samples_split': 15},\n",
              "  {'max_depth': 5, 'max_leaf_nodes': 4, 'min_samples_split': 16},\n",
              "  {'max_depth': 5, 'max_leaf_nodes': 4, 'min_samples_split': 17},\n",
              "  {'max_depth': 5, 'max_leaf_nodes': 4, 'min_samples_split': 18},\n",
              "  {'max_depth': 5, 'max_leaf_nodes': 4, 'min_samples_split': 19},\n",
              "  {'max_depth': 5, 'max_leaf_nodes': 4, 'min_samples_split': 20},\n",
              "  {'max_depth': 5, 'max_leaf_nodes': 4, 'min_samples_split': 21},\n",
              "  {'max_depth': 5, 'max_leaf_nodes': 4, 'min_samples_split': 22},\n",
              "  {'max_depth': 5, 'max_leaf_nodes': 4, 'min_samples_split': 23},\n",
              "  {'max_depth': 5, 'max_leaf_nodes': 4, 'min_samples_split': 24},\n",
              "  {'max_depth': 5, 'max_leaf_nodes': 5, 'min_samples_split': 2},\n",
              "  {'max_depth': 5, 'max_leaf_nodes': 5, 'min_samples_split': 3},\n",
              "  {'max_depth': 5, 'max_leaf_nodes': 5, 'min_samples_split': 4},\n",
              "  {'max_depth': 5, 'max_leaf_nodes': 5, 'min_samples_split': 5},\n",
              "  {'max_depth': 5, 'max_leaf_nodes': 5, 'min_samples_split': 6},\n",
              "  {'max_depth': 5, 'max_leaf_nodes': 5, 'min_samples_split': 7},\n",
              "  {'max_depth': 5, 'max_leaf_nodes': 5, 'min_samples_split': 8},\n",
              "  {'max_depth': 5, 'max_leaf_nodes': 5, 'min_samples_split': 9},\n",
              "  {'max_depth': 5, 'max_leaf_nodes': 5, 'min_samples_split': 10},\n",
              "  {'max_depth': 5, 'max_leaf_nodes': 5, 'min_samples_split': 11},\n",
              "  {'max_depth': 5, 'max_leaf_nodes': 5, 'min_samples_split': 12},\n",
              "  {'max_depth': 5, 'max_leaf_nodes': 5, 'min_samples_split': 13},\n",
              "  {'max_depth': 5, 'max_leaf_nodes': 5, 'min_samples_split': 14},\n",
              "  {'max_depth': 5, 'max_leaf_nodes': 5, 'min_samples_split': 15},\n",
              "  {'max_depth': 5, 'max_leaf_nodes': 5, 'min_samples_split': 16},\n",
              "  {'max_depth': 5, 'max_leaf_nodes': 5, 'min_samples_split': 17},\n",
              "  {'max_depth': 5, 'max_leaf_nodes': 5, 'min_samples_split': 18},\n",
              "  {'max_depth': 5, 'max_leaf_nodes': 5, 'min_samples_split': 19},\n",
              "  {'max_depth': 5, 'max_leaf_nodes': 5, 'min_samples_split': 20},\n",
              "  {'max_depth': 5, 'max_leaf_nodes': 5, 'min_samples_split': 21},\n",
              "  {'max_depth': 5, 'max_leaf_nodes': 5, 'min_samples_split': 22},\n",
              "  {'max_depth': 5, 'max_leaf_nodes': 5, 'min_samples_split': 23},\n",
              "  {'max_depth': 5, 'max_leaf_nodes': 5, 'min_samples_split': 24},\n",
              "  {'max_depth': 5, 'max_leaf_nodes': 6, 'min_samples_split': 2},\n",
              "  {'max_depth': 5, 'max_leaf_nodes': 6, 'min_samples_split': 3},\n",
              "  {'max_depth': 5, 'max_leaf_nodes': 6, 'min_samples_split': 4},\n",
              "  {'max_depth': 5, 'max_leaf_nodes': 6, 'min_samples_split': 5},\n",
              "  {'max_depth': 5, 'max_leaf_nodes': 6, 'min_samples_split': 6},\n",
              "  {'max_depth': 5, 'max_leaf_nodes': 6, 'min_samples_split': 7},\n",
              "  {'max_depth': 5, 'max_leaf_nodes': 6, 'min_samples_split': 8},\n",
              "  {'max_depth': 5, 'max_leaf_nodes': 6, 'min_samples_split': 9},\n",
              "  {'max_depth': 5, 'max_leaf_nodes': 6, 'min_samples_split': 10},\n",
              "  {'max_depth': 5, 'max_leaf_nodes': 6, 'min_samples_split': 11},\n",
              "  {'max_depth': 5, 'max_leaf_nodes': 6, 'min_samples_split': 12},\n",
              "  {'max_depth': 5, 'max_leaf_nodes': 6, 'min_samples_split': 13},\n",
              "  {'max_depth': 5, 'max_leaf_nodes': 6, 'min_samples_split': 14},\n",
              "  {'max_depth': 5, 'max_leaf_nodes': 6, 'min_samples_split': 15},\n",
              "  {'max_depth': 5, 'max_leaf_nodes': 6, 'min_samples_split': 16},\n",
              "  {'max_depth': 5, 'max_leaf_nodes': 6, 'min_samples_split': 17},\n",
              "  {'max_depth': 5, 'max_leaf_nodes': 6, 'min_samples_split': 18},\n",
              "  {'max_depth': 5, 'max_leaf_nodes': 6, 'min_samples_split': 19},\n",
              "  {'max_depth': 5, 'max_leaf_nodes': 6, 'min_samples_split': 20},\n",
              "  {'max_depth': 5, 'max_leaf_nodes': 6, 'min_samples_split': 21},\n",
              "  {'max_depth': 5, 'max_leaf_nodes': 6, 'min_samples_split': 22},\n",
              "  {'max_depth': 5, 'max_leaf_nodes': 6, 'min_samples_split': 23},\n",
              "  {'max_depth': 5, 'max_leaf_nodes': 6, 'min_samples_split': 24},\n",
              "  {'max_depth': 5, 'max_leaf_nodes': 7, 'min_samples_split': 2},\n",
              "  {'max_depth': 5, 'max_leaf_nodes': 7, 'min_samples_split': 3},\n",
              "  {'max_depth': 5, 'max_leaf_nodes': 7, 'min_samples_split': 4},\n",
              "  {'max_depth': 5, 'max_leaf_nodes': 7, 'min_samples_split': 5},\n",
              "  {'max_depth': 5, 'max_leaf_nodes': 7, 'min_samples_split': 6},\n",
              "  {'max_depth': 5, 'max_leaf_nodes': 7, 'min_samples_split': 7},\n",
              "  {'max_depth': 5, 'max_leaf_nodes': 7, 'min_samples_split': 8},\n",
              "  {'max_depth': 5, 'max_leaf_nodes': 7, 'min_samples_split': 9},\n",
              "  {'max_depth': 5, 'max_leaf_nodes': 7, 'min_samples_split': 10},\n",
              "  {'max_depth': 5, 'max_leaf_nodes': 7, 'min_samples_split': 11},\n",
              "  {'max_depth': 5, 'max_leaf_nodes': 7, 'min_samples_split': 12},\n",
              "  {'max_depth': 5, 'max_leaf_nodes': 7, 'min_samples_split': 13},\n",
              "  {'max_depth': 5, 'max_leaf_nodes': 7, 'min_samples_split': 14},\n",
              "  {'max_depth': 5, 'max_leaf_nodes': 7, 'min_samples_split': 15},\n",
              "  {'max_depth': 5, 'max_leaf_nodes': 7, 'min_samples_split': 16},\n",
              "  {'max_depth': 5, 'max_leaf_nodes': 7, 'min_samples_split': 17},\n",
              "  {'max_depth': 5, 'max_leaf_nodes': 7, 'min_samples_split': 18},\n",
              "  {'max_depth': 5, 'max_leaf_nodes': 7, 'min_samples_split': 19},\n",
              "  {'max_depth': 5, 'max_leaf_nodes': 7, 'min_samples_split': 20},\n",
              "  {'max_depth': 5, 'max_leaf_nodes': 7, 'min_samples_split': 21},\n",
              "  {'max_depth': 5, 'max_leaf_nodes': 7, 'min_samples_split': 22},\n",
              "  {'max_depth': 5, 'max_leaf_nodes': 7, 'min_samples_split': 23},\n",
              "  {'max_depth': 5, 'max_leaf_nodes': 7, 'min_samples_split': 24},\n",
              "  {'max_depth': 5, 'max_leaf_nodes': 8, 'min_samples_split': 2},\n",
              "  {'max_depth': 5, 'max_leaf_nodes': 8, 'min_samples_split': 3},\n",
              "  {'max_depth': 5, 'max_leaf_nodes': 8, 'min_samples_split': 4},\n",
              "  {'max_depth': 5, 'max_leaf_nodes': 8, 'min_samples_split': 5},\n",
              "  {'max_depth': 5, 'max_leaf_nodes': 8, 'min_samples_split': 6},\n",
              "  {'max_depth': 5, 'max_leaf_nodes': 8, 'min_samples_split': 7},\n",
              "  {'max_depth': 5, 'max_leaf_nodes': 8, 'min_samples_split': 8},\n",
              "  {'max_depth': 5, 'max_leaf_nodes': 8, 'min_samples_split': 9},\n",
              "  {'max_depth': 5, 'max_leaf_nodes': 8, 'min_samples_split': 10},\n",
              "  {'max_depth': 5, 'max_leaf_nodes': 8, 'min_samples_split': 11},\n",
              "  {'max_depth': 5, 'max_leaf_nodes': 8, 'min_samples_split': 12},\n",
              "  {'max_depth': 5, 'max_leaf_nodes': 8, 'min_samples_split': 13},\n",
              "  {'max_depth': 5, 'max_leaf_nodes': 8, 'min_samples_split': 14},\n",
              "  {'max_depth': 5, 'max_leaf_nodes': 8, 'min_samples_split': 15},\n",
              "  {'max_depth': 5, 'max_leaf_nodes': 8, 'min_samples_split': 16},\n",
              "  {'max_depth': 5, 'max_leaf_nodes': 8, 'min_samples_split': 17},\n",
              "  {'max_depth': 5, 'max_leaf_nodes': 8, 'min_samples_split': 18},\n",
              "  {'max_depth': 5, 'max_leaf_nodes': 8, 'min_samples_split': 19},\n",
              "  {'max_depth': 5, 'max_leaf_nodes': 8, 'min_samples_split': 20},\n",
              "  {'max_depth': 5, 'max_leaf_nodes': 8, 'min_samples_split': 21},\n",
              "  {'max_depth': 5, 'max_leaf_nodes': 8, 'min_samples_split': 22},\n",
              "  {'max_depth': 5, 'max_leaf_nodes': 8, 'min_samples_split': 23},\n",
              "  {'max_depth': 5, 'max_leaf_nodes': 8, 'min_samples_split': 24},\n",
              "  {'max_depth': 5, 'max_leaf_nodes': 9, 'min_samples_split': 2},\n",
              "  {'max_depth': 5, 'max_leaf_nodes': 9, 'min_samples_split': 3},\n",
              "  {'max_depth': 5, 'max_leaf_nodes': 9, 'min_samples_split': 4},\n",
              "  {'max_depth': 5, 'max_leaf_nodes': 9, 'min_samples_split': 5},\n",
              "  {'max_depth': 5, 'max_leaf_nodes': 9, 'min_samples_split': 6},\n",
              "  {'max_depth': 5, 'max_leaf_nodes': 9, 'min_samples_split': 7},\n",
              "  {'max_depth': 5, 'max_leaf_nodes': 9, 'min_samples_split': 8},\n",
              "  {'max_depth': 5, 'max_leaf_nodes': 9, 'min_samples_split': 9},\n",
              "  {'max_depth': 5, 'max_leaf_nodes': 9, 'min_samples_split': 10},\n",
              "  {'max_depth': 5, 'max_leaf_nodes': 9, 'min_samples_split': 11},\n",
              "  {'max_depth': 5, 'max_leaf_nodes': 9, 'min_samples_split': 12},\n",
              "  {'max_depth': 5, 'max_leaf_nodes': 9, 'min_samples_split': 13},\n",
              "  {'max_depth': 5, 'max_leaf_nodes': 9, 'min_samples_split': 14},\n",
              "  {'max_depth': 5, 'max_leaf_nodes': 9, 'min_samples_split': 15},\n",
              "  {'max_depth': 5, 'max_leaf_nodes': 9, 'min_samples_split': 16},\n",
              "  {'max_depth': 5, 'max_leaf_nodes': 9, 'min_samples_split': 17},\n",
              "  {'max_depth': 5, 'max_leaf_nodes': 9, 'min_samples_split': 18},\n",
              "  {'max_depth': 5, 'max_leaf_nodes': 9, 'min_samples_split': 19},\n",
              "  {'max_depth': 5, 'max_leaf_nodes': 9, 'min_samples_split': 20},\n",
              "  {'max_depth': 5, 'max_leaf_nodes': 9, 'min_samples_split': 21},\n",
              "  {'max_depth': 5, 'max_leaf_nodes': 9, 'min_samples_split': 22},\n",
              "  {'max_depth': 5, 'max_leaf_nodes': 9, 'min_samples_split': 23},\n",
              "  {'max_depth': 5, 'max_leaf_nodes': 9, 'min_samples_split': 24},\n",
              "  {'max_depth': 6, 'max_leaf_nodes': 2, 'min_samples_split': 2},\n",
              "  {'max_depth': 6, 'max_leaf_nodes': 2, 'min_samples_split': 3},\n",
              "  {'max_depth': 6, 'max_leaf_nodes': 2, 'min_samples_split': 4},\n",
              "  {'max_depth': 6, 'max_leaf_nodes': 2, 'min_samples_split': 5},\n",
              "  {'max_depth': 6, 'max_leaf_nodes': 2, 'min_samples_split': 6},\n",
              "  {'max_depth': 6, 'max_leaf_nodes': 2, 'min_samples_split': 7},\n",
              "  {'max_depth': 6, 'max_leaf_nodes': 2, 'min_samples_split': 8},\n",
              "  {'max_depth': 6, 'max_leaf_nodes': 2, 'min_samples_split': 9},\n",
              "  {'max_depth': 6, 'max_leaf_nodes': 2, 'min_samples_split': 10},\n",
              "  {'max_depth': 6, 'max_leaf_nodes': 2, 'min_samples_split': 11},\n",
              "  {'max_depth': 6, 'max_leaf_nodes': 2, 'min_samples_split': 12},\n",
              "  {'max_depth': 6, 'max_leaf_nodes': 2, 'min_samples_split': 13},\n",
              "  {'max_depth': 6, 'max_leaf_nodes': 2, 'min_samples_split': 14},\n",
              "  {'max_depth': 6, 'max_leaf_nodes': 2, 'min_samples_split': 15},\n",
              "  {'max_depth': 6, 'max_leaf_nodes': 2, 'min_samples_split': 16},\n",
              "  {'max_depth': 6, 'max_leaf_nodes': 2, 'min_samples_split': 17},\n",
              "  {'max_depth': 6, 'max_leaf_nodes': 2, 'min_samples_split': 18},\n",
              "  {'max_depth': 6, 'max_leaf_nodes': 2, 'min_samples_split': 19},\n",
              "  {'max_depth': 6, 'max_leaf_nodes': 2, 'min_samples_split': 20},\n",
              "  {'max_depth': 6, 'max_leaf_nodes': 2, 'min_samples_split': 21},\n",
              "  {'max_depth': 6, 'max_leaf_nodes': 2, 'min_samples_split': 22},\n",
              "  {'max_depth': 6, 'max_leaf_nodes': 2, 'min_samples_split': 23},\n",
              "  {'max_depth': 6, 'max_leaf_nodes': 2, 'min_samples_split': 24},\n",
              "  {'max_depth': 6, 'max_leaf_nodes': 3, 'min_samples_split': 2},\n",
              "  {'max_depth': 6, 'max_leaf_nodes': 3, 'min_samples_split': 3},\n",
              "  {'max_depth': 6, 'max_leaf_nodes': 3, 'min_samples_split': 4},\n",
              "  {'max_depth': 6, 'max_leaf_nodes': 3, 'min_samples_split': 5},\n",
              "  {'max_depth': 6, 'max_leaf_nodes': 3, 'min_samples_split': 6},\n",
              "  {'max_depth': 6, 'max_leaf_nodes': 3, 'min_samples_split': 7},\n",
              "  {'max_depth': 6, 'max_leaf_nodes': 3, 'min_samples_split': 8},\n",
              "  {'max_depth': 6, 'max_leaf_nodes': 3, 'min_samples_split': 9},\n",
              "  {'max_depth': 6, 'max_leaf_nodes': 3, 'min_samples_split': 10},\n",
              "  {'max_depth': 6, 'max_leaf_nodes': 3, 'min_samples_split': 11},\n",
              "  {'max_depth': 6, 'max_leaf_nodes': 3, 'min_samples_split': 12},\n",
              "  {'max_depth': 6, 'max_leaf_nodes': 3, 'min_samples_split': 13},\n",
              "  {'max_depth': 6, 'max_leaf_nodes': 3, 'min_samples_split': 14},\n",
              "  {'max_depth': 6, 'max_leaf_nodes': 3, 'min_samples_split': 15},\n",
              "  {'max_depth': 6, 'max_leaf_nodes': 3, 'min_samples_split': 16},\n",
              "  {'max_depth': 6, 'max_leaf_nodes': 3, 'min_samples_split': 17},\n",
              "  {'max_depth': 6, 'max_leaf_nodes': 3, 'min_samples_split': 18},\n",
              "  {'max_depth': 6, 'max_leaf_nodes': 3, 'min_samples_split': 19},\n",
              "  {'max_depth': 6, 'max_leaf_nodes': 3, 'min_samples_split': 20},\n",
              "  {'max_depth': 6, 'max_leaf_nodes': 3, 'min_samples_split': 21},\n",
              "  {'max_depth': 6, 'max_leaf_nodes': 3, 'min_samples_split': 22},\n",
              "  {'max_depth': 6, 'max_leaf_nodes': 3, 'min_samples_split': 23},\n",
              "  {'max_depth': 6, 'max_leaf_nodes': 3, 'min_samples_split': 24},\n",
              "  {'max_depth': 6, 'max_leaf_nodes': 4, 'min_samples_split': 2},\n",
              "  {'max_depth': 6, 'max_leaf_nodes': 4, 'min_samples_split': 3},\n",
              "  {'max_depth': 6, 'max_leaf_nodes': 4, 'min_samples_split': 4},\n",
              "  {'max_depth': 6, 'max_leaf_nodes': 4, 'min_samples_split': 5},\n",
              "  {'max_depth': 6, 'max_leaf_nodes': 4, 'min_samples_split': 6},\n",
              "  {'max_depth': 6, 'max_leaf_nodes': 4, 'min_samples_split': 7},\n",
              "  {'max_depth': 6, 'max_leaf_nodes': 4, 'min_samples_split': 8},\n",
              "  {'max_depth': 6, 'max_leaf_nodes': 4, 'min_samples_split': 9},\n",
              "  {'max_depth': 6, 'max_leaf_nodes': 4, 'min_samples_split': 10},\n",
              "  {'max_depth': 6, 'max_leaf_nodes': 4, 'min_samples_split': 11},\n",
              "  {'max_depth': 6, 'max_leaf_nodes': 4, 'min_samples_split': 12},\n",
              "  {'max_depth': 6, 'max_leaf_nodes': 4, 'min_samples_split': 13},\n",
              "  {'max_depth': 6, 'max_leaf_nodes': 4, 'min_samples_split': 14},\n",
              "  {'max_depth': 6, 'max_leaf_nodes': 4, 'min_samples_split': 15},\n",
              "  {'max_depth': 6, 'max_leaf_nodes': 4, 'min_samples_split': 16},\n",
              "  {'max_depth': 6, 'max_leaf_nodes': 4, 'min_samples_split': 17},\n",
              "  {'max_depth': 6, 'max_leaf_nodes': 4, 'min_samples_split': 18},\n",
              "  {'max_depth': 6, 'max_leaf_nodes': 4, 'min_samples_split': 19},\n",
              "  {'max_depth': 6, 'max_leaf_nodes': 4, 'min_samples_split': 20},\n",
              "  {'max_depth': 6, 'max_leaf_nodes': 4, 'min_samples_split': 21},\n",
              "  {'max_depth': 6, 'max_leaf_nodes': 4, 'min_samples_split': 22},\n",
              "  {'max_depth': 6, 'max_leaf_nodes': 4, 'min_samples_split': 23},\n",
              "  {'max_depth': 6, 'max_leaf_nodes': 4, 'min_samples_split': 24},\n",
              "  {'max_depth': 6, 'max_leaf_nodes': 5, 'min_samples_split': 2},\n",
              "  {'max_depth': 6, 'max_leaf_nodes': 5, 'min_samples_split': 3},\n",
              "  {'max_depth': 6, 'max_leaf_nodes': 5, 'min_samples_split': 4},\n",
              "  {'max_depth': 6, 'max_leaf_nodes': 5, 'min_samples_split': 5},\n",
              "  {'max_depth': 6, 'max_leaf_nodes': 5, 'min_samples_split': 6},\n",
              "  {'max_depth': 6, 'max_leaf_nodes': 5, 'min_samples_split': 7},\n",
              "  {'max_depth': 6, 'max_leaf_nodes': 5, 'min_samples_split': 8},\n",
              "  {'max_depth': 6, 'max_leaf_nodes': 5, 'min_samples_split': 9},\n",
              "  {'max_depth': 6, 'max_leaf_nodes': 5, 'min_samples_split': 10},\n",
              "  {'max_depth': 6, 'max_leaf_nodes': 5, 'min_samples_split': 11},\n",
              "  {'max_depth': 6, 'max_leaf_nodes': 5, 'min_samples_split': 12},\n",
              "  ...],\n",
              " 'split0_test_score': array([0.71244635, 0.71244635, 0.71244635, ..., 0.7306867 , 0.7306867 ,\n",
              "        0.7167382 ]),\n",
              " 'split1_test_score': array([0.69957082, 0.69957082, 0.69957082, ..., 0.72746781, 0.7167382 ,\n",
              "        0.73927039]),\n",
              " 'split2_test_score': array([0.69742489, 0.69742489, 0.69742489, ..., 0.73497854, 0.72424893,\n",
              "        0.72639485]),\n",
              " 'split3_test_score': array([0.722103  , 0.722103  , 0.722103  , ..., 0.72532189, 0.71459227,\n",
              "        0.72639485]),\n",
              " 'split4_test_score': array([0.71535983, 0.71535983, 0.71535983, ..., 0.72180451, 0.7207304 ,\n",
              "        0.7132116 ]),\n",
              " 'mean_test_score': array([0.70938098, 0.70938098, 0.70938098, ..., 0.72805189, 0.7213993 ,\n",
              "        0.72440198]),\n",
              " 'std_test_score': array([0.00944648, 0.00944648, 0.00944648, ..., 0.00451098, 0.00570763,\n",
              "        0.00908813]),\n",
              " 'rank_test_score': array([7896, 7896, 7896, ..., 4417, 6629, 5523], dtype=int32)}"
            ]
          },
          "metadata": {},
          "execution_count": 67
        }
      ],
      "source": [
        "\n",
        "clf.cv_results_"
      ]
    },
    {
      "cell_type": "markdown",
      "metadata": {
        "id": "l30HmEMr_sNY"
      },
      "source": [
        "Podemos obtener los parámetros que obtuvieron el mejor resultado, así como la media de resultados obtenidos al relizar cross validation"
      ]
    },
    {
      "cell_type": "code",
      "execution_count": null,
      "metadata": {
        "colab": {
          "base_uri": "https://localhost:8080/"
        },
        "outputId": "f142d6b6-8110-4ceb-8150-11119513a23f",
        "id": "lNAgjwZ1_sNY"
      },
      "outputs": [
        {
          "output_type": "execute_result",
          "data": {
            "text/plain": [
              "({'max_depth': 5, 'max_leaf_nodes': 9, 'min_samples_split': 2},\n",
              " 0.7611014046458882)"
            ]
          },
          "metadata": {},
          "execution_count": 68
        }
      ],
      "source": [
        "clf.best_params_, clf.best_score_"
      ]
    },
    {
      "cell_type": "code",
      "execution_count": null,
      "metadata": {
        "colab": {
          "base_uri": "https://localhost:8080/"
        },
        "outputId": "240fdb4e-2823-4719-f3d9-3e6a785867c1",
        "id": "RIR0UZdJ_sNZ"
      },
      "outputs": [
        {
          "output_type": "execute_result",
          "data": {
            "text/plain": [
              "DecisionTreeClassifier(max_depth=5, max_leaf_nodes=9)"
            ]
          },
          "metadata": {},
          "execution_count": 69
        }
      ],
      "source": [
        "best_tree = clf.best_estimator_\n",
        "\n",
        "\n",
        "best_tree\n"
      ]
    },
    {
      "cell_type": "code",
      "source": [
        "scores.append((clf.best_score_, clf.best_estimator_))"
      ],
      "metadata": {
        "id": "WfVeU0mv1WWq"
      },
      "execution_count": null,
      "outputs": []
    },
    {
      "cell_type": "code",
      "execution_count": null,
      "metadata": {
        "colab": {
          "base_uri": "https://localhost:8080/"
        },
        "outputId": "15ff734c-9083-47d9-d664-39c5c619d0ca",
        "id": "_RsHERin_sNa"
      },
      "outputs": [
        {
          "output_type": "execute_result",
          "data": {
            "text/plain": [
              "(0.7786492374727669, 0.7786492374727669)"
            ]
          },
          "metadata": {},
          "execution_count": 70
        }
      ],
      "source": [
        "# accuracy_score\n",
        "eval(best_tree, X_test, y_test)"
      ]
    },
    {
      "cell_type": "code",
      "execution_count": null,
      "metadata": {
        "colab": {
          "base_uri": "https://localhost:8080/",
          "height": 917
        },
        "outputId": "ee3f7578-deaa-4a87-e304-aee674e25fd1",
        "id": "4WMZLydx_sNa"
      },
      "outputs": [
        {
          "output_type": "execute_result",
          "data": {
            "text/plain": [
              "<graphviz.files.Source at 0x7f3852ad9fd0>"
            ],
            "image/svg+xml": "<?xml version=\"1.0\" encoding=\"UTF-8\" standalone=\"no\"?>\n<!DOCTYPE svg PUBLIC \"-//W3C//DTD SVG 1.1//EN\"\n \"http://www.w3.org/Graphics/SVG/1.1/DTD/svg11.dtd\">\n<!-- Generated by graphviz version 2.40.1 (20161225.0304)\n -->\n<!-- Title: Tree Pages: 1 -->\n<svg width=\"972pt\" height=\"671pt\"\n viewBox=\"0.00 0.00 972.00 671.00\" xmlns=\"http://www.w3.org/2000/svg\" xmlns:xlink=\"http://www.w3.org/1999/xlink\">\n<g id=\"graph0\" class=\"graph\" transform=\"scale(1 1) rotate(0) translate(4 667)\">\n<title>Tree</title>\n<polygon fill=\"#ffffff\" stroke=\"transparent\" points=\"-4,4 -4,-667 968,-667 968,4 -4,4\"/>\n<!-- 0 -->\n<g id=\"node1\" class=\"node\">\n<title>0</title>\n<path fill=\"#fffffe\" stroke=\"#000000\" d=\"M731.5,-663C731.5,-663 606.5,-663 606.5,-663 600.5,-663 594.5,-657 594.5,-651 594.5,-651 594.5,-592 594.5,-592 594.5,-586 600.5,-580 606.5,-580 606.5,-580 731.5,-580 731.5,-580 737.5,-580 743.5,-586 743.5,-592 743.5,-592 743.5,-651 743.5,-651 743.5,-657 737.5,-663 731.5,-663\"/>\n<text text-anchor=\"start\" x=\"617\" y=\"-647.8\" font-family=\"Helvetica,sans-Serif\" font-size=\"14.00\" fill=\"#000000\">CryoSleep ≤ 0.5</text>\n<text text-anchor=\"start\" x=\"639.5\" y=\"-632.8\" font-family=\"Helvetica,sans-Serif\" font-size=\"14.00\" fill=\"#000000\">gini = 0.5</text>\n<text text-anchor=\"start\" x=\"617\" y=\"-617.8\" font-family=\"Helvetica,sans-Serif\" font-size=\"14.00\" fill=\"#000000\">samples = 4659</text>\n<text text-anchor=\"start\" x=\"602.5\" y=\"-602.8\" font-family=\"Helvetica,sans-Serif\" font-size=\"14.00\" fill=\"#000000\">value = [2333, 2326]</text>\n<text text-anchor=\"start\" x=\"637.5\" y=\"-587.8\" font-family=\"Helvetica,sans-Serif\" font-size=\"14.00\" fill=\"#000000\">class = &#45;1</text>\n</g>\n<!-- 1 -->\n<g id=\"node2\" class=\"node\">\n<title>1</title>\n<path fill=\"#f2c29f\" stroke=\"#000000\" d=\"M643,-544C643,-544 511,-544 511,-544 505,-544 499,-538 499,-532 499,-532 499,-473 499,-473 499,-467 505,-461 511,-461 511,-461 643,-461 643,-461 649,-461 655,-467 655,-473 655,-473 655,-532 655,-532 655,-538 649,-544 643,-544\"/>\n<text text-anchor=\"start\" x=\"507\" y=\"-528.8\" font-family=\"Helvetica,sans-Serif\" font-size=\"14.00\" fill=\"#000000\">RoomService ≤ 0.188</text>\n<text text-anchor=\"start\" x=\"539\" y=\"-513.8\" font-family=\"Helvetica,sans-Serif\" font-size=\"14.00\" fill=\"#000000\">gini = 0.449</text>\n<text text-anchor=\"start\" x=\"525\" y=\"-498.8\" font-family=\"Helvetica,sans-Serif\" font-size=\"14.00\" fill=\"#000000\">samples = 3061</text>\n<text text-anchor=\"start\" x=\"510.5\" y=\"-483.8\" font-family=\"Helvetica,sans-Serif\" font-size=\"14.00\" fill=\"#000000\">value = [2020, 1041]</text>\n<text text-anchor=\"start\" x=\"545.5\" y=\"-468.8\" font-family=\"Helvetica,sans-Serif\" font-size=\"14.00\" fill=\"#000000\">class = &#45;1</text>\n</g>\n<!-- 0&#45;&gt;1 -->\n<g id=\"edge1\" class=\"edge\">\n<title>0&#45;&gt;1</title>\n<path fill=\"none\" stroke=\"#000000\" d=\"M636.8229,-579.8796C629.9296,-570.9633 622.5798,-561.4565 615.4761,-552.268\"/>\n<polygon fill=\"#000000\" stroke=\"#000000\" points=\"618.1999,-550.0687 609.3145,-544.2981 612.6619,-554.3502 618.1999,-550.0687\"/>\n<text text-anchor=\"middle\" x=\"606.1413\" y=\"-565.3959\" font-family=\"Helvetica,sans-Serif\" font-size=\"14.00\" fill=\"#000000\">True</text>\n</g>\n<!-- 2 -->\n<g id=\"node15\" class=\"node\">\n<title>2</title>\n<path fill=\"#69b5eb\" stroke=\"#000000\" d=\"M836.5,-544C836.5,-544 685.5,-544 685.5,-544 679.5,-544 673.5,-538 673.5,-532 673.5,-532 673.5,-473 673.5,-473 673.5,-467 679.5,-461 685.5,-461 685.5,-461 836.5,-461 836.5,-461 842.5,-461 848.5,-467 848.5,-473 848.5,-473 848.5,-532 848.5,-532 848.5,-538 842.5,-544 836.5,-544\"/>\n<text text-anchor=\"start\" x=\"681.5\" y=\"-528.8\" font-family=\"Helvetica,sans-Serif\" font-size=\"14.00\" fill=\"#000000\">HomePlanet_Earth ≤ 0.5</text>\n<text text-anchor=\"start\" x=\"723\" y=\"-513.8\" font-family=\"Helvetica,sans-Serif\" font-size=\"14.00\" fill=\"#000000\">gini = 0.315</text>\n<text text-anchor=\"start\" x=\"709\" y=\"-498.8\" font-family=\"Helvetica,sans-Serif\" font-size=\"14.00\" fill=\"#000000\">samples = 1598</text>\n<text text-anchor=\"start\" x=\"699\" y=\"-483.8\" font-family=\"Helvetica,sans-Serif\" font-size=\"14.00\" fill=\"#000000\">value = [313, 1285]</text>\n<text text-anchor=\"start\" x=\"732\" y=\"-468.8\" font-family=\"Helvetica,sans-Serif\" font-size=\"14.00\" fill=\"#000000\">class = 1</text>\n</g>\n<!-- 0&#45;&gt;2 -->\n<g id=\"edge14\" class=\"edge\">\n<title>0&#45;&gt;2</title>\n<path fill=\"none\" stroke=\"#000000\" d=\"M701.1771,-579.8796C708.0704,-570.9633 715.4202,-561.4565 722.5239,-552.268\"/>\n<polygon fill=\"#000000\" stroke=\"#000000\" points=\"725.3381,-554.3502 728.6855,-544.2981 719.8001,-550.0687 725.3381,-554.3502\"/>\n<text text-anchor=\"middle\" x=\"731.8587\" y=\"-565.3959\" font-family=\"Helvetica,sans-Serif\" font-size=\"14.00\" fill=\"#000000\">False</text>\n</g>\n<!-- 5 -->\n<g id=\"node3\" class=\"node\">\n<title>5</title>\n<path fill=\"#f7d6bf\" stroke=\"#000000\" d=\"M491,-425C491,-425 375,-425 375,-425 369,-425 363,-419 363,-413 363,-413 363,-354 363,-354 363,-348 369,-342 375,-342 375,-342 491,-342 491,-342 497,-342 503,-348 503,-354 503,-354 503,-413 503,-413 503,-419 497,-425 491,-425\"/>\n<text text-anchor=\"start\" x=\"391.5\" y=\"-409.8\" font-family=\"Helvetica,sans-Serif\" font-size=\"14.00\" fill=\"#000000\">Spa ≤ &#45;0.042</text>\n<text text-anchor=\"start\" x=\"395\" y=\"-394.8\" font-family=\"Helvetica,sans-Serif\" font-size=\"14.00\" fill=\"#000000\">gini = 0.481</text>\n<text text-anchor=\"start\" x=\"381\" y=\"-379.8\" font-family=\"Helvetica,sans-Serif\" font-size=\"14.00\" fill=\"#000000\">samples = 2304</text>\n<text text-anchor=\"start\" x=\"371\" y=\"-364.8\" font-family=\"Helvetica,sans-Serif\" font-size=\"14.00\" fill=\"#000000\">value = [1376, 928]</text>\n<text text-anchor=\"start\" x=\"401.5\" y=\"-349.8\" font-family=\"Helvetica,sans-Serif\" font-size=\"14.00\" fill=\"#000000\">class = &#45;1</text>\n</g>\n<!-- 1&#45;&gt;5 -->\n<g id=\"edge2\" class=\"edge\">\n<title>1&#45;&gt;5</title>\n<path fill=\"none\" stroke=\"#000000\" d=\"M526.6358,-460.8796C515.3015,-451.513 503.1785,-441.4948 491.5419,-431.8784\"/>\n<polygon fill=\"#000000\" stroke=\"#000000\" points=\"493.5173,-428.9703 483.5792,-425.2981 489.0581,-434.3663 493.5173,-428.9703\"/>\n</g>\n<!-- 6 -->\n<g id=\"node14\" class=\"node\">\n<title>6</title>\n<path fill=\"#ea975c\" stroke=\"#000000\" d=\"M641,-417.5C641,-417.5 533,-417.5 533,-417.5 527,-417.5 521,-411.5 521,-405.5 521,-405.5 521,-361.5 521,-361.5 521,-355.5 527,-349.5 533,-349.5 533,-349.5 641,-349.5 641,-349.5 647,-349.5 653,-355.5 653,-361.5 653,-361.5 653,-405.5 653,-405.5 653,-411.5 647,-417.5 641,-417.5\"/>\n<text text-anchor=\"start\" x=\"549\" y=\"-402.3\" font-family=\"Helvetica,sans-Serif\" font-size=\"14.00\" fill=\"#000000\">gini = 0.254</text>\n<text text-anchor=\"start\" x=\"539\" y=\"-387.3\" font-family=\"Helvetica,sans-Serif\" font-size=\"14.00\" fill=\"#000000\">samples = 757</text>\n<text text-anchor=\"start\" x=\"529\" y=\"-372.3\" font-family=\"Helvetica,sans-Serif\" font-size=\"14.00\" fill=\"#000000\">value = [644, 113]</text>\n<text text-anchor=\"start\" x=\"555.5\" y=\"-357.3\" font-family=\"Helvetica,sans-Serif\" font-size=\"14.00\" fill=\"#000000\">class = &#45;1</text>\n</g>\n<!-- 1&#45;&gt;6 -->\n<g id=\"edge13\" class=\"edge\">\n<title>1&#45;&gt;6</title>\n<path fill=\"none\" stroke=\"#000000\" d=\"M580.4975,-460.8796C581.3938,-450.2134 582.3612,-438.7021 583.2688,-427.9015\"/>\n<polygon fill=\"#000000\" stroke=\"#000000\" points=\"586.7666,-428.0729 584.1164,-417.8149 579.7912,-427.4867 586.7666,-428.0729\"/>\n</g>\n<!-- 7 -->\n<g id=\"node4\" class=\"node\">\n<title>7</title>\n<path fill=\"#fffdfc\" stroke=\"#000000\" d=\"M411,-306C411,-306 303,-306 303,-306 297,-306 291,-300 291,-294 291,-294 291,-235 291,-235 291,-229 297,-223 303,-223 303,-223 411,-223 411,-223 417,-223 423,-229 423,-235 423,-235 423,-294 423,-294 423,-300 417,-306 411,-306\"/>\n<text text-anchor=\"start\" x=\"301.5\" y=\"-290.8\" font-family=\"Helvetica,sans-Serif\" font-size=\"14.00\" fill=\"#000000\">VRDeck ≤ &#45;0.057</text>\n<text text-anchor=\"start\" x=\"327.5\" y=\"-275.8\" font-family=\"Helvetica,sans-Serif\" font-size=\"14.00\" fill=\"#000000\">gini = 0.5</text>\n<text text-anchor=\"start\" x=\"305\" y=\"-260.8\" font-family=\"Helvetica,sans-Serif\" font-size=\"14.00\" fill=\"#000000\">samples = 1585</text>\n<text text-anchor=\"start\" x=\"299\" y=\"-245.8\" font-family=\"Helvetica,sans-Serif\" font-size=\"14.00\" fill=\"#000000\">value = [799, 786]</text>\n<text text-anchor=\"start\" x=\"325.5\" y=\"-230.8\" font-family=\"Helvetica,sans-Serif\" font-size=\"14.00\" fill=\"#000000\">class = &#45;1</text>\n</g>\n<!-- 5&#45;&gt;7 -->\n<g id=\"edge3\" class=\"edge\">\n<title>5&#45;&gt;7</title>\n<path fill=\"none\" stroke=\"#000000\" d=\"M406.4189,-341.8796C400.8395,-333.1434 394.8981,-323.8404 389.1405,-314.8253\"/>\n<polygon fill=\"#000000\" stroke=\"#000000\" points=\"392.0269,-312.8421 383.6946,-306.2981 386.1274,-316.6098 392.0269,-312.8421\"/>\n</g>\n<!-- 8 -->\n<g id=\"node11\" class=\"node\">\n<title>8</title>\n<path fill=\"#eba06a\" stroke=\"#000000\" d=\"M566.5,-306C566.5,-306 453.5,-306 453.5,-306 447.5,-306 441.5,-300 441.5,-294 441.5,-294 441.5,-235 441.5,-235 441.5,-229 447.5,-223 453.5,-223 453.5,-223 566.5,-223 566.5,-223 572.5,-223 578.5,-229 578.5,-235 578.5,-235 578.5,-294 578.5,-294 578.5,-300 572.5,-306 566.5,-306\"/>\n<text text-anchor=\"start\" x=\"449.5\" y=\"-290.8\" font-family=\"Helvetica,sans-Serif\" font-size=\"14.00\" fill=\"#000000\">FoodCourt ≤ 0.728</text>\n<text text-anchor=\"start\" x=\"472\" y=\"-275.8\" font-family=\"Helvetica,sans-Serif\" font-size=\"14.00\" fill=\"#000000\">gini = 0.317</text>\n<text text-anchor=\"start\" x=\"462\" y=\"-260.8\" font-family=\"Helvetica,sans-Serif\" font-size=\"14.00\" fill=\"#000000\">samples = 719</text>\n<text text-anchor=\"start\" x=\"452\" y=\"-245.8\" font-family=\"Helvetica,sans-Serif\" font-size=\"14.00\" fill=\"#000000\">value = [577, 142]</text>\n<text text-anchor=\"start\" x=\"478.5\" y=\"-230.8\" font-family=\"Helvetica,sans-Serif\" font-size=\"14.00\" fill=\"#000000\">class = &#45;1</text>\n</g>\n<!-- 5&#45;&gt;8 -->\n<g id=\"edge10\" class=\"edge\">\n<title>5&#45;&gt;8</title>\n<path fill=\"none\" stroke=\"#000000\" d=\"M459.9309,-341.8796C465.5837,-333.1434 471.6033,-323.8404 477.4366,-314.8253\"/>\n<polygon fill=\"#000000\" stroke=\"#000000\" points=\"480.4601,-316.5952 482.9542,-306.2981 474.5831,-312.7924 480.4601,-316.5952\"/>\n</g>\n<!-- 9 -->\n<g id=\"node5\" class=\"node\">\n<title>9</title>\n<path fill=\"#b6dbf5\" stroke=\"#000000\" d=\"M259.5,-187C259.5,-187 146.5,-187 146.5,-187 140.5,-187 134.5,-181 134.5,-175 134.5,-175 134.5,-116 134.5,-116 134.5,-110 140.5,-104 146.5,-104 146.5,-104 259.5,-104 259.5,-104 265.5,-104 271.5,-110 271.5,-116 271.5,-116 271.5,-175 271.5,-175 271.5,-181 265.5,-187 259.5,-187\"/>\n<text text-anchor=\"start\" x=\"142.5\" y=\"-171.8\" font-family=\"Helvetica,sans-Serif\" font-size=\"14.00\" fill=\"#000000\">FoodCourt ≤ 0.563</text>\n<text text-anchor=\"start\" x=\"165\" y=\"-156.8\" font-family=\"Helvetica,sans-Serif\" font-size=\"14.00\" fill=\"#000000\">gini = 0.474</text>\n<text text-anchor=\"start\" x=\"151\" y=\"-141.8\" font-family=\"Helvetica,sans-Serif\" font-size=\"14.00\" fill=\"#000000\">samples = 1077</text>\n<text text-anchor=\"start\" x=\"145\" y=\"-126.8\" font-family=\"Helvetica,sans-Serif\" font-size=\"14.00\" fill=\"#000000\">value = [416, 661]</text>\n<text text-anchor=\"start\" x=\"174\" y=\"-111.8\" font-family=\"Helvetica,sans-Serif\" font-size=\"14.00\" fill=\"#000000\">class = 1</text>\n</g>\n<!-- 7&#45;&gt;9 -->\n<g id=\"edge4\" class=\"edge\">\n<title>7&#45;&gt;9</title>\n<path fill=\"none\" stroke=\"#000000\" d=\"M303.1383,-222.8796C290.8291,-213.368 277.6503,-203.1843 265.0296,-193.432\"/>\n<polygon fill=\"#000000\" stroke=\"#000000\" points=\"266.8843,-190.4419 256.8313,-187.0969 262.6041,-195.9809 266.8843,-190.4419\"/>\n</g>\n<!-- 10 -->\n<g id=\"node8\" class=\"node\">\n<title>10</title>\n<path fill=\"#edaa7a\" stroke=\"#000000\" d=\"M414.5,-187C414.5,-187 301.5,-187 301.5,-187 295.5,-187 289.5,-181 289.5,-175 289.5,-175 289.5,-116 289.5,-116 289.5,-110 295.5,-104 301.5,-104 301.5,-104 414.5,-104 414.5,-104 420.5,-104 426.5,-110 426.5,-116 426.5,-116 426.5,-175 426.5,-175 426.5,-181 420.5,-187 414.5,-187\"/>\n<text text-anchor=\"start\" x=\"297.5\" y=\"-171.8\" font-family=\"Helvetica,sans-Serif\" font-size=\"14.00\" fill=\"#000000\">FoodCourt ≤ 1.498</text>\n<text text-anchor=\"start\" x=\"320\" y=\"-156.8\" font-family=\"Helvetica,sans-Serif\" font-size=\"14.00\" fill=\"#000000\">gini = 0.371</text>\n<text text-anchor=\"start\" x=\"310\" y=\"-141.8\" font-family=\"Helvetica,sans-Serif\" font-size=\"14.00\" fill=\"#000000\">samples = 508</text>\n<text text-anchor=\"start\" x=\"300\" y=\"-126.8\" font-family=\"Helvetica,sans-Serif\" font-size=\"14.00\" fill=\"#000000\">value = [383, 125]</text>\n<text text-anchor=\"start\" x=\"326.5\" y=\"-111.8\" font-family=\"Helvetica,sans-Serif\" font-size=\"14.00\" fill=\"#000000\">class = &#45;1</text>\n</g>\n<!-- 7&#45;&gt;10 -->\n<g id=\"edge7\" class=\"edge\">\n<title>7&#45;&gt;10</title>\n<path fill=\"none\" stroke=\"#000000\" d=\"M357.3498,-222.8796C357.4186,-214.6838 357.4917,-205.9891 357.563,-197.5013\"/>\n<polygon fill=\"#000000\" stroke=\"#000000\" points=\"361.0645,-197.3272 357.6488,-187.2981 354.0648,-197.2683 361.0645,-197.3272\"/>\n</g>\n<!-- 13 -->\n<g id=\"node6\" class=\"node\">\n<title>13</title>\n<path fill=\"#cbe5f8\" stroke=\"#000000\" d=\"M120,-68C120,-68 12,-68 12,-68 6,-68 0,-62 0,-56 0,-56 0,-12 0,-12 0,-6 6,0 12,0 12,0 120,0 120,0 126,0 132,-6 132,-12 132,-12 132,-56 132,-56 132,-62 126,-68 120,-68\"/>\n<text text-anchor=\"start\" x=\"28\" y=\"-52.8\" font-family=\"Helvetica,sans-Serif\" font-size=\"14.00\" fill=\"#000000\">gini = 0.488</text>\n<text text-anchor=\"start\" x=\"18\" y=\"-37.8\" font-family=\"Helvetica,sans-Serif\" font-size=\"14.00\" fill=\"#000000\">samples = 967</text>\n<text text-anchor=\"start\" x=\"8\" y=\"-22.8\" font-family=\"Helvetica,sans-Serif\" font-size=\"14.00\" fill=\"#000000\">value = [410, 557]</text>\n<text text-anchor=\"start\" x=\"37\" y=\"-7.8\" font-family=\"Helvetica,sans-Serif\" font-size=\"14.00\" fill=\"#000000\">class = 1</text>\n</g>\n<!-- 9&#45;&gt;13 -->\n<g id=\"edge5\" class=\"edge\">\n<title>9&#45;&gt;13</title>\n<path fill=\"none\" stroke=\"#000000\" d=\"M151.9863,-103.9815C140.242,-94.4232 127.7628,-84.2668 116.0595,-74.7419\"/>\n<polygon fill=\"#000000\" stroke=\"#000000\" points=\"118.065,-71.8614 108.0998,-68.2637 113.6464,-77.2906 118.065,-71.8614\"/>\n</g>\n<!-- 14 -->\n<g id=\"node7\" class=\"node\">\n<title>14</title>\n<path fill=\"#44a3e6\" stroke=\"#000000\" d=\"M254,-68C254,-68 162,-68 162,-68 156,-68 150,-62 150,-56 150,-56 150,-12 150,-12 150,-6 156,0 162,0 162,0 254,0 254,0 260,0 266,-6 266,-12 266,-12 266,-56 266,-56 266,-62 260,-68 254,-68\"/>\n<text text-anchor=\"start\" x=\"170\" y=\"-52.8\" font-family=\"Helvetica,sans-Serif\" font-size=\"14.00\" fill=\"#000000\">gini = 0.103</text>\n<text text-anchor=\"start\" x=\"160\" y=\"-37.8\" font-family=\"Helvetica,sans-Serif\" font-size=\"14.00\" fill=\"#000000\">samples = 110</text>\n<text text-anchor=\"start\" x=\"158\" y=\"-22.8\" font-family=\"Helvetica,sans-Serif\" font-size=\"14.00\" fill=\"#000000\">value = [6, 104]</text>\n<text text-anchor=\"start\" x=\"179\" y=\"-7.8\" font-family=\"Helvetica,sans-Serif\" font-size=\"14.00\" fill=\"#000000\">class = 1</text>\n</g>\n<!-- 9&#45;&gt;14 -->\n<g id=\"edge6\" class=\"edge\">\n<title>9&#45;&gt;14</title>\n<path fill=\"none\" stroke=\"#000000\" d=\"M204.8618,-103.9815C205.2369,-95.618 205.6324,-86.7965 206.0116,-78.3409\"/>\n<polygon fill=\"#000000\" stroke=\"#000000\" points=\"209.5119,-78.4105 206.4635,-68.2637 202.519,-78.0968 209.5119,-78.4105\"/>\n</g>\n<!-- 11 -->\n<g id=\"node9\" class=\"node\">\n<title>11</title>\n<path fill=\"#ea9a61\" stroke=\"#000000\" d=\"M404,-68C404,-68 304,-68 304,-68 298,-68 292,-62 292,-56 292,-56 292,-12 292,-12 292,-6 298,0 304,0 304,0 404,0 404,0 410,0 416,-6 416,-12 416,-12 416,-56 416,-56 416,-62 410,-68 404,-68\"/>\n<text text-anchor=\"start\" x=\"316\" y=\"-52.8\" font-family=\"Helvetica,sans-Serif\" font-size=\"14.00\" fill=\"#000000\">gini = 0.278</text>\n<text text-anchor=\"start\" x=\"306\" y=\"-37.8\" font-family=\"Helvetica,sans-Serif\" font-size=\"14.00\" fill=\"#000000\">samples = 443</text>\n<text text-anchor=\"start\" x=\"300\" y=\"-22.8\" font-family=\"Helvetica,sans-Serif\" font-size=\"14.00\" fill=\"#000000\">value = [369, 74]</text>\n<text text-anchor=\"start\" x=\"322.5\" y=\"-7.8\" font-family=\"Helvetica,sans-Serif\" font-size=\"14.00\" fill=\"#000000\">class = &#45;1</text>\n</g>\n<!-- 10&#45;&gt;11 -->\n<g id=\"edge8\" class=\"edge\">\n<title>10&#45;&gt;11</title>\n<path fill=\"none\" stroke=\"#000000\" d=\"M356.5105,-103.9815C356.2105,-95.618 355.894,-86.7965 355.5907,-78.3409\"/>\n<polygon fill=\"#000000\" stroke=\"#000000\" points=\"359.0855,-78.1317 355.2292,-68.2637 352.09,-78.3828 359.0855,-78.1317\"/>\n</g>\n<!-- 12 -->\n<g id=\"node10\" class=\"node\">\n<title>12</title>\n<path fill=\"#6fb8ec\" stroke=\"#000000\" d=\"M538,-68C538,-68 446,-68 446,-68 440,-68 434,-62 434,-56 434,-56 434,-12 434,-12 434,-6 440,0 446,0 446,0 538,0 538,0 544,0 550,-6 550,-12 550,-12 550,-56 550,-56 550,-62 544,-68 538,-68\"/>\n<text text-anchor=\"start\" x=\"454\" y=\"-52.8\" font-family=\"Helvetica,sans-Serif\" font-size=\"14.00\" fill=\"#000000\">gini = 0.338</text>\n<text text-anchor=\"start\" x=\"448\" y=\"-37.8\" font-family=\"Helvetica,sans-Serif\" font-size=\"14.00\" fill=\"#000000\">samples = 65</text>\n<text text-anchor=\"start\" x=\"442\" y=\"-22.8\" font-family=\"Helvetica,sans-Serif\" font-size=\"14.00\" fill=\"#000000\">value = [14, 51]</text>\n<text text-anchor=\"start\" x=\"463\" y=\"-7.8\" font-family=\"Helvetica,sans-Serif\" font-size=\"14.00\" fill=\"#000000\">class = 1</text>\n</g>\n<!-- 10&#45;&gt;12 -->\n<g id=\"edge9\" class=\"edge\">\n<title>10&#45;&gt;12</title>\n<path fill=\"none\" stroke=\"#000000\" d=\"M407.8967,-103.9815C419.3838,-94.4232 431.5897,-84.2668 443.0367,-74.7419\"/>\n<polygon fill=\"#000000\" stroke=\"#000000\" points=\"445.3739,-77.3503 450.8221,-68.2637 440.8965,-71.9695 445.3739,-77.3503\"/>\n</g>\n<!-- 15 -->\n<g id=\"node12\" class=\"node\">\n<title>15</title>\n<path fill=\"#e99457\" stroke=\"#000000\" d=\"M559,-179.5C559,-179.5 459,-179.5 459,-179.5 453,-179.5 447,-173.5 447,-167.5 447,-167.5 447,-123.5 447,-123.5 447,-117.5 453,-111.5 459,-111.5 459,-111.5 559,-111.5 559,-111.5 565,-111.5 571,-117.5 571,-123.5 571,-123.5 571,-167.5 571,-167.5 571,-173.5 565,-179.5 559,-179.5\"/>\n<text text-anchor=\"start\" x=\"475.5\" y=\"-164.3\" font-family=\"Helvetica,sans-Serif\" font-size=\"14.00\" fill=\"#000000\">gini = 0.23</text>\n<text text-anchor=\"start\" x=\"461\" y=\"-149.3\" font-family=\"Helvetica,sans-Serif\" font-size=\"14.00\" fill=\"#000000\">samples = 574</text>\n<text text-anchor=\"start\" x=\"455\" y=\"-134.3\" font-family=\"Helvetica,sans-Serif\" font-size=\"14.00\" fill=\"#000000\">value = [498, 76]</text>\n<text text-anchor=\"start\" x=\"477.5\" y=\"-119.3\" font-family=\"Helvetica,sans-Serif\" font-size=\"14.00\" fill=\"#000000\">class = &#45;1</text>\n</g>\n<!-- 8&#45;&gt;15 -->\n<g id=\"edge11\" class=\"edge\">\n<title>8&#45;&gt;15</title>\n<path fill=\"none\" stroke=\"#000000\" d=\"M509.6502,-222.8796C509.5606,-212.2134 509.4639,-200.7021 509.3731,-189.9015\"/>\n<polygon fill=\"#000000\" stroke=\"#000000\" points=\"512.8724,-189.7851 509.2884,-179.8149 505.8726,-189.844 512.8724,-189.7851\"/>\n</g>\n<!-- 16 -->\n<g id=\"node13\" class=\"node\">\n<title>16</title>\n<path fill=\"#fbeade\" stroke=\"#000000\" d=\"M693,-179.5C693,-179.5 601,-179.5 601,-179.5 595,-179.5 589,-173.5 589,-167.5 589,-167.5 589,-123.5 589,-123.5 589,-117.5 595,-111.5 601,-111.5 601,-111.5 693,-111.5 693,-111.5 699,-111.5 705,-117.5 705,-123.5 705,-123.5 705,-167.5 705,-167.5 705,-173.5 699,-179.5 693,-179.5\"/>\n<text text-anchor=\"start\" x=\"609\" y=\"-164.3\" font-family=\"Helvetica,sans-Serif\" font-size=\"14.00\" fill=\"#000000\">gini = 0.496</text>\n<text text-anchor=\"start\" x=\"599\" y=\"-149.3\" font-family=\"Helvetica,sans-Serif\" font-size=\"14.00\" fill=\"#000000\">samples = 145</text>\n<text text-anchor=\"start\" x=\"597\" y=\"-134.3\" font-family=\"Helvetica,sans-Serif\" font-size=\"14.00\" fill=\"#000000\">value = [79, 66]</text>\n<text text-anchor=\"start\" x=\"615.5\" y=\"-119.3\" font-family=\"Helvetica,sans-Serif\" font-size=\"14.00\" fill=\"#000000\">class = &#45;1</text>\n</g>\n<!-- 8&#45;&gt;16 -->\n<g id=\"edge12\" class=\"edge\">\n<title>8&#45;&gt;16</title>\n<path fill=\"none\" stroke=\"#000000\" d=\"M557.916,-222.8796C571.4615,-211.1138 586.1908,-198.3197 599.6998,-186.5855\"/>\n<polygon fill=\"#000000\" stroke=\"#000000\" points=\"602.2401,-189.015 607.4946,-179.8149 597.6497,-183.7303 602.2401,-189.015\"/>\n</g>\n<!-- 3 -->\n<g id=\"node16\" class=\"node\">\n<title>3</title>\n<path fill=\"#44a3e6\" stroke=\"#000000\" d=\"M802,-417.5C802,-417.5 702,-417.5 702,-417.5 696,-417.5 690,-411.5 690,-405.5 690,-405.5 690,-361.5 690,-361.5 690,-355.5 696,-349.5 702,-349.5 702,-349.5 802,-349.5 802,-349.5 808,-349.5 814,-355.5 814,-361.5 814,-361.5 814,-405.5 814,-405.5 814,-411.5 808,-417.5 802,-417.5\"/>\n<text text-anchor=\"start\" x=\"714\" y=\"-402.3\" font-family=\"Helvetica,sans-Serif\" font-size=\"14.00\" fill=\"#000000\">gini = 0.101</text>\n<text text-anchor=\"start\" x=\"704\" y=\"-387.3\" font-family=\"Helvetica,sans-Serif\" font-size=\"14.00\" fill=\"#000000\">samples = 878</text>\n<text text-anchor=\"start\" x=\"698\" y=\"-372.3\" font-family=\"Helvetica,sans-Serif\" font-size=\"14.00\" fill=\"#000000\">value = [47, 831]</text>\n<text text-anchor=\"start\" x=\"723\" y=\"-357.3\" font-family=\"Helvetica,sans-Serif\" font-size=\"14.00\" fill=\"#000000\">class = 1</text>\n</g>\n<!-- 2&#45;&gt;3 -->\n<g id=\"edge15\" class=\"edge\">\n<title>2&#45;&gt;3</title>\n<path fill=\"none\" stroke=\"#000000\" d=\"M757.8522,-460.8796C757.0455,-450.2134 756.1749,-438.7021 755.3581,-427.9015\"/>\n<polygon fill=\"#000000\" stroke=\"#000000\" points=\"758.8395,-427.5225 754.5952,-417.8149 751.8595,-428.0504 758.8395,-427.5225\"/>\n</g>\n<!-- 4 -->\n<g id=\"node17\" class=\"node\">\n<title>4</title>\n<path fill=\"#add6f4\" stroke=\"#000000\" d=\"M952,-417.5C952,-417.5 844,-417.5 844,-417.5 838,-417.5 832,-411.5 832,-405.5 832,-405.5 832,-361.5 832,-361.5 832,-355.5 838,-349.5 844,-349.5 844,-349.5 952,-349.5 952,-349.5 958,-349.5 964,-355.5 964,-361.5 964,-361.5 964,-405.5 964,-405.5 964,-411.5 958,-417.5 952,-417.5\"/>\n<text text-anchor=\"start\" x=\"860\" y=\"-402.3\" font-family=\"Helvetica,sans-Serif\" font-size=\"14.00\" fill=\"#000000\">gini = 0.466</text>\n<text text-anchor=\"start\" x=\"850\" y=\"-387.3\" font-family=\"Helvetica,sans-Serif\" font-size=\"14.00\" fill=\"#000000\">samples = 720</text>\n<text text-anchor=\"start\" x=\"840\" y=\"-372.3\" font-family=\"Helvetica,sans-Serif\" font-size=\"14.00\" fill=\"#000000\">value = [266, 454]</text>\n<text text-anchor=\"start\" x=\"869\" y=\"-357.3\" font-family=\"Helvetica,sans-Serif\" font-size=\"14.00\" fill=\"#000000\">class = 1</text>\n</g>\n<!-- 2&#45;&gt;4 -->\n<g id=\"edge16\" class=\"edge\">\n<title>2&#45;&gt;4</title>\n<path fill=\"none\" stroke=\"#000000\" d=\"M808.916,-460.8796C822.4615,-449.1138 837.1908,-436.3197 850.6998,-424.5855\"/>\n<polygon fill=\"#000000\" stroke=\"#000000\" points=\"853.2401,-427.015 858.4946,-417.8149 848.6497,-421.7303 853.2401,-427.015\"/>\n</g>\n</g>\n</svg>\n"
          },
          "metadata": {},
          "execution_count": 71
        }
      ],
      "source": [
        "dot_data = export_graphviz(best_tree, out_file=None, \n",
        "                           feature_names=x_train.columns, \n",
        "                           class_names = class_names(best_tree),\n",
        "                         filled=True, rounded=True,\n",
        "                         special_characters=True)\n",
        "graph = graphviz.Source(dot_data)\n",
        "graph"
      ]
    },
    {
      "cell_type": "markdown",
      "metadata": {
        "id": "Buucdj-r_sNb"
      },
      "source": [
        "### Performance"
      ]
    },
    {
      "cell_type": "markdown",
      "metadata": {
        "id": "vpl_0iD6_sNb"
      },
      "source": [
        "#### Confusion matrix"
      ]
    },
    {
      "cell_type": "code",
      "execution_count": null,
      "metadata": {
        "colab": {
          "base_uri": "https://localhost:8080/",
          "height": 1000
        },
        "outputId": "d1e08fa7-052c-4507-ea24-12bedd3917a1",
        "id": "1hyjpWD-_sNb"
      },
      "outputs": [
        {
          "output_type": "display_data",
          "data": {
            "text/plain": [
              "<Figure size 1152x1440 with 2 Axes>"
            ],
            "image/png": "[encoded data removed]"
          },
          "metadata": {
            "needs_background": "light"
          }
        }
      ],
      "source": [
        "# Obtenemos un conjunto de predicciones para comparar con los valores objetivos\n",
        "# Usamos los conjuntos de entrenamiento (no los de test)\n",
        "y_train_pred = cross_val_predict(best_tree, X_train, y_train, cv= 3)\n",
        "\n",
        "cm = confusion_matrix(y_train, y_train_pred)\n",
        "disp = ConfusionMatrixDisplay(confusion_matrix=cm, display_labels=class_names(best_tree))\n",
        "p = disp.plot()\n"
      ]
    },
    {
      "cell_type": "markdown",
      "metadata": {
        "id": "258AdV4y_sNc"
      },
      "source": [
        "#### Recall\n",
        "¿Cuál es el total de predicciones positivas que fueron clasificadas correctamente? Es decir, que porcentaje de personas transportadas fué reconocido como tal."
      ]
    },
    {
      "cell_type": "code",
      "execution_count": null,
      "metadata": {
        "colab": {
          "base_uri": "https://localhost:8080/"
        },
        "outputId": "f79f1356-2046-4a2d-d0bf-d9cef5816b6a",
        "id": "3qV72YHN_sNc"
      },
      "outputs": [
        {
          "output_type": "execute_result",
          "data": {
            "text/plain": [
              "0.7837489251934652"
            ]
          },
          "metadata": {},
          "execution_count": 73
        }
      ],
      "source": [
        "recall_score(y_train, y_train_pred)"
      ]
    },
    {
      "cell_type": "markdown",
      "metadata": {
        "id": "Aylel7AI_sNd"
      },
      "source": [
        "#### Precisión\n",
        "¿ Cuál es el porcentaje de positivos verdaderos? De aquellas personas que fueron identificadas como transportadas, ¿Qué porcentaje es verdadero?"
      ]
    },
    {
      "cell_type": "code",
      "execution_count": null,
      "metadata": {
        "colab": {
          "base_uri": "https://localhost:8080/"
        },
        "outputId": "de79f2a6-a3dc-4e41-e57c-b0d6d7afae61",
        "id": "KsoIrwNY_sNd"
      },
      "outputs": [
        {
          "output_type": "execute_result",
          "data": {
            "text/plain": [
              "0.7477440525020509"
            ]
          },
          "metadata": {},
          "execution_count": 74
        }
      ],
      "source": [
        "precision_score(y_train, y_train_pred)"
      ]
    },
    {
      "cell_type": "markdown",
      "metadata": {
        "id": "OZ3TIVqH_sNd"
      },
      "source": [
        "## Random forest"
      ]
    },
    {
      "cell_type": "code",
      "execution_count": null,
      "metadata": {
        "id": "_eCmyUx9_sNd"
      },
      "outputs": [],
      "source": [
        "forest_clf = RandomForestClassifier()"
      ]
    },
    {
      "cell_type": "code",
      "execution_count": null,
      "metadata": {
        "id": "Qy89aP_K_sNe"
      },
      "outputs": [],
      "source": [
        "param_grid = [\n",
        "    {\n",
        "    'max_features': ['auto', 'sqrt', 'log2'],\n",
        "    'max_depth': [None] + list(range(2, 50)),\n",
        "     },\n",
        "     {\n",
        "    'n_estimators': [50, 100, 200, 400],\n",
        "    'criterion' :['gini', 'entropy']\n",
        "    }\n",
        "]"
      ]
    },
    {
      "cell_type": "code",
      "execution_count": null,
      "metadata": {
        "colab": {
          "base_uri": "https://localhost:8080/"
        },
        "outputId": "e0a8b4ee-77be-4112-f3d5-80e148ecbc85",
        "id": "1b_6X4NJ_sNe"
      },
      "outputs": [
        {
          "output_type": "execute_result",
          "data": {
            "text/plain": [
              "GridSearchCV(cv=5, estimator=RandomForestClassifier(),\n",
              "             param_grid=[{'max_depth': [None, 2, 3, 4, 5, 6, 7, 8, 9, 10, 11,\n",
              "                                        12, 13, 14, 15, 16, 17, 18, 19, 20, 21,\n",
              "                                        22, 23, 24, 25, 26, 27, 28, 29, 30, ...],\n",
              "                          'max_features': ['auto', 'sqrt', 'log2']},\n",
              "                         {'criterion': ['gini', 'entropy'],\n",
              "                          'n_estimators': [50, 100, 200, 400]}])"
            ]
          },
          "metadata": {},
          "execution_count": 77
        }
      ],
      "source": [
        "cv_rfc = GridSearchCV(estimator=forest_clf, param_grid=param_grid, cv= 5)\n",
        "cv_rfc.fit(X_train, y_train)"
      ]
    },
    {
      "cell_type": "code",
      "execution_count": null,
      "metadata": {
        "colab": {
          "base_uri": "https://localhost:8080/"
        },
        "outputId": "6b008db2-7150-4c01-f904-e27613e5577f",
        "id": "eg0B8jbC_sNe"
      },
      "outputs": [
        {
          "output_type": "execute_result",
          "data": {
            "text/plain": [
              "({'max_depth': 11, 'max_features': 'log2'}, 0.7980237227034478)"
            ]
          },
          "metadata": {},
          "execution_count": 78
        }
      ],
      "source": [
        "cv_rfc.best_params_, cv_rfc.best_score_"
      ]
    },
    {
      "cell_type": "code",
      "execution_count": null,
      "metadata": {
        "colab": {
          "base_uri": "https://localhost:8080/"
        },
        "outputId": "fec21977-2013-415d-e81a-49c97a2a480e",
        "id": "I-6Z-0Hg_sNf"
      },
      "outputs": [
        {
          "output_type": "execute_result",
          "data": {
            "text/plain": [
              "RandomForestClassifier(max_depth=11, max_features='log2')"
            ]
          },
          "metadata": {},
          "execution_count": 79
        }
      ],
      "source": [
        "best_forest = cv_rfc.best_estimator_\n",
        "best_forest"
      ]
    },
    {
      "cell_type": "code",
      "source": [
        "scores.append((cv_rfc.best_score_, cv_rfc.best_estimator_))"
      ],
      "metadata": {
        "id": "vZNxiGCR1h0x"
      },
      "execution_count": null,
      "outputs": []
    },
    {
      "cell_type": "code",
      "execution_count": null,
      "metadata": {
        "colab": {
          "base_uri": "https://localhost:8080/",
          "height": 1000
        },
        "outputId": "06e8fb07-0c37-4374-c2b7-29ac6bf99222",
        "id": "3Y6n9web_sNf"
      },
      "outputs": [
        {
          "output_type": "display_data",
          "data": {
            "text/plain": [
              "<Figure size 1152x1440 with 2 Axes>"
            ],
            "image/png": "[encoded data removed]"
          },
          "metadata": {
            "needs_background": "light"
          }
        }
      ],
      "source": [
        "y_train_pred = cross_val_predict(best_forest, X_train, y_train, cv= 3)\n",
        "\n",
        "cm = confusion_matrix(y_train, y_train_pred)\n",
        "disp = ConfusionMatrixDisplay(confusion_matrix=cm, display_labels=class_names(best_forest))\n",
        "p = disp.plot()\n"
      ]
    },
    {
      "cell_type": "markdown",
      "metadata": {
        "id": "LN1iJsB__sNg"
      },
      "source": [
        "#### Precision  / Recall"
      ]
    },
    {
      "cell_type": "code",
      "execution_count": null,
      "metadata": {
        "colab": {
          "base_uri": "https://localhost:8080/"
        },
        "outputId": "02521ec1-ce3c-4e15-b592-6f9c30c5cf0c",
        "id": "unDHWyB8_sNg"
      },
      "outputs": [
        {
          "output_type": "execute_result",
          "data": {
            "text/plain": [
              "0.803076923076923"
            ]
          },
          "metadata": {},
          "execution_count": 81
        }
      ],
      "source": [
        "precision_score(y_train, y_train_pred)"
      ]
    },
    {
      "cell_type": "code",
      "execution_count": null,
      "metadata": {
        "colab": {
          "base_uri": "https://localhost:8080/"
        },
        "outputId": "708b8cb3-20dc-4064-b0a5-758458176420",
        "id": "PlNvRYm2_sNg"
      },
      "outputs": [
        {
          "output_type": "execute_result",
          "data": {
            "text/plain": [
              "0.7854686156491831"
            ]
          },
          "metadata": {},
          "execution_count": 82
        }
      ],
      "source": [
        "recall_score(y_train, y_train_pred)"
      ]
    },
    {
      "cell_type": "markdown",
      "source": [
        "# Generamos la salida para entregar"
      ],
      "metadata": {
        "id": "EwTUpPbpQsqH"
      }
    },
    {
      "cell_type": "code",
      "source": [
        "best_score, best_model = sorted(scores, key = lambda t: t[0], reverse = True)[0]\n"
      ],
      "metadata": {
        "id": "3YTLnt-M1pVW"
      },
      "execution_count": null,
      "outputs": []
    },
    {
      "cell_type": "code",
      "source": [
        "# if score1 < score2:\n",
        "#   best_model = model2\n",
        "# if score2 < score1:\n",
        "#   best_model = model1"
      ],
      "metadata": {
        "id": "ybEXWuWjRHSk"
      },
      "execution_count": null,
      "outputs": []
    },
    {
      "cell_type": "code",
      "execution_count": null,
      "metadata": {
        "id": "9wGpNh635iJ1"
      },
      "outputs": [],
      "source": [
        "test_id = passengerId\n",
        "test_pred = best_model.predict(df_test)"
      ]
    },
    {
      "cell_type": "code",
      "execution_count": null,
      "metadata": {
        "id": "wQxdyfQH5iJ1"
      },
      "outputs": [],
      "source": [
        "submission = pd.DataFrame(list(zip(test_id, test_pred)), columns=[\"PassengerId\", \"Transported\"])\n",
        "submission.to_csv(\"sample_submission.csv\", header=True, index=False)\n",
        "submission"
      ]
    }
  ],
  "metadata": {
    "kernelspec": {
      "display_name": "Python 3.9.13 ('diplodatos')",
      "language": "python",
      "name": "python3"
    },
    "language_info": {
      "codemirror_mode": {
        "name": "ipython",
        "version": 3
      },
      "file_extension": ".py",
      "mimetype": "text/x-python",
      "name": "python",
      "nbconvert_exporter": "python",
      "pygments_lexer": "ipython3",
      "version": "3.9.13"
    },
    "orig_nbformat": 4,
    "vscode": {
      "interpreter": {
        "hash": "e6b65fc4380ac725e50a330b268a227bbdbe91bddfffbf68e5f7ce9848a2b8d5"
      }
    },
    "colab": {
      "name": "AS_g20.ipynb",
      "provenance": [],
      "collapsed_sections": [],
      "toc_visible": true,
      "include_colab_link": true
    }
  },
  "nbformat": 4,
  "nbformat_minor": 0
}
