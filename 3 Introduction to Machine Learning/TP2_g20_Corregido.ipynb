{
  "cells": [
    {
      "cell_type": "markdown",
      "metadata": {
        "id": "view-in-github",
        "colab_type": "text"
      },
      "source": [
        "<a href=\"https://colab.research.google.com/github/Tommmster/diplodatos-2022-g20/blob/main/entregable_3_intro_ml/IntroML_Lab2_VersionFinal_corregido.ipynb\" target=\"_parent\"><img src=\"https://colab.research.google.com/assets/colab-badge.svg\" alt=\"Open In Colab\"/></a>"
      ]
    },
    {
      "cell_type": "markdown",
      "metadata": {
        "id": "zO4bRoxr2Apy"
      },
      "source": [
        "\n",
        "**Diplomatura en Ciencia de Datos, Aprendizaje Automático y sus Aplicaciones**\n",
        "\n",
        "**Introducción al Aprendizaje Automático**\n",
        "\n",
        "**Edición 2022**\n",
        "\n",
        "---\n",
        "## **Trabajo práctico entregable - Laboratorio 2**\n",
        "---\n",
        "\n",
        "## **Grupo 20**\n",
        "\n",
        "**Integrantes:** Gastón Briozzo, Fanny Ruales Tomas Niño Kehoe\n",
        "\n",
        "**Profesor de Práctico:** Alejandro García"
      ]
    },
    {
      "cell_type": "markdown",
      "metadata": {
        "id": "00J8SlqCaurS"
      },
      "source": [
        "# Laboratorio 2: Armado de un esquema de aprendizaje automático\n",
        "\n",
        "En el laboratorio final se espera que puedan poner en práctica los conocimientos adquiridos en el curso, trabajando con un conjunto de datos de clasificación.\n",
        "\n",
        "El objetivo es que se introduzcan en el desarrollo de un esquema para hacer tareas de aprendizaje automático: selección de un modelo, ajuste de hiperparámetros y evaluación.\n",
        "\n",
        "El conjunto de datos a utilizar está en `./data/loan_data.csv`. Si abren el archivo verán que al principio (las líneas que empiezan con `#`) describen el conjunto de datos y sus atributos (incluyendo el atributo de etiqueta o clase).\n",
        "\n",
        "Se espera que hagan uso de las herramientas vistas en el curso. Se espera que hagan uso especialmente de las herramientas brindadas por `scikit-learn`."
      ]
    },
    {
      "cell_type": "code",
      "execution_count": null,
      "metadata": {
        "id": "prXlu1zxaurY"
      },
      "outputs": [],
      "source": [
        "import numpy as np\n",
        "import pandas as pd\n",
        "import matplotlib.pyplot as plt\n",
        "import seaborn as sns\n",
        "\n",
        "# TODO: Agregar las librerías que hagan falta\n",
        "from sklearn.model_selection import train_test_split"
      ]
    },
    {
      "cell_type": "markdown",
      "metadata": {
        "id": "UPfyWzkTaura"
      },
      "source": [
        "## Carga de datos y división en entrenamiento y evaluación\n",
        "\n",
        "La celda siguiente se encarga de la carga de datos (haciendo uso de pandas). Estos serán los que se trabajarán en el resto del laboratorio."
      ]
    },
    {
      "cell_type": "code",
      "source": [
        "from google.colab import drive\n",
        "drive.mount('/content/drive')"
      ],
      "metadata": {
        "colab": {
          "base_uri": "https://localhost:8080/"
        },
        "id": "yn-sW7yxdTVs",
        "outputId": "036b9611-0cb7-439b-c07d-f312d0974d9a"
      },
      "execution_count": null,
      "outputs": [
        {
          "output_type": "stream",
          "name": "stdout",
          "text": [
            "Mounted at /content/drive\n"
          ]
        }
      ]
    },
    {
      "cell_type": "code",
      "execution_count": null,
      "metadata": {
        "id": "CC5POjh8aura"
      },
      "outputs": [],
      "source": [
        "#dataset = pd.read_csv(\"./data/loan_data.csv\", comment=\"#\")\n",
        "dataset = pd.read_csv(\"/content/drive/MyDrive/loan_data.csv\", comment=\"#\")\n",
        "\n",
        "# División entre instancias y etiquetas\n",
        "X, y = dataset.iloc[:, 1:], dataset.TARGET\n",
        "\n",
        "# división entre entrenamiento y evaluación\n",
        "X_train, X_test, y_train, y_test = train_test_split(X, y, test_size=0.2, random_state=0)"
      ]
    },
    {
      "cell_type": "markdown",
      "metadata": {
        "id": "pOyEFO51aurb"
      },
      "source": [
        "\n",
        "Documentación:\n",
        "\n",
        "- https://scikit-learn.org/stable/modules/generated/sklearn.model_selection.train_test_split.html"
      ]
    },
    {
      "cell_type": "markdown",
      "metadata": {
        "id": "U8rPVuFkaurc"
      },
      "source": [
        "## Ejercicio 1: Descripción de los Datos y la Tarea\n",
        "\n",
        "Responder las siguientes preguntas:\n",
        "\n",
        "1. ¿De qué se trata el conjunto de datos?\n",
        "2. ¿Cuál es la variable objetivo que hay que predecir? ¿Qué significado tiene?\n",
        "3. ¿Qué información (atributos) hay disponible para hacer la predicción?\n",
        "4. ¿Qué atributos imagina ud. que son los más determinantes para la predicción?\n",
        "\n",
        "**No hace falta escribir código para responder estas preguntas.**"
      ]
    },
    {
      "cell_type": "code",
      "source": [
        "dataset[:5]"
      ],
      "metadata": {
        "colab": {
          "base_uri": "https://localhost:8080/",
          "height": 206
        },
        "id": "4d9MKr-NeeEU",
        "outputId": "8165ca5e-c44a-4ddc-9bd0-988e5b8a1bfc"
      },
      "execution_count": null,
      "outputs": [
        {
          "output_type": "execute_result",
          "data": {
            "text/plain": [
              "   TARGET   LOAN  MORTDUE     VALUE   YOJ  DEROG  DELINQ       CLAGE  NINQ  \\\n",
              "0       0   4700  88026.0  115506.0   6.0    0.0     0.0  182.248332   0.0   \n",
              "1       0  19300  39926.0  101208.0   4.0    0.0     0.0  140.051638   0.0   \n",
              "2       0   5700  71556.0   79538.0   2.0    0.0     0.0   92.643085   0.0   \n",
              "3       0  13000  44875.0   57713.0   0.0    1.0     0.0  184.990324   1.0   \n",
              "4       0  19300  72752.0  106084.0  11.0    0.0     0.0  193.707100   1.0   \n",
              "\n",
              "   CLNO    DEBTINC  \n",
              "0  27.0  29.209023  \n",
              "1  14.0  31.545694  \n",
              "2  15.0  41.210012  \n",
              "3  12.0  28.602076  \n",
              "4  13.0  30.686106  "
            ],
            "text/html": [
              "\n",
              "  <div id=\"df-b279e25f-008c-46b8-8172-ef9f8594f961\">\n",
              "    <div class=\"colab-df-container\">\n",
              "      <div>\n",
              "<style scoped>\n",
              "    .dataframe tbody tr th:only-of-type {\n",
              "        vertical-align: middle;\n",
              "    }\n",
              "\n",
              "    .dataframe tbody tr th {\n",
              "        vertical-align: top;\n",
              "    }\n",
              "\n",
              "    .dataframe thead th {\n",
              "        text-align: right;\n",
              "    }\n",
              "</style>\n",
              "<table border=\"1\" class=\"dataframe\">\n",
              "  <thead>\n",
              "    <tr style=\"text-align: right;\">\n",
              "      <th></th>\n",
              "      <th>TARGET</th>\n",
              "      <th>LOAN</th>\n",
              "      <th>MORTDUE</th>\n",
              "      <th>VALUE</th>\n",
              "      <th>YOJ</th>\n",
              "      <th>DEROG</th>\n",
              "      <th>DELINQ</th>\n",
              "      <th>CLAGE</th>\n",
              "      <th>NINQ</th>\n",
              "      <th>CLNO</th>\n",
              "      <th>DEBTINC</th>\n",
              "    </tr>\n",
              "  </thead>\n",
              "  <tbody>\n",
              "    <tr>\n",
              "      <th>0</th>\n",
              "      <td>0</td>\n",
              "      <td>4700</td>\n",
              "      <td>88026.0</td>\n",
              "      <td>115506.0</td>\n",
              "      <td>6.0</td>\n",
              "      <td>0.0</td>\n",
              "      <td>0.0</td>\n",
              "      <td>182.248332</td>\n",
              "      <td>0.0</td>\n",
              "      <td>27.0</td>\n",
              "      <td>29.209023</td>\n",
              "    </tr>\n",
              "    <tr>\n",
              "      <th>1</th>\n",
              "      <td>0</td>\n",
              "      <td>19300</td>\n",
              "      <td>39926.0</td>\n",
              "      <td>101208.0</td>\n",
              "      <td>4.0</td>\n",
              "      <td>0.0</td>\n",
              "      <td>0.0</td>\n",
              "      <td>140.051638</td>\n",
              "      <td>0.0</td>\n",
              "      <td>14.0</td>\n",
              "      <td>31.545694</td>\n",
              "    </tr>\n",
              "    <tr>\n",
              "      <th>2</th>\n",
              "      <td>0</td>\n",
              "      <td>5700</td>\n",
              "      <td>71556.0</td>\n",
              "      <td>79538.0</td>\n",
              "      <td>2.0</td>\n",
              "      <td>0.0</td>\n",
              "      <td>0.0</td>\n",
              "      <td>92.643085</td>\n",
              "      <td>0.0</td>\n",
              "      <td>15.0</td>\n",
              "      <td>41.210012</td>\n",
              "    </tr>\n",
              "    <tr>\n",
              "      <th>3</th>\n",
              "      <td>0</td>\n",
              "      <td>13000</td>\n",
              "      <td>44875.0</td>\n",
              "      <td>57713.0</td>\n",
              "      <td>0.0</td>\n",
              "      <td>1.0</td>\n",
              "      <td>0.0</td>\n",
              "      <td>184.990324</td>\n",
              "      <td>1.0</td>\n",
              "      <td>12.0</td>\n",
              "      <td>28.602076</td>\n",
              "    </tr>\n",
              "    <tr>\n",
              "      <th>4</th>\n",
              "      <td>0</td>\n",
              "      <td>19300</td>\n",
              "      <td>72752.0</td>\n",
              "      <td>106084.0</td>\n",
              "      <td>11.0</td>\n",
              "      <td>0.0</td>\n",
              "      <td>0.0</td>\n",
              "      <td>193.707100</td>\n",
              "      <td>1.0</td>\n",
              "      <td>13.0</td>\n",
              "      <td>30.686106</td>\n",
              "    </tr>\n",
              "  </tbody>\n",
              "</table>\n",
              "</div>\n",
              "      <button class=\"colab-df-convert\" onclick=\"convertToInteractive('df-b279e25f-008c-46b8-8172-ef9f8594f961')\"\n",
              "              title=\"Convert this dataframe to an interactive table.\"\n",
              "              style=\"display:none;\">\n",
              "        \n",
              "  <svg xmlns=\"http://www.w3.org/2000/svg\" height=\"24px\"viewBox=\"0 0 24 24\"\n",
              "       width=\"24px\">\n",
              "    <path d=\"M0 0h24v24H0V0z\" fill=\"none\"/>\n",
              "    <path d=\"M18.56 5.44l.94 2.06.94-2.06 2.06-.94-2.06-.94-.94-2.06-.94 2.06-2.06.94zm-11 1L8.5 8.5l.94-2.06 2.06-.94-2.06-.94L8.5 2.5l-.94 2.06-2.06.94zm10 10l.94 2.06.94-2.06 2.06-.94-2.06-.94-.94-2.06-.94 2.06-2.06.94z\"/><path d=\"M17.41 7.96l-1.37-1.37c-.4-.4-.92-.59-1.43-.59-.52 0-1.04.2-1.43.59L10.3 9.45l-7.72 7.72c-.78.78-.78 2.05 0 2.83L4 21.41c.39.39.9.59 1.41.59.51 0 1.02-.2 1.41-.59l7.78-7.78 2.81-2.81c.8-.78.8-2.07 0-2.86zM5.41 20L4 18.59l7.72-7.72 1.47 1.35L5.41 20z\"/>\n",
              "  </svg>\n",
              "      </button>\n",
              "      \n",
              "  <style>\n",
              "    .colab-df-container {\n",
              "      display:flex;\n",
              "      flex-wrap:wrap;\n",
              "      gap: 12px;\n",
              "    }\n",
              "\n",
              "    .colab-df-convert {\n",
              "      background-color: #E8F0FE;\n",
              "      border: none;\n",
              "      border-radius: 50%;\n",
              "      cursor: pointer;\n",
              "      display: none;\n",
              "      fill: #1967D2;\n",
              "      height: 32px;\n",
              "      padding: 0 0 0 0;\n",
              "      width: 32px;\n",
              "    }\n",
              "\n",
              "    .colab-df-convert:hover {\n",
              "      background-color: #E2EBFA;\n",
              "      box-shadow: 0px 1px 2px rgba(60, 64, 67, 0.3), 0px 1px 3px 1px rgba(60, 64, 67, 0.15);\n",
              "      fill: #174EA6;\n",
              "    }\n",
              "\n",
              "    [theme=dark] .colab-df-convert {\n",
              "      background-color: #3B4455;\n",
              "      fill: #D2E3FC;\n",
              "    }\n",
              "\n",
              "    [theme=dark] .colab-df-convert:hover {\n",
              "      background-color: #434B5C;\n",
              "      box-shadow: 0px 1px 3px 1px rgba(0, 0, 0, 0.15);\n",
              "      filter: drop-shadow(0px 1px 2px rgba(0, 0, 0, 0.3));\n",
              "      fill: #FFFFFF;\n",
              "    }\n",
              "  </style>\n",
              "\n",
              "      <script>\n",
              "        const buttonEl =\n",
              "          document.querySelector('#df-b279e25f-008c-46b8-8172-ef9f8594f961 button.colab-df-convert');\n",
              "        buttonEl.style.display =\n",
              "          google.colab.kernel.accessAllowed ? 'block' : 'none';\n",
              "\n",
              "        async function convertToInteractive(key) {\n",
              "          const element = document.querySelector('#df-b279e25f-008c-46b8-8172-ef9f8594f961');\n",
              "          const dataTable =\n",
              "            await google.colab.kernel.invokeFunction('convertToInteractive',\n",
              "                                                     [key], {});\n",
              "          if (!dataTable) return;\n",
              "\n",
              "          const docLinkHtml = 'Like what you see? Visit the ' +\n",
              "            '<a target=\"_blank\" href=https://colab.research.google.com/notebooks/data_table.ipynb>data table notebook</a>'\n",
              "            + ' to learn more about interactive tables.';\n",
              "          element.innerHTML = '';\n",
              "          dataTable['output_type'] = 'display_data';\n",
              "          await google.colab.output.renderOutput(dataTable, element);\n",
              "          const docLink = document.createElement('div');\n",
              "          docLink.innerHTML = docLinkHtml;\n",
              "          element.appendChild(docLink);\n",
              "        }\n",
              "      </script>\n",
              "    </div>\n",
              "  </div>\n",
              "  "
            ]
          },
          "metadata": {},
          "execution_count": 4
        }
      ]
    },
    {
      "cell_type": "code",
      "source": [
        "dataset['TARGET'].value_counts()"
      ],
      "metadata": {
        "colab": {
          "base_uri": "https://localhost:8080/"
        },
        "id": "pHaYXonRhFPc",
        "outputId": "046e6869-3488-4734-aa45-5bd5b20319f7"
      },
      "execution_count": null,
      "outputs": [
        {
          "output_type": "execute_result",
          "data": {
            "text/plain": [
              "0    1545\n",
              "1     309\n",
              "Name: TARGET, dtype: int64"
            ]
          },
          "metadata": {},
          "execution_count": 5
        }
      ]
    },
    {
      "cell_type": "markdown",
      "source": [
        "### 1.1. ¿De qué se trata el conjunto de datos?\n",
        "\n",
        "El archivo loan_data.csv contiene un conjunto de datos de préstamos de Kaggle Home Equity.\n",
        "\n",
        "El departamento de crédito al consumo de un banco quiere automatizar el proceso de toma de decisiones para la aprobación de líneas de crédito con garantía hipotecaria. Para ello, van a seguir las recomendaciones de la Ley de Igualdad de Oportunidades de Crédito para crear un modelo de puntuación de crédito derivado empíricamente y estadísticamente sólido. El modelo se basará en datos recogidos de solicitantes recientes a los que se les ha concedido un crédito a través del proceso actual de suscripción de préstamos. Éste se construirá a partir de herramientas de modelado predictivo, pero debe ser lo suficientemente interpretable como para proporcionar una razón para cualquier acción adversa (rechazos).\n",
        "\n",
        "El conjunto de datos de Home Equity (HMEQ) contiene información de referencia y de rendimiento del préstamo para 5.960 préstamos recientes sobre el capital de la vivienda. El objetivo (TARGET) es una variable binaria que indica si un solicitante acabó incumpliendo o siendo gravemente moroso. Este resultado adverso se produjo en 1189 casos (20%). Para cada solicitante se registraron 12 variables de entrada. "
      ],
      "metadata": {
        "id": "OvKqJPzTeyQE"
      }
    },
    {
      "cell_type": "markdown",
      "source": [
        "### 1.2. ¿Cuál es la variable objetivo que hay que predecir? ¿Qué significado tiene?\n",
        "\n",
        "El objetivo a predecir es una variable binaria que se encuentra en la columna 'TARGET'. Esta indica si un solicitante acabó incumpliendo o siendo gravemente moroso:\n",
        "\n",
        "Etiqueta = 1 : el cliente ha dejado de pagar el préstamo. \n",
        "\n",
        "Etiqueta = 0 : el préstamo ha sido devuelto."
      ],
      "metadata": {
        "id": "CiP35NgngsZD"
      }
    },
    {
      "cell_type": "markdown",
      "source": [
        "### 1.3. ¿Qué información (atributos) hay disponible para hacer la predicción?\n",
        "\n",
        "El conjunto de datos cuenta con los siguientes atributos:\n",
        "\n",
        "1.  LOAN:    Importe de la solicitud de préstamo.\n",
        "2.  MORTDUE: Importe a pagar de la hipoteca existente.\n",
        "3.  VALUE:   Valor del inmueble actual.\n",
        "4.  YOJ:     Años en el trabajo actual.\n",
        "5.  DEROG:   Número de informes derogatorios importantes.\n",
        "6.  DELINQ:  Número de líneas de crédito morosas.\n",
        "7.  CLAGE:   Antigüedad de la línea comercial más antigua en meses.\n",
        "8.  NINQ:    Número de líneas de crédito recientes.\n",
        "9.  CLNO:    Número de líneas de crédito.\n",
        "10. DEBTINC: Relación deuda-ingresos."
      ],
      "metadata": {
        "id": "YGS23Yh2hzmD"
      }
    },
    {
      "cell_type": "markdown",
      "source": [
        "### 1.4. ¿Qué atributos imagina ud. que son los más determinantes para la predicción?\n",
        "\n",
        "Analicemos cada uno de los atributos:\n",
        "\n",
        "1.  LOAN:    El importe del préstamo solicitado puede ser relativo a la capacidad de cada persona. Si bien puede existir una relación entre este importe y la viabilidad del préstamo, no creemos que sea demasiado marcada.\n",
        "2.  MORTDUE: La deuda hipotecaria parece ser mas relevante a la hora de determinar la capacidad de un solicitante de cumplir con el préstamo. Si una persona ya debe dinero, no debería asumir mas deudas.\n",
        "3.  VALUE:   El valor de la vivienda puede dar una idea de cuanto respaldo económico tiene el solicitante. Sin embargo, una persona con buenos ingresos no tiene por que vivir en una casa lujosa, o al revés. Esperamos encontrar una correlación aquí, aunque no en exceso.\n",
        "4.  YOJ:     Los años en el empleo actual no parecen tener correlación con la viabilidad del préstamo. Una persona puede llevar muchos años en el mismo empleo porque esta cómodamente asentada o porque le es imposible avanzar. Al mismo tiempo, un empleo nuevo puede indicar tanto que la persona no es capaz de retener sus oportunidades de trabajo como que avanza en su carrera.\n",
        "5.  DEROG:   El número de informes derogatorios parece ser importante a la hora de determinar la fiabilidad de una persona.\n",
        "6.  DELINQ:  El número de líneas de crédito morosas puede indicar que tan propensa es una persona a incumplir sus pagos, por lo que esperamos una fuerte correlación.\n",
        "7.  CLAGE:   La antigüedad de la línea comercial no tiene por que estar correlacionada con la fiabilidad del solicitante.\n",
        "8.  NINQ:    No esperamos correlación entre el número de líneas de crédito recientes y la viabilidad del préstamo.\n",
        "9.  CLNO:    No esperamos correlación entre el número de líneas de crédito y la viabilidad del préstamo.\n",
        "10. DEBTINC: Esperamos que la relación deuda-ingresos este fuertemente correlacionada con la viabilidad del préstamo, dado que una persona que gasta mas de lo que gana difícilmente pueda afrontar la deuda, mientras que en el caso opuesto es claro que el solicitante tiene la capacidad de cumplir."
      ],
      "metadata": {
        "id": "rQbQLKdvh1on"
      }
    },
    {
      "cell_type": "markdown",
      "metadata": {
        "id": "sDzHqNraaurc"
      },
      "source": [
        "## Ejercicio 2: Predicción con Modelos Lineales\n",
        "\n",
        "En este ejercicio se entrenarán modelos lineales de clasificación para predecir la variable objetivo.\n",
        "\n",
        "Para ello, deberán utilizar la clase SGDClassifier de scikit-learn.\n",
        "\n",
        "Documentación:\n",
        "- https://scikit-learn.org/stable/modules/sgd.html\n",
        "- https://scikit-learn.org/stable/modules/generated/sklearn.linear_model.SGDClassifier.html\n"
      ]
    },
    {
      "cell_type": "markdown",
      "metadata": {
        "id": "j84pvqjJaurd"
      },
      "source": [
        "### Ejercicio 2.1: SGDClassifier con hiperparámetros por defecto\n",
        "\n",
        "Entrenar y evaluar el clasificador SGDClassifier usando los valores por omisión de scikit-learn para todos los parámetros. Únicamente **fijar la semilla aleatoria** para hacer repetible el experimento.\n",
        "\n",
        "Evaluar sobre el conjunto de **entrenamiento** y sobre el conjunto de **evaluación**, reportando:\n",
        "- Accuracy\n",
        "- Precision\n",
        "- Recall\n",
        "- F1\n",
        "- matriz de confusión"
      ]
    },
    {
      "cell_type": "markdown",
      "source": [
        "#### Entrenamiento del Modelo"
      ],
      "metadata": {
        "id": "lbtOpDj-KO6x"
      }
    },
    {
      "cell_type": "code",
      "source": [
        "from sklearn.linear_model import SGDClassifier\n",
        "from sklearn.metrics import classification_report\n",
        "from sklearn.preprocessing import StandardScaler\n",
        "from sklearn.pipeline import Pipeline\n",
        "\n",
        "model=Pipeline([('standardscaler', StandardScaler()), ('model',SGDClassifier(random_state=0))])\n",
        "model.fit(X_train, y_train)"
      ],
      "metadata": {
        "colab": {
          "base_uri": "https://localhost:8080/"
        },
        "id": "pOfjSDfUrSdk",
        "outputId": "c2343dcf-89d5-481b-8a9d-ada5a8f7b946"
      },
      "execution_count": null,
      "outputs": [
        {
          "output_type": "execute_result",
          "data": {
            "text/plain": [
              "Pipeline(steps=[('standardscaler', StandardScaler()),\n",
              "                ('model', SGDClassifier(random_state=0))])"
            ]
          },
          "metadata": {},
          "execution_count": 6
        }
      ]
    },
    {
      "cell_type": "markdown",
      "source": [
        "Evaluación sobre el Conjunto de Entrenamiento"
      ],
      "metadata": {
        "id": "ov-nh6gYKaQK"
      }
    },
    {
      "cell_type": "code",
      "source": [
        "from sklearn.metrics import accuracy_score, confusion_matrix, precision_score, recall_score, f1_score\n",
        "from sklearn.metrics import classification_report\n",
        "from sklearn.metrics import confusion_matrix\n",
        "\n",
        "y_train_p = model.predict(X_train)\n",
        "\n",
        "score = model.score(X_train, y_train)\n",
        "print(\"Training score: \", score) \n",
        "\n",
        "print(classification_report(y_train, y_train_p)) \n",
        "\n",
        "acs =  accuracy_score(y_train,y_train_p) \n",
        "rs  =    recall_score(y_train,y_train_p, average=None) \n",
        "ps  = precision_score(y_train,y_train_p, average=None)\n",
        "f1  =        f1_score(y_train,y_train_p, average=None)\n",
        "print(\"Accuracy:  \",acs)\n",
        "print(\"Precision: \",ps)\n",
        "print(\"Recall:    \",rs)\n",
        "print(\"F1:        \",f1)\n",
        "\n",
        "cm = confusion_matrix(y_train, y_train_p)\n",
        "plt.figure(1, figsize=(6, 5))\n",
        "plt.title(\"Matriz de Confusión: Conjunto Train\" )\n",
        "labels = [\"0\", \"1\"] \n",
        "sns.set(font_scale=1)\n",
        "ax = sns.heatmap(cm.T, annot=True, fmt='.1f') \n",
        "ax.set_xticklabels(labels)\n",
        "ax.set_yticklabels(labels) \n",
        "ax.set(ylabel=\"Etiqueta Predicha\", xlabel=\"Etiqueta Verdadera\")"
      ],
      "metadata": {
        "id": "IScOjF2pKVEC",
        "colab": {
          "base_uri": "https://localhost:8080/",
          "height": 624
        },
        "outputId": "88c36e88-4b48-4be2-af56-7cd9c0cf637f"
      },
      "execution_count": null,
      "outputs": [
        {
          "output_type": "stream",
          "name": "stdout",
          "text": [
            "Training score:  0.8732299393122049\n",
            "              precision    recall  f1-score   support\n",
            "\n",
            "           0       0.89      0.97      0.93      1232\n",
            "           1       0.71      0.42      0.53       251\n",
            "\n",
            "    accuracy                           0.87      1483\n",
            "   macro avg       0.80      0.69      0.73      1483\n",
            "weighted avg       0.86      0.87      0.86      1483\n",
            "\n",
            "Accuracy:   0.8732299393122049\n",
            "Precision:  [0.89071856 0.71428571]\n",
            "Recall:     [0.96590909 0.41832669]\n",
            "F1:         [0.92679128 0.52763819]\n"
          ]
        },
        {
          "output_type": "execute_result",
          "data": {
            "text/plain": [
              "[Text(33.0, 0.5, 'Etiqueta Predicha'), Text(0.5, 24.0, 'Etiqueta Verdadera')]"
            ]
          },
          "metadata": {},
          "execution_count": 7
        },
        {
          "output_type": "display_data",
          "data": {
            "text/plain": [
              "<Figure size 432x360 with 2 Axes>"
            ],
            "image/png": "[encoded data removed]"
          },
          "metadata": {
            "needs_background": "light"
          }
        }
      ]
    },
    {
      "cell_type": "markdown",
      "source": [
        "Conclusion:"
      ],
      "metadata": {
        "id": "y1nE4dtDxaqw"
      }
    },
    {
      "cell_type": "markdown",
      "source": [
        "Evaluación sobre el Conjunto de Test"
      ],
      "metadata": {
        "id": "ItNcxNdXKUxg"
      }
    },
    {
      "cell_type": "code",
      "source": [
        "y_test_p = model.predict(X_test)\n",
        "\n",
        "score = model.score(X_test, y_test)\n",
        "print(\"Test score: \", score) \n",
        "\n",
        "print(classification_report(y_test, y_test_p))\n",
        "\n",
        "acs =  accuracy_score(y_test,y_test_p) \n",
        "rs  =    recall_score(y_test,y_test_p, average=None) \n",
        "ps  = precision_score(y_test,y_test_p, average=None)\n",
        "f1  =        f1_score(y_test,y_test_p, average=None)\n",
        "print(\"Accuracy:  \",acs)\n",
        "print(\"Precision: \",ps)\n",
        "print(\"Recall:    \",rs)\n",
        "print(\"F1:        \",f1)\n",
        "\n",
        "cm = confusion_matrix(y_test, y_test_p)\n",
        "plt.figure(1, figsize=(6, 5))\n",
        "plt.title(\"Matriz de Confusión: Conjunto Test\" )\n",
        "labels = [\"0\", \"1\"] \n",
        "sns.set(font_scale=1)\n",
        "ax = sns.heatmap(cm.T, annot=True, fmt='.1f') \n",
        "ax.set_xticklabels(labels)\n",
        "ax.set_yticklabels(labels) \n",
        "ax.set(ylabel=\"Etiqueta Predicha\", xlabel=\"Etiqueta Verdadera\")"
      ],
      "metadata": {
        "id": "qs_wEq6iObUM",
        "colab": {
          "base_uri": "https://localhost:8080/",
          "height": 629
        },
        "outputId": "287a5eba-52ca-4feb-f927-24160017c07d"
      },
      "execution_count": null,
      "outputs": [
        {
          "output_type": "stream",
          "name": "stdout",
          "text": [
            "Test score:  0.8679245283018868\n",
            "              precision    recall  f1-score   support\n",
            "\n",
            "           0       0.89      0.96      0.92       313\n",
            "           1       0.65      0.34      0.45        58\n",
            "\n",
            "    accuracy                           0.87       371\n",
            "   macro avg       0.77      0.65      0.69       371\n",
            "weighted avg       0.85      0.87      0.85       371\n",
            "\n",
            "Accuracy:   0.8679245283018868\n",
            "Precision:  [0.88823529 0.64516129]\n",
            "Recall:     [0.96485623 0.34482759]\n",
            "F1:         [0.92496172 0.4494382 ]\n"
          ]
        },
        {
          "output_type": "execute_result",
          "data": {
            "text/plain": [
              "[Text(30.5, 0.5, 'Etiqueta Predicha'), Text(0.5, 21.5, 'Etiqueta Verdadera')]"
            ]
          },
          "metadata": {},
          "execution_count": 8
        },
        {
          "output_type": "display_data",
          "data": {
            "text/plain": [
              "<Figure size 432x360 with 2 Axes>"
            ],
            "image/png": "[encoded data removed]"
          },
          "metadata": {}
        }
      ]
    },
    {
      "cell_type": "markdown",
      "source": [
        "Coclusion: Podemos ver que el conjunto de datos esta desbalanceado, habiendo muchos mas datos de a clase 0 que de la 1. Esto puede traer problemas, dado que el clasificador tenderá a asignar la clase mas común indiscriminadamente. Por este motivo se recomienda balancear los datos o el entrenamiento."
      ],
      "metadata": {
        "id": "gf6DuhNzx8cA"
      }
    },
    {
      "cell_type": "markdown",
      "metadata": {
        "id": "OeHNfjRRaure"
      },
      "source": [
        "### Ejercicio 2.2: Ajuste de Hiperparámetros\n",
        "\n",
        "Seleccionar valores para los hiperparámetros principales del SGDClassifier. Como mínimo, probar diferentes funciones de loss, tasas de entrenamiento y tasas de regularización.\n",
        "\n",
        "Para ello, usar grid-search y 5-fold cross-validation sobre el conjunto de entrenamiento para explorar muchas combinaciones posibles de valores.\n",
        "\n",
        "Reportar accuracy promedio y varianza para todas las configuraciones.\n",
        "\n",
        "Para la mejor configuración encontrada, evaluar sobre el conjunto de **entrenamiento** y sobre el conjunto de **evaluación**, reportando:\n",
        "- Accuracy\n",
        "- Precision\n",
        "- Recall\n",
        "- F1\n",
        "- matriz de confusión\n",
        "\n",
        "Documentación:\n",
        "- https://scikit-learn.org/stable/modules/grid_search.html\n",
        "- https://scikit-learn.org/stable/modules/generated/sklearn.model_selection.GridSearchCV.html"
      ]
    },
    {
      "cell_type": "markdown",
      "source": [
        "Entrenamos con los distintos hiperparámetros:"
      ],
      "metadata": {
        "id": "20UslP6gZ_KN"
      }
    },
    {
      "cell_type": "code",
      "source": [
        "from sklearn.model_selection import GridSearchCV\n",
        "\n",
        "SGDClassifier(class_weight='balanced')\n",
        "\n",
        "param_grid = {\n",
        "    'model__loss': ['hinge', 'log', 'squared_error', 'preceptron'],\n",
        "    'model__learning_rate':['constant', 'optimal','adaptive'],\n",
        "    'model__alpha': [0.00001, 0.0001, 0.001, 0.01, 0.1],\n",
        "     }\n",
        "\n",
        "model=Pipeline([('standardscaler', StandardScaler()), ('model',SGDClassifier(random_state=123, class_weight='balanced'))])\n",
        "\n",
        "cv = GridSearchCV(model, param_grid, scoring ='f1', refit=True, cv=5)\n",
        "\n",
        "cv.fit(X_train, y_train)"
      ],
      "metadata": {
        "id": "h4cTBHPySDRb",
        "colab": {
          "base_uri": "https://localhost:8080/"
        },
        "outputId": "fdbf3fde-caaf-4a83-f053-d1228073de9d"
      },
      "execution_count": null,
      "outputs": [
        {
          "output_type": "stream",
          "name": "stderr",
          "text": [
            "/usr/local/lib/python3.7/dist-packages/sklearn/linear_model/_stochastic_gradient.py:700: ConvergenceWarning: Maximum number of iteration reached before convergence. Consider increasing max_iter to improve the fit.\n",
            "  ConvergenceWarning,\n",
            "/usr/local/lib/python3.7/dist-packages/sklearn/linear_model/_stochastic_gradient.py:700: ConvergenceWarning: Maximum number of iteration reached before convergence. Consider increasing max_iter to improve the fit.\n",
            "  ConvergenceWarning,\n",
            "/usr/local/lib/python3.7/dist-packages/sklearn/model_selection/_validation.py:372: FitFailedWarning: \n",
            "225 fits failed out of a total of 300.\n",
            "The score on these train-test partitions for these parameters will be set to nan.\n",
            "If these failures are not expected, you can try to debug them by setting error_score='raise'.\n",
            "\n",
            "Below are more details about the failures:\n",
            "--------------------------------------------------------------------------------\n",
            "200 fits failed with the following error:\n",
            "Traceback (most recent call last):\n",
            "  File \"/usr/local/lib/python3.7/dist-packages/sklearn/model_selection/_validation.py\", line 680, in _fit_and_score\n",
            "    estimator.fit(X_train, y_train, **fit_params)\n",
            "  File \"/usr/local/lib/python3.7/dist-packages/sklearn/pipeline.py\", line 394, in fit\n",
            "    self._final_estimator.fit(Xt, y, **fit_params_last_step)\n",
            "  File \"/usr/local/lib/python3.7/dist-packages/sklearn/linear_model/_stochastic_gradient.py\", line 892, in fit\n",
            "    sample_weight=sample_weight,\n",
            "  File \"/usr/local/lib/python3.7/dist-packages/sklearn/linear_model/_stochastic_gradient.py\", line 649, in _fit\n",
            "    self._validate_params()\n",
            "  File \"/usr/local/lib/python3.7/dist-packages/sklearn/linear_model/_stochastic_gradient.py\", line 149, in _validate_params\n",
            "    raise ValueError(\"eta0 must be > 0\")\n",
            "ValueError: eta0 must be > 0\n",
            "\n",
            "--------------------------------------------------------------------------------\n",
            "25 fits failed with the following error:\n",
            "Traceback (most recent call last):\n",
            "  File \"/usr/local/lib/python3.7/dist-packages/sklearn/model_selection/_validation.py\", line 680, in _fit_and_score\n",
            "    estimator.fit(X_train, y_train, **fit_params)\n",
            "  File \"/usr/local/lib/python3.7/dist-packages/sklearn/pipeline.py\", line 394, in fit\n",
            "    self._final_estimator.fit(Xt, y, **fit_params_last_step)\n",
            "  File \"/usr/local/lib/python3.7/dist-packages/sklearn/linear_model/_stochastic_gradient.py\", line 892, in fit\n",
            "    sample_weight=sample_weight,\n",
            "  File \"/usr/local/lib/python3.7/dist-packages/sklearn/linear_model/_stochastic_gradient.py\", line 649, in _fit\n",
            "    self._validate_params()\n",
            "  File \"/usr/local/lib/python3.7/dist-packages/sklearn/linear_model/_stochastic_gradient.py\", line 162, in _validate_params\n",
            "    raise ValueError(\"The loss %s is not supported. \" % self.loss)\n",
            "ValueError: The loss preceptron is not supported. \n",
            "\n",
            "  warnings.warn(some_fits_failed_message, FitFailedWarning)\n",
            "/usr/local/lib/python3.7/dist-packages/sklearn/model_selection/_search.py:972: UserWarning: One or more of the test scores are non-finite: [       nan        nan        nan        nan 0.36338794 0.41271735\n",
            " 0.21700067        nan        nan        nan        nan        nan\n",
            "        nan        nan        nan        nan 0.41490718 0.38097448\n",
            " 0.24486494        nan        nan        nan        nan        nan\n",
            "        nan        nan        nan        nan 0.48074186 0.43868539\n",
            " 0.24213427        nan        nan        nan        nan        nan\n",
            "        nan        nan        nan        nan 0.49503767 0.47989239\n",
            " 0.4883865         nan        nan        nan        nan        nan\n",
            "        nan        nan        nan        nan 0.50988459 0.48238825\n",
            " 0.37073183        nan        nan        nan        nan        nan]\n",
            "  category=UserWarning,\n"
          ]
        },
        {
          "output_type": "execute_result",
          "data": {
            "text/plain": [
              "GridSearchCV(cv=5,\n",
              "             estimator=Pipeline(steps=[('standardscaler', StandardScaler()),\n",
              "                                       ('model',\n",
              "                                        SGDClassifier(class_weight='balanced',\n",
              "                                                      random_state=123))]),\n",
              "             param_grid={'model__alpha': [1e-05, 0.0001, 0.001, 0.01, 0.1],\n",
              "                         'model__learning_rate': ['constant', 'optimal',\n",
              "                                                  'adaptive'],\n",
              "                         'model__loss': ['hinge', 'log', 'squared_error',\n",
              "                                         'preceptron']},\n",
              "             scoring='f1')"
            ]
          },
          "metadata": {},
          "execution_count": 10
        }
      ]
    },
    {
      "cell_type": "markdown",
      "source": [
        "Reportamos la accuracy promedio y varianza para todas las configuraciones:"
      ],
      "metadata": {
        "id": "G6v0t-9Ybduy"
      }
    },
    {
      "cell_type": "code",
      "source": [
        "results = cv.cv_results_\n",
        "\n",
        "df_SDGC = pd.DataFrame(results)\n",
        "df_SDGC.sort_values('rank_test_score')[:10]"
      ],
      "metadata": {
        "id": "CfLL0_3GcuhY",
        "colab": {
          "base_uri": "https://localhost:8080/",
          "height": 635
        },
        "outputId": "309679cb-6226-472b-f280-e2ddc9f4e0e9"
      },
      "execution_count": null,
      "outputs": [
        {
          "output_type": "execute_result",
          "data": {
            "text/plain": [
              "    mean_fit_time  std_fit_time  mean_score_time  std_score_time  \\\n",
              "52       0.006542      0.000662         0.002947        0.000115   \n",
              "40       0.008294      0.001237         0.004050        0.001575   \n",
              "42       0.009724      0.000641         0.003101        0.000050   \n",
              "53       0.008545      0.001132         0.003321        0.000403   \n",
              "28       0.010064      0.002049         0.003587        0.000602   \n",
              "41       0.010307      0.002497         0.003492        0.000601   \n",
              "29       0.012788      0.001250         0.004140        0.000483   \n",
              "16       0.009425      0.000644         0.003141        0.000067   \n",
              "5        0.012730      0.004050         0.003622        0.000593   \n",
              "17       0.012646      0.002027         0.003608        0.000572   \n",
              "\n",
              "   param_model__alpha param_model__learning_rate param_model__loss  \\\n",
              "52                0.1                    optimal             hinge   \n",
              "40               0.01                    optimal             hinge   \n",
              "42               0.01                    optimal     squared_error   \n",
              "53                0.1                    optimal               log   \n",
              "28              0.001                    optimal             hinge   \n",
              "41               0.01                    optimal               log   \n",
              "29              0.001                    optimal               log   \n",
              "16             0.0001                    optimal             hinge   \n",
              "5             0.00001                    optimal               log   \n",
              "17             0.0001                    optimal               log   \n",
              "\n",
              "                                               params  split0_test_score  \\\n",
              "52  {'model__alpha': 0.1, 'model__learning_rate': ...           0.456140   \n",
              "40  {'model__alpha': 0.01, 'model__learning_rate':...           0.467742   \n",
              "42  {'model__alpha': 0.01, 'model__learning_rate':...           0.456376   \n",
              "53  {'model__alpha': 0.1, 'model__learning_rate': ...           0.434783   \n",
              "28  {'model__alpha': 0.001, 'model__learning_rate'...           0.444444   \n",
              "41  {'model__alpha': 0.01, 'model__learning_rate':...           0.461538   \n",
              "29  {'model__alpha': 0.001, 'model__learning_rate'...           0.445946   \n",
              "16  {'model__alpha': 0.0001, 'model__learning_rate...           0.391304   \n",
              "5   {'model__alpha': 1e-05, 'model__learning_rate'...           0.404908   \n",
              "17  {'model__alpha': 0.0001, 'model__learning_rate...           0.363636   \n",
              "\n",
              "    split1_test_score  split2_test_score  split3_test_score  \\\n",
              "52           0.486486           0.500000           0.582524   \n",
              "40           0.442623           0.500000           0.574257   \n",
              "42           0.465116           0.478632           0.508475   \n",
              "53           0.442748           0.508197           0.546875   \n",
              "28           0.459016           0.506667           0.550725   \n",
              "41           0.413333           0.468750           0.531250   \n",
              "29           0.400000           0.500000           0.412698   \n",
              "16           0.449612           0.503497           0.319527   \n",
              "5            0.374332           0.454545           0.363636   \n",
              "17           0.369048           0.448276           0.344828   \n",
              "\n",
              "    split4_test_score  mean_test_score  std_test_score  rank_test_score  \n",
              "52           0.524272         0.509885        0.042467                1  \n",
              "40           0.490566         0.495038        0.044301                2  \n",
              "42           0.533333         0.488387        0.028583                3  \n",
              "53           0.479339         0.482388        0.041645                4  \n",
              "28           0.442857         0.480742        0.041939                5  \n",
              "41           0.524590         0.479892        0.043650                6  \n",
              "29           0.434783         0.438685        0.034639                7  \n",
              "16           0.410596         0.414907        0.061197                8  \n",
              "5            0.466165         0.412717        0.041351                9  \n",
              "17           0.379085         0.380974        0.035447               10  "
            ],
            "text/html": [
              "\n",
              "  <div id=\"df-b1781565-9f06-47e5-8976-2f5695605b45\">\n",
              "    <div class=\"colab-df-container\">\n",
              "      <div>\n",
              "<style scoped>\n",
              "    .dataframe tbody tr th:only-of-type {\n",
              "        vertical-align: middle;\n",
              "    }\n",
              "\n",
              "    .dataframe tbody tr th {\n",
              "        vertical-align: top;\n",
              "    }\n",
              "\n",
              "    .dataframe thead th {\n",
              "        text-align: right;\n",
              "    }\n",
              "</style>\n",
              "<table border=\"1\" class=\"dataframe\">\n",
              "  <thead>\n",
              "    <tr style=\"text-align: right;\">\n",
              "      <th></th>\n",
              "      <th>mean_fit_time</th>\n",
              "      <th>std_fit_time</th>\n",
              "      <th>mean_score_time</th>\n",
              "      <th>std_score_time</th>\n",
              "      <th>param_model__alpha</th>\n",
              "      <th>param_model__learning_rate</th>\n",
              "      <th>param_model__loss</th>\n",
              "      <th>params</th>\n",
              "      <th>split0_test_score</th>\n",
              "      <th>split1_test_score</th>\n",
              "      <th>split2_test_score</th>\n",
              "      <th>split3_test_score</th>\n",
              "      <th>split4_test_score</th>\n",
              "      <th>mean_test_score</th>\n",
              "      <th>std_test_score</th>\n",
              "      <th>rank_test_score</th>\n",
              "    </tr>\n",
              "  </thead>\n",
              "  <tbody>\n",
              "    <tr>\n",
              "      <th>52</th>\n",
              "      <td>0.006542</td>\n",
              "      <td>0.000662</td>\n",
              "      <td>0.002947</td>\n",
              "      <td>0.000115</td>\n",
              "      <td>0.1</td>\n",
              "      <td>optimal</td>\n",
              "      <td>hinge</td>\n",
              "      <td>{'model__alpha': 0.1, 'model__learning_rate': ...</td>\n",
              "      <td>0.456140</td>\n",
              "      <td>0.486486</td>\n",
              "      <td>0.500000</td>\n",
              "      <td>0.582524</td>\n",
              "      <td>0.524272</td>\n",
              "      <td>0.509885</td>\n",
              "      <td>0.042467</td>\n",
              "      <td>1</td>\n",
              "    </tr>\n",
              "    <tr>\n",
              "      <th>40</th>\n",
              "      <td>0.008294</td>\n",
              "      <td>0.001237</td>\n",
              "      <td>0.004050</td>\n",
              "      <td>0.001575</td>\n",
              "      <td>0.01</td>\n",
              "      <td>optimal</td>\n",
              "      <td>hinge</td>\n",
              "      <td>{'model__alpha': 0.01, 'model__learning_rate':...</td>\n",
              "      <td>0.467742</td>\n",
              "      <td>0.442623</td>\n",
              "      <td>0.500000</td>\n",
              "      <td>0.574257</td>\n",
              "      <td>0.490566</td>\n",
              "      <td>0.495038</td>\n",
              "      <td>0.044301</td>\n",
              "      <td>2</td>\n",
              "    </tr>\n",
              "    <tr>\n",
              "      <th>42</th>\n",
              "      <td>0.009724</td>\n",
              "      <td>0.000641</td>\n",
              "      <td>0.003101</td>\n",
              "      <td>0.000050</td>\n",
              "      <td>0.01</td>\n",
              "      <td>optimal</td>\n",
              "      <td>squared_error</td>\n",
              "      <td>{'model__alpha': 0.01, 'model__learning_rate':...</td>\n",
              "      <td>0.456376</td>\n",
              "      <td>0.465116</td>\n",
              "      <td>0.478632</td>\n",
              "      <td>0.508475</td>\n",
              "      <td>0.533333</td>\n",
              "      <td>0.488387</td>\n",
              "      <td>0.028583</td>\n",
              "      <td>3</td>\n",
              "    </tr>\n",
              "    <tr>\n",
              "      <th>53</th>\n",
              "      <td>0.008545</td>\n",
              "      <td>0.001132</td>\n",
              "      <td>0.003321</td>\n",
              "      <td>0.000403</td>\n",
              "      <td>0.1</td>\n",
              "      <td>optimal</td>\n",
              "      <td>log</td>\n",
              "      <td>{'model__alpha': 0.1, 'model__learning_rate': ...</td>\n",
              "      <td>0.434783</td>\n",
              "      <td>0.442748</td>\n",
              "      <td>0.508197</td>\n",
              "      <td>0.546875</td>\n",
              "      <td>0.479339</td>\n",
              "      <td>0.482388</td>\n",
              "      <td>0.041645</td>\n",
              "      <td>4</td>\n",
              "    </tr>\n",
              "    <tr>\n",
              "      <th>28</th>\n",
              "      <td>0.010064</td>\n",
              "      <td>0.002049</td>\n",
              "      <td>0.003587</td>\n",
              "      <td>0.000602</td>\n",
              "      <td>0.001</td>\n",
              "      <td>optimal</td>\n",
              "      <td>hinge</td>\n",
              "      <td>{'model__alpha': 0.001, 'model__learning_rate'...</td>\n",
              "      <td>0.444444</td>\n",
              "      <td>0.459016</td>\n",
              "      <td>0.506667</td>\n",
              "      <td>0.550725</td>\n",
              "      <td>0.442857</td>\n",
              "      <td>0.480742</td>\n",
              "      <td>0.041939</td>\n",
              "      <td>5</td>\n",
              "    </tr>\n",
              "    <tr>\n",
              "      <th>41</th>\n",
              "      <td>0.010307</td>\n",
              "      <td>0.002497</td>\n",
              "      <td>0.003492</td>\n",
              "      <td>0.000601</td>\n",
              "      <td>0.01</td>\n",
              "      <td>optimal</td>\n",
              "      <td>log</td>\n",
              "      <td>{'model__alpha': 0.01, 'model__learning_rate':...</td>\n",
              "      <td>0.461538</td>\n",
              "      <td>0.413333</td>\n",
              "      <td>0.468750</td>\n",
              "      <td>0.531250</td>\n",
              "      <td>0.524590</td>\n",
              "      <td>0.479892</td>\n",
              "      <td>0.043650</td>\n",
              "      <td>6</td>\n",
              "    </tr>\n",
              "    <tr>\n",
              "      <th>29</th>\n",
              "      <td>0.012788</td>\n",
              "      <td>0.001250</td>\n",
              "      <td>0.004140</td>\n",
              "      <td>0.000483</td>\n",
              "      <td>0.001</td>\n",
              "      <td>optimal</td>\n",
              "      <td>log</td>\n",
              "      <td>{'model__alpha': 0.001, 'model__learning_rate'...</td>\n",
              "      <td>0.445946</td>\n",
              "      <td>0.400000</td>\n",
              "      <td>0.500000</td>\n",
              "      <td>0.412698</td>\n",
              "      <td>0.434783</td>\n",
              "      <td>0.438685</td>\n",
              "      <td>0.034639</td>\n",
              "      <td>7</td>\n",
              "    </tr>\n",
              "    <tr>\n",
              "      <th>16</th>\n",
              "      <td>0.009425</td>\n",
              "      <td>0.000644</td>\n",
              "      <td>0.003141</td>\n",
              "      <td>0.000067</td>\n",
              "      <td>0.0001</td>\n",
              "      <td>optimal</td>\n",
              "      <td>hinge</td>\n",
              "      <td>{'model__alpha': 0.0001, 'model__learning_rate...</td>\n",
              "      <td>0.391304</td>\n",
              "      <td>0.449612</td>\n",
              "      <td>0.503497</td>\n",
              "      <td>0.319527</td>\n",
              "      <td>0.410596</td>\n",
              "      <td>0.414907</td>\n",
              "      <td>0.061197</td>\n",
              "      <td>8</td>\n",
              "    </tr>\n",
              "    <tr>\n",
              "      <th>5</th>\n",
              "      <td>0.012730</td>\n",
              "      <td>0.004050</td>\n",
              "      <td>0.003622</td>\n",
              "      <td>0.000593</td>\n",
              "      <td>0.00001</td>\n",
              "      <td>optimal</td>\n",
              "      <td>log</td>\n",
              "      <td>{'model__alpha': 1e-05, 'model__learning_rate'...</td>\n",
              "      <td>0.404908</td>\n",
              "      <td>0.374332</td>\n",
              "      <td>0.454545</td>\n",
              "      <td>0.363636</td>\n",
              "      <td>0.466165</td>\n",
              "      <td>0.412717</td>\n",
              "      <td>0.041351</td>\n",
              "      <td>9</td>\n",
              "    </tr>\n",
              "    <tr>\n",
              "      <th>17</th>\n",
              "      <td>0.012646</td>\n",
              "      <td>0.002027</td>\n",
              "      <td>0.003608</td>\n",
              "      <td>0.000572</td>\n",
              "      <td>0.0001</td>\n",
              "      <td>optimal</td>\n",
              "      <td>log</td>\n",
              "      <td>{'model__alpha': 0.0001, 'model__learning_rate...</td>\n",
              "      <td>0.363636</td>\n",
              "      <td>0.369048</td>\n",
              "      <td>0.448276</td>\n",
              "      <td>0.344828</td>\n",
              "      <td>0.379085</td>\n",
              "      <td>0.380974</td>\n",
              "      <td>0.035447</td>\n",
              "      <td>10</td>\n",
              "    </tr>\n",
              "  </tbody>\n",
              "</table>\n",
              "</div>\n",
              "      <button class=\"colab-df-convert\" onclick=\"convertToInteractive('df-b1781565-9f06-47e5-8976-2f5695605b45')\"\n",
              "              title=\"Convert this dataframe to an interactive table.\"\n",
              "              style=\"display:none;\">\n",
              "        \n",
              "  <svg xmlns=\"http://www.w3.org/2000/svg\" height=\"24px\"viewBox=\"0 0 24 24\"\n",
              "       width=\"24px\">\n",
              "    <path d=\"M0 0h24v24H0V0z\" fill=\"none\"/>\n",
              "    <path d=\"M18.56 5.44l.94 2.06.94-2.06 2.06-.94-2.06-.94-.94-2.06-.94 2.06-2.06.94zm-11 1L8.5 8.5l.94-2.06 2.06-.94-2.06-.94L8.5 2.5l-.94 2.06-2.06.94zm10 10l.94 2.06.94-2.06 2.06-.94-2.06-.94-.94-2.06-.94 2.06-2.06.94z\"/><path d=\"M17.41 7.96l-1.37-1.37c-.4-.4-.92-.59-1.43-.59-.52 0-1.04.2-1.43.59L10.3 9.45l-7.72 7.72c-.78.78-.78 2.05 0 2.83L4 21.41c.39.39.9.59 1.41.59.51 0 1.02-.2 1.41-.59l7.78-7.78 2.81-2.81c.8-.78.8-2.07 0-2.86zM5.41 20L4 18.59l7.72-7.72 1.47 1.35L5.41 20z\"/>\n",
              "  </svg>\n",
              "      </button>\n",
              "      \n",
              "  <style>\n",
              "    .colab-df-container {\n",
              "      display:flex;\n",
              "      flex-wrap:wrap;\n",
              "      gap: 12px;\n",
              "    }\n",
              "\n",
              "    .colab-df-convert {\n",
              "      background-color: #E8F0FE;\n",
              "      border: none;\n",
              "      border-radius: 50%;\n",
              "      cursor: pointer;\n",
              "      display: none;\n",
              "      fill: #1967D2;\n",
              "      height: 32px;\n",
              "      padding: 0 0 0 0;\n",
              "      width: 32px;\n",
              "    }\n",
              "\n",
              "    .colab-df-convert:hover {\n",
              "      background-color: #E2EBFA;\n",
              "      box-shadow: 0px 1px 2px rgba(60, 64, 67, 0.3), 0px 1px 3px 1px rgba(60, 64, 67, 0.15);\n",
              "      fill: #174EA6;\n",
              "    }\n",
              "\n",
              "    [theme=dark] .colab-df-convert {\n",
              "      background-color: #3B4455;\n",
              "      fill: #D2E3FC;\n",
              "    }\n",
              "\n",
              "    [theme=dark] .colab-df-convert:hover {\n",
              "      background-color: #434B5C;\n",
              "      box-shadow: 0px 1px 3px 1px rgba(0, 0, 0, 0.15);\n",
              "      filter: drop-shadow(0px 1px 2px rgba(0, 0, 0, 0.3));\n",
              "      fill: #FFFFFF;\n",
              "    }\n",
              "  </style>\n",
              "\n",
              "      <script>\n",
              "        const buttonEl =\n",
              "          document.querySelector('#df-b1781565-9f06-47e5-8976-2f5695605b45 button.colab-df-convert');\n",
              "        buttonEl.style.display =\n",
              "          google.colab.kernel.accessAllowed ? 'block' : 'none';\n",
              "\n",
              "        async function convertToInteractive(key) {\n",
              "          const element = document.querySelector('#df-b1781565-9f06-47e5-8976-2f5695605b45');\n",
              "          const dataTable =\n",
              "            await google.colab.kernel.invokeFunction('convertToInteractive',\n",
              "                                                     [key], {});\n",
              "          if (!dataTable) return;\n",
              "\n",
              "          const docLinkHtml = 'Like what you see? Visit the ' +\n",
              "            '<a target=\"_blank\" href=https://colab.research.google.com/notebooks/data_table.ipynb>data table notebook</a>'\n",
              "            + ' to learn more about interactive tables.';\n",
              "          element.innerHTML = '';\n",
              "          dataTable['output_type'] = 'display_data';\n",
              "          await google.colab.output.renderOutput(dataTable, element);\n",
              "          const docLink = document.createElement('div');\n",
              "          docLink.innerHTML = docLinkHtml;\n",
              "          element.appendChild(docLink);\n",
              "        }\n",
              "      </script>\n",
              "    </div>\n",
              "  </div>\n",
              "  "
            ]
          },
          "metadata": {},
          "execution_count": 11
        }
      ]
    },
    {
      "cell_type": "markdown",
      "source": [
        "Elegimos el mejor modelo:"
      ],
      "metadata": {
        "id": "zYpMMCL9cKXO"
      }
    },
    {
      "cell_type": "code",
      "source": [
        "best_model = cv.best_estimator_\n",
        "print('Mejor Estimador', cv.best_estimator_)"
      ],
      "metadata": {
        "id": "5FfZIjSbbeIM",
        "colab": {
          "base_uri": "https://localhost:8080/"
        },
        "outputId": "cdb2d997-9af1-4078-fee4-12bada2788c5"
      },
      "execution_count": null,
      "outputs": [
        {
          "output_type": "stream",
          "name": "stdout",
          "text": [
            "Mejor Estimador Pipeline(steps=[('standardscaler', StandardScaler()),\n",
            "                ('model',\n",
            "                 SGDClassifier(alpha=0.1, class_weight='balanced',\n",
            "                               random_state=123))])\n"
          ]
        }
      ]
    },
    {
      "cell_type": "markdown",
      "source": [
        "Evaluación sobre el Conjunto de Entrenamiento"
      ],
      "metadata": {
        "id": "Wi6PuP_McKhc"
      }
    },
    {
      "cell_type": "code",
      "source": [
        "y_train_p = best_model.predict(X_train)\n",
        "\n",
        "score = best_model.score(X_train, y_train)\n",
        "print(\"Training score: \", score) \n",
        "\n",
        "print(classification_report(y_train, y_train_p)) \n",
        "\n",
        "acs =  accuracy_score(y_train,y_train_p) \n",
        "rs  =    recall_score(y_train,y_train_p, average=None) \n",
        "ps  = precision_score(y_train,y_train_p, average=None)\n",
        "f1  =        f1_score(y_train,y_train_p, average=None)\n",
        "print(\"Accuracy:  \",acs)\n",
        "print(\"Precision: \",ps)\n",
        "print(\"Recall:    \",rs)\n",
        "print(\"F1:        \",f1)\n",
        "\n",
        "cm = confusion_matrix(y_train, y_train_p)\n",
        "plt.figure(1, figsize=(6, 5))\n",
        "plt.title(\"Matriz de Confusión: Conjunto Train\" )\n",
        "labels = [\"0\", \"1\"] \n",
        "sns.set(font_scale=1)\n",
        "ax = sns.heatmap(cm.T, annot=True, fmt='.1f') \n",
        "ax.set_xticklabels(labels)\n",
        "ax.set_yticklabels(labels) \n",
        "ax.set(ylabel=\"Etiqueta Predicha\", xlabel=\"Etiqueta Verdadera\")"
      ],
      "metadata": {
        "id": "KeINB3sccKhd",
        "colab": {
          "base_uri": "https://localhost:8080/",
          "height": 629
        },
        "outputId": "42f4b16f-b6d2-4933-e3c9-7b514aa6c366"
      },
      "execution_count": null,
      "outputs": [
        {
          "output_type": "stream",
          "name": "stdout",
          "text": [
            "Training score:  0.8240053944706676\n",
            "              precision    recall  f1-score   support\n",
            "\n",
            "           0       0.91      0.88      0.89      1232\n",
            "           1       0.48      0.56      0.52       251\n",
            "\n",
            "    accuracy                           0.82      1483\n",
            "   macro avg       0.70      0.72      0.71      1483\n",
            "weighted avg       0.84      0.82      0.83      1483\n",
            "\n",
            "Accuracy:   0.8240053944706676\n",
            "Precision:  [0.90764064 0.48287671]\n",
            "Recall:     [0.87743506 0.56175299]\n",
            "F1:         [0.89228229 0.51933702]\n"
          ]
        },
        {
          "output_type": "execute_result",
          "data": {
            "text/plain": [
              "[Text(30.5, 0.5, 'Etiqueta Predicha'), Text(0.5, 21.5, 'Etiqueta Verdadera')]"
            ]
          },
          "metadata": {},
          "execution_count": 13
        },
        {
          "output_type": "display_data",
          "data": {
            "text/plain": [
              "<Figure size 432x360 with 2 Axes>"
            ],
            "image/png": "[encoded data removed]"
          },
          "metadata": {}
        }
      ]
    },
    {
      "cell_type": "markdown",
      "source": [
        "Evaluación sobre el Conjunto de Evaluación"
      ],
      "metadata": {
        "id": "0Lec15MtcKhf"
      }
    },
    {
      "cell_type": "code",
      "source": [
        "y_test_p = best_model.predict(X_test)\n",
        "\n",
        "score = best_model.score(X_test, y_test)\n",
        "print(\"Test score: \", score) \n",
        "\n",
        "print(classification_report(y_test, y_test_p))\n",
        "\n",
        "acs =  accuracy_score(y_test,y_test_p) \n",
        "rs  =    recall_score(y_test,y_test_p, average=None) \n",
        "ps  = precision_score(y_test,y_test_p, average=None)\n",
        "f1  =        f1_score(y_test,y_test_p, average=None)\n",
        "print(\"Accuracy:  \",acs)\n",
        "print(\"Precision: \",ps)\n",
        "print(\"Recall:    \",rs)\n",
        "print(\"F1:        \",f1)\n",
        "\n",
        "cm = confusion_matrix(y_test, y_test_p)\n",
        "plt.figure(1, figsize=(6, 5))\n",
        "plt.title(\"Matriz de Confusión: Conjunto Test\" )\n",
        "labels = [\"0\", \"1\"] \n",
        "sns.set(font_scale=1)\n",
        "ax = sns.heatmap(cm.T, annot=True, fmt='.1f') \n",
        "ax.set_xticklabels(labels)\n",
        "ax.set_yticklabels(labels) \n",
        "ax.set(ylabel=\"Etiqueta Predicha\", xlabel=\"Etiqueta Verdadera\")"
      ],
      "metadata": {
        "id": "ZwxbQ8dXcKhf",
        "colab": {
          "base_uri": "https://localhost:8080/",
          "height": 629
        },
        "outputId": "b51d9aff-be9f-4980-ac27-62b87b016d78"
      },
      "execution_count": null,
      "outputs": [
        {
          "output_type": "stream",
          "name": "stdout",
          "text": [
            "Test score:  0.8382749326145552\n",
            "              precision    recall  f1-score   support\n",
            "\n",
            "           0       0.91      0.89      0.90       313\n",
            "           1       0.48      0.55      0.52        58\n",
            "\n",
            "    accuracy                           0.84       371\n",
            "   macro avg       0.70      0.72      0.71       371\n",
            "weighted avg       0.85      0.84      0.84       371\n",
            "\n",
            "Accuracy:   0.8382749326145552\n",
            "Precision:  [0.9147541  0.48484848]\n",
            "Recall:     [0.8913738  0.55172414]\n",
            "F1:         [0.90291262 0.51612903]\n"
          ]
        },
        {
          "output_type": "execute_result",
          "data": {
            "text/plain": [
              "[Text(30.5, 0.5, 'Etiqueta Predicha'), Text(0.5, 21.5, 'Etiqueta Verdadera')]"
            ]
          },
          "metadata": {},
          "execution_count": 14
        },
        {
          "output_type": "display_data",
          "data": {
            "text/plain": [
              "<Figure size 432x360 with 2 Axes>"
            ],
            "image/png": "[encoded data removed]"
          },
          "metadata": {}
        }
      ]
    },
    {
      "cell_type": "markdown",
      "source": [
        "Conclusion: Se puede apreciar de los resultados obtenidos sobre los test de Evaluacion que nuestro modelo brinda metricas muy aceptables para la clase 0 - Paga, observando Precision, Recall, F1 se obtienen valores muy buenos. Como asi tambien el Accuracy es bastante aceptable.<br> Por otro lado, para la clase 1 - No Paga las metricas no son del todo aceptables.<br> En la Matriz de Confusion se puede ver claramente oscurecido la zona indicada."
      ],
      "metadata": {
        "id": "mGPHdIgwwrcs"
      }
    },
    {
      "cell_type": "markdown",
      "metadata": {
        "id": "3Cr9rm4waurf"
      },
      "source": [
        "## Ejercicio 3: Árboles de Decisión\n",
        "\n",
        "En este ejercicio se entrenarán árboles de decisión para predecir la variable objetivo.\n",
        "\n",
        "Para ello, deberán utilizar la clase DecisionTreeClassifier de scikit-learn.\n",
        "\n",
        "Documentación:\n",
        "- https://scikit-learn.org/stable/modules/tree.html\n",
        "  - https://scikit-learn.org/stable/modules/tree.html#tips-on-practical-use\n",
        "- https://scikit-learn.org/stable/modules/generated/sklearn.tree.DecisionTreeClassifier.html\n",
        "- https://scikit-learn.org/stable/auto_examples/tree/plot_unveil_tree_structure.html"
      ]
    },
    {
      "cell_type": "markdown",
      "metadata": {
        "id": "1yuFHZBtaurg"
      },
      "source": [
        "### Ejercicio 3.1: DecisionTreeClassifier con hiperparámetros por defecto\n",
        "\n",
        "Entrenar y evaluar el clasificador DecisionTreeClassifier usando los valores por omisión de scikit-learn para todos los parámetros. Únicamente **fijar la semilla aleatoria** para hacer repetible el experimento.\n",
        "\n",
        "Evaluar sobre el conjunto de **entrenamiento** y sobre el conjunto de **evaluación**, reportando:\n",
        "- Accuracy\n",
        "- Precision\n",
        "- Recall\n",
        "- F1\n",
        "- matriz de confusión\n"
      ]
    },
    {
      "cell_type": "markdown",
      "source": [
        "#### Entrenamiento del Modelo"
      ],
      "metadata": {
        "id": "Rivpj_omzUoY"
      }
    },
    {
      "cell_type": "code",
      "source": [
        "from sklearn import tree\n",
        "from sklearn.tree import DecisionTreeClassifier\n",
        "clf = DecisionTreeClassifier(random_state=0)  #creamos el modelo con todos sus hiperparametros por default\n",
        "arbol=clf.fit(X_train, y_train) #entrenamos el modelo creado\n",
        "\n"
      ],
      "metadata": {
        "id": "CGzq4HbXziem"
      },
      "execution_count": null,
      "outputs": []
    },
    {
      "cell_type": "code",
      "source": [
        "accurecy=clf.score(X_test, y_test)\n",
        "print('Accurecy:', accurecy)"
      ],
      "metadata": {
        "colab": {
          "base_uri": "https://localhost:8080/"
        },
        "id": "tH-QmoTzHNWq",
        "outputId": "fb6a6f03-1f74-4b24-ef9b-781277d3b4cf"
      },
      "execution_count": null,
      "outputs": [
        {
          "output_type": "stream",
          "name": "stdout",
          "text": [
            "Accurecy: 0.8814016172506739\n"
          ]
        }
      ]
    },
    {
      "cell_type": "markdown",
      "source": [
        "Como se puede apreciar si bien la accurency es bastante buena con los parametros por default,sin embargo  ha sobreajustado dado que tomo todos los datos de entrenamiento para la clasificacion. <br>Por otro lado se debe tener en cuenta que las clases estan desbalanceadas. "
      ],
      "metadata": {
        "id": "RZV-m7GcJSvc"
      }
    },
    {
      "cell_type": "markdown",
      "source": [
        "Evaluación sobre el Conjunto de Entrenamiento"
      ],
      "metadata": {
        "id": "Y7vwhwdj23qe"
      }
    },
    {
      "cell_type": "code",
      "source": [
        "#usamos la clase predict para predecir y luego usamos las  metricas para ver cuan bien anduvo el clasificador.\n",
        "\n",
        "y_train_pred = clf.predict(X_train)\n",
        "y_test_pred = clf.predict(X_test)"
      ],
      "metadata": {
        "id": "rnVf9PL-6f-Z"
      },
      "execution_count": null,
      "outputs": []
    },
    {
      "cell_type": "code",
      "source": [
        "\n",
        "from sklearn.metrics import accuracy_score, confusion_matrix, precision_score, recall_score, f1_score\n",
        "from sklearn.metrics import classification_report\n",
        "from sklearn.metrics import confusion_matrix\n",
        "\n",
        "print(classification_report(y_train, y_train_pred)) \n",
        "\n",
        "acs =  accuracy_score(y_train,y_train_pred) \n",
        "rs  =    recall_score(y_train,y_train_pred, average=None) \n",
        "ps  = precision_score(y_train,y_train_pred, average=None)\n",
        "f1  =        f1_score(y_train,y_train_pred, average=None)\n",
        "print(\"Accuracy:  \",acs)\n",
        "print(\"Precision: \",ps)\n",
        "print(\"Recall:    \",rs)\n",
        "print(\"F1:        \",f1)\n",
        "\n",
        "cm = confusion_matrix(y_train, y_train_pred)\n",
        "plt.figure(1, figsize=(6, 5))\n",
        "plt.title(\"Matriz de Confusión: Conjunto Train\" )\n",
        "labels = [\"0\", \"1\"] \n",
        "sns.set(font_scale=1)\n",
        "ax = sns.heatmap(cm.T, annot=True, fmt='.1f') \n",
        "ax.set_xticklabels(labels)\n",
        "ax.set_yticklabels(labels) \n",
        "ax.set(ylabel=\"Etiqueta Predicha\", xlabel=\"Etiqueta Verdadera\")\n",
        "\n"
      ],
      "metadata": {
        "colab": {
          "base_uri": "https://localhost:8080/",
          "height": 610
        },
        "id": "F1SBSUCC3PgW",
        "outputId": "6bd5f86e-6e46-4bcb-9a15-4060dc087af5"
      },
      "execution_count": null,
      "outputs": [
        {
          "output_type": "stream",
          "name": "stdout",
          "text": [
            "              precision    recall  f1-score   support\n",
            "\n",
            "           0       1.00      1.00      1.00      1232\n",
            "           1       1.00      1.00      1.00       251\n",
            "\n",
            "    accuracy                           1.00      1483\n",
            "   macro avg       1.00      1.00      1.00      1483\n",
            "weighted avg       1.00      1.00      1.00      1483\n",
            "\n",
            "Accuracy:   1.0\n",
            "Precision:  [1. 1.]\n",
            "Recall:     [1. 1.]\n",
            "F1:         [1. 1.]\n"
          ]
        },
        {
          "output_type": "execute_result",
          "data": {
            "text/plain": [
              "[Text(30.5, 0.5, 'Etiqueta Predicha'), Text(0.5, 21.5, 'Etiqueta Verdadera')]"
            ]
          },
          "metadata": {},
          "execution_count": 18
        },
        {
          "output_type": "display_data",
          "data": {
            "text/plain": [
              "<Figure size 432x360 with 2 Axes>"
            ],
            "image/png": "[encoded data removed]"
          },
          "metadata": {}
        }
      ]
    },
    {
      "cell_type": "markdown",
      "source": [
        "Como se puede ver para la matriz de confusion el arbol a clasificado en foma perfecta, las celdas de Verdaderos Negativos, Verdaderos Positivos estan con todos sus valores mientras que las celdas de Falsos Negativos y Falsos Positivos tienen valor cero, a su vez las metricas de accuracy, precision, Recall y F1 dan 1, esto en realidad no es correcto dado que nuestro arbol a hecho un sobre ajuste.<br> Como mencionamos anteriormente al estar nuestro arbol sobre ajustado, para realizar predicciones a futuro tendra un error muy alto debido a este sobre ajuste. Razon por la cual debemos realizar un ajuste de Hiperparametros para encontrar el mejor modelo de prediccion. "
      ],
      "metadata": {
        "id": "ak0RERx-YIZj"
      }
    },
    {
      "cell_type": "markdown",
      "metadata": {
        "id": "uCzMRfzPaurg"
      },
      "source": [
        "### Ejercicio 3.2: Ajuste de Hiperparámetros\n",
        "\n",
        "Seleccionar valores para los hiperparámetros principales del DecisionTreeClassifier. Como mínimo, probar diferentes criterios de partición (criterion), profundidad máxima del árbol (max_depth), y cantidad mínima de samples por hoja (min_samples_leaf).\n",
        "\n",
        "Para ello, usar grid-search y 5-fold cross-validation sobre el conjunto de entrenamiento para explorar muchas combinaciones posibles de valores.\n",
        "\n",
        "Reportar accuracy promedio y varianza para todas las configuraciones.\n",
        "\n",
        "Para la mejor configuración encontrada, evaluar sobre el conjunto de **entrenamiento** y sobre el conjunto de **evaluación**, reportando:\n",
        "- Accuracy\n",
        "- Precision\n",
        "- Recall\n",
        "- F1\n",
        "- matriz de confusión\n",
        "\n",
        "\n",
        "Documentación:\n",
        "- https://scikit-learn.org/stable/modules/grid_search.html\n",
        "- https://scikit-learn.org/stable/modules/generated/sklearn.model_selection.GridSearchCV.html"
      ]
    },
    {
      "cell_type": "markdown",
      "source": [
        "Entrenamos con los distintos hiperparámetros:\n"
      ],
      "metadata": {
        "id": "cWkBWDug7VEv"
      }
    },
    {
      "cell_type": "code",
      "source": [
        "#Ajustaremos nuestro arbol considerando los parametros criterion, max_depth, min_samples_leaf\n",
        "from sklearn.model_selection import GridSearchCV\n",
        "\n",
        "param_grid = {\n",
        "    \"criterion\": [\"gini\", \"entropy\", \"log_loss\"],\n",
        "    \"max_depth\":range(2,3),\n",
        "     'min_samples_leaf':range(30,40,50)}\n",
        "\n",
        "gs = GridSearchCV(clf, param_grid, cv=5)# refit=\"AUC\",  n_jobs=2, return_train_score=True,)\n",
        "gs.fit(X_train, y_train)\n",
        "\n"
      ],
      "metadata": {
        "colab": {
          "base_uri": "https://localhost:8080/"
        },
        "id": "zUwsz64mjIqu",
        "outputId": "776315b0-10fd-47c4-d6e8-f13b50f5d249"
      },
      "execution_count": null,
      "outputs": [
        {
          "output_type": "stream",
          "name": "stderr",
          "text": [
            "/usr/local/lib/python3.7/dist-packages/sklearn/model_selection/_validation.py:372: FitFailedWarning: \n",
            "5 fits failed out of a total of 15.\n",
            "The score on these train-test partitions for these parameters will be set to nan.\n",
            "If these failures are not expected, you can try to debug them by setting error_score='raise'.\n",
            "\n",
            "Below are more details about the failures:\n",
            "--------------------------------------------------------------------------------\n",
            "5 fits failed with the following error:\n",
            "Traceback (most recent call last):\n",
            "  File \"/usr/local/lib/python3.7/dist-packages/sklearn/model_selection/_validation.py\", line 680, in _fit_and_score\n",
            "    estimator.fit(X_train, y_train, **fit_params)\n",
            "  File \"/usr/local/lib/python3.7/dist-packages/sklearn/tree/_classes.py\", line 942, in fit\n",
            "    X_idx_sorted=X_idx_sorted,\n",
            "  File \"/usr/local/lib/python3.7/dist-packages/sklearn/tree/_classes.py\", line 352, in fit\n",
            "    criterion = CRITERIA_CLF[self.criterion](\n",
            "KeyError: 'log_loss'\n",
            "\n",
            "  warnings.warn(some_fits_failed_message, FitFailedWarning)\n",
            "/usr/local/lib/python3.7/dist-packages/sklearn/model_selection/_search.py:972: UserWarning: One or more of the test scores are non-finite: [0.86919419 0.86919419        nan]\n",
            "  category=UserWarning,\n"
          ]
        },
        {
          "output_type": "execute_result",
          "data": {
            "text/plain": [
              "GridSearchCV(cv=5, estimator=DecisionTreeClassifier(random_state=0),\n",
              "             param_grid={'criterion': ['gini', 'entropy', 'log_loss'],\n",
              "                         'max_depth': range(2, 3),\n",
              "                         'min_samples_leaf': range(30, 40, 50)})"
            ]
          },
          "metadata": {},
          "execution_count": 19
        }
      ]
    },
    {
      "cell_type": "markdown",
      "source": [
        "Reportamos la accuracy promedio y varianza para todas las configuraciones:"
      ],
      "metadata": {
        "id": "5oFp9_9G9DIP"
      }
    },
    {
      "cell_type": "code",
      "source": [
        "\n",
        "results = gs.cv_results_\n",
        "\n",
        "df_clf = pd.DataFrame(results)\n",
        "df_clf.sort_values('rank_test_score')[:10]"
      ],
      "metadata": {
        "colab": {
          "base_uri": "https://localhost:8080/",
          "height": 381
        },
        "id": "teZzU8OKsXkK",
        "outputId": "d6099cbe-48dd-4112-fb90-667946dcb5d6"
      },
      "execution_count": null,
      "outputs": [
        {
          "output_type": "execute_result",
          "data": {
            "text/plain": [
              "   mean_fit_time  std_fit_time  mean_score_time  std_score_time  \\\n",
              "0       0.005421      0.001561         0.002293        0.000487   \n",
              "1       0.006038      0.000728         0.002272        0.000462   \n",
              "2       0.003293      0.000434         0.000000        0.000000   \n",
              "\n",
              "  param_criterion param_max_depth param_min_samples_leaf  \\\n",
              "0            gini               2                     30   \n",
              "1         entropy               2                     30   \n",
              "2        log_loss               2                     30   \n",
              "\n",
              "                                              params  split0_test_score  \\\n",
              "0  {'criterion': 'gini', 'max_depth': 2, 'min_sam...           0.858586   \n",
              "1  {'criterion': 'entropy', 'max_depth': 2, 'min_...           0.858586   \n",
              "2  {'criterion': 'log_loss', 'max_depth': 2, 'min...                NaN   \n",
              "\n",
              "   split1_test_score  split2_test_score  split3_test_score  split4_test_score  \\\n",
              "0           0.861953           0.872054           0.885135           0.868243   \n",
              "1           0.861953           0.872054           0.885135           0.868243   \n",
              "2                NaN                NaN                NaN                NaN   \n",
              "\n",
              "   mean_test_score  std_test_score  rank_test_score  \n",
              "0         0.869194        0.009254                1  \n",
              "1         0.869194        0.009254                1  \n",
              "2              NaN             NaN                3  "
            ],
            "text/html": [
              "\n",
              "  <div id=\"df-4ba2c91b-d8dc-44ff-a6e4-53f7404e1df5\">\n",
              "    <div class=\"colab-df-container\">\n",
              "      <div>\n",
              "<style scoped>\n",
              "    .dataframe tbody tr th:only-of-type {\n",
              "        vertical-align: middle;\n",
              "    }\n",
              "\n",
              "    .dataframe tbody tr th {\n",
              "        vertical-align: top;\n",
              "    }\n",
              "\n",
              "    .dataframe thead th {\n",
              "        text-align: right;\n",
              "    }\n",
              "</style>\n",
              "<table border=\"1\" class=\"dataframe\">\n",
              "  <thead>\n",
              "    <tr style=\"text-align: right;\">\n",
              "      <th></th>\n",
              "      <th>mean_fit_time</th>\n",
              "      <th>std_fit_time</th>\n",
              "      <th>mean_score_time</th>\n",
              "      <th>std_score_time</th>\n",
              "      <th>param_criterion</th>\n",
              "      <th>param_max_depth</th>\n",
              "      <th>param_min_samples_leaf</th>\n",
              "      <th>params</th>\n",
              "      <th>split0_test_score</th>\n",
              "      <th>split1_test_score</th>\n",
              "      <th>split2_test_score</th>\n",
              "      <th>split3_test_score</th>\n",
              "      <th>split4_test_score</th>\n",
              "      <th>mean_test_score</th>\n",
              "      <th>std_test_score</th>\n",
              "      <th>rank_test_score</th>\n",
              "    </tr>\n",
              "  </thead>\n",
              "  <tbody>\n",
              "    <tr>\n",
              "      <th>0</th>\n",
              "      <td>0.005421</td>\n",
              "      <td>0.001561</td>\n",
              "      <td>0.002293</td>\n",
              "      <td>0.000487</td>\n",
              "      <td>gini</td>\n",
              "      <td>2</td>\n",
              "      <td>30</td>\n",
              "      <td>{'criterion': 'gini', 'max_depth': 2, 'min_sam...</td>\n",
              "      <td>0.858586</td>\n",
              "      <td>0.861953</td>\n",
              "      <td>0.872054</td>\n",
              "      <td>0.885135</td>\n",
              "      <td>0.868243</td>\n",
              "      <td>0.869194</td>\n",
              "      <td>0.009254</td>\n",
              "      <td>1</td>\n",
              "    </tr>\n",
              "    <tr>\n",
              "      <th>1</th>\n",
              "      <td>0.006038</td>\n",
              "      <td>0.000728</td>\n",
              "      <td>0.002272</td>\n",
              "      <td>0.000462</td>\n",
              "      <td>entropy</td>\n",
              "      <td>2</td>\n",
              "      <td>30</td>\n",
              "      <td>{'criterion': 'entropy', 'max_depth': 2, 'min_...</td>\n",
              "      <td>0.858586</td>\n",
              "      <td>0.861953</td>\n",
              "      <td>0.872054</td>\n",
              "      <td>0.885135</td>\n",
              "      <td>0.868243</td>\n",
              "      <td>0.869194</td>\n",
              "      <td>0.009254</td>\n",
              "      <td>1</td>\n",
              "    </tr>\n",
              "    <tr>\n",
              "      <th>2</th>\n",
              "      <td>0.003293</td>\n",
              "      <td>0.000434</td>\n",
              "      <td>0.000000</td>\n",
              "      <td>0.000000</td>\n",
              "      <td>log_loss</td>\n",
              "      <td>2</td>\n",
              "      <td>30</td>\n",
              "      <td>{'criterion': 'log_loss', 'max_depth': 2, 'min...</td>\n",
              "      <td>NaN</td>\n",
              "      <td>NaN</td>\n",
              "      <td>NaN</td>\n",
              "      <td>NaN</td>\n",
              "      <td>NaN</td>\n",
              "      <td>NaN</td>\n",
              "      <td>NaN</td>\n",
              "      <td>3</td>\n",
              "    </tr>\n",
              "  </tbody>\n",
              "</table>\n",
              "</div>\n",
              "      <button class=\"colab-df-convert\" onclick=\"convertToInteractive('df-4ba2c91b-d8dc-44ff-a6e4-53f7404e1df5')\"\n",
              "              title=\"Convert this dataframe to an interactive table.\"\n",
              "              style=\"display:none;\">\n",
              "        \n",
              "  <svg xmlns=\"http://www.w3.org/2000/svg\" height=\"24px\"viewBox=\"0 0 24 24\"\n",
              "       width=\"24px\">\n",
              "    <path d=\"M0 0h24v24H0V0z\" fill=\"none\"/>\n",
              "    <path d=\"M18.56 5.44l.94 2.06.94-2.06 2.06-.94-2.06-.94-.94-2.06-.94 2.06-2.06.94zm-11 1L8.5 8.5l.94-2.06 2.06-.94-2.06-.94L8.5 2.5l-.94 2.06-2.06.94zm10 10l.94 2.06.94-2.06 2.06-.94-2.06-.94-.94-2.06-.94 2.06-2.06.94z\"/><path d=\"M17.41 7.96l-1.37-1.37c-.4-.4-.92-.59-1.43-.59-.52 0-1.04.2-1.43.59L10.3 9.45l-7.72 7.72c-.78.78-.78 2.05 0 2.83L4 21.41c.39.39.9.59 1.41.59.51 0 1.02-.2 1.41-.59l7.78-7.78 2.81-2.81c.8-.78.8-2.07 0-2.86zM5.41 20L4 18.59l7.72-7.72 1.47 1.35L5.41 20z\"/>\n",
              "  </svg>\n",
              "      </button>\n",
              "      \n",
              "  <style>\n",
              "    .colab-df-container {\n",
              "      display:flex;\n",
              "      flex-wrap:wrap;\n",
              "      gap: 12px;\n",
              "    }\n",
              "\n",
              "    .colab-df-convert {\n",
              "      background-color: #E8F0FE;\n",
              "      border: none;\n",
              "      border-radius: 50%;\n",
              "      cursor: pointer;\n",
              "      display: none;\n",
              "      fill: #1967D2;\n",
              "      height: 32px;\n",
              "      padding: 0 0 0 0;\n",
              "      width: 32px;\n",
              "    }\n",
              "\n",
              "    .colab-df-convert:hover {\n",
              "      background-color: #E2EBFA;\n",
              "      box-shadow: 0px 1px 2px rgba(60, 64, 67, 0.3), 0px 1px 3px 1px rgba(60, 64, 67, 0.15);\n",
              "      fill: #174EA6;\n",
              "    }\n",
              "\n",
              "    [theme=dark] .colab-df-convert {\n",
              "      background-color: #3B4455;\n",
              "      fill: #D2E3FC;\n",
              "    }\n",
              "\n",
              "    [theme=dark] .colab-df-convert:hover {\n",
              "      background-color: #434B5C;\n",
              "      box-shadow: 0px 1px 3px 1px rgba(0, 0, 0, 0.15);\n",
              "      filter: drop-shadow(0px 1px 2px rgba(0, 0, 0, 0.3));\n",
              "      fill: #FFFFFF;\n",
              "    }\n",
              "  </style>\n",
              "\n",
              "      <script>\n",
              "        const buttonEl =\n",
              "          document.querySelector('#df-4ba2c91b-d8dc-44ff-a6e4-53f7404e1df5 button.colab-df-convert');\n",
              "        buttonEl.style.display =\n",
              "          google.colab.kernel.accessAllowed ? 'block' : 'none';\n",
              "\n",
              "        async function convertToInteractive(key) {\n",
              "          const element = document.querySelector('#df-4ba2c91b-d8dc-44ff-a6e4-53f7404e1df5');\n",
              "          const dataTable =\n",
              "            await google.colab.kernel.invokeFunction('convertToInteractive',\n",
              "                                                     [key], {});\n",
              "          if (!dataTable) return;\n",
              "\n",
              "          const docLinkHtml = 'Like what you see? Visit the ' +\n",
              "            '<a target=\"_blank\" href=https://colab.research.google.com/notebooks/data_table.ipynb>data table notebook</a>'\n",
              "            + ' to learn more about interactive tables.';\n",
              "          element.innerHTML = '';\n",
              "          dataTable['output_type'] = 'display_data';\n",
              "          await google.colab.output.renderOutput(dataTable, element);\n",
              "          const docLink = document.createElement('div');\n",
              "          docLink.innerHTML = docLinkHtml;\n",
              "          element.appendChild(docLink);\n",
              "        }\n",
              "      </script>\n",
              "    </div>\n",
              "  </div>\n",
              "  "
            ]
          },
          "metadata": {},
          "execution_count": 20
        }
      ]
    },
    {
      "cell_type": "markdown",
      "source": [
        "Seleccionamos el mejor estimador:"
      ],
      "metadata": {
        "id": "KsNhJMDB9V7E"
      }
    },
    {
      "cell_type": "code",
      "source": [
        "best_model_tree = gs.best_estimator_\n",
        "print('Mejor Estimador', gs.best_estimator_)\n"
      ],
      "metadata": {
        "colab": {
          "base_uri": "https://localhost:8080/"
        },
        "id": "3-AzxcwI6J4M",
        "outputId": "61f47c2d-7d8d-4000-ed5a-58428c28202f"
      },
      "execution_count": null,
      "outputs": [
        {
          "output_type": "stream",
          "name": "stdout",
          "text": [
            "Mejor Estimador DecisionTreeClassifier(max_depth=2, min_samples_leaf=30, random_state=0)\n"
          ]
        }
      ]
    },
    {
      "cell_type": "markdown",
      "source": [
        "Evaluación sobre el Conjunto de Entrenamiento"
      ],
      "metadata": {
        "id": "tnnQDIdT93dS"
      }
    },
    {
      "cell_type": "code",
      "source": [
        "y_train_p_tree = best_model_tree.predict(X_train)\n",
        "\n",
        "score = best_model_tree.score(X_train, y_train)\n",
        "print(\"Training score: \", score) \n",
        "\n",
        "print(classification_report(y_train, y_train_p_tree)) \n",
        "\n",
        "acs =  accuracy_score(y_train,y_train_p_tree) \n",
        "rs  =    recall_score(y_train,y_train_p_tree, average=None) \n",
        "ps  = precision_score(y_train,y_train_p_tree, average=None)\n",
        "f1  =        f1_score(y_train,y_train_p_tree, average=None)\n",
        "print(\"Accuracy:  \",acs)\n",
        "print(\"Precision: \",ps)\n",
        "print(\"Recall:    \",rs)\n",
        "print(\"F1:        \",f1)\n",
        "\n",
        "cm = confusion_matrix(y_train, y_train_p_tree)\n",
        "plt.figure(1, figsize=(6, 5))\n",
        "plt.title(\"Matriz de Confusión: Conjunto Train\" )\n",
        "labels = [\"0\", \"1\"] \n",
        "sns.set(font_scale=1)\n",
        "ax = sns.heatmap(cm.T, annot=True, fmt='.1f') \n",
        "ax.set_xticklabels(labels)\n",
        "ax.set_yticklabels(labels) \n",
        "ax.set(ylabel=\"Etiqueta Predicha\", xlabel=\"Etiqueta Verdadera\")"
      ],
      "metadata": {
        "colab": {
          "base_uri": "https://localhost:8080/",
          "height": 629
        },
        "id": "DLVogih393EC",
        "outputId": "27bf6142-c4fe-4ae0-e607-b80a27b870ca"
      },
      "execution_count": null,
      "outputs": [
        {
          "output_type": "stream",
          "name": "stdout",
          "text": [
            "Training score:  0.8712070128118679\n",
            "              precision    recall  f1-score   support\n",
            "\n",
            "           0       0.87      0.99      0.93      1232\n",
            "           1       0.91      0.27      0.41       251\n",
            "\n",
            "    accuracy                           0.87      1483\n",
            "   macro avg       0.89      0.63      0.67      1483\n",
            "weighted avg       0.88      0.87      0.84      1483\n",
            "\n",
            "Accuracy:   0.8712070128118679\n",
            "Precision:  [0.86941093 0.90540541]\n",
            "Recall:     [0.99431818 0.26693227]\n",
            "F1:         [0.92767891 0.41230769]\n"
          ]
        },
        {
          "output_type": "execute_result",
          "data": {
            "text/plain": [
              "[Text(30.5, 0.5, 'Etiqueta Predicha'), Text(0.5, 21.5, 'Etiqueta Verdadera')]"
            ]
          },
          "metadata": {},
          "execution_count": 22
        },
        {
          "output_type": "display_data",
          "data": {
            "text/plain": [
              "<Figure size 432x360 with 2 Axes>"
            ],
            "image/png": "[encoded data removed]"
          },
          "metadata": {}
        }
      ]
    },
    {
      "cell_type": "markdown",
      "source": [
        "Evaluamos el conjunto de Validacion"
      ],
      "metadata": {
        "id": "MJLtseMh-fnZ"
      }
    },
    {
      "cell_type": "code",
      "source": [
        "y_test_p_tree = best_model_tree.predict(X_test)\n",
        "\n",
        "score = best_model_tree.score(X_test, y_test)\n",
        "print(\"Test score: \", score) \n",
        "\n",
        "print(classification_report(y_test, y_test_p_tree))\n",
        "\n",
        "acs =  accuracy_score(y_test,y_test_p_tree) \n",
        "rs  =    recall_score(y_test,y_test_p_tree, average=None) \n",
        "ps  = precision_score(y_test,y_test_p_tree, average=None)\n",
        "f1  =        f1_score(y_test,y_test_p_tree, average=None)\n",
        "print(\"Accuracy:  \",acs)\n",
        "print(\"Precision: \",ps)\n",
        "print(\"Recall:    \",rs)\n",
        "print(\"F1:        \",f1)\n",
        "\n",
        "cm = confusion_matrix(y_test, y_test_p_tree)\n",
        "plt.figure(1, figsize=(6, 5))\n",
        "plt.title(\"Matriz de Confusión: Conjunto Test\" )\n",
        "labels = [\"0\", \"1\"] \n",
        "sns.set(font_scale=1)\n",
        "ax = sns.heatmap(cm.T, annot=True, fmt='.1f') \n",
        "ax.set_xticklabels(labels)\n",
        "ax.set_yticklabels(labels) \n",
        "ax.set(ylabel=\"Etiqueta Predicha\", xlabel=\"Etiqueta Verdadera\")"
      ],
      "metadata": {
        "colab": {
          "base_uri": "https://localhost:8080/",
          "height": 629
        },
        "id": "vZE0UM4v-enT",
        "outputId": "69272812-9f23-4070-95ea-f41c14e60dd3"
      },
      "execution_count": null,
      "outputs": [
        {
          "output_type": "stream",
          "name": "stdout",
          "text": [
            "Test score:  0.8814016172506739\n",
            "              precision    recall  f1-score   support\n",
            "\n",
            "           0       0.88      0.99      0.93       313\n",
            "           1       0.85      0.29      0.44        58\n",
            "\n",
            "    accuracy                           0.88       371\n",
            "   macro avg       0.87      0.64      0.68       371\n",
            "weighted avg       0.88      0.88      0.86       371\n",
            "\n",
            "Accuracy:   0.8814016172506739\n",
            "Precision:  [0.88319088 0.85      ]\n",
            "Recall:     [0.99041534 0.29310345]\n",
            "F1:         [0.93373494 0.43589744]\n"
          ]
        },
        {
          "output_type": "execute_result",
          "data": {
            "text/plain": [
              "[Text(30.5, 0.5, 'Etiqueta Predicha'), Text(0.5, 21.5, 'Etiqueta Verdadera')]"
            ]
          },
          "metadata": {},
          "execution_count": 23
        },
        {
          "output_type": "display_data",
          "data": {
            "text/plain": [
              "<Figure size 432x360 with 2 Axes>"
            ],
            "image/png": "[encoded data removed]"
          },
          "metadata": {}
        }
      ]
    },
    {
      "cell_type": "markdown",
      "source": [
        "Como conclusion obtenida de los resultados del test de evaluacion, podemos decir que nuestro clasificador es muy acertivo para la clase 0 - Paga, viendo las metricas de Precision, Recall y F1, su Accuracy tambien es muy buena, no obstante no podemos dejar de mencionar el bajo puntaje obtenido para las clase 1 - No Paga para las metricas mencionadas se muestran valores muy por debajo de lo esperado.<br> En la Matriz de Confusion se puede ver claramente oscurecido la zona indicada."
      ],
      "metadata": {
        "id": "ZeCFCXaHaX6T"
      }
    }
  ],
  "metadata": {
    "kernelspec": {
      "display_name": "Python 3",
      "language": "python",
      "name": "python3"
    },
    "language_info": {
      "codemirror_mode": {
        "name": "ipython",
        "version": 3
      },
      "file_extension": ".py",
      "mimetype": "text/x-python",
      "name": "python",
      "nbconvert_exporter": "python",
      "pygments_lexer": "ipython3",
      "version": "3.8.10"
    },
    "colab": {
      "provenance": [],
      "collapsed_sections": [],
      "toc_visible": true,
      "include_colab_link": true
    }
  },
  "nbformat": 4,
  "nbformat_minor": 0
}