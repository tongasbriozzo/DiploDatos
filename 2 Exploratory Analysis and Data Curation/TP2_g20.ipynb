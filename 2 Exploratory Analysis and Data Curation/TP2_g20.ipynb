{
  "nbformat": 4,
  "nbformat_minor": 0,
  "metadata": {
    "colab": {
      "name": "EyCD_Entregable_Parte_2_g20_VersionFinal.ipynb",
      "provenance": [],
      "collapsed_sections": [],
      "include_colab_link": true
    },
    "kernelspec": {
      "name": "python3",
      "display_name": "Python 3"
    },
    "language_info": {
      "name": "python"
    }
  },
  "cells": [
    {
      "cell_type": "markdown",
      "metadata": {
        "id": "view-in-github",
        "colab_type": "text"
      },
      "source": [
        "<a href=\"https://colab.research.google.com/github/Tommmster/diplodatos-2022-g20/blob/main/entregable2_EyCD/EyCD_Entregable_Parte_2_g20_VersionFinal.ipynb\" target=\"_parent\"><img src=\"https://colab.research.google.com/assets/colab-badge.svg\" alt=\"Open In Colab\"/></a>"
      ]
    },
    {
      "cell_type": "markdown",
      "metadata": {
        "id": "zO4bRoxr2Apy"
      },
      "source": [
        "\n",
        "**Diplomatura en Ciencia de Datos, Aprendizaje Automático y sus Aplicaciones**\n",
        "\n",
        "**Exploración y Curación de Datos**\n",
        "\n",
        "**Edición 2022**\n",
        "\n",
        "---\n",
        "## **Trabajo práctico entregable - Parte 2**\n",
        "---\n",
        "\n",
        "## **Grupo 20**\n",
        "\n",
        "**Integrantes:** Fanny Ruales, Gastón Briozzo, Tomás Niño Kehoe\n",
        "\n",
        "**Profesor de Práctico:** Alejandro García\n",
        "\n",
        "\n",
        "En el ejercicio 2 de la parte 1 del entregable seleccionaron las filas y columnas relevantes al problema de predicción de precios de una propiedad e imputaron los valores faltantes de las columnas `Suburb` y las columnas obtenidas a partir del conjunto de datos `airbnb`.\n",
        "\n",
        "En esta notebook, **se utilizará resultado de dichas operaciones.** que fue guardado en un archivo (Ejercicio 3 entregable 1). \n"
      ]
    },
    {
      "cell_type": "code",
      "metadata": {
        "id": "4udjxjk1EtVU"
      },
      "source": [
        "import matplotlib.pyplot as plt\n",
        "import numpy as np\n",
        "import pandas as pd\n",
        "\n",
        "import seaborn\n",
        "seaborn.set_context('talk')"
      ],
      "execution_count": null,
      "outputs": []
    },
    {
      "cell_type": "code",
      "metadata": {
        "colab": {
          "base_uri": "https://localhost:8080/",
          "height": 207
        },
        "id": "_qeFN3GnEvMk",
        "outputId": "014c993d-38d1-4fff-bf08-0d5b39145863"
      },
      "source": [
        "# Acá se toma el DF obtenido del Entregable 1 ejercicio 2.\n",
        "melb_df = pd.read_csv(\n",
        "    'melb_data_extended.csv')\n",
        "melb_df[:3]"
      ],
      "execution_count": null,
      "outputs": [
        {
          "output_type": "execute_result",
          "data": {
            "text/plain": [
              "       Suburb  Rooms Type      Price  Postcode  Bathroom  Car  Landsize  \\\n",
              "0  Abbotsford      2    h  1480000.0    3067.0       1.0  1.0     202.0   \n",
              "1  Abbotsford      2    h  1035000.0    3067.0       1.0  0.0     156.0   \n",
              "2  Abbotsford      3    h  1465000.0    3067.0       2.0  0.0     134.0   \n",
              "\n",
              "   BuildingArea  YearBuilt CouncilArea  Lattitude  Longtitude  \\\n",
              "0           NaN        NaN       Yarra   -37.7996    144.9984   \n",
              "1          79.0     1900.0       Yarra   -37.8079    144.9934   \n",
              "2         150.0     1900.0       Yarra   -37.8093    144.9944   \n",
              "\n",
              "   airbnb_price_mean  airbnb_weekly_price_mean  airbnb_monthly_price_mean  \n",
              "0         130.624031                605.152174                2187.032258  \n",
              "1         130.624031                605.152174                2187.032258  \n",
              "2         130.624031                605.152174                2187.032258  "
            ],
            "text/html": [
              "\n",
              "  <div id=\"df-c8c52c5a-504b-4eb9-ad09-dd5f6d7ff7dc\">\n",
              "    <div class=\"colab-df-container\">\n",
              "      <div>\n",
              "<style scoped>\n",
              "    .dataframe tbody tr th:only-of-type {\n",
              "        vertical-align: middle;\n",
              "    }\n",
              "\n",
              "    .dataframe tbody tr th {\n",
              "        vertical-align: top;\n",
              "    }\n",
              "\n",
              "    .dataframe thead th {\n",
              "        text-align: right;\n",
              "    }\n",
              "</style>\n",
              "<table border=\"1\" class=\"dataframe\">\n",
              "  <thead>\n",
              "    <tr style=\"text-align: right;\">\n",
              "      <th></th>\n",
              "      <th>Suburb</th>\n",
              "      <th>Rooms</th>\n",
              "      <th>Type</th>\n",
              "      <th>Price</th>\n",
              "      <th>Postcode</th>\n",
              "      <th>Bathroom</th>\n",
              "      <th>Car</th>\n",
              "      <th>Landsize</th>\n",
              "      <th>BuildingArea</th>\n",
              "      <th>YearBuilt</th>\n",
              "      <th>CouncilArea</th>\n",
              "      <th>Lattitude</th>\n",
              "      <th>Longtitude</th>\n",
              "      <th>airbnb_price_mean</th>\n",
              "      <th>airbnb_weekly_price_mean</th>\n",
              "      <th>airbnb_monthly_price_mean</th>\n",
              "    </tr>\n",
              "  </thead>\n",
              "  <tbody>\n",
              "    <tr>\n",
              "      <th>0</th>\n",
              "      <td>Abbotsford</td>\n",
              "      <td>2</td>\n",
              "      <td>h</td>\n",
              "      <td>1480000.0</td>\n",
              "      <td>3067.0</td>\n",
              "      <td>1.0</td>\n",
              "      <td>1.0</td>\n",
              "      <td>202.0</td>\n",
              "      <td>NaN</td>\n",
              "      <td>NaN</td>\n",
              "      <td>Yarra</td>\n",
              "      <td>-37.7996</td>\n",
              "      <td>144.9984</td>\n",
              "      <td>130.624031</td>\n",
              "      <td>605.152174</td>\n",
              "      <td>2187.032258</td>\n",
              "    </tr>\n",
              "    <tr>\n",
              "      <th>1</th>\n",
              "      <td>Abbotsford</td>\n",
              "      <td>2</td>\n",
              "      <td>h</td>\n",
              "      <td>1035000.0</td>\n",
              "      <td>3067.0</td>\n",
              "      <td>1.0</td>\n",
              "      <td>0.0</td>\n",
              "      <td>156.0</td>\n",
              "      <td>79.0</td>\n",
              "      <td>1900.0</td>\n",
              "      <td>Yarra</td>\n",
              "      <td>-37.8079</td>\n",
              "      <td>144.9934</td>\n",
              "      <td>130.624031</td>\n",
              "      <td>605.152174</td>\n",
              "      <td>2187.032258</td>\n",
              "    </tr>\n",
              "    <tr>\n",
              "      <th>2</th>\n",
              "      <td>Abbotsford</td>\n",
              "      <td>3</td>\n",
              "      <td>h</td>\n",
              "      <td>1465000.0</td>\n",
              "      <td>3067.0</td>\n",
              "      <td>2.0</td>\n",
              "      <td>0.0</td>\n",
              "      <td>134.0</td>\n",
              "      <td>150.0</td>\n",
              "      <td>1900.0</td>\n",
              "      <td>Yarra</td>\n",
              "      <td>-37.8093</td>\n",
              "      <td>144.9944</td>\n",
              "      <td>130.624031</td>\n",
              "      <td>605.152174</td>\n",
              "      <td>2187.032258</td>\n",
              "    </tr>\n",
              "  </tbody>\n",
              "</table>\n",
              "</div>\n",
              "      <button class=\"colab-df-convert\" onclick=\"convertToInteractive('df-c8c52c5a-504b-4eb9-ad09-dd5f6d7ff7dc')\"\n",
              "              title=\"Convert this dataframe to an interactive table.\"\n",
              "              style=\"display:none;\">\n",
              "        \n",
              "  <svg xmlns=\"http://www.w3.org/2000/svg\" height=\"24px\"viewBox=\"0 0 24 24\"\n",
              "       width=\"24px\">\n",
              "    <path d=\"M0 0h24v24H0V0z\" fill=\"none\"/>\n",
              "    <path d=\"M18.56 5.44l.94 2.06.94-2.06 2.06-.94-2.06-.94-.94-2.06-.94 2.06-2.06.94zm-11 1L8.5 8.5l.94-2.06 2.06-.94-2.06-.94L8.5 2.5l-.94 2.06-2.06.94zm10 10l.94 2.06.94-2.06 2.06-.94-2.06-.94-.94-2.06-.94 2.06-2.06.94z\"/><path d=\"M17.41 7.96l-1.37-1.37c-.4-.4-.92-.59-1.43-.59-.52 0-1.04.2-1.43.59L10.3 9.45l-7.72 7.72c-.78.78-.78 2.05 0 2.83L4 21.41c.39.39.9.59 1.41.59.51 0 1.02-.2 1.41-.59l7.78-7.78 2.81-2.81c.8-.78.8-2.07 0-2.86zM5.41 20L4 18.59l7.72-7.72 1.47 1.35L5.41 20z\"/>\n",
              "  </svg>\n",
              "      </button>\n",
              "      \n",
              "  <style>\n",
              "    .colab-df-container {\n",
              "      display:flex;\n",
              "      flex-wrap:wrap;\n",
              "      gap: 12px;\n",
              "    }\n",
              "\n",
              "    .colab-df-convert {\n",
              "      background-color: #E8F0FE;\n",
              "      border: none;\n",
              "      border-radius: 50%;\n",
              "      cursor: pointer;\n",
              "      display: none;\n",
              "      fill: #1967D2;\n",
              "      height: 32px;\n",
              "      padding: 0 0 0 0;\n",
              "      width: 32px;\n",
              "    }\n",
              "\n",
              "    .colab-df-convert:hover {\n",
              "      background-color: #E2EBFA;\n",
              "      box-shadow: 0px 1px 2px rgba(60, 64, 67, 0.3), 0px 1px 3px 1px rgba(60, 64, 67, 0.15);\n",
              "      fill: #174EA6;\n",
              "    }\n",
              "\n",
              "    [theme=dark] .colab-df-convert {\n",
              "      background-color: #3B4455;\n",
              "      fill: #D2E3FC;\n",
              "    }\n",
              "\n",
              "    [theme=dark] .colab-df-convert:hover {\n",
              "      background-color: #434B5C;\n",
              "      box-shadow: 0px 1px 3px 1px rgba(0, 0, 0, 0.15);\n",
              "      filter: drop-shadow(0px 1px 2px rgba(0, 0, 0, 0.3));\n",
              "      fill: #FFFFFF;\n",
              "    }\n",
              "  </style>\n",
              "\n",
              "      <script>\n",
              "        const buttonEl =\n",
              "          document.querySelector('#df-c8c52c5a-504b-4eb9-ad09-dd5f6d7ff7dc button.colab-df-convert');\n",
              "        buttonEl.style.display =\n",
              "          google.colab.kernel.accessAllowed ? 'block' : 'none';\n",
              "\n",
              "        async function convertToInteractive(key) {\n",
              "          const element = document.querySelector('#df-c8c52c5a-504b-4eb9-ad09-dd5f6d7ff7dc');\n",
              "          const dataTable =\n",
              "            await google.colab.kernel.invokeFunction('convertToInteractive',\n",
              "                                                     [key], {});\n",
              "          if (!dataTable) return;\n",
              "\n",
              "          const docLinkHtml = 'Like what you see? Visit the ' +\n",
              "            '<a target=\"_blank\" href=https://colab.research.google.com/notebooks/data_table.ipynb>data table notebook</a>'\n",
              "            + ' to learn more about interactive tables.';\n",
              "          element.innerHTML = '';\n",
              "          dataTable['output_type'] = 'display_data';\n",
              "          await google.colab.output.renderOutput(dataTable, element);\n",
              "          const docLink = document.createElement('div');\n",
              "          docLink.innerHTML = docLinkHtml;\n",
              "          element.appendChild(docLink);\n",
              "        }\n",
              "      </script>\n",
              "    </div>\n",
              "  </div>\n",
              "  "
            ]
          },
          "metadata": {},
          "execution_count": 2
        }
      ]
    },
    {
      "cell_type": "code",
      "source": [
        "melb_df.columns"
      ],
      "metadata": {
        "id": "CDoWSDuMJ8hc",
        "colab": {
          "base_uri": "https://localhost:8080/"
        },
        "outputId": "19ec8412-cef6-4c28-f424-565237425b07"
      },
      "execution_count": null,
      "outputs": [
        {
          "output_type": "execute_result",
          "data": {
            "text/plain": [
              "Index(['Suburb', 'Rooms', 'Type', 'Price', 'Postcode', 'Bathroom', 'Car',\n",
              "       'Landsize', 'BuildingArea', 'YearBuilt', 'CouncilArea', 'Lattitude',\n",
              "       'Longtitude', 'airbnb_price_mean', 'airbnb_weekly_price_mean',\n",
              "       'airbnb_monthly_price_mean'],\n",
              "      dtype='object')"
            ]
          },
          "metadata": {},
          "execution_count": 3
        }
      ]
    },
    {
      "cell_type": "code",
      "source": [
        "#seteamos visualizacion \n",
        "pd.options.display.float_format = '{:.2f}'.format\n",
        "\n",
        "pd.set_option('display.float_format', lambda x: '%.2f' % x)"
      ],
      "metadata": {
        "id": "UAbGvVG7YcgY"
      },
      "execution_count": null,
      "outputs": []
    },
    {
      "cell_type": "markdown",
      "source": [
        "# Ejercicio de Imputacion\n",
        "1. Imputar los valores faltantes de la columna CouncilArea en base a la información presente en Suburb. (Si en el punto anterior no seleccionó ninguna de estas variables, agréguelas ahora al conjunto de datos).\n",
        "2. Imputar los valores faltantes de la(s) columna(s) que se agregaron a partir del conjunto de datos de AirBnB\n"
      ],
      "metadata": {
        "id": "UkFNdMw_JnED"
      }
    },
    {
      "cell_type": "markdown",
      "source": [
        "<font color='MediumBlue'>\n",
        "Como sabemos CouncilArea es una variable categoria que informa los districtos a la que pertenece cada propiedad. Y podemos decir que cada districto posee su correspondiente codigo postal relacionado. Partiendo de esta premisa vamos a obtener los valores faltantes del dato CouncilArea para el desarrollo de este punto. "
      ],
      "metadata": {
        "id": "EnLGN3i6Lg-J"
      }
    },
    {
      "cell_type": "code",
      "source": [
        "#Veamos cuantos nulos tiene CouncilArea y su proporcion con respecto al total\n",
        "print('Cantidad de Registros: ', len(melb_df))\n",
        "missing_values_count_CouncilArea=melb_df.CouncilArea.isnull().sum()\n",
        "Proporcion = missing_values_count_CouncilArea/len(melb_df)\n",
        "print('Proporcion de Nulos de CouncilArea: ', Proporcion)"
      ],
      "metadata": {
        "colab": {
          "base_uri": "https://localhost:8080/"
        },
        "id": "TdGku3VPMV1f",
        "outputId": "87920873-86fb-4fa1-f4fd-7bf46ee1acaf"
      },
      "execution_count": null,
      "outputs": [
        {
          "output_type": "stream",
          "name": "stdout",
          "text": [
            "Cantidad de Registros:  13518\n",
            "Proporcion de Nulos de CouncilArea:  0.09668590028110667\n"
          ]
        }
      ]
    },
    {
      "cell_type": "code",
      "source": [
        "#Veamos cuales son las variables que presentan valores Nulos\n",
        "missing_values_count=melb_df.isnull().sum()\n",
        "missing_values_count[missing_values_count > 0]"
      ],
      "metadata": {
        "colab": {
          "base_uri": "https://localhost:8080/"
        },
        "id": "h9yuTje3SnZ9",
        "outputId": "387ad450-fd66-4c82-f64d-d9c1d3073e90"
      },
      "execution_count": null,
      "outputs": [
        {
          "output_type": "execute_result",
          "data": {
            "text/plain": [
              "BuildingArea                 6417\n",
              "YearBuilt                    5344\n",
              "CouncilArea                  1307\n",
              "airbnb_price_mean              20\n",
              "airbnb_weekly_price_mean      872\n",
              "airbnb_monthly_price_mean    1265\n",
              "dtype: int64"
            ]
          },
          "metadata": {},
          "execution_count": 6
        }
      ]
    },
    {
      "cell_type": "markdown",
      "source": [
        "<font color='MediumBlue'> \n",
        "Como se puede apreciar el dato Postcode no presenta valores nulos lo cual nos permitira realizar la imputacion. Vamos a ver cuales son aquellos registros que poseen valores nulos en CouncilArea y su correspondiente Postcode, luego para aquellos Postcode buscaremos el CouncilArea respectivo."
      ],
      "metadata": {
        "id": "d245g_YcPgsP"
      }
    },
    {
      "cell_type": "code",
      "source": [
        "#Creamos una lista de aquellos Postcode cuyo CouncilArea sea nula y su correspondiente df\n",
        "df_CouncilArea_Null = melb_df.loc[melb_df.CouncilArea.isna()]\n",
        "\n",
        "CouncilArea_Null_List=(melb_df[melb_df.CouncilArea.isnull()]).Postcode.unique().tolist()\n",
        "\n",
        "#obtenemos los CouncilArea no nulos de los Postcode obtenido anteriormente\n",
        "df_melb_df_NotNull=melb_df[melb_df.CouncilArea.notna()]\n",
        "\n",
        "df_CouncilArea_NotNull= df_melb_df_NotNull.loc[df_melb_df_NotNull.Postcode.isin(CouncilArea_Null_List)]\n",
        "\n",
        "#creamos un diccionario con esos Postcode para luego imputarlos\n",
        "\n",
        "diccionario = dict(zip(df_CouncilArea_NotNull.Postcode, df_CouncilArea_NotNull.CouncilArea))\n"
      ],
      "metadata": {
        "id": "6o-5QTYVWe7p"
      },
      "execution_count": null,
      "outputs": []
    },
    {
      "cell_type": "code",
      "source": [
        "#Ahora haremos un diccionario con los índices con CouncilArea nula como primary key y con las CouncilAreas correspondientes como valores dados.\n",
        "\n",
        "diccionario_reemplazo_CouncilArea = {}\n",
        "for i in range(df_CouncilArea_Null.shape[0]):\n",
        "  if df_CouncilArea_Null.iloc[i].Postcode in diccionario.keys():\n",
        "    diccionario_reemplazo_CouncilArea.update({df_CouncilArea_Null.index[i]: diccionario[df_CouncilArea_Null.iloc[i].Postcode]})\n",
        "\n",
        "len(diccionario_reemplazo_CouncilArea)\n"
      ],
      "metadata": {
        "id": "Xcl0O5w4aH7M",
        "colab": {
          "base_uri": "https://localhost:8080/"
        },
        "outputId": "63c06a06-9c82-47ea-8360-e2f3a3836ed0"
      },
      "execution_count": null,
      "outputs": [
        {
          "output_type": "execute_result",
          "data": {
            "text/plain": [
              "1304"
            ]
          },
          "metadata": {},
          "execution_count": 8
        }
      ]
    },
    {
      "cell_type": "code",
      "source": [
        "#hacemos copia del DF dado que reemplazaremos la columna \n",
        "melb_df_Backup=melb_df.copy(deep=False)\n",
        "\n",
        "melb_df['CouncilArea'] = melb_df['CouncilArea'].fillna(diccionario_reemplazo_CouncilArea)\n"
      ],
      "metadata": {
        "id": "ycK1Uc1Ce8Oa"
      },
      "execution_count": null,
      "outputs": []
    },
    {
      "cell_type": "code",
      "source": [
        "#Veamos nuevamente cuales son las variables que presentan valores Nulos\n",
        "missing_values_count=melb_df.isnull().sum()\n",
        "missing_values_count[missing_values_count > 0]"
      ],
      "metadata": {
        "colab": {
          "base_uri": "https://localhost:8080/"
        },
        "id": "w1Drp-6hfoph",
        "outputId": "fa0c30df-826d-44a1-dd03-d067163d563f"
      },
      "execution_count": null,
      "outputs": [
        {
          "output_type": "execute_result",
          "data": {
            "text/plain": [
              "BuildingArea                 6417\n",
              "YearBuilt                    5344\n",
              "CouncilArea                     3\n",
              "airbnb_price_mean              20\n",
              "airbnb_weekly_price_mean      872\n",
              "airbnb_monthly_price_mean    1265\n",
              "dtype: int64"
            ]
          },
          "metadata": {},
          "execution_count": 10
        }
      ]
    },
    {
      "cell_type": "markdown",
      "source": [
        "<font color='MediumBlue'> \n",
        "como se puede apreciar solo queda 3 registros sin imputar veamos cuales son:"
      ],
      "metadata": {
        "id": "eb7XaYfof7SP"
      }
    },
    {
      "cell_type": "code",
      "source": [
        "CouncilArea_Null_ListNew=(melb_df[melb_df.CouncilArea.isnull()]).Postcode.unique().tolist()\n",
        "\n",
        "CouncilArea_Null_ListNew"
      ],
      "metadata": {
        "colab": {
          "base_uri": "https://localhost:8080/"
        },
        "id": "wu9wz5AFgHhs",
        "outputId": "d69778f1-5fa3-43ae-b5e5-0965bcae13ae"
      },
      "execution_count": null,
      "outputs": [
        {
          "output_type": "execute_result",
          "data": {
            "text/plain": [
              "[3756.0, 3438.0, 3793.0]"
            ]
          },
          "metadata": {},
          "execution_count": 11
        }
      ]
    },
    {
      "cell_type": "code",
      "source": [
        "#Verificando la imputacion desde el reguardo se puede observar que esos 3 registros poseen Postcode unicos , sin CouncilArea.\n",
        "# a su vez tambien la variable Suburb(barrio) posee valores unicos.\n",
        "# con lo cual deberemos acudir a la web\n",
        " \n",
        "melb_df_Backup[melb_df_Backup.Postcode.isin(CouncilArea_Null_ListNew)]"
      ],
      "metadata": {
        "colab": {
          "base_uri": "https://localhost:8080/",
          "height": 225
        },
        "id": "9zaceO0yh6GM",
        "outputId": "391411c8-e135-401c-a760-9b192b5f3341"
      },
      "execution_count": null,
      "outputs": [
        {
          "output_type": "execute_result",
          "data": {
            "text/plain": [
              "             Suburb  Rooms Type      Price  Postcode  Bathroom  Car  Landsize  \\\n",
              "12831        Wallan      3    h  366000.00   3756.00      1.00 1.00    502.00   \n",
              "13198  New Gisborne      5    h 1355000.00   3438.00      3.00 5.00  44500.00   \n",
              "13437       Monbulk      4    h  720000.00   3793.00      2.00 2.00   1611.00   \n",
              "\n",
              "       BuildingArea  YearBuilt CouncilArea  Lattitude  Longtitude  \\\n",
              "12831         77.00    1978.00         NaN     -37.41      144.98   \n",
              "13198      44515.00        NaN         NaN     -37.45      144.59   \n",
              "13437           NaN        NaN         NaN     -37.88      145.41   \n",
              "\n",
              "       airbnb_price_mean  airbnb_weekly_price_mean  airbnb_monthly_price_mean  \n",
              "12831                NaN                       NaN                        NaN  \n",
              "13198                NaN                       NaN                        NaN  \n",
              "13437             126.88                       NaN                        NaN  "
            ],
            "text/html": [
              "\n",
              "  <div id=\"df-f6572173-f762-4a7a-96b8-58d0c722a6dd\">\n",
              "    <div class=\"colab-df-container\">\n",
              "      <div>\n",
              "<style scoped>\n",
              "    .dataframe tbody tr th:only-of-type {\n",
              "        vertical-align: middle;\n",
              "    }\n",
              "\n",
              "    .dataframe tbody tr th {\n",
              "        vertical-align: top;\n",
              "    }\n",
              "\n",
              "    .dataframe thead th {\n",
              "        text-align: right;\n",
              "    }\n",
              "</style>\n",
              "<table border=\"1\" class=\"dataframe\">\n",
              "  <thead>\n",
              "    <tr style=\"text-align: right;\">\n",
              "      <th></th>\n",
              "      <th>Suburb</th>\n",
              "      <th>Rooms</th>\n",
              "      <th>Type</th>\n",
              "      <th>Price</th>\n",
              "      <th>Postcode</th>\n",
              "      <th>Bathroom</th>\n",
              "      <th>Car</th>\n",
              "      <th>Landsize</th>\n",
              "      <th>BuildingArea</th>\n",
              "      <th>YearBuilt</th>\n",
              "      <th>CouncilArea</th>\n",
              "      <th>Lattitude</th>\n",
              "      <th>Longtitude</th>\n",
              "      <th>airbnb_price_mean</th>\n",
              "      <th>airbnb_weekly_price_mean</th>\n",
              "      <th>airbnb_monthly_price_mean</th>\n",
              "    </tr>\n",
              "  </thead>\n",
              "  <tbody>\n",
              "    <tr>\n",
              "      <th>12831</th>\n",
              "      <td>Wallan</td>\n",
              "      <td>3</td>\n",
              "      <td>h</td>\n",
              "      <td>366000.00</td>\n",
              "      <td>3756.00</td>\n",
              "      <td>1.00</td>\n",
              "      <td>1.00</td>\n",
              "      <td>502.00</td>\n",
              "      <td>77.00</td>\n",
              "      <td>1978.00</td>\n",
              "      <td>NaN</td>\n",
              "      <td>-37.41</td>\n",
              "      <td>144.98</td>\n",
              "      <td>NaN</td>\n",
              "      <td>NaN</td>\n",
              "      <td>NaN</td>\n",
              "    </tr>\n",
              "    <tr>\n",
              "      <th>13198</th>\n",
              "      <td>New Gisborne</td>\n",
              "      <td>5</td>\n",
              "      <td>h</td>\n",
              "      <td>1355000.00</td>\n",
              "      <td>3438.00</td>\n",
              "      <td>3.00</td>\n",
              "      <td>5.00</td>\n",
              "      <td>44500.00</td>\n",
              "      <td>44515.00</td>\n",
              "      <td>NaN</td>\n",
              "      <td>NaN</td>\n",
              "      <td>-37.45</td>\n",
              "      <td>144.59</td>\n",
              "      <td>NaN</td>\n",
              "      <td>NaN</td>\n",
              "      <td>NaN</td>\n",
              "    </tr>\n",
              "    <tr>\n",
              "      <th>13437</th>\n",
              "      <td>Monbulk</td>\n",
              "      <td>4</td>\n",
              "      <td>h</td>\n",
              "      <td>720000.00</td>\n",
              "      <td>3793.00</td>\n",
              "      <td>2.00</td>\n",
              "      <td>2.00</td>\n",
              "      <td>1611.00</td>\n",
              "      <td>NaN</td>\n",
              "      <td>NaN</td>\n",
              "      <td>NaN</td>\n",
              "      <td>-37.88</td>\n",
              "      <td>145.41</td>\n",
              "      <td>126.88</td>\n",
              "      <td>NaN</td>\n",
              "      <td>NaN</td>\n",
              "    </tr>\n",
              "  </tbody>\n",
              "</table>\n",
              "</div>\n",
              "      <button class=\"colab-df-convert\" onclick=\"convertToInteractive('df-f6572173-f762-4a7a-96b8-58d0c722a6dd')\"\n",
              "              title=\"Convert this dataframe to an interactive table.\"\n",
              "              style=\"display:none;\">\n",
              "        \n",
              "  <svg xmlns=\"http://www.w3.org/2000/svg\" height=\"24px\"viewBox=\"0 0 24 24\"\n",
              "       width=\"24px\">\n",
              "    <path d=\"M0 0h24v24H0V0z\" fill=\"none\"/>\n",
              "    <path d=\"M18.56 5.44l.94 2.06.94-2.06 2.06-.94-2.06-.94-.94-2.06-.94 2.06-2.06.94zm-11 1L8.5 8.5l.94-2.06 2.06-.94-2.06-.94L8.5 2.5l-.94 2.06-2.06.94zm10 10l.94 2.06.94-2.06 2.06-.94-2.06-.94-.94-2.06-.94 2.06-2.06.94z\"/><path d=\"M17.41 7.96l-1.37-1.37c-.4-.4-.92-.59-1.43-.59-.52 0-1.04.2-1.43.59L10.3 9.45l-7.72 7.72c-.78.78-.78 2.05 0 2.83L4 21.41c.39.39.9.59 1.41.59.51 0 1.02-.2 1.41-.59l7.78-7.78 2.81-2.81c.8-.78.8-2.07 0-2.86zM5.41 20L4 18.59l7.72-7.72 1.47 1.35L5.41 20z\"/>\n",
              "  </svg>\n",
              "      </button>\n",
              "      \n",
              "  <style>\n",
              "    .colab-df-container {\n",
              "      display:flex;\n",
              "      flex-wrap:wrap;\n",
              "      gap: 12px;\n",
              "    }\n",
              "\n",
              "    .colab-df-convert {\n",
              "      background-color: #E8F0FE;\n",
              "      border: none;\n",
              "      border-radius: 50%;\n",
              "      cursor: pointer;\n",
              "      display: none;\n",
              "      fill: #1967D2;\n",
              "      height: 32px;\n",
              "      padding: 0 0 0 0;\n",
              "      width: 32px;\n",
              "    }\n",
              "\n",
              "    .colab-df-convert:hover {\n",
              "      background-color: #E2EBFA;\n",
              "      box-shadow: 0px 1px 2px rgba(60, 64, 67, 0.3), 0px 1px 3px 1px rgba(60, 64, 67, 0.15);\n",
              "      fill: #174EA6;\n",
              "    }\n",
              "\n",
              "    [theme=dark] .colab-df-convert {\n",
              "      background-color: #3B4455;\n",
              "      fill: #D2E3FC;\n",
              "    }\n",
              "\n",
              "    [theme=dark] .colab-df-convert:hover {\n",
              "      background-color: #434B5C;\n",
              "      box-shadow: 0px 1px 3px 1px rgba(0, 0, 0, 0.15);\n",
              "      filter: drop-shadow(0px 1px 2px rgba(0, 0, 0, 0.3));\n",
              "      fill: #FFFFFF;\n",
              "    }\n",
              "  </style>\n",
              "\n",
              "      <script>\n",
              "        const buttonEl =\n",
              "          document.querySelector('#df-f6572173-f762-4a7a-96b8-58d0c722a6dd button.colab-df-convert');\n",
              "        buttonEl.style.display =\n",
              "          google.colab.kernel.accessAllowed ? 'block' : 'none';\n",
              "\n",
              "        async function convertToInteractive(key) {\n",
              "          const element = document.querySelector('#df-f6572173-f762-4a7a-96b8-58d0c722a6dd');\n",
              "          const dataTable =\n",
              "            await google.colab.kernel.invokeFunction('convertToInteractive',\n",
              "                                                     [key], {});\n",
              "          if (!dataTable) return;\n",
              "\n",
              "          const docLinkHtml = 'Like what you see? Visit the ' +\n",
              "            '<a target=\"_blank\" href=https://colab.research.google.com/notebooks/data_table.ipynb>data table notebook</a>'\n",
              "            + ' to learn more about interactive tables.';\n",
              "          element.innerHTML = '';\n",
              "          dataTable['output_type'] = 'display_data';\n",
              "          await google.colab.output.renderOutput(dataTable, element);\n",
              "          const docLink = document.createElement('div');\n",
              "          docLink.innerHTML = docLinkHtml;\n",
              "          element.appendChild(docLink);\n",
              "        }\n",
              "      </script>\n",
              "    </div>\n",
              "  </div>\n",
              "  "
            ]
          },
          "metadata": {},
          "execution_count": 12
        }
      ]
    },
    {
      "cell_type": "markdown",
      "source": [
        "<font color='MediumBlue'> \n",
        "Como se puede apreciar, estos registros no fueron imputados dado que no tuvieron otros Postcode con valores CouncilArea no nulos, tampoco podemos utilizar la variable Suburb dado que presenta la misma situacion que Postcode.\n",
        "Buscando en la web obtuvimos lo siguiente:<br>\n",
        "Para Suburb=Wallan - Postcode 3756 el CouncilArea es **Mitchell** <br>https://data.gov.au/search?organisation=Mitchell%20Shire%20Council<br> Para Suburb= New Gisborne - Postcode 3438 el CouncilArea es **Shire of Macedon Ranges**<br>\n",
        "https://data.gov.au/organisations/org-dga-6dedc5ae-02f3-4c38-bb9f-c4e2d028f7aa <br> Para Suburb= Monbulk - Postcode 3793 el CouncilArea es **Yarra Ranges** https://knowyourcouncil.vic.gov.au/councils/yarra-ranges<br><br>\n",
        "Imputaremos esos valores"
      ],
      "metadata": {
        "id": "ho5V3cdAis3n"
      }
    },
    {
      "cell_type": "code",
      "source": [
        "melb_df.CouncilArea.iloc[12831]='Mitchell'\n",
        "melb_df.CouncilArea.iloc[13198]='Shire of Macedon Ranges'\n",
        "melb_df.CouncilArea.iloc[13437]='Yarra Ranges'"
      ],
      "metadata": {
        "id": "63zoJK5KmYrV",
        "colab": {
          "base_uri": "https://localhost:8080/"
        },
        "outputId": "192b1087-fff0-4de8-adef-2b80b4ab402f"
      },
      "execution_count": null,
      "outputs": [
        {
          "output_type": "stream",
          "name": "stderr",
          "text": [
            "/usr/local/lib/python3.7/dist-packages/pandas/core/indexing.py:1732: SettingWithCopyWarning: \n",
            "A value is trying to be set on a copy of a slice from a DataFrame\n",
            "\n",
            "See the caveats in the documentation: https://pandas.pydata.org/pandas-docs/stable/user_guide/indexing.html#returning-a-view-versus-a-copy\n",
            "  self._setitem_single_block(indexer, value, name)\n"
          ]
        }
      ]
    },
    {
      "cell_type": "code",
      "source": [
        "#Volvamos a ver nuevamente cuales son las variables que presentan valores Nulos\n",
        "missing_values_count=melb_df.isnull().sum()\n",
        "missing_values_count[missing_values_count > 0]"
      ],
      "metadata": {
        "id": "4-32OJR2irmQ",
        "colab": {
          "base_uri": "https://localhost:8080/"
        },
        "outputId": "64053fd9-dfc5-45ac-a264-aed92b6e292e"
      },
      "execution_count": null,
      "outputs": [
        {
          "output_type": "execute_result",
          "data": {
            "text/plain": [
              "BuildingArea                 6417\n",
              "YearBuilt                    5344\n",
              "airbnb_price_mean              20\n",
              "airbnb_weekly_price_mean      872\n",
              "airbnb_monthly_price_mean    1265\n",
              "dtype: int64"
            ]
          },
          "metadata": {},
          "execution_count": 14
        }
      ]
    },
    {
      "cell_type": "markdown",
      "source": [
        "2. Imputar los valores faltantes de la(s) columna(s) que se agregaron a partir del conjunto de datos de AirBnB"
      ],
      "metadata": {
        "id": "xv1y5yYtUmjP"
      }
    },
    {
      "cell_type": "code",
      "source": [
        "#Veamos cuales son las variables de airburn que presentan valores Nulos\n",
        "missing_values_count=melb_df.isnull().sum()\n",
        "missing_values_count[missing_values_count > 0]"
      ],
      "metadata": {
        "colab": {
          "base_uri": "https://localhost:8080/"
        },
        "id": "zCzLuNPVZZlt",
        "outputId": "cd1e5bb8-6aa9-46d6-f9e6-fb3eb8cfee35"
      },
      "execution_count": null,
      "outputs": [
        {
          "output_type": "execute_result",
          "data": {
            "text/plain": [
              "BuildingArea                 6417\n",
              "YearBuilt                    5344\n",
              "airbnb_price_mean              20\n",
              "airbnb_weekly_price_mean      872\n",
              "airbnb_monthly_price_mean    1265\n",
              "dtype: int64"
            ]
          },
          "metadata": {},
          "execution_count": 15
        }
      ]
    },
    {
      "cell_type": "code",
      "source": [
        "#Veamos cuantos nulos tienen estas variables, nos centraremos solo en las de precios y su proporcion con respecto al total\n",
        "\n",
        "print('Cantidad de Registros: ', len(melb_df))\n",
        "Proporcion_airbnb_price_mean = melb_df.airbnb_price_mean.isnull().sum()/len(melb_df)\n",
        "print('Proporcion de Nulos de airbnb_price_mean: ', Proporcion)\n",
        "Proporcion_airbnb_weekly_price_mean = melb_df.airbnb_weekly_price_mean.isnull().sum()/len(melb_df)\n",
        "print('Proporcion de Nulos de airbnb_weekly_price_mean: ', Proporcion)\n",
        "Proporcion_airbnb_monthly_price_mean = melb_df.airbnb_monthly_price_mean.isnull().sum()/len(melb_df)\n",
        "print('Proporcion de Nulos de airbnb_monthly_price_mean: ', Proporcion)"
      ],
      "metadata": {
        "colab": {
          "base_uri": "https://localhost:8080/"
        },
        "id": "HxVFcBzRaGVm",
        "outputId": "6229f501-122f-4070-9d3e-87a29bd10f7a"
      },
      "execution_count": null,
      "outputs": [
        {
          "output_type": "stream",
          "name": "stdout",
          "text": [
            "Cantidad de Registros:  13518\n",
            "Proporcion de Nulos de airbnb_price_mean:  0.09668590028110667\n",
            "Proporcion de Nulos de airbnb_weekly_price_mean:  0.09668590028110667\n",
            "Proporcion de Nulos de airbnb_monthly_price_mean:  0.09668590028110667\n"
          ]
        }
      ]
    },
    {
      "cell_type": "code",
      "source": [
        "# veamos sus estadisticas\n",
        "vars=['airbnb_weekly_price_mean', 'airbnb_price_mean', 'airbnb_monthly_price_mean']\n",
        "melb_df[vars].describe()"
      ],
      "metadata": {
        "colab": {
          "base_uri": "https://localhost:8080/",
          "height": 300
        },
        "id": "EGmRAYnobeqD",
        "outputId": "45cc4adb-584a-4eb8-c5e9-8c47b6d8eae5"
      },
      "execution_count": null,
      "outputs": [
        {
          "output_type": "execute_result",
          "data": {
            "text/plain": [
              "       airbnb_weekly_price_mean  airbnb_price_mean  airbnb_monthly_price_mean\n",
              "count                  12646.00           13498.00                   12253.00\n",
              "mean                     706.28             131.20                    2616.55\n",
              "std                      339.13              64.31                    1453.61\n",
              "min                      160.00              40.00                     600.00\n",
              "25%                      469.87              94.67                    1567.50\n",
              "50%                      609.75             114.61                    2298.00\n",
              "75%                      920.08             147.73                    3366.67\n",
              "max                     2236.67             759.08                   10060.00"
            ],
            "text/html": [
              "\n",
              "  <div id=\"df-dcef3eaa-5bc8-49ff-9916-606822c76678\">\n",
              "    <div class=\"colab-df-container\">\n",
              "      <div>\n",
              "<style scoped>\n",
              "    .dataframe tbody tr th:only-of-type {\n",
              "        vertical-align: middle;\n",
              "    }\n",
              "\n",
              "    .dataframe tbody tr th {\n",
              "        vertical-align: top;\n",
              "    }\n",
              "\n",
              "    .dataframe thead th {\n",
              "        text-align: right;\n",
              "    }\n",
              "</style>\n",
              "<table border=\"1\" class=\"dataframe\">\n",
              "  <thead>\n",
              "    <tr style=\"text-align: right;\">\n",
              "      <th></th>\n",
              "      <th>airbnb_weekly_price_mean</th>\n",
              "      <th>airbnb_price_mean</th>\n",
              "      <th>airbnb_monthly_price_mean</th>\n",
              "    </tr>\n",
              "  </thead>\n",
              "  <tbody>\n",
              "    <tr>\n",
              "      <th>count</th>\n",
              "      <td>12646.00</td>\n",
              "      <td>13498.00</td>\n",
              "      <td>12253.00</td>\n",
              "    </tr>\n",
              "    <tr>\n",
              "      <th>mean</th>\n",
              "      <td>706.28</td>\n",
              "      <td>131.20</td>\n",
              "      <td>2616.55</td>\n",
              "    </tr>\n",
              "    <tr>\n",
              "      <th>std</th>\n",
              "      <td>339.13</td>\n",
              "      <td>64.31</td>\n",
              "      <td>1453.61</td>\n",
              "    </tr>\n",
              "    <tr>\n",
              "      <th>min</th>\n",
              "      <td>160.00</td>\n",
              "      <td>40.00</td>\n",
              "      <td>600.00</td>\n",
              "    </tr>\n",
              "    <tr>\n",
              "      <th>25%</th>\n",
              "      <td>469.87</td>\n",
              "      <td>94.67</td>\n",
              "      <td>1567.50</td>\n",
              "    </tr>\n",
              "    <tr>\n",
              "      <th>50%</th>\n",
              "      <td>609.75</td>\n",
              "      <td>114.61</td>\n",
              "      <td>2298.00</td>\n",
              "    </tr>\n",
              "    <tr>\n",
              "      <th>75%</th>\n",
              "      <td>920.08</td>\n",
              "      <td>147.73</td>\n",
              "      <td>3366.67</td>\n",
              "    </tr>\n",
              "    <tr>\n",
              "      <th>max</th>\n",
              "      <td>2236.67</td>\n",
              "      <td>759.08</td>\n",
              "      <td>10060.00</td>\n",
              "    </tr>\n",
              "  </tbody>\n",
              "</table>\n",
              "</div>\n",
              "      <button class=\"colab-df-convert\" onclick=\"convertToInteractive('df-dcef3eaa-5bc8-49ff-9916-606822c76678')\"\n",
              "              title=\"Convert this dataframe to an interactive table.\"\n",
              "              style=\"display:none;\">\n",
              "        \n",
              "  <svg xmlns=\"http://www.w3.org/2000/svg\" height=\"24px\"viewBox=\"0 0 24 24\"\n",
              "       width=\"24px\">\n",
              "    <path d=\"M0 0h24v24H0V0z\" fill=\"none\"/>\n",
              "    <path d=\"M18.56 5.44l.94 2.06.94-2.06 2.06-.94-2.06-.94-.94-2.06-.94 2.06-2.06.94zm-11 1L8.5 8.5l.94-2.06 2.06-.94-2.06-.94L8.5 2.5l-.94 2.06-2.06.94zm10 10l.94 2.06.94-2.06 2.06-.94-2.06-.94-.94-2.06-.94 2.06-2.06.94z\"/><path d=\"M17.41 7.96l-1.37-1.37c-.4-.4-.92-.59-1.43-.59-.52 0-1.04.2-1.43.59L10.3 9.45l-7.72 7.72c-.78.78-.78 2.05 0 2.83L4 21.41c.39.39.9.59 1.41.59.51 0 1.02-.2 1.41-.59l7.78-7.78 2.81-2.81c.8-.78.8-2.07 0-2.86zM5.41 20L4 18.59l7.72-7.72 1.47 1.35L5.41 20z\"/>\n",
              "  </svg>\n",
              "      </button>\n",
              "      \n",
              "  <style>\n",
              "    .colab-df-container {\n",
              "      display:flex;\n",
              "      flex-wrap:wrap;\n",
              "      gap: 12px;\n",
              "    }\n",
              "\n",
              "    .colab-df-convert {\n",
              "      background-color: #E8F0FE;\n",
              "      border: none;\n",
              "      border-radius: 50%;\n",
              "      cursor: pointer;\n",
              "      display: none;\n",
              "      fill: #1967D2;\n",
              "      height: 32px;\n",
              "      padding: 0 0 0 0;\n",
              "      width: 32px;\n",
              "    }\n",
              "\n",
              "    .colab-df-convert:hover {\n",
              "      background-color: #E2EBFA;\n",
              "      box-shadow: 0px 1px 2px rgba(60, 64, 67, 0.3), 0px 1px 3px 1px rgba(60, 64, 67, 0.15);\n",
              "      fill: #174EA6;\n",
              "    }\n",
              "\n",
              "    [theme=dark] .colab-df-convert {\n",
              "      background-color: #3B4455;\n",
              "      fill: #D2E3FC;\n",
              "    }\n",
              "\n",
              "    [theme=dark] .colab-df-convert:hover {\n",
              "      background-color: #434B5C;\n",
              "      box-shadow: 0px 1px 3px 1px rgba(0, 0, 0, 0.15);\n",
              "      filter: drop-shadow(0px 1px 2px rgba(0, 0, 0, 0.3));\n",
              "      fill: #FFFFFF;\n",
              "    }\n",
              "  </style>\n",
              "\n",
              "      <script>\n",
              "        const buttonEl =\n",
              "          document.querySelector('#df-dcef3eaa-5bc8-49ff-9916-606822c76678 button.colab-df-convert');\n",
              "        buttonEl.style.display =\n",
              "          google.colab.kernel.accessAllowed ? 'block' : 'none';\n",
              "\n",
              "        async function convertToInteractive(key) {\n",
              "          const element = document.querySelector('#df-dcef3eaa-5bc8-49ff-9916-606822c76678');\n",
              "          const dataTable =\n",
              "            await google.colab.kernel.invokeFunction('convertToInteractive',\n",
              "                                                     [key], {});\n",
              "          if (!dataTable) return;\n",
              "\n",
              "          const docLinkHtml = 'Like what you see? Visit the ' +\n",
              "            '<a target=\"_blank\" href=https://colab.research.google.com/notebooks/data_table.ipynb>data table notebook</a>'\n",
              "            + ' to learn more about interactive tables.';\n",
              "          element.innerHTML = '';\n",
              "          dataTable['output_type'] = 'display_data';\n",
              "          await google.colab.output.renderOutput(dataTable, element);\n",
              "          const docLink = document.createElement('div');\n",
              "          docLink.innerHTML = docLinkHtml;\n",
              "          element.appendChild(docLink);\n",
              "        }\n",
              "      </script>\n",
              "    </div>\n",
              "  </div>\n",
              "  "
            ]
          },
          "metadata": {},
          "execution_count": 17
        }
      ]
    },
    {
      "cell_type": "code",
      "source": [
        "# veamos como se encuentran distribuidos sus datos y sus outliers\n",
        "fig, ax = plt.subplots(ncols=3, figsize=(20,5), sharey=False)\n",
        "melb_df.boxplot(column='airbnb_price_mean', ax=ax[0] )\n",
        "melb_df.boxplot(column='airbnb_weekly_price_mean', ax=ax[1] )\n",
        "melb_df.boxplot(column='airbnb_monthly_price_mean', ax=ax[2] )"
      ],
      "metadata": {
        "colab": {
          "base_uri": "https://localhost:8080/",
          "height": 351
        },
        "id": "vmvQTvP6djZW",
        "outputId": "b5f9bcbc-2bf2-4917-b033-1e9a3f96fbe0"
      },
      "execution_count": null,
      "outputs": [
        {
          "output_type": "execute_result",
          "data": {
            "text/plain": [
              "<matplotlib.axes._subplots.AxesSubplot at 0x7f72cf913a90>"
            ]
          },
          "metadata": {},
          "execution_count": 18
        },
        {
          "output_type": "display_data",
          "data": {
            "text/plain": [
              "<Figure size 1440x360 with 3 Axes>"
            ],
            "image/png": "[encoded data removed]"
          },
          "metadata": {
            "needs_background": "light"
          }
        }
      ]
    },
    {
      "cell_type": "code",
      "source": [
        "#acorde a la grafica expuesta imputaremos por la mediana.\n",
        "\n",
        "# imputing with median\n",
        "mediana_price = melb_df['airbnb_price_mean'].median()\n",
        "mediana_weekly_price = melb_df['airbnb_weekly_price_mean'].median()\n",
        "mediana_monthly_price = melb_df['airbnb_monthly_price_mean'].median()\n",
        "\n",
        "melb_df.airbnb_price_mean = melb_df.airbnb_price_mean.fillna(mediana_price)\n",
        "melb_df.airbnb_weekly_price_mean = melb_df.airbnb_weekly_price_mean.fillna(mediana_weekly_price)\n",
        "melb_df.airbnb_monthly_price_mean = melb_df.airbnb_monthly_price_mean.fillna(mediana_monthly_price)\n"
      ],
      "metadata": {
        "id": "KxzVdY_2h_0Q"
      },
      "execution_count": null,
      "outputs": []
    },
    {
      "cell_type": "code",
      "source": [
        "#Veamos nuevamente cuales son las variables de airburn que presentan valores Nulos\n",
        "missing_values_count=melb_df.isnull().sum()\n",
        "missing_values_count[missing_values_count > 0]"
      ],
      "metadata": {
        "colab": {
          "base_uri": "https://localhost:8080/"
        },
        "id": "8VKJ35ZckeTF",
        "outputId": "0e5cf49e-f8d1-4570-fcbe-e80a14f39f47"
      },
      "execution_count": null,
      "outputs": [
        {
          "output_type": "execute_result",
          "data": {
            "text/plain": [
              "BuildingArea    6417\n",
              "YearBuilt       5344\n",
              "dtype: int64"
            ]
          },
          "metadata": {},
          "execution_count": 20
        }
      ]
    },
    {
      "cell_type": "markdown",
      "metadata": {
        "id": "s-mixICN22kA"
      },
      "source": [
        "## Ejercicio 1: Encoding\n",
        "\n",
        "1. Seleccionar todas las filas y columnas del conjunto de datos obtenido en la parte 1 del entregable, **excepto** `BuildingArea` y `YearBuilt`, que volveremos a imputar más adelante.\n",
        "\n",
        "2. Aplicar una codificación One-hot encoding a cada fila, tanto para variables numéricas como categóricas. Si lo consideran necesario, pueden volver a reducir el número de categorías únicas.\n",
        "\n",
        "Algunas opciones:\n",
        "  1. Utilizar `OneHotEncoder` junto con el parámetro `categories` para las variables categóricas y luego usar `numpy.hstack` para concatenar el resultado con las variables numéricas. \n",
        "  2. `DictVectorizer` con algunos pasos de pre-proceso previo.\n",
        "\n",
        "Recordar también que el atributo `pandas.DataFrame.values` permite acceder a la matriz de numpy subyacente a un DataFrame.\n"
      ]
    },
    {
      "cell_type": "markdown",
      "source": [
        "1.1. Seleccionar todas las filas y columnas del conjunto de datos obtenido en la parte 1 del entregable, excepto BuildingArea y YearBuilt, que volveremos a imputar más adelante."
      ],
      "metadata": {
        "id": "xOrw3xvcAIaP"
      }
    },
    {
      "cell_type": "code",
      "source": [
        "from sklearn.preprocessing import OneHotEncoder\n"
      ],
      "metadata": {
        "id": "GkXkrMBLIovB"
      },
      "execution_count": null,
      "outputs": []
    },
    {
      "cell_type": "code",
      "source": [
        "\n",
        "melb_data_backup1 = melb_df.copy(deep=True)\n",
        "df = melb_df.drop(['BuildingArea', 'YearBuilt'], axis=1, inplace=False)\n",
        "\n"
      ],
      "metadata": {
        "id": "-tHFD9PPAL2v"
      },
      "execution_count": null,
      "outputs": []
    },
    {
      "cell_type": "markdown",
      "source": [
        "1.2. Aplicar una codificación One-hot encoding a cada fila, tanto para variables numéricas como categóricas. Si lo consideran necesario, pueden volver a reducir el número de categorías únicas."
      ],
      "metadata": {
        "id": "7E-ESa06_1QQ"
      }
    },
    {
      "cell_type": "code",
      "source": [
        "df.info()"
      ],
      "metadata": {
        "colab": {
          "base_uri": "https://localhost:8080/"
        },
        "id": "fYVVUdOuVSAt",
        "outputId": "d92fe32a-1fcc-41f3-aa9c-4d7f5ed22795"
      },
      "execution_count": null,
      "outputs": [
        {
          "output_type": "stream",
          "name": "stdout",
          "text": [
            "<class 'pandas.core.frame.DataFrame'>\n",
            "RangeIndex: 13518 entries, 0 to 13517\n",
            "Data columns (total 14 columns):\n",
            " #   Column                     Non-Null Count  Dtype  \n",
            "---  ------                     --------------  -----  \n",
            " 0   Suburb                     13518 non-null  object \n",
            " 1   Rooms                      13518 non-null  int64  \n",
            " 2   Type                       13518 non-null  object \n",
            " 3   Price                      13518 non-null  float64\n",
            " 4   Postcode                   13518 non-null  float64\n",
            " 5   Bathroom                   13518 non-null  float64\n",
            " 6   Car                        13518 non-null  float64\n",
            " 7   Landsize                   13518 non-null  float64\n",
            " 8   CouncilArea                13518 non-null  object \n",
            " 9   Lattitude                  13518 non-null  float64\n",
            " 10  Longtitude                 13518 non-null  float64\n",
            " 11  airbnb_price_mean          13518 non-null  float64\n",
            " 12  airbnb_weekly_price_mean   13518 non-null  float64\n",
            " 13  airbnb_monthly_price_mean  13518 non-null  float64\n",
            "dtypes: float64(10), int64(1), object(3)\n",
            "memory usage: 1.4+ MB\n"
          ]
        }
      ]
    },
    {
      "cell_type": "code",
      "source": [
        "vs = df.columns.to_series().groupby(df.dtypes).groups\n",
        "vs"
      ],
      "metadata": {
        "id": "IjvYClrIWMKJ",
        "colab": {
          "base_uri": "https://localhost:8080/"
        },
        "outputId": "0ae55081-fc8e-45fe-a4ba-d57e112c9f57"
      },
      "execution_count": null,
      "outputs": [
        {
          "output_type": "execute_result",
          "data": {
            "text/plain": [
              "{int64: ['Rooms'], float64: ['Price', 'Postcode', 'Bathroom', 'Car', 'Landsize', 'Lattitude', 'Longtitude', 'airbnb_price_mean', 'airbnb_weekly_price_mean', 'airbnb_monthly_price_mean'], object: ['Suburb', 'Type', 'CouncilArea']}"
            ]
          },
          "metadata": {},
          "execution_count": 24
        }
      ]
    },
    {
      "cell_type": "markdown",
      "source": [
        "vs = df.columns.to_series().groupby(df.dtypes).groups\n",
        "vs\n",
        "\n",
        "protonumeric = np.append(vs[np.dtype('float64')].values, vs[np.dtype('int64')].values)\n",
        "numeric = [n for n in protonumeric] \n",
        "numeric\n",
        "\n",
        "\n",
        "categorical = vs[np.dtype('O')]\n",
        "\n",
        "categorical\n"
      ],
      "metadata": {
        "id": "aJfKRZDkq5qP"
      }
    },
    {
      "cell_type": "code",
      "source": [
        "\n",
        "protonumeric = np.append(vs[np.dtype('float64')].values, vs[np.dtype('int64')].values)\n",
        "numeric = [n for n in protonumeric] \n",
        "numeric"
      ],
      "metadata": {
        "colab": {
          "base_uri": "https://localhost:8080/"
        },
        "id": "th0yzat_V0Og",
        "outputId": "1c584bbf-2439-4d33-bda4-b6d1bbc49faf"
      },
      "execution_count": null,
      "outputs": [
        {
          "output_type": "execute_result",
          "data": {
            "text/plain": [
              "['Price',\n",
              " 'Postcode',\n",
              " 'Bathroom',\n",
              " 'Car',\n",
              " 'Landsize',\n",
              " 'Lattitude',\n",
              " 'Longtitude',\n",
              " 'airbnb_price_mean',\n",
              " 'airbnb_weekly_price_mean',\n",
              " 'airbnb_monthly_price_mean',\n",
              " 'Rooms']"
            ]
          },
          "metadata": {},
          "execution_count": 25
        }
      ]
    },
    {
      "cell_type": "code",
      "source": [
        "categorical = vs[np.dtype('O')]\n",
        "\n",
        "categorical"
      ],
      "metadata": {
        "colab": {
          "base_uri": "https://localhost:8080/"
        },
        "id": "2n6dtHRIWCdt",
        "outputId": "0fb2b284-1967-4246-b951-aeb3fd05363b"
      },
      "execution_count": null,
      "outputs": [
        {
          "output_type": "execute_result",
          "data": {
            "text/plain": [
              "Index(['Suburb', 'Type', 'CouncilArea'], dtype='object')"
            ]
          },
          "metadata": {},
          "execution_count": 26
        }
      ]
    },
    {
      "cell_type": "code",
      "source": [
        "c_all = df.columns\n",
        "c_cat = categorical\n",
        "c_num = numeric"
      ],
      "metadata": {
        "id": "0V-_t2L8_maX"
      },
      "execution_count": null,
      "outputs": []
    },
    {
      "cell_type": "code",
      "source": [
        "df[c_cat].nunique()"
      ],
      "metadata": {
        "colab": {
          "base_uri": "https://localhost:8080/"
        },
        "id": "DlUANSaoWOCw",
        "outputId": "f4a1c5b7-f07b-4e35-8d6d-5f69c7bbcdcc"
      },
      "execution_count": null,
      "outputs": [
        {
          "output_type": "execute_result",
          "data": {
            "text/plain": [
              "Suburb         314\n",
              "Type             3\n",
              "CouncilArea     35\n",
              "dtype: int64"
            ]
          },
          "metadata": {},
          "execution_count": 28
        }
      ]
    },
    {
      "cell_type": "code",
      "source": [
        "# verificamos cuantas variables categoricas son nulas\n",
        "df[c_cat].isna().sum()"
      ],
      "metadata": {
        "colab": {
          "base_uri": "https://localhost:8080/"
        },
        "id": "ubFfibms_nVx",
        "outputId": "82e181d2-5bde-4110-a248-d77e86bf8a4c"
      },
      "execution_count": null,
      "outputs": [
        {
          "output_type": "execute_result",
          "data": {
            "text/plain": [
              "Suburb         0\n",
              "Type           0\n",
              "CouncilArea    0\n",
              "dtype: int64"
            ]
          },
          "metadata": {},
          "execution_count": 29
        }
      ]
    },
    {
      "cell_type": "code",
      "source": [
        "#aplicamos OneHotEnconde , creamos un df para cada tipo de variable\n",
        "\n",
        "df_cat = df[c_cat]\n",
        "df_num = df[c_num]\n",
        "\n",
        "#valores de las variables categoricas\n",
        "categorias = [df_cat[col].value_counts().index.values for col in c_cat]\n",
        "\n",
        "encoder = OneHotEncoder(categories=categorias, handle_unknown=\"ignore\")\n",
        "encoder.fit(df_cat)\n",
        "\n",
        "et = encoder.transform(df_cat).toarray()#.todense()\n",
        "#agregamos las columnas numericas\n",
        "dat_enc = np.hstack([et, df_num])\n",
        "#obtenemos la matriz \n",
        "dat_enc.shape\n"
      ],
      "metadata": {
        "colab": {
          "base_uri": "https://localhost:8080/"
        },
        "id": "7BjL6ByYm95s",
        "outputId": "b3397edb-788a-4aef-afd7-756fdb67aeb4"
      },
      "execution_count": null,
      "outputs": [
        {
          "output_type": "execute_result",
          "data": {
            "text/plain": [
              "(13518, 363)"
            ]
          },
          "metadata": {},
          "execution_count": 30
        }
      ]
    },
    {
      "cell_type": "markdown",
      "source": [
        "<font color='Blue'>En dat_enc estan todos los datos categoricos ya codificados, unidos con los datos numéricos del dataframe original. La única observación es que los datos están en formato matriz, no en un dataframe."
      ],
      "metadata": {
        "id": "M2IOwGS4AeVg"
      }
    },
    {
      "cell_type": "code",
      "source": [
        "#Creamos un dataframe a partir de la matriz generada\n",
        "ohc = encoder.get_feature_names_out(df_cat.columns)\n",
        "cols = np.append(ohc, df_num.columns)\n",
        "oh_df = pd.DataFrame(dat_enc, columns = cols)"
      ],
      "metadata": {
        "id": "747rtXv3P_3F"
      },
      "execution_count": null,
      "outputs": []
    },
    {
      "cell_type": "code",
      "source": [
        "dat_enc.shape"
      ],
      "metadata": {
        "id": "hLBD0Dhy1ouj",
        "colab": {
          "base_uri": "https://localhost:8080/"
        },
        "outputId": "120ccdf6-f83c-470a-9ecb-7d54b08d7ea2"
      },
      "execution_count": null,
      "outputs": [
        {
          "output_type": "execute_result",
          "data": {
            "text/plain": [
              "(13518, 363)"
            ]
          },
          "metadata": {},
          "execution_count": 32
        }
      ]
    },
    {
      "cell_type": "code",
      "source": [
        "name_columns=cols.tolist()"
      ],
      "metadata": {
        "id": "9SIm5Xtg3q_Z"
      },
      "execution_count": null,
      "outputs": []
    },
    {
      "cell_type": "code",
      "source": [
        "print(name_columns)"
      ],
      "metadata": {
        "colab": {
          "base_uri": "https://localhost:8080/"
        },
        "id": "QjvKASDD_YH8",
        "outputId": "76de21b0-694d-40ad-993d-62a0b728832f"
      },
      "execution_count": null,
      "outputs": [
        {
          "output_type": "stream",
          "name": "stdout",
          "text": [
            "['Suburb_Reservoir', 'Suburb_Richmond', 'Suburb_Bentleigh East', 'Suburb_Preston', 'Suburb_Brunswick', 'Suburb_Essendon', 'Suburb_South Yarra', 'Suburb_Glen Iris', 'Suburb_Coburg', 'Suburb_Hawthorn', 'Suburb_Brighton', 'Suburb_Northcote', 'Suburb_Kew', 'Suburb_Balwyn North', 'Suburb_Pascoe Vale', 'Suburb_Yarraville', 'Suburb_St Kilda', 'Suburb_Glenroy', 'Suburb_Port Melbourne', 'Suburb_Moonee Ponds', 'Suburb_Carnegie', 'Suburb_Bentleigh', 'Suburb_Thornbury', 'Suburb_Brighton East', 'Suburb_Newport', 'Suburb_Camberwell', 'Suburb_Footscray', 'Suburb_Hampton', 'Suburb_Elwood', 'Suburb_Ascot Vale', 'Suburb_Surrey Hills', 'Suburb_Prahran', 'Suburb_Keilor East', 'Suburb_Hawthorn East', 'Suburb_Kensington', 'Suburb_Malvern East', 'Suburb_Doncaster', 'Suburb_Sunshine', 'Suburb_Brunswick West', 'Suburb_Balwyn', 'Suburb_Williamstown', 'Suburb_West Footscray', 'Suburb_Fawkner', 'Suburb_Toorak', 'Suburb_Ivanhoe', 'Suburb_Maribyrnong', 'Suburb_Maidstone', 'Suburb_Armadale', 'Suburb_Templestowe Lower', 'Suburb_Fitzroy North', 'Suburb_Brunswick East', 'Suburb_Sunshine West', 'Suburb_Burwood', 'Suburb_Ormond', 'Suburb_Niddrie', 'Suburb_Murrumbeena', 'Suburb_South Melbourne', 'Suburb_North Melbourne', 'Suburb_Heidelberg Heights', 'Suburb_Heidelberg West', 'Suburb_Avondale Heights', 'Suburb_Altona', 'Suburb_Bulleen', 'Suburb_Sunshine North', 'Suburb_Airport West', 'Suburb_Malvern', 'Suburb_Albert Park', 'Suburb_Collingwood', 'Suburb_Moorabbin', 'Suburb_Strathmore', 'Suburb_Oak Park', 'Suburb_Hadfield', 'Suburb_Flemington', 'Suburb_Seddon', 'Suburb_Rosanna', 'Suburb_Elsternwick', 'Suburb_Windsor', 'Suburb_Ashburton', 'Suburb_Box Hill', 'Suburb_Oakleigh South', 'Suburb_Mount Waverley', 'Suburb_Altona North', 'Suburb_Abbotsford', 'Suburb_Fitzroy', 'Suburb_Coburg North', 'Suburb_Clifton Hill', 'Suburb_Canterbury', 'Suburb_Epping', 'Suburb_Watsonia', 'Suburb_Heidelberg', 'Suburb_Werribee', 'Suburb_Carlton', 'Suburb_Kew East', 'Suburb_Craigieburn', 'Suburb_Caulfield South', 'Suburb_Oakleigh', 'Suburb_Cheltenham', 'Suburb_Braybrook', 'Suburb_Melbourne', 'Suburb_Ashwood', 'Suburb_Carlton North', 'Suburb_Glen Waverley', 'Suburb_Aberfeldie', 'Suburb_Fairfield', 'Suburb_Mill Park', 'Suburb_Lalor', 'Suburb_Viewbank', 'Suburb_Southbank', 'Suburb_Doncaster East', 'Suburb_Albion', 'Suburb_Hoppers Crossing', 'Suburb_Sunbury', 'Suburb_Greensborough', 'Suburb_Bundoora', 'Suburb_Caulfield North', 'Suburb_Chadstone', 'Suburb_Hughesdale', 'Suburb_Middle Park', 'Suburb_Kingsville', 'Suburb_Alphington', 'Suburb_Mont Albert', 'Suburb_Croydon', 'Suburb_Parkville', 'Suburb_West Melbourne', 'Suburb_Mitcham', 'Suburb_Thomastown', 'Suburb_Spotswood', 'Suburb_Mulgrave', 'Suburb_Highett', 'Suburb_Mentone', 'Suburb_Wheelers Hill', 'Suburb_Balaclava', 'Suburb_Essendon West', 'Suburb_Hampton East', 'Suburb_Eltham', 'Suburb_Jacana', 'Suburb_Ivanhoe East', 'Suburb_Sandringham', 'Suburb_St Albans', 'Suburb_Gowanbrae', 'Suburb_Yallambie', 'Suburb_Frankston', 'Suburb_Parkdale', 'Suburb_Cremorne', 'Suburb_Eaglemont', 'Suburb_Broadmeadows', 'Suburb_Keilor Park', 'Suburb_East Melbourne', 'Suburb_Wantirna South', 'Suburb_Forest Hill', 'Suburb_South Kingsville', 'Suburb_Ferntree Gully', 'Suburb_Essendon North', 'Suburb_Taylors Lakes', 'Suburb_Dingley Village', 'Suburb_Blackburn', 'Suburb_South Morang', 'Suburb_Gladstone Park', 'Suburb_Ringwood', 'Suburb_Nunawading', 'Suburb_Williamstown North', 'Suburb_Kealba', 'Suburb_Templestowe', 'Suburb_Mordialloc', 'Suburb_Hillside', 'Suburb_Melton South', 'Suburb_Beaumaris', 'Suburb_Montmorency', 'Suburb_Meadow Heights', 'Suburb_Glen Huntly', 'Suburb_Greenvale', 'Suburb_Frankston South', 'Suburb_Dandenong North', 'Suburb_Burwood East', 'Suburb_Bellfield', 'Suburb_Heathmont', 'Suburb_Keilor Downs', 'Suburb_Roxburgh Park', 'Suburb_Bayswater', 'Suburb_Deer Park', 'Suburb_Vermont', 'Suburb_Seaford', 'Suburb_Boronia', 'Suburb_Blackburn North', 'Suburb_Westmeadows', 'Suburb_Point Cook', 'Suburb_Tullamarine', 'Suburb_Vermont South', 'Suburb_Clayton', 'Suburb_Eltham North', 'Suburb_Kingsbury', 'Suburb_Dandenong', 'Suburb_Donvale', 'Suburb_Berwick', 'Suburb_Blackburn South', 'Suburb_Melton', 'Suburb_Black Rock', 'Suburb_Wantirna', 'Suburb_Ringwood East', 'Suburb_Caulfield', 'Suburb_Mooroolbark', 'Suburb_Noble Park', 'Suburb_Carrum Downs', 'Suburb_Caroline Springs', 'Suburb_Clayton South', 'Suburb_Keysborough', 'Suburb_Oakleigh East', 'Suburb_Watsonia North', 'Suburb_Tarneit', 'Suburb_Travancore', 'Suburb_Ringwood North', 'Suburb_Rowville', 'Suburb_Wollert', 'Suburb_Caulfield East', 'Suburb_Carrum', 'Suburb_Brooklyn', 'Suburb_Keilor', 'Suburb_Edithvale', 'Suburb_Ripponlea', 'Suburb_Mernda', 'Suburb_Springvale', 'Suburb_Melton West', 'Suburb_McKinnon', 'Suburb_Bayswater North', 'Suburb_Gisborne', 'Suburb_Briar Hill', 'Suburb_Narre Warren', 'Suburb_Taylors Hill', 'Suburb_Huntingdale', 'Suburb_Croydon North', 'Suburb_Doveton', 'Suburb_Cairnlea', 'Suburb_Aspendale', 'Suburb_Scoresby', 'Suburb_Burnley', 'Suburb_Langwarrin', 'Suburb_Albanvale', 'Suburb_Dallas', 'Suburb_Altona Meadows', 'Suburb_Delahey', 'Suburb_Strathmore Heights', 'Suburb_Gardenvale', 'Suburb_Seaholme', 'Suburb_Diamond Creek', 'Suburb_Doreen', 'Suburb_Lower Plenty', 'Suburb_Chelsea', 'Suburb_Endeavour Hills', 'Suburb_Truganina', 'Suburb_Princes Hill', 'Suburb_Kings Park', 'Suburb_Hallam', 'Suburb_Warrandyte', 'Suburb_Derrimut', 'Suburb_Sydenham', 'Suburb_Campbellfield', 'Suburb_Wyndham Vale', 'Suburb_Knoxfield', 'Suburb_Chelsea Heights', 'Suburb_Aspendale Gardens', 'Suburb_Bonbeach', 'Suburb_Clarinda', 'Suburb_Frankston North', 'Suburb_Hampton Park', 'Suburb_Coolaroo', 'Suburb_Croydon Hills', 'Suburb_Kilsyth', 'Suburb_The Basin', 'Suburb_Kurunjang', 'Suburb_St Helena', 'Suburb_Pakenham', 'Suburb_Ardeer', 'Suburb_Notting Hill', 'Suburb_Springvale South', 'Suburb_Docklands', 'Suburb_Seabrook', 'Suburb_Burnside Heights', 'Suburb_Cranbourne', 'Suburb_Deepdene', 'Suburb_Waterways', 'Suburb_Beaconsfield', 'Suburb_Cranbourne North', 'Suburb_Burnside', 'Suburb_Williams Landing', 'Suburb_Mount Evelyn', 'Suburb_Keilor Lodge', 'Suburb_North Warrandyte', 'Suburb_Diggers Rest', 'Suburb_Chirnside Park', 'Suburb_Silvan', 'Suburb_Skye', 'Suburb_Kooyong', 'Suburb_Healesville', 'Suburb_Yarra Glen', 'Suburb_Brookfield', 'Suburb_Emerald', 'Suburb_Bacchus Marsh', 'Suburb_Whittlesea', 'Suburb_Wallan', 'Suburb_New Gisborne', 'Suburb_Plumpton', 'Suburb_Attwood', 'Suburb_Officer', 'Suburb_Beaconsfield Upper', 'Suburb_Upwey', 'Suburb_Rockbank', 'Suburb_Wonga Park', 'Suburb_Hurstbridge', 'Suburb_Riddells Creek', 'Suburb_Sandhurst', 'Suburb_Bullengarook', 'Suburb_Montrose', 'Suburb_Croydon South', 'Suburb_Monbulk', 'Type_h', 'Type_u', 'Type_t', 'CouncilArea_Moreland', 'CouncilArea_Boroondara', 'CouncilArea_Moonee Valley', 'CouncilArea_Darebin', 'CouncilArea_Glen Eira', 'CouncilArea_Stonnington', 'CouncilArea_Maribyrnong', 'CouncilArea_Yarra', 'CouncilArea_Port Phillip', 'CouncilArea_Banyule', 'CouncilArea_Bayside', 'CouncilArea_Brimbank', 'CouncilArea_Melbourne', 'CouncilArea_Hobsons Bay', 'CouncilArea_Monash', 'CouncilArea_Whitehorse', 'CouncilArea_Manningham', 'CouncilArea_Kingston', 'CouncilArea_Hume', 'CouncilArea_Whittlesea', 'CouncilArea_Wyndham', 'CouncilArea_Knox', 'CouncilArea_Maroondah', 'CouncilArea_Melton', 'CouncilArea_Frankston', 'CouncilArea_Greater Dandenong', 'CouncilArea_Nillumbik', 'CouncilArea_Casey', 'CouncilArea_Yarra Ranges', 'CouncilArea_Macedon Ranges', 'CouncilArea_Cardinia', 'CouncilArea_Unavailable', 'CouncilArea_Moorabool', 'CouncilArea_Mitchell', 'CouncilArea_Shire of Macedon Ranges', 'Price', 'Postcode', 'Bathroom', 'Car', 'Landsize', 'Lattitude', 'Longtitude', 'airbnb_price_mean', 'airbnb_weekly_price_mean', 'airbnb_monthly_price_mean', 'Rooms']\n"
          ]
        }
      ]
    },
    {
      "cell_type": "code",
      "source": [
        "\n",
        "missing_values_count=oh_df.isnull().sum()\n",
        "missing_values_count[missing_values_count > 0]"
      ],
      "metadata": {
        "colab": {
          "base_uri": "https://localhost:8080/"
        },
        "id": "P8JxOx4kEtc2",
        "outputId": "37646089-3c77-4298-8d52-a4d0b7a6e987"
      },
      "execution_count": null,
      "outputs": [
        {
          "output_type": "execute_result",
          "data": {
            "text/plain": [
              "Series([], dtype: int64)"
            ]
          },
          "metadata": {},
          "execution_count": 35
        }
      ]
    },
    {
      "cell_type": "markdown",
      "metadata": {
        "id": "ismngxPcfoWb"
      },
      "source": [
        "## Ejercicio 2: Imputación por KNN\n",
        "\n",
        "En el teórico se presentó el método `IterativeImputer` para imputar valores faltantes en variables numéricas. Sin embargo, los ejemplos presentados sólo utilizaban algunas variables numéricas presentes en el conjunto de datos. En este ejercicio, utilizaremos la matriz de datos codificada para imputar datos faltantes de manera más precisa.\n",
        "\n",
        "1. Agregue a la matriz obtenida en el punto anterior las columnas `YearBuilt` y `BuildingArea`.\n",
        "2. Aplique una instancia de `IterativeImputer` con un estimador `KNeighborsRegressor` para imputar los valores de las variables. ¿Es necesario estandarizar o escalar los datos previamente?\n",
        "3. Realice un gráfico mostrando la distribución de cada variable antes de ser imputada, y con ambos métodos de imputación."
      ]
    },
    {
      "cell_type": "code",
      "source": [
        "#importamos libs\n",
        "from sklearn.experimental import enable_iterative_imputer\n",
        "from sklearn.neighbors import KNeighborsRegressor\n",
        "from sklearn.impute import IterativeImputer\n",
        "import missingno as msno\n",
        "from sklearn.preprocessing import StandardScaler\n"
      ],
      "metadata": {
        "id": "6o39FqQKZFyt"
      },
      "execution_count": null,
      "outputs": []
    },
    {
      "cell_type": "markdown",
      "source": [
        "1. Agregue a la matriz obtenida en el punto anterior las columnas `YearBuilt` y `BuildingArea`."
      ],
      "metadata": {
        "id": "S7hsoP0oj_5a"
      }
    },
    {
      "cell_type": "code",
      "source": [
        "#usamos numpy.hstack para concatenar el resultado con las variables numéricas, tal como se realizo en el ejercicio de enconding. \n",
        "melb_data_mice = np.hstack([oh_df, melb_df[['BuildingArea','YearBuilt']].values])\n",
        "name_columns.extend(['BuildingArea','YearBuilt'])\n"
      ],
      "metadata": {
        "id": "Xv4mA-FNZ4Nl"
      },
      "execution_count": null,
      "outputs": []
    },
    {
      "cell_type": "markdown",
      "source": [
        "2. Aplique una instancia de `IterativeImputer` con un estimador `KNeighborsRegressor` para imputar los valores de las variables. ¿Es necesario estandarizar o escalar los datos previamente?"
      ],
      "metadata": {
        "id": "gjV8HfPXlBL_"
      }
    },
    {
      "cell_type": "markdown",
      "source": [
        "<font color=blue> En este caso es necesario estandarizar, dado que, como ya sabemos los algoritmos de aprendizaje automático que se basan en la hipótesis de que los datos poseen una distribución gaussiana requieren que los mismos sean estandarizados.<br>La librería de Scikit-learn cuenta con un modelo llamado Preprocessing con funciones útiles y de fácil implementación: sklearn.preprocessing, para este caso utilizaremos StandardScaler."
      ],
      "metadata": {
        "id": "W5gZWTpSson8"
      }
    },
    {
      "cell_type": "code",
      "source": [
        "scaler = StandardScaler()\n",
        "scaler_Todas = StandardScaler()"
      ],
      "metadata": {
        "id": "pvR7Ff5Pk4vR"
      },
      "execution_count": null,
      "outputs": []
    },
    {
      "cell_type": "code",
      "source": [
        "melb_data_mice_scaler = melb_data_mice.copy()\n",
        "melb_data_mice_scaler = scaler.fit_transform(melb_data_mice_scaler)\n",
        "melb_data_mice_KNR = pd.DataFrame(data=melb_data_mice_scaler, columns=name_columns)\n"
      ],
      "metadata": {
        "id": "ynMBwglpbqBH"
      },
      "execution_count": null,
      "outputs": []
    },
    {
      "cell_type": "code",
      "source": [
        "melb_data_mice_KNR.shape"
      ],
      "metadata": {
        "colab": {
          "base_uri": "https://localhost:8080/"
        },
        "id": "oDmksD50ImTg",
        "outputId": "93bad7b6-12e9-447c-8740-42d3dde556e8"
      },
      "execution_count": null,
      "outputs": [
        {
          "output_type": "execute_result",
          "data": {
            "text/plain": [
              "(13518, 365)"
            ]
          },
          "metadata": {},
          "execution_count": 40
        }
      ]
    },
    {
      "cell_type": "code",
      "source": [
        "#comprobamos el escalonamiento a traves de la media, sumamos de todo el dataframe.\n",
        "# y la desviacion standard que da 365 para las 363 variables con lo cual se puede inferir que la varianza es 1, tener en cuenta que hemos\n",
        "# sacado la desviacion estandard\n",
        "melb_data_mice_KNR.mean().sum(),melb_data_mice_KNR.std().sum() "
      ],
      "metadata": {
        "colab": {
          "base_uri": "https://localhost:8080/"
        },
        "id": "QPu7aXsoyGpr",
        "outputId": "56711741-81d9-4b2c-f959-f6bdb7eec2fe"
      },
      "execution_count": null,
      "outputs": [
        {
          "output_type": "execute_result",
          "data": {
            "text/plain": [
              "(3.064083439518325e-12, 365.0135588825949)"
            ]
          },
          "metadata": {},
          "execution_count": 41
        }
      ]
    },
    {
      "cell_type": "code",
      "source": [
        "# ahora probaremos con todas las variables\n",
        "melb_data_mice_KNR_Todas = pd.DataFrame(data=melb_data_mice, columns=name_columns)"
      ],
      "metadata": {
        "id": "REEUvtMnckvv"
      },
      "execution_count": null,
      "outputs": []
    },
    {
      "cell_type": "code",
      "source": [
        "\n",
        "columnas_Todas=['Type_h', 'Type_u', 'Type_t','Rooms','Price','Postcode', 'Bathroom', 'Car', 'Landsize', 'Lattitude', 'Longtitude', 'airbnb_monthly_price_mean', 'airbnb_weekly_price_mean', 'BuildingArea', 'YearBuilt']"
      ],
      "metadata": {
        "id": "01lEq7Gjb70G"
      },
      "execution_count": null,
      "outputs": []
    },
    {
      "cell_type": "code",
      "source": [
        "melb_data_mice_KNR_Todas = melb_data_mice_KNR_Todas[columnas_Todas]\n",
        "melb_data_mice_KNR_Todas = scaler_Todas.fit_transform(melb_data_mice_KNR_Todas)\n",
        "melb_data_mice_KNR_Todas = pd.DataFrame(data=melb_data_mice_KNR_Todas, columns=columnas_Todas)"
      ],
      "metadata": {
        "id": "GZPgSxTKuwH_"
      },
      "execution_count": null,
      "outputs": []
    },
    {
      "cell_type": "code",
      "source": [
        "melb_data_mice_KNR_Todas.shape"
      ],
      "metadata": {
        "colab": {
          "base_uri": "https://localhost:8080/"
        },
        "id": "oe0ZKa7kJEzw",
        "outputId": "c85ae663-468e-4fb9-9cbb-1a6514473c3c"
      },
      "execution_count": null,
      "outputs": [
        {
          "output_type": "execute_result",
          "data": {
            "text/plain": [
              "(13518, 15)"
            ]
          },
          "metadata": {},
          "execution_count": 45
        }
      ]
    },
    {
      "cell_type": "code",
      "source": [
        "#comprobamos el escalonamiento a traves de la media, sumamos de todo el dataframe.\n",
        "# y la desviacion standard que da 15 para las 15 variables con lo cual se puede inferir que la varianza es 1, tener en cuenta que hemos\n",
        "# sacado la desviacion estandard\n",
        "melb_data_mice_KNR_Todas.mean().sum(),melb_data_mice_KNR_Todas.std().sum() "
      ],
      "metadata": {
        "colab": {
          "base_uri": "https://localhost:8080/"
        },
        "id": "01_Agl1U7Rsr",
        "outputId": "a72a1331-94ed-4638-f98a-0eee6e4905e7"
      },
      "execution_count": null,
      "outputs": [
        {
          "output_type": "execute_result",
          "data": {
            "text/plain": [
              "(3.0010202749908144e-12, 15.000612462271407)"
            ]
          },
          "metadata": {},
          "execution_count": 46
        }
      ]
    },
    {
      "cell_type": "markdown",
      "source": [
        "# Imputacion con KNeighborsRegressor"
      ],
      "metadata": {
        "id": "P_G4FT1GEDcV"
      }
    },
    {
      "cell_type": "code",
      "source": [
        "#Imputacion Multiple usando método KNeighborsRegressor.\n",
        "# Nos basamos en el dataframe melb_data_mice que contiene los datos previamente codificados con ONE-HOT ENCODING, oh_df.\n",
        "melb_data_mice = pd.DataFrame(data=melb_data_mice, columns=name_columns)"
      ],
      "metadata": {
        "id": "wlpenuLMDjRA"
      },
      "execution_count": null,
      "outputs": []
    },
    {
      "cell_type": "code",
      "source": [
        "melb_data_mice.shape"
      ],
      "metadata": {
        "colab": {
          "base_uri": "https://localhost:8080/"
        },
        "id": "OF6t9oqKC-t3",
        "outputId": "2da1f45d-b998-4abc-da58-ebe393a67902"
      },
      "execution_count": null,
      "outputs": [
        {
          "output_type": "execute_result",
          "data": {
            "text/plain": [
              "(13518, 365)"
            ]
          },
          "metadata": {},
          "execution_count": 48
        }
      ]
    },
    {
      "cell_type": "code",
      "source": [
        "#graficamos antes de imputar\n",
        "msno.bar(melb_data_mice[['YearBuilt','BuildingArea']],figsize=(6, 3), sort=\"ascending\",fontsize=12, color='b')\n"
      ],
      "metadata": {
        "colab": {
          "base_uri": "https://localhost:8080/",
          "height": 331
        },
        "id": "byGzs1lwJaps",
        "outputId": "726e84fa-a381-4424-e6f2-6cb1fbb709d4"
      },
      "execution_count": null,
      "outputs": [
        {
          "output_type": "execute_result",
          "data": {
            "text/plain": [
              "<matplotlib.axes._subplots.AxesSubplot at 0x7f72ce41b3d0>"
            ]
          },
          "metadata": {},
          "execution_count": 49
        },
        {
          "output_type": "display_data",
          "data": {
            "text/plain": [
              "<Figure size 432x216 with 3 Axes>"
            ],
            "image/png": "[encoded data removed]"
          },
          "metadata": {
            "needs_background": "light"
          }
        }
      ]
    },
    {
      "cell_type": "code",
      "source": [
        "msno.matrix(melb_data_mice[['YearBuilt','BuildingArea']],figsize=(2, 8),fontsize=8, color=[1,0,1])"
      ],
      "metadata": {
        "colab": {
          "base_uri": "https://localhost:8080/",
          "height": 545
        },
        "id": "ia-5LuXTKSrp",
        "outputId": "e1cd85c5-65f7-4dc4-f025-78665e8479a0"
      },
      "execution_count": null,
      "outputs": [
        {
          "output_type": "execute_result",
          "data": {
            "text/plain": [
              "<matplotlib.axes._subplots.AxesSubplot at 0x7f72cbb1f910>"
            ]
          },
          "metadata": {},
          "execution_count": 50
        },
        {
          "output_type": "display_data",
          "data": {
            "text/plain": [
              "<Figure size 144x576 with 2 Axes>"
            ],
            "image/png": "[encoded data removed]"
          },
          "metadata": {
            "needs_background": "light"
          }
        }
      ]
    },
    {
      "cell_type": "markdown",
      "source": [
        "# Imputacion con KNeighborsRegressor"
      ],
      "metadata": {
        "id": "xL2aY8cEDOhl"
      }
    },
    {
      "cell_type": "code",
      "source": [
        "# usamos como semilla el valor 30 , estimador KNeighborsRegressor para las columnas 'YearBuilt','BuildingArea' y estimaremos en primer instancia con las mismas variables\n",
        "\n",
        "mice_imputer = IterativeImputer(random_state=30, estimator=KNeighborsRegressor())\n",
        "melb_data_mice_KNR[['YearBuilt','BuildingArea']] = mice_imputer.fit_transform(melb_data_mice_KNR[['YearBuilt', 'BuildingArea']])\n"
      ],
      "metadata": {
        "id": "DRCtvJh1D8WM",
        "colab": {
          "base_uri": "https://localhost:8080/"
        },
        "outputId": "78a8f7ed-a726-4b47-ecdd-f0750b2335e0"
      },
      "execution_count": null,
      "outputs": [
        {
          "output_type": "stream",
          "name": "stderr",
          "text": [
            "/usr/local/lib/python3.7/dist-packages/sklearn/impute/_iterative.py:701: ConvergenceWarning: [IterativeImputer] Early stopping criterion not reached.\n",
            "  ConvergenceWarning,\n"
          ]
        }
      ]
    },
    {
      "cell_type": "code",
      "source": [
        "#convertimos los datos standarizados a valores originales\n",
        "melb_data_mice_KNR = scaler.inverse_transform(melb_data_mice_KNR)"
      ],
      "metadata": {
        "id": "TTZFJ6hLETuz"
      },
      "execution_count": null,
      "outputs": []
    },
    {
      "cell_type": "code",
      "source": [
        "melb_data_mice_KNR = pd.DataFrame(data=melb_data_mice_KNR, columns=name_columns)"
      ],
      "metadata": {
        "id": "-8F-pP0iEY78"
      },
      "execution_count": null,
      "outputs": []
    },
    {
      "cell_type": "markdown",
      "source": [
        "<font color=blue>Graficamos despues de la imputacion:"
      ],
      "metadata": {
        "id": "4AaMu2dHMXEh"
      }
    },
    {
      "cell_type": "code",
      "source": [
        "msno.bar(melb_data_mice_KNR[['YearBuilt','BuildingArea']],figsize=(6, 3), sort=\"ascending\",fontsize=12, color='blue')\n"
      ],
      "metadata": {
        "colab": {
          "base_uri": "https://localhost:8080/",
          "height": 337
        },
        "id": "FqZtXe39ME_0",
        "outputId": "39eb878f-13dc-42b7-8a1f-fbc3ec530daf"
      },
      "execution_count": null,
      "outputs": [
        {
          "output_type": "execute_result",
          "data": {
            "text/plain": [
              "<matplotlib.axes._subplots.AxesSubplot at 0x7f72cba7efd0>"
            ]
          },
          "metadata": {},
          "execution_count": 54
        },
        {
          "output_type": "display_data",
          "data": {
            "text/plain": [
              "<Figure size 432x216 with 3 Axes>"
            ],
            "image/png": "[encoded data removed]"
          },
          "metadata": {
            "needs_background": "light"
          }
        }
      ]
    },
    {
      "cell_type": "markdown",
      "source": [
        "<font color = blue>Entrenamos el algoritmo con todas las variables"
      ],
      "metadata": {
        "id": "J2gzTVfdPMwh"
      }
    },
    {
      "cell_type": "code",
      "source": [
        "\n",
        "melb_data_mice_KNR_Todas = mice_imputer.fit_transform(melb_data_mice_KNR_Todas)"
      ],
      "metadata": {
        "id": "GZ2L3nUvE63U",
        "colab": {
          "base_uri": "https://localhost:8080/"
        },
        "outputId": "9e00d512-e7a5-41e2-8e80-140e6a8c1938"
      },
      "execution_count": null,
      "outputs": [
        {
          "output_type": "stream",
          "name": "stderr",
          "text": [
            "/usr/local/lib/python3.7/dist-packages/sklearn/impute/_iterative.py:701: ConvergenceWarning: [IterativeImputer] Early stopping criterion not reached.\n",
            "  ConvergenceWarning,\n"
          ]
        }
      ]
    },
    {
      "cell_type": "code",
      "source": [
        "melb_data_mice_KNR_Todas = scaler_Todas.inverse_transform(melb_data_mice_KNR_Todas)"
      ],
      "metadata": {
        "id": "xf1eGFyKFGr8"
      },
      "execution_count": null,
      "outputs": []
    },
    {
      "cell_type": "code",
      "source": [
        "melb_data_mice_KNR_Todas = pd.DataFrame(data = melb_data_mice_KNR_Todas, columns = columnas_Todas)\n"
      ],
      "metadata": {
        "id": "9wV4if9KFKmE"
      },
      "execution_count": null,
      "outputs": []
    },
    {
      "cell_type": "code",
      "source": [
        "melb_data_mice_KNR_Todas.columns"
      ],
      "metadata": {
        "colab": {
          "base_uri": "https://localhost:8080/"
        },
        "id": "INmuhT6rddQc",
        "outputId": "07ef38cc-b5da-4187-8330-5aa4172a3e5d"
      },
      "execution_count": null,
      "outputs": [
        {
          "output_type": "execute_result",
          "data": {
            "text/plain": [
              "Index(['Type_h', 'Type_u', 'Type_t', 'Rooms', 'Price', 'Postcode', 'Bathroom',\n",
              "       'Car', 'Landsize', 'Lattitude', 'Longtitude',\n",
              "       'airbnb_monthly_price_mean', 'airbnb_weekly_price_mean', 'BuildingArea',\n",
              "       'YearBuilt'],\n",
              "      dtype='object')"
            ]
          },
          "metadata": {},
          "execution_count": 58
        }
      ]
    },
    {
      "cell_type": "code",
      "source": [
        "msno.bar(melb_data_mice_KNR_Todas[['YearBuilt','BuildingArea']],figsize=(6, 3), sort=\"ascending\",fontsize=12, color='b')"
      ],
      "metadata": {
        "colab": {
          "base_uri": "https://localhost:8080/",
          "height": 337
        },
        "id": "oxNCIc6FFfqM",
        "outputId": "3349b2c1-4196-479e-ca22-49885456b63a"
      },
      "execution_count": null,
      "outputs": [
        {
          "output_type": "execute_result",
          "data": {
            "text/plain": [
              "<matplotlib.axes._subplots.AxesSubplot at 0x7f72cb921050>"
            ]
          },
          "metadata": {},
          "execution_count": 59
        },
        {
          "output_type": "display_data",
          "data": {
            "text/plain": [
              "<Figure size 432x216 with 3 Axes>"
            ],
            "image/png": "[encoded data removed]"
          },
          "metadata": {
            "needs_background": "light"
          }
        }
      ]
    },
    {
      "cell_type": "markdown",
      "source": [
        "<font color= 'blue'> Graficos de distrubucion antes y despues de imputar"
      ],
      "metadata": {
        "id": "3XOu09ijFzYt"
      }
    },
    {
      "cell_type": "code",
      "source": [
        "import seaborn as sns\n",
        "\n",
        "sns.kdeplot(melb_data_mice['BuildingArea'],color='green', shade=True, cbar=True)\n",
        "sns.kdeplot(melb_data_mice_KNR['BuildingArea'],color='blue', shade=True, cbar=True)\n",
        "sns.kdeplot(melb_data_mice_KNR_Todas['BuildingArea'], color='purple', shade=True, cbar=True)\n",
        "sns.set(rc = {'figure.figsize': (15,8)})\n",
        "plt.xlim(0,600)\n",
        "plt.legend(labels=[\"Original\",\"Imputacion Knr, Ajuste con YearBuilt y BuildingArea\", \"Imputacion Knr, Ajuste con Todo el Dataset\"])\n",
        "plt.show()\n"
      ],
      "metadata": {
        "colab": {
          "base_uri": "https://localhost:8080/",
          "height": 301
        },
        "id": "EbFAsPxzFvRj",
        "outputId": "e3f7fe6f-a3c8-4960-a67e-c2d56fca4008"
      },
      "execution_count": null,
      "outputs": [
        {
          "output_type": "display_data",
          "data": {
            "text/plain": [
              "<Figure size 432x288 with 1 Axes>"
            ],
            "image/png": "[encoded data removed]"
          },
          "metadata": {
            "needs_background": "light"
          }
        }
      ]
    },
    {
      "cell_type": "code",
      "source": [
        "sns.kdeplot(melb_data_mice['YearBuilt'],color='green', shade=True, cbar=True )\n",
        "sns.kdeplot(melb_data_mice_KNR['YearBuilt'],color='blue', shade=True, cbar=True)\n",
        "sns.kdeplot(melb_data_mice_KNR_Todas['YearBuilt'],color='purple', shade=True, cbar=True)\n",
        "plt.xlim(1800,2100)\n",
        "plt.legend(labels=[\"Original\",\"Imputacion Knr, Ajuste con YearBuilt y BuildingArea\", \"Imputacion Knr, Ajuste con Todo el Dataset\"])\n",
        "sns.set(rc = {'figure.figsize': (15,8)})\n",
        "plt.show()\n"
      ],
      "metadata": {
        "colab": {
          "base_uri": "https://localhost:8080/",
          "height": 502
        },
        "id": "UQS_BO6aHIWN",
        "outputId": "845668be-8d17-4adc-8816-7e34f841769b"
      },
      "execution_count": null,
      "outputs": [
        {
          "output_type": "display_data",
          "data": {
            "text/plain": [
              "<Figure size 1080x576 with 1 Axes>"
            ],
            "image/png": "[encoded data removed]"
          },
          "metadata": {}
        }
      ]
    },
    {
      "cell_type": "markdown",
      "source": [
        " <font color =blue>\n",
        "De las graficas obtenidas anteriormente para las columnas imputadas se puede concluir que el modelo que mejor predice es aquel que lo ejecuta con todas las variables aproximandose mas a la distribucion de la funcion original, esto se observa para ambas variables. <br> K-Nearest Neighbor es uno de los algoritmos de machine learning más simples. Su funcionamiento es el siguiente: para predecir una observación se identifican las K observaciones del conjunto de entrenamiento que más se asemejan a ella (en base a sus predictores) y se emplea como valor predicho el promedio de la variable respuesta en dichas observaciones. Dada su sencillez, suele dar peores resultados que otros algoritmos, pero es un buen referente como baseline.\n"
      ],
      "metadata": {
        "id": "xcQLG3ElHWsC"
      }
    },
    {
      "cell_type": "code",
      "source": [
        "#agregamos las columnas imputadas obtenidas del imputador de todas las caracteristicas al Dataset obtenido del one hot encoding\n",
        "melb_data_mice_knn = np.hstack([dat_enc, melb_data_mice_KNR_Todas[['BuildingArea','YearBuilt']].values])"
      ],
      "metadata": {
        "id": "f1hU_2J-HUIE"
      },
      "execution_count": null,
      "outputs": []
    },
    {
      "cell_type": "code",
      "source": [
        "melb_data_mice_knn = pd.DataFrame(data=melb_data_mice_knn, columns=name_columns)"
      ],
      "metadata": {
        "id": "ZUOz3C90HwId"
      },
      "execution_count": null,
      "outputs": []
    },
    {
      "cell_type": "code",
      "source": [
        "melb_data_mice_knn.isnull().sum()"
      ],
      "metadata": {
        "colab": {
          "base_uri": "https://localhost:8080/"
        },
        "id": "rJzEzgm2HFrB",
        "outputId": "b2c07ceb-f21e-43c9-d3f2-1aa6b6c6e034"
      },
      "execution_count": null,
      "outputs": [
        {
          "output_type": "execute_result",
          "data": {
            "text/plain": [
              "Suburb_Reservoir             0\n",
              "Suburb_Richmond              0\n",
              "Suburb_Bentleigh East        0\n",
              "Suburb_Preston               0\n",
              "Suburb_Brunswick             0\n",
              "                            ..\n",
              "airbnb_weekly_price_mean     0\n",
              "airbnb_monthly_price_mean    0\n",
              "Rooms                        0\n",
              "BuildingArea                 0\n",
              "YearBuilt                    0\n",
              "Length: 365, dtype: int64"
            ]
          },
          "metadata": {},
          "execution_count": 64
        }
      ]
    },
    {
      "cell_type": "markdown",
      "metadata": {
        "id": "NBN7-5OIxjJW"
      },
      "source": [
        "## Ejercicio 3: Reducción de dimensionalidad.\n",
        "\n",
        "Utilizando la matriz obtenida en el ejercicio anterior:\n",
        "1. Aplique `PCA` para obtener $n$ componentes principales de la matriz, donde `n = min(20, X.shape[0])`. ¿Es necesario estandarizar o escalar los datos?\n",
        "2. Grafique la varianza capturada por los primeros $n$ componentes principales, para cada $n$.\n",
        "3. En base al gráfico, seleccione las primeras $m$ columnas de la matriz transformada para agregar como nuevas características al conjunto de datos."
      ]
    },
    {
      "cell_type": "markdown",
      "source": [
        "1. Aplique `PCA` para obtener $n$ componentes principales de la matriz, donde `n = min(20, X.shape[0])`. ¿Es necesario estandarizar o escalar los datos?"
      ],
      "metadata": {
        "id": "UjOYDDV0tNJ3"
      }
    },
    {
      "cell_type": "markdown",
      "source": [
        "\n",
        "<font color=blue>Una forma intuitiva de entender el proceso de PCA es interpretar las componentes principales desde un punto de vista geométrico. Supóngase un conjunto de observaciones para las que se dispone de dos variables ( X1 ,  X2 ). El vector que define la primera componente principal ( Z1 ) sigue la dirección en la que las observaciones tienen más varianza (línea roja). La proyección de cada observación sobre esa dirección equivale al valor de la primera componente para dicha observación (principal component score,  zi1 ).<br> La segunda componente ( Z2 ) sigue la segunda dirección en la que los datos muestran mayor varianza y que no está correlacionada con la primera componente. La condición de no correlación entre componentes principales equivale a decir que sus direcciones son perpendiculares/ortogonales."
      ],
      "metadata": {
        "id": "Id_1Cv5wC8YN"
      }
    },
    {
      "cell_type": "markdown",
      "source": [
        "![pca.png](data:image/png;base64,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)"
      ],
      "metadata": {
        "id": "tRoX_tztqsEX"
      }
    },
    {
      "cell_type": "markdown",
      "source": [
        "<font color=blue>Cada componente principal ( Zi ) se obtiene por combinación lineal de las variables originales. Se pueden entender como nuevas variables obtenidas al combinar de una determinada forma las variables originales. La primera componente principal de un grupo de variables ( X1 ,  X2 , ...,  Xp ) es la combinación lineal normalizada de dichas variables que tiene mayor varianza. <br>El proceso de PCA identifica las direcciones con mayor varianza. Como la varianza de una variable se mide en sus mismas unidades elevadas al cuadrado, si antes de calcular las componentes no se estandarizan todas las variables para que tengan media cero y desviación estándar de uno, aquellas variables cuya escala sea mayor dominarán al resto. De ahí que sea recomendable estandarizar siempre los datos. \n"
      ],
      "metadata": {
        "id": "MlRYfmY0q1_Q"
      }
    },
    {
      "cell_type": "code",
      "source": [
        "#Para aplicar PCA, tomaremos el resultado obtenido en el punto 2 y acorde a la conclusion obtenida.\n",
        "#Antes de comenzar exploremos un poco los datos solo de algunas variables las mas interesantes\n",
        "\n",
        "melb_data_mice_knn.shape\n"
      ],
      "metadata": {
        "colab": {
          "base_uri": "https://localhost:8080/"
        },
        "id": "YBKjs7Q_C2-m",
        "outputId": "45588614-ea97-42b9-d05d-74518f627b2f"
      },
      "execution_count": null,
      "outputs": [
        {
          "output_type": "execute_result",
          "data": {
            "text/plain": [
              "(13518, 365)"
            ]
          },
          "metadata": {},
          "execution_count": 65
        }
      ]
    },
    {
      "cell_type": "code",
      "source": [
        "missing_values_count=melb_data_mice_knn.isnull().sum()\n",
        "missing_values_count[missing_values_count > 0]"
      ],
      "metadata": {
        "colab": {
          "base_uri": "https://localhost:8080/"
        },
        "id": "2jF_FNM3Datu",
        "outputId": "7ff0aaa1-9daf-47d0-ffee-aad6595efd30"
      },
      "execution_count": null,
      "outputs": [
        {
          "output_type": "execute_result",
          "data": {
            "text/plain": [
              "Series([], dtype: int64)"
            ]
          },
          "metadata": {},
          "execution_count": 66
        }
      ]
    },
    {
      "cell_type": "code",
      "source": [
        "Columnas_Interesantes=['Car', 'Landsize', 'Lattitude', 'Longtitude', 'airbnb_price_mean', 'airbnb_weekly_price_mean', 'airbnb_monthly_price_mean', 'Rooms', 'BuildingArea', 'YearBuilt']\n",
        "\n",
        "melb_data_mice_knn[Columnas_Interesantes].mean() \n"
      ],
      "metadata": {
        "colab": {
          "base_uri": "https://localhost:8080/"
        },
        "id": "MfWo2V9OseRY",
        "outputId": "be6401d2-4291-4974-a1ea-f1dc72e9854b"
      },
      "execution_count": null,
      "outputs": [
        {
          "output_type": "execute_result",
          "data": {
            "text/plain": [
              "Car                            1.61\n",
              "Landsize                     558.11\n",
              "Lattitude                    -37.81\n",
              "Longtitude                   145.00\n",
              "airbnb_price_mean            131.17\n",
              "airbnb_weekly_price_mean     700.05\n",
              "airbnb_monthly_price_mean   2586.74\n",
              "Rooms                          2.94\n",
              "BuildingArea                 147.78\n",
              "YearBuilt                   1963.00\n",
              "dtype: float64"
            ]
          },
          "metadata": {},
          "execution_count": 67
        }
      ]
    },
    {
      "cell_type": "code",
      "source": [
        "melb_data_mice_knn[Columnas_Interesantes].var() #(axis=0)"
      ],
      "metadata": {
        "colab": {
          "base_uri": "https://localhost:8080/"
        },
        "id": "9FdKO3z8vJ8o",
        "outputId": "7d19b2e4-e1a5-46de-a2ee-720ead5cdc41"
      },
      "execution_count": null,
      "outputs": [
        {
          "output_type": "execute_result",
          "data": {
            "text/plain": [
              "Car                                0.93\n",
              "Landsize                    15985559.74\n",
              "Lattitude                          0.01\n",
              "Longtitude                         0.01\n",
              "airbnb_price_mean               4129.81\n",
              "airbnb_weekly_price_mean      108153.78\n",
              "airbnb_monthly_price_mean    1923840.87\n",
              "Rooms                              0.91\n",
              "BuildingArea                  179741.09\n",
              "YearBuilt                       1147.59\n",
              "dtype: float64"
            ]
          },
          "metadata": {},
          "execution_count": 68
        }
      ]
    },
    {
      "cell_type": "markdown",
      "source": [
        "<font color = blue>Si no se estandarizan las variables para que tengan media cero y desviación estándar de uno antes de realizar el estudio PCA, las variables Landsize y airbnb_monthly_price_mean, que tiene una media y dispersión muy superior al resto, dominará la mayoría de las componentes principales, para ello utilizaremos MinMaxScaler."
      ],
      "metadata": {
        "id": "8ewvkvz_vTV5"
      }
    },
    {
      "cell_type": "code",
      "source": [
        "# Scaled max-min (MinMaxScaler): transformar los datos de forma que estén dentro del rango [0, 1].\n",
        "from sklearn.preprocessing import  MinMaxScaler \n",
        "\n",
        "melb_data_mice_scalerPCA = melb_data_mice_knn.copy()\n",
        "scalerPCA = MinMaxScaler(feature_range=(-1, 1)) \n",
        "\n",
        "melb_data_mice_scalerPCA = scalerPCA.fit_transform(melb_data_mice_scalerPCA)\n",
        "\n",
        "melb_data_mice_PCA = pd.DataFrame(data=melb_data_mice_scalerPCA, columns=name_columns)\n",
        "\n",
        "melb_data_mice_PCA[Columnas_Interesantes].var() #(axis=0)"
      ],
      "metadata": {
        "colab": {
          "base_uri": "https://localhost:8080/"
        },
        "id": "GO-WkaN2wc0a",
        "outputId": "02fc505c-d5ea-4ccf-8dd3-ba1d82c3cd54"
      },
      "execution_count": null,
      "outputs": [
        {
          "output_type": "execute_result",
          "data": {
            "text/plain": [
              "Car                         0.04\n",
              "Landsize                    0.00\n",
              "Lattitude                   0.04\n",
              "Longtitude                  0.04\n",
              "airbnb_price_mean           0.03\n",
              "airbnb_weekly_price_mean    0.10\n",
              "airbnb_monthly_price_mean   0.09\n",
              "Rooms                       0.05\n",
              "BuildingArea                0.00\n",
              "YearBuilt                   0.01\n",
              "dtype: float64"
            ]
          },
          "metadata": {},
          "execution_count": 69
        }
      ]
    },
    {
      "cell_type": "code",
      "source": [
        "#Iniciamos PCA con n=20\n",
        "\n",
        "from sklearn.decomposition import PCA\n",
        "obj_pca = PCA(n_components=20)\n",
        "obj_pca.fit(melb_data_mice_scalerPCA)\n",
        "proyected_features = obj_pca.transform(melb_data_mice_scalerPCA)\n"
      ],
      "metadata": {
        "id": "tJ76DfMTH1f2"
      },
      "execution_count": null,
      "outputs": []
    },
    {
      "cell_type": "code",
      "source": [
        "print(\"Principal components\")\n",
        "print(obj_pca.components_)\n"
      ],
      "metadata": {
        "colab": {
          "base_uri": "https://localhost:8080/"
        },
        "id": "pCfyyjTnIIy-",
        "outputId": "c440d0ac-b20a-44b7-97c2-eb69b0af9ee6"
      },
      "execution_count": null,
      "outputs": [
        {
          "output_type": "stream",
          "name": "stdout",
          "text": [
            "Principal components\n",
            "[[-0.00369589  0.01120981 -0.0003959  ... -0.09997166 -0.00139637\n",
            "   0.02476118]\n",
            " [ 0.02657773 -0.02555897  0.02389521 ... -0.0007119  -0.00051097\n",
            "   0.02927903]\n",
            " [-0.11037144  0.00029516  0.03100808 ...  0.05813388  0.00125651\n",
            "   0.01360997]\n",
            " ...\n",
            " [-0.00682707 -0.00012491  0.00644583 ...  0.00456416  0.00021104\n",
            "  -0.00708672]\n",
            " [-0.10073249 -0.00023706 -0.03565583 ... -0.01714067 -0.00112212\n",
            "  -0.01547775]\n",
            " [-0.10585767 -0.00874153 -0.03811638 ... -0.0060583  -0.00042538\n",
            "   0.01164013]]\n"
          ]
        }
      ]
    },
    {
      "cell_type": "markdown",
      "source": [
        "<font color = blue> **components_** contiene el peso/importancia que tiene cada variable en cada componente. Las filas se corresponden con las componentes principales (ordenadas de mayor a menor varianza explicada). Las columnas se corresponden con las variables de entrada."
      ],
      "metadata": {
        "id": "kY5bGgsa7meN"
      }
    },
    {
      "cell_type": "code",
      "source": [
        "obj_pca_df=pd.DataFrame(data= obj_pca.components_, columns = melb_data_mice_PCA.columns, index   = ['PC1', 'PC2', 'PC3', 'PC4','PC5','PC6','PC7','PC8','PC9','PC10','PC11','PC12','PC13','PC14','PC15','PC16','PC17','PC18','PC19','PC20'])\n",
        "             \n",
        "obj_pca_df[Columnas_Interesantes].head()\n",
        "\n"
      ],
      "metadata": {
        "colab": {
          "base_uri": "https://localhost:8080/",
          "height": 206
        },
        "id": "6FyzF8aX4Z2c",
        "outputId": "8b69ee58-7d72-4a2a-dd3c-e75477562e47"
      },
      "execution_count": null,
      "outputs": [
        {
          "output_type": "execute_result",
          "data": {
            "text/plain": [
              "      Car  Landsize  Lattitude  Longtitude  airbnb_price_mean  \\\n",
              "PC1 -0.05     -0.00      -0.02        0.00               0.02   \n",
              "PC2  0.00     -0.00       0.08       -0.07              -0.08   \n",
              "PC3  0.03     -0.00      -0.08        0.07               0.04   \n",
              "PC4 -0.01      0.00       0.04       -0.02              -0.04   \n",
              "PC5  0.01     -0.00       0.05        0.06               0.06   \n",
              "\n",
              "     airbnb_weekly_price_mean  airbnb_monthly_price_mean  Rooms  BuildingArea  \\\n",
              "PC1                      0.07                       0.06  -0.10         -0.00   \n",
              "PC2                     -0.21                      -0.19  -0.00         -0.00   \n",
              "PC3                      0.16                       0.16   0.06          0.00   \n",
              "PC4                      0.08                       0.07  -0.02         -0.00   \n",
              "PC5                     -0.01                      -0.01  -0.01         -0.00   \n",
              "\n",
              "     YearBuilt  \n",
              "PC1       0.02  \n",
              "PC2       0.03  \n",
              "PC3       0.01  \n",
              "PC4      -0.01  \n",
              "PC5      -0.00  "
            ],
            "text/html": [
              "\n",
              "  <div id=\"df-47773acd-0f74-4dc5-b67f-19cfaebb32d7\">\n",
              "    <div class=\"colab-df-container\">\n",
              "      <div>\n",
              "<style scoped>\n",
              "    .dataframe tbody tr th:only-of-type {\n",
              "        vertical-align: middle;\n",
              "    }\n",
              "\n",
              "    .dataframe tbody tr th {\n",
              "        vertical-align: top;\n",
              "    }\n",
              "\n",
              "    .dataframe thead th {\n",
              "        text-align: right;\n",
              "    }\n",
              "</style>\n",
              "<table border=\"1\" class=\"dataframe\">\n",
              "  <thead>\n",
              "    <tr style=\"text-align: right;\">\n",
              "      <th></th>\n",
              "      <th>Car</th>\n",
              "      <th>Landsize</th>\n",
              "      <th>Lattitude</th>\n",
              "      <th>Longtitude</th>\n",
              "      <th>airbnb_price_mean</th>\n",
              "      <th>airbnb_weekly_price_mean</th>\n",
              "      <th>airbnb_monthly_price_mean</th>\n",
              "      <th>Rooms</th>\n",
              "      <th>BuildingArea</th>\n",
              "      <th>YearBuilt</th>\n",
              "    </tr>\n",
              "  </thead>\n",
              "  <tbody>\n",
              "    <tr>\n",
              "      <th>PC1</th>\n",
              "      <td>-0.05</td>\n",
              "      <td>-0.00</td>\n",
              "      <td>-0.02</td>\n",
              "      <td>0.00</td>\n",
              "      <td>0.02</td>\n",
              "      <td>0.07</td>\n",
              "      <td>0.06</td>\n",
              "      <td>-0.10</td>\n",
              "      <td>-0.00</td>\n",
              "      <td>0.02</td>\n",
              "    </tr>\n",
              "    <tr>\n",
              "      <th>PC2</th>\n",
              "      <td>0.00</td>\n",
              "      <td>-0.00</td>\n",
              "      <td>0.08</td>\n",
              "      <td>-0.07</td>\n",
              "      <td>-0.08</td>\n",
              "      <td>-0.21</td>\n",
              "      <td>-0.19</td>\n",
              "      <td>-0.00</td>\n",
              "      <td>-0.00</td>\n",
              "      <td>0.03</td>\n",
              "    </tr>\n",
              "    <tr>\n",
              "      <th>PC3</th>\n",
              "      <td>0.03</td>\n",
              "      <td>-0.00</td>\n",
              "      <td>-0.08</td>\n",
              "      <td>0.07</td>\n",
              "      <td>0.04</td>\n",
              "      <td>0.16</td>\n",
              "      <td>0.16</td>\n",
              "      <td>0.06</td>\n",
              "      <td>0.00</td>\n",
              "      <td>0.01</td>\n",
              "    </tr>\n",
              "    <tr>\n",
              "      <th>PC4</th>\n",
              "      <td>-0.01</td>\n",
              "      <td>0.00</td>\n",
              "      <td>0.04</td>\n",
              "      <td>-0.02</td>\n",
              "      <td>-0.04</td>\n",
              "      <td>0.08</td>\n",
              "      <td>0.07</td>\n",
              "      <td>-0.02</td>\n",
              "      <td>-0.00</td>\n",
              "      <td>-0.01</td>\n",
              "    </tr>\n",
              "    <tr>\n",
              "      <th>PC5</th>\n",
              "      <td>0.01</td>\n",
              "      <td>-0.00</td>\n",
              "      <td>0.05</td>\n",
              "      <td>0.06</td>\n",
              "      <td>0.06</td>\n",
              "      <td>-0.01</td>\n",
              "      <td>-0.01</td>\n",
              "      <td>-0.01</td>\n",
              "      <td>-0.00</td>\n",
              "      <td>-0.00</td>\n",
              "    </tr>\n",
              "  </tbody>\n",
              "</table>\n",
              "</div>\n",
              "      <button class=\"colab-df-convert\" onclick=\"convertToInteractive('df-47773acd-0f74-4dc5-b67f-19cfaebb32d7')\"\n",
              "              title=\"Convert this dataframe to an interactive table.\"\n",
              "              style=\"display:none;\">\n",
              "        \n",
              "  <svg xmlns=\"http://www.w3.org/2000/svg\" height=\"24px\"viewBox=\"0 0 24 24\"\n",
              "       width=\"24px\">\n",
              "    <path d=\"M0 0h24v24H0V0z\" fill=\"none\"/>\n",
              "    <path d=\"M18.56 5.44l.94 2.06.94-2.06 2.06-.94-2.06-.94-.94-2.06-.94 2.06-2.06.94zm-11 1L8.5 8.5l.94-2.06 2.06-.94-2.06-.94L8.5 2.5l-.94 2.06-2.06.94zm10 10l.94 2.06.94-2.06 2.06-.94-2.06-.94-.94-2.06-.94 2.06-2.06.94z\"/><path d=\"M17.41 7.96l-1.37-1.37c-.4-.4-.92-.59-1.43-.59-.52 0-1.04.2-1.43.59L10.3 9.45l-7.72 7.72c-.78.78-.78 2.05 0 2.83L4 21.41c.39.39.9.59 1.41.59.51 0 1.02-.2 1.41-.59l7.78-7.78 2.81-2.81c.8-.78.8-2.07 0-2.86zM5.41 20L4 18.59l7.72-7.72 1.47 1.35L5.41 20z\"/>\n",
              "  </svg>\n",
              "      </button>\n",
              "      \n",
              "  <style>\n",
              "    .colab-df-container {\n",
              "      display:flex;\n",
              "      flex-wrap:wrap;\n",
              "      gap: 12px;\n",
              "    }\n",
              "\n",
              "    .colab-df-convert {\n",
              "      background-color: #E8F0FE;\n",
              "      border: none;\n",
              "      border-radius: 50%;\n",
              "      cursor: pointer;\n",
              "      display: none;\n",
              "      fill: #1967D2;\n",
              "      height: 32px;\n",
              "      padding: 0 0 0 0;\n",
              "      width: 32px;\n",
              "    }\n",
              "\n",
              "    .colab-df-convert:hover {\n",
              "      background-color: #E2EBFA;\n",
              "      box-shadow: 0px 1px 2px rgba(60, 64, 67, 0.3), 0px 1px 3px 1px rgba(60, 64, 67, 0.15);\n",
              "      fill: #174EA6;\n",
              "    }\n",
              "\n",
              "    [theme=dark] .colab-df-convert {\n",
              "      background-color: #3B4455;\n",
              "      fill: #D2E3FC;\n",
              "    }\n",
              "\n",
              "    [theme=dark] .colab-df-convert:hover {\n",
              "      background-color: #434B5C;\n",
              "      box-shadow: 0px 1px 3px 1px rgba(0, 0, 0, 0.15);\n",
              "      filter: drop-shadow(0px 1px 2px rgba(0, 0, 0, 0.3));\n",
              "      fill: #FFFFFF;\n",
              "    }\n",
              "  </style>\n",
              "\n",
              "      <script>\n",
              "        const buttonEl =\n",
              "          document.querySelector('#df-47773acd-0f74-4dc5-b67f-19cfaebb32d7 button.colab-df-convert');\n",
              "        buttonEl.style.display =\n",
              "          google.colab.kernel.accessAllowed ? 'block' : 'none';\n",
              "\n",
              "        async function convertToInteractive(key) {\n",
              "          const element = document.querySelector('#df-47773acd-0f74-4dc5-b67f-19cfaebb32d7');\n",
              "          const dataTable =\n",
              "            await google.colab.kernel.invokeFunction('convertToInteractive',\n",
              "                                                     [key], {});\n",
              "          if (!dataTable) return;\n",
              "\n",
              "          const docLinkHtml = 'Like what you see? Visit the ' +\n",
              "            '<a target=\"_blank\" href=https://colab.research.google.com/notebooks/data_table.ipynb>data table notebook</a>'\n",
              "            + ' to learn more about interactive tables.';\n",
              "          element.innerHTML = '';\n",
              "          dataTable['output_type'] = 'display_data';\n",
              "          await google.colab.output.renderOutput(dataTable, element);\n",
              "          const docLink = document.createElement('div');\n",
              "          docLink.innerHTML = docLinkHtml;\n",
              "          element.appendChild(docLink);\n",
              "        }\n",
              "      </script>\n",
              "    </div>\n",
              "  </div>\n",
              "  "
            ]
          },
          "metadata": {},
          "execution_count": 72
        }
      ]
    },
    {
      "cell_type": "markdown",
      "source": [
        "<font color = blue> a modo de ejemplo (dado que tomamos algunas variables no todas para la conversion al df), se puede apreciar para la primer componente los valores de las variables airbnb_price_mean,\tairbnb_weekly_price_mean,\tairbnb_monthly_price_mean son las que mayor peso tienen esto indica que se recoge mayor informacion de estas variables mientras que para el PC2 es la variable Lattitude la que recoge mayor peso."
      ],
      "metadata": {
        "id": "zk4HOHRX6nMJ"
      }
    },
    {
      "cell_type": "code",
      "source": [
        "print(\"Explained variance: \")\n",
        "print(obj_pca.explained_variance_)\n",
        "print(\"Explained variance ratio\")\n",
        "print(obj_pca.explained_variance_ratio_)"
      ],
      "metadata": {
        "colab": {
          "base_uri": "https://localhost:8080/"
        },
        "id": "9Dr9tSuW73UU",
        "outputId": "ec8dc785-8c58-4827-99a0-4afac82f806c"
      },
      "execution_count": null,
      "outputs": [
        {
          "output_type": "stream",
          "name": "stdout",
          "text": [
            "Explained variance: \n",
            "[1.4700343  0.47093253 0.43364316 0.39333887 0.36423618 0.34409812\n",
            " 0.29745511 0.26900988 0.25461933 0.23947351 0.22876877 0.21112142\n",
            " 0.19416765 0.16797233 0.16218202 0.15737733 0.13577832 0.12894498\n",
            " 0.10525674 0.09963106]\n",
            "Explained variance ratio\n",
            "[0.14610611 0.04680579 0.04309962 0.03909379 0.03620129 0.03419977\n",
            " 0.02956394 0.02673678 0.02530651 0.02380117 0.02273724 0.02098327\n",
            " 0.01929824 0.0166947  0.0161192  0.01564167 0.01349495 0.01281579\n",
            " 0.01046142 0.00990229]\n"
          ]
        }
      ]
    },
    {
      "cell_type": "markdown",
      "source": [
        "<font color=blue>Una vez calculadas las componentes principales, se puede conocer la varianza explicada por cada una de ellas, la proporción respecto al total y la proporción de varianza acumulada. Esta información está almacenada en los atributos **explained_variance_** y **explained_variance_ratio_** del modelo. Para este caso, el PC1 obtiene un Ratio de varianza (14,61%) superior al PC2 (4,70%)."
      ],
      "metadata": {
        "id": "FaljjfL179tc"
      }
    },
    {
      "cell_type": "markdown",
      "source": [
        "<font color = blue > Aplicaremos un escalonamiento de los datos para analizar si su prediccion es mejor a la estandarizacion realizada."
      ],
      "metadata": {
        "id": "b8pT_81vG45c"
      }
    },
    {
      "cell_type": "code",
      "source": [
        "# TODO Here we have to pre-process the matrix before applying PCA\n",
        "from sklearn.preprocessing import StandardScaler\n",
        "std_scaler = StandardScaler()\n",
        "stdandard_melb_data_mice_knn = std_scaler.fit_transform(melb_data_mice_knn)\n",
        "np.max(stdandard_melb_data_mice_knn), np.min(stdandard_melb_data_mice_knn)\n"
      ],
      "metadata": {
        "colab": {
          "base_uri": "https://localhost:8080/"
        },
        "id": "obnNXY-CJTG1",
        "outputId": "8974087b-937a-4e50-808a-f600e8aec3d8"
      },
      "execution_count": null,
      "outputs": [
        {
          "output_type": "execute_result",
          "data": {
            "text/plain": [
              "(116.26263372210333, -22.641991277426353)"
            ]
          },
          "metadata": {},
          "execution_count": 74
        }
      ]
    },
    {
      "cell_type": "code",
      "source": [
        "stdandard_melb_data_mice_knn.shape"
      ],
      "metadata": {
        "colab": {
          "base_uri": "https://localhost:8080/"
        },
        "id": "RXILX7yrJaRG",
        "outputId": "ec4e3f5c-3ec1-42b4-a63a-fa4ff9091417"
      },
      "execution_count": null,
      "outputs": [
        {
          "output_type": "execute_result",
          "data": {
            "text/plain": [
              "(13518, 365)"
            ]
          },
          "metadata": {},
          "execution_count": 75
        }
      ]
    },
    {
      "cell_type": "code",
      "source": [
        "\n",
        "from sklearn.decomposition import PCA\n",
        "obj_pca_std = PCA(n_components=20)\n",
        "obj_pca_std.fit(stdandard_melb_data_mice_knn)\n",
        "proyected_features1_std = obj_pca_std.transform(stdandard_melb_data_mice_knn)\n"
      ],
      "metadata": {
        "id": "a2T6zzpLJh5l"
      },
      "execution_count": null,
      "outputs": []
    },
    {
      "cell_type": "code",
      "source": [
        "obj_pca_std.explained_variance_ratio_"
      ],
      "metadata": {
        "colab": {
          "base_uri": "https://localhost:8080/"
        },
        "id": "Ubxtnd8aKryo",
        "outputId": "7857f4c1-01a2-4d35-e481-71bbe0e07c2f"
      },
      "execution_count": null,
      "outputs": [
        {
          "output_type": "execute_result",
          "data": {
            "text/plain": [
              "array([0.01285483, 0.01068239, 0.00842262, 0.00787306, 0.00714715,\n",
              "       0.00661922, 0.00630523, 0.00609461, 0.00578697, 0.00570454,\n",
              "       0.00563336, 0.0056257 , 0.0056061 , 0.00556448, 0.00555553,\n",
              "       0.00553632, 0.00552511, 0.00549876, 0.00549226, 0.0054824 ])"
            ]
          },
          "metadata": {},
          "execution_count": 77
        }
      ]
    },
    {
      "cell_type": "markdown",
      "source": [
        "<font color=blue> En este caso para el PC1 se obtuvo un ratio de varianza de 12,85% mientras que para el PC2 fue de 1,06%.\n"
      ],
      "metadata": {
        "id": "JuPSFCXBJxLi"
      }
    },
    {
      "cell_type": "code",
      "source": [
        "#Comparamos  los ratios de varianza obtenidas para ambos metodos. \n",
        "\n",
        "sns.lineplot(x=range(obj_pca_std.n_components),\n",
        "                 y=obj_pca_std.explained_variance_ratio_, label='Standardized')\n",
        "sns.lineplot(x=range(obj_pca.n_components),\n",
        "                 y=obj_pca.explained_variance_ratio_, label='Scaled')\n",
        "plt.ylabel(\"Ratio of variance explained\")\n",
        "plt.xlabel(\"Components\")\n",
        "plt.legend()\n",
        "\n",
        "\n"
      ],
      "metadata": {
        "colab": {
          "base_uri": "https://localhost:8080/",
          "height": 520
        },
        "id": "esT5Wgz-J2zA",
        "outputId": "aa439532-7a47-4ebd-9198-691feed3a15b"
      },
      "execution_count": null,
      "outputs": [
        {
          "output_type": "execute_result",
          "data": {
            "text/plain": [
              "<matplotlib.legend.Legend at 0x7f72ceb68250>"
            ]
          },
          "metadata": {},
          "execution_count": 78
        },
        {
          "output_type": "display_data",
          "data": {
            "text/plain": [
              "<Figure size 1080x576 with 1 Axes>"
            ],
            "image/png": "[encoded data removed]"
          },
          "metadata": {}
        }
      ]
    },
    {
      "cell_type": "markdown",
      "source": [
        "<font color=blue>Se puede observar que el metodo escalonado explica mejor el comportamiento de los datos, a su vez se puede ver claramente un quiebre en la funcion que indica el numero de componentes a considerar.\n"
      ],
      "metadata": {
        "id": "qmieJJ8XKRMC"
      }
    },
    {
      "cell_type": "code",
      "source": [
        "# por la conclusion expresada anteriormente, vamos a incorporar las dos primeras PCA como columnas al df original.\n",
        "melb_data_mice_knn[['pca1_scaled', 'pca2_scaled']] = proyected_features[:,:2]  "
      ],
      "metadata": {
        "id": "M1IXDjhGKP3O"
      },
      "execution_count": null,
      "outputs": []
    },
    {
      "cell_type": "code",
      "source": [
        "melb_data_mice_knn.shape"
      ],
      "metadata": {
        "colab": {
          "base_uri": "https://localhost:8080/"
        },
        "id": "fLyA9WlMyiux",
        "outputId": "e3e8f820-ce41-4407-f855-a3da11a02876"
      },
      "execution_count": null,
      "outputs": [
        {
          "output_type": "execute_result",
          "data": {
            "text/plain": [
              "(13518, 367)"
            ]
          },
          "metadata": {},
          "execution_count": 80
        }
      ]
    },
    {
      "cell_type": "markdown",
      "source": [
        "2. Grafique la varianza capturada por los primeros $n$ componentes principales, para cada $n$."
      ],
      "metadata": {
        "id": "PuUKVXqVThg7"
      }
    },
    {
      "cell_type": "code",
      "source": [
        "# veremos como se comporta el precio con estas nuevas columnas incorporadas\n",
        "\n",
        "melb_data_mice_knn.Price.describe()"
      ],
      "metadata": {
        "colab": {
          "base_uri": "https://localhost:8080/"
        },
        "id": "D0hK_OFYYqAj",
        "outputId": "4043c072-5850-48ce-ec20-aae209dba819"
      },
      "execution_count": null,
      "outputs": [
        {
          "output_type": "execute_result",
          "data": {
            "text/plain": [
              "count     13518.00\n",
              "mean    1074796.40\n",
              "std      639858.56\n",
              "min       85000.00\n",
              "25%      650000.00\n",
              "50%      901000.00\n",
              "75%     1328000.00\n",
              "max     9000000.00\n",
              "Name: Price, dtype: float64"
            ]
          },
          "metadata": {},
          "execution_count": 81
        }
      ]
    },
    {
      "cell_type": "code",
      "source": [
        "# eliminaremos outliers \n",
        "data = melb_data_mice_knn[melb_data_mice_knn.Price > 100000] \n",
        "data = melb_data_mice_knn[melb_data_mice_knn.Price < 2000000] \n",
        "fig = plt.figure(figsize=(10, 10))\n",
        "sns.scatterplot(data=data, x='pca1_scaled', y='pca2_scaled',hue='Price')  # 'Landsize' 'Price' 'YearBuilt'\n"
      ],
      "metadata": {
        "colab": {
          "base_uri": "https://localhost:8080/",
          "height": 629
        },
        "id": "VHDKR_awZ0-f",
        "outputId": "db3bcb75-c5b0-44d4-8224-9c89e58c317c"
      },
      "execution_count": null,
      "outputs": [
        {
          "output_type": "execute_result",
          "data": {
            "text/plain": [
              "<matplotlib.axes._subplots.AxesSubplot at 0x7f72c9662190>"
            ]
          },
          "metadata": {},
          "execution_count": 82
        },
        {
          "output_type": "display_data",
          "data": {
            "text/plain": [
              "<Figure size 720x720 with 1 Axes>"
            ],
            "image/png": "[encoded data removed]"
          },
          "metadata": {}
        }
      ]
    },
    {
      "cell_type": "markdown",
      "source": [
        "<font color = blue > se puede apreciar 3 distintos grupos de precios, habiendo una mayor concentracion en el grupo del sector izquierdo."
      ],
      "metadata": {
        "id": "Rc-m-SHjcZ8L"
      }
    },
    {
      "cell_type": "code",
      "source": [
        "# Veamos cómo se comporta YearBuild\n",
        "data_year = melb_data_mice_knn[melb_data_mice_knn.YearBuilt > 1900]\n",
        "fig = plt.figure(figsize=(10, 10))\n",
        "sns.scatterplot(data=data_year, x='pca1_scaled', y='pca2_scaled',hue='YearBuilt')  # 'Landsize' 'Price' 'YearBuilt'\n"
      ],
      "metadata": {
        "colab": {
          "base_uri": "https://localhost:8080/",
          "height": 629
        },
        "id": "dYC1PlYVLsa_",
        "outputId": "57e37020-1181-43a1-f0d8-e8f23b186ab8"
      },
      "execution_count": null,
      "outputs": [
        {
          "output_type": "execute_result",
          "data": {
            "text/plain": [
              "<matplotlib.axes._subplots.AxesSubplot at 0x7f72cb8b4a90>"
            ]
          },
          "metadata": {},
          "execution_count": 83
        },
        {
          "output_type": "display_data",
          "data": {
            "text/plain": [
              "<Figure size 720x720 with 1 Axes>"
            ],
            "image/png": "[encoded data removed]"
          },
          "metadata": {}
        }
      ]
    },
    {
      "cell_type": "markdown",
      "source": [
        "<font color=blue>se puede apreciar un grupo importante de construcciones viejas y dos grupos de contrucciones mas modernas."
      ],
      "metadata": {
        "id": "MXuLclj_kJbv"
      }
    },
    {
      "cell_type": "code",
      "source": [
        "\n",
        "# Veamos cómo se comporta el precio para ver los limites y outliers- Landsize\n",
        "\n",
        "data_lsize = melb_data_mice_knn[melb_data_mice_knn.Landsize < 800]\n",
        "fig = plt.figure(figsize=(10, 10))\n",
        "sns.scatterplot(data=data_lsize, x='pca1_scaled', y='pca2_scaled',hue='Landsize')  # 'Landsize' 'Price' 'YearBuilt'\n",
        "\n"
      ],
      "metadata": {
        "colab": {
          "base_uri": "https://localhost:8080/",
          "height": 629
        },
        "id": "0P74MxB5jf_e",
        "outputId": "da7d8896-8c47-46c4-b31b-5f6ef485e6d7"
      },
      "execution_count": null,
      "outputs": [
        {
          "output_type": "execute_result",
          "data": {
            "text/plain": [
              "<matplotlib.axes._subplots.AxesSubplot at 0x7f72cb86acd0>"
            ]
          },
          "metadata": {},
          "execution_count": 84
        },
        {
          "output_type": "display_data",
          "data": {
            "text/plain": [
              "<Figure size 720x720 with 1 Axes>"
            ],
            "image/png": "[encoded data removed]"
          },
          "metadata": {}
        }
      ]
    },
    {
      "cell_type": "markdown",
      "source": [
        "<font color=blue> se puede ver claramente un grupo de construcciones con mayor superficie cubierta que el resto de los 2 grupos."
      ],
      "metadata": {
        "id": "u0wez_fuk_Yq"
      }
    },
    {
      "cell_type": "markdown",
      "metadata": {
        "id": "WrZTYmG_ZyDy"
      },
      "source": [
        "## Ejercicio 4: Composición del resultado\n",
        "\n",
        "Transformar nuevamente el conjunto de datos procesado en un `pandas.DataFrame` y guardarlo en un archivo.\n",
        "\n",
        "Para eso, será necesario recordar el nombre original de cada columna de la matriz, en el orden correcto. Tener en cuenta:\n",
        "1. El método `OneHotEncoder.get_feature_names` o el atributo `OneHotEncoder.categories_` permiten obtener una lista con los valores de la categoría que le corresponde a cada índice de la matriz.\n",
        "2. Ninguno de los métodos aplicados intercambia de lugar las columnas o las filas de la matriz."
      ]
    },
    {
      "cell_type": "code",
      "metadata": {
        "id": "DfchYPgTxvQ4",
        "colab": {
          "base_uri": "https://localhost:8080/",
          "height": 354
        },
        "outputId": "df88496b-62c1-4b72-f121-f19f443d6c65"
      },
      "source": [
        "# Tomamos el dataframe df utilizado como input para el enconding .\n",
        "\n",
        "\n",
        "## Small example\n",
        "from sklearn.decomposition import PCA\n",
        "from sklearn.preprocessing import OneHotEncoder\n",
        "\n",
        "## If we process our data with the following steps:\n",
        "\n",
        "vs = df.columns.to_series().groupby(melb_df.dtypes).groups\n",
        "\n",
        "\n",
        "## Small example\n",
        "from sklearn.decomposition import PCA\n",
        "from sklearn.preprocessing import OneHotEncoder\n",
        "\n",
        "## If we process our data with the following steps:\n",
        "#categorical_cols = ['Type', 'Regionname']\n",
        "categorical_cols = vs[np.dtype('O')]\n",
        "\n",
        "#numerical_cols = ['Rooms', 'Distance']\n",
        "protonumeric = np.append(vs[np.dtype('float64')].values, vs[np.dtype('int64')].values)\n",
        "numerical_cols = [n for n in protonumeric] \n",
        "\n",
        "new_columns = []\n",
        "\n",
        "# Step 1: encode categorical columns\n",
        "encoder = OneHotEncoder(handle_unknown='ignore', sparse=False)\n",
        "X_cat = encoder.fit_transform(df[categorical_cols])\n",
        "for col, col_values in zip(categorical_cols, encoder.categories_):\n",
        "  for col_value in col_values:\n",
        "    new_columns.append('{}={}'.format(col, col_value))\n",
        "print(\"Matrix has shape {}, with columns: {}\".format(X_cat.shape, new_columns))\n",
        "\n",
        "# Step 2: Append the numerical columns\n",
        "X = np.hstack([X_cat, df[numerical_cols].values])\n",
        "new_columns.extend(numerical_cols)\n",
        "print(\"Matrix has shape {}, with columns: {}\".format(X_cat.shape, new_columns))\n",
        "\n",
        "# Step 3: Append some new features, like PCA\n",
        "pca = PCA(n_components=2)\n",
        "pca_dummy_features = pca.fit_transform(X)\n",
        "X_pca = np.hstack([X, pca_dummy_features])\n",
        "new_columns.extend(['pca1', 'pca2'])\n",
        "\n",
        "## Re-build dataframe\n",
        "processed_melb_df = pd.DataFrame(data=X_pca, columns=new_columns)\n",
        "processed_melb_df.head()"
      ],
      "execution_count": null,
      "outputs": [
        {
          "output_type": "stream",
          "name": "stdout",
          "text": [
            "Matrix has shape (13518, 352), with columns: ['Suburb=Abbotsford', 'Suburb=Aberfeldie', 'Suburb=Airport West', 'Suburb=Albanvale', 'Suburb=Albert Park', 'Suburb=Albion', 'Suburb=Alphington', 'Suburb=Altona', 'Suburb=Altona Meadows', 'Suburb=Altona North', 'Suburb=Ardeer', 'Suburb=Armadale', 'Suburb=Ascot Vale', 'Suburb=Ashburton', 'Suburb=Ashwood', 'Suburb=Aspendale', 'Suburb=Aspendale Gardens', 'Suburb=Attwood', 'Suburb=Avondale Heights', 'Suburb=Bacchus Marsh', 'Suburb=Balaclava', 'Suburb=Balwyn', 'Suburb=Balwyn North', 'Suburb=Bayswater', 'Suburb=Bayswater North', 'Suburb=Beaconsfield', 'Suburb=Beaconsfield Upper', 'Suburb=Beaumaris', 'Suburb=Bellfield', 'Suburb=Bentleigh', 'Suburb=Bentleigh East', 'Suburb=Berwick', 'Suburb=Black Rock', 'Suburb=Blackburn', 'Suburb=Blackburn North', 'Suburb=Blackburn South', 'Suburb=Bonbeach', 'Suburb=Boronia', 'Suburb=Box Hill', 'Suburb=Braybrook', 'Suburb=Briar Hill', 'Suburb=Brighton', 'Suburb=Brighton East', 'Suburb=Broadmeadows', 'Suburb=Brookfield', 'Suburb=Brooklyn', 'Suburb=Brunswick', 'Suburb=Brunswick East', 'Suburb=Brunswick West', 'Suburb=Bulleen', 'Suburb=Bullengarook', 'Suburb=Bundoora', 'Suburb=Burnley', 'Suburb=Burnside', 'Suburb=Burnside Heights', 'Suburb=Burwood', 'Suburb=Burwood East', 'Suburb=Cairnlea', 'Suburb=Camberwell', 'Suburb=Campbellfield', 'Suburb=Canterbury', 'Suburb=Carlton', 'Suburb=Carlton North', 'Suburb=Carnegie', 'Suburb=Caroline Springs', 'Suburb=Carrum', 'Suburb=Carrum Downs', 'Suburb=Caulfield', 'Suburb=Caulfield East', 'Suburb=Caulfield North', 'Suburb=Caulfield South', 'Suburb=Chadstone', 'Suburb=Chelsea', 'Suburb=Chelsea Heights', 'Suburb=Cheltenham', 'Suburb=Chirnside Park', 'Suburb=Clarinda', 'Suburb=Clayton', 'Suburb=Clayton South', 'Suburb=Clifton Hill', 'Suburb=Coburg', 'Suburb=Coburg North', 'Suburb=Collingwood', 'Suburb=Coolaroo', 'Suburb=Craigieburn', 'Suburb=Cranbourne', 'Suburb=Cranbourne North', 'Suburb=Cremorne', 'Suburb=Croydon', 'Suburb=Croydon Hills', 'Suburb=Croydon North', 'Suburb=Croydon South', 'Suburb=Dallas', 'Suburb=Dandenong', 'Suburb=Dandenong North', 'Suburb=Deepdene', 'Suburb=Deer Park', 'Suburb=Delahey', 'Suburb=Derrimut', 'Suburb=Diamond Creek', 'Suburb=Diggers Rest', 'Suburb=Dingley Village', 'Suburb=Docklands', 'Suburb=Doncaster', 'Suburb=Doncaster East', 'Suburb=Donvale', 'Suburb=Doreen', 'Suburb=Doveton', 'Suburb=Eaglemont', 'Suburb=East Melbourne', 'Suburb=Edithvale', 'Suburb=Elsternwick', 'Suburb=Eltham', 'Suburb=Eltham North', 'Suburb=Elwood', 'Suburb=Emerald', 'Suburb=Endeavour Hills', 'Suburb=Epping', 'Suburb=Essendon', 'Suburb=Essendon North', 'Suburb=Essendon West', 'Suburb=Fairfield', 'Suburb=Fawkner', 'Suburb=Ferntree Gully', 'Suburb=Fitzroy', 'Suburb=Fitzroy North', 'Suburb=Flemington', 'Suburb=Footscray', 'Suburb=Forest Hill', 'Suburb=Frankston', 'Suburb=Frankston North', 'Suburb=Frankston South', 'Suburb=Gardenvale', 'Suburb=Gisborne', 'Suburb=Gladstone Park', 'Suburb=Glen Huntly', 'Suburb=Glen Iris', 'Suburb=Glen Waverley', 'Suburb=Glenroy', 'Suburb=Gowanbrae', 'Suburb=Greensborough', 'Suburb=Greenvale', 'Suburb=Hadfield', 'Suburb=Hallam', 'Suburb=Hampton', 'Suburb=Hampton East', 'Suburb=Hampton Park', 'Suburb=Hawthorn', 'Suburb=Hawthorn East', 'Suburb=Healesville', 'Suburb=Heathmont', 'Suburb=Heidelberg', 'Suburb=Heidelberg Heights', 'Suburb=Heidelberg West', 'Suburb=Highett', 'Suburb=Hillside', 'Suburb=Hoppers Crossing', 'Suburb=Hughesdale', 'Suburb=Huntingdale', 'Suburb=Hurstbridge', 'Suburb=Ivanhoe', 'Suburb=Ivanhoe East', 'Suburb=Jacana', 'Suburb=Kealba', 'Suburb=Keilor', 'Suburb=Keilor Downs', 'Suburb=Keilor East', 'Suburb=Keilor Lodge', 'Suburb=Keilor Park', 'Suburb=Kensington', 'Suburb=Kew', 'Suburb=Kew East', 'Suburb=Keysborough', 'Suburb=Kilsyth', 'Suburb=Kings Park', 'Suburb=Kingsbury', 'Suburb=Kingsville', 'Suburb=Knoxfield', 'Suburb=Kooyong', 'Suburb=Kurunjang', 'Suburb=Lalor', 'Suburb=Langwarrin', 'Suburb=Lower Plenty', 'Suburb=Maidstone', 'Suburb=Malvern', 'Suburb=Malvern East', 'Suburb=Maribyrnong', 'Suburb=McKinnon', 'Suburb=Meadow Heights', 'Suburb=Melbourne', 'Suburb=Melton', 'Suburb=Melton South', 'Suburb=Melton West', 'Suburb=Mentone', 'Suburb=Mernda', 'Suburb=Middle Park', 'Suburb=Mill Park', 'Suburb=Mitcham', 'Suburb=Monbulk', 'Suburb=Mont Albert', 'Suburb=Montmorency', 'Suburb=Montrose', 'Suburb=Moonee Ponds', 'Suburb=Moorabbin', 'Suburb=Mooroolbark', 'Suburb=Mordialloc', 'Suburb=Mount Evelyn', 'Suburb=Mount Waverley', 'Suburb=Mulgrave', 'Suburb=Murrumbeena', 'Suburb=Narre Warren', 'Suburb=New Gisborne', 'Suburb=Newport', 'Suburb=Niddrie', 'Suburb=Noble Park', 'Suburb=North Melbourne', 'Suburb=North Warrandyte', 'Suburb=Northcote', 'Suburb=Notting Hill', 'Suburb=Nunawading', 'Suburb=Oak Park', 'Suburb=Oakleigh', 'Suburb=Oakleigh East', 'Suburb=Oakleigh South', 'Suburb=Officer', 'Suburb=Ormond', 'Suburb=Pakenham', 'Suburb=Parkdale', 'Suburb=Parkville', 'Suburb=Pascoe Vale', 'Suburb=Plumpton', 'Suburb=Point Cook', 'Suburb=Port Melbourne', 'Suburb=Prahran', 'Suburb=Preston', 'Suburb=Princes Hill', 'Suburb=Reservoir', 'Suburb=Richmond', 'Suburb=Riddells Creek', 'Suburb=Ringwood', 'Suburb=Ringwood East', 'Suburb=Ringwood North', 'Suburb=Ripponlea', 'Suburb=Rockbank', 'Suburb=Rosanna', 'Suburb=Rowville', 'Suburb=Roxburgh Park', 'Suburb=Sandhurst', 'Suburb=Sandringham', 'Suburb=Scoresby', 'Suburb=Seabrook', 'Suburb=Seaford', 'Suburb=Seaholme', 'Suburb=Seddon', 'Suburb=Silvan', 'Suburb=Skye', 'Suburb=South Kingsville', 'Suburb=South Melbourne', 'Suburb=South Morang', 'Suburb=South Yarra', 'Suburb=Southbank', 'Suburb=Spotswood', 'Suburb=Springvale', 'Suburb=Springvale South', 'Suburb=St Albans', 'Suburb=St Helena', 'Suburb=St Kilda', 'Suburb=Strathmore', 'Suburb=Strathmore Heights', 'Suburb=Sunbury', 'Suburb=Sunshine', 'Suburb=Sunshine North', 'Suburb=Sunshine West', 'Suburb=Surrey Hills', 'Suburb=Sydenham', 'Suburb=Tarneit', 'Suburb=Taylors Hill', 'Suburb=Taylors Lakes', 'Suburb=Templestowe', 'Suburb=Templestowe Lower', 'Suburb=The Basin', 'Suburb=Thomastown', 'Suburb=Thornbury', 'Suburb=Toorak', 'Suburb=Travancore', 'Suburb=Truganina', 'Suburb=Tullamarine', 'Suburb=Upwey', 'Suburb=Vermont', 'Suburb=Vermont South', 'Suburb=Viewbank', 'Suburb=Wallan', 'Suburb=Wantirna', 'Suburb=Wantirna South', 'Suburb=Warrandyte', 'Suburb=Waterways', 'Suburb=Watsonia', 'Suburb=Watsonia North', 'Suburb=Werribee', 'Suburb=West Footscray', 'Suburb=West Melbourne', 'Suburb=Westmeadows', 'Suburb=Wheelers Hill', 'Suburb=Whittlesea', 'Suburb=Williams Landing', 'Suburb=Williamstown', 'Suburb=Williamstown North', 'Suburb=Windsor', 'Suburb=Wollert', 'Suburb=Wonga Park', 'Suburb=Wyndham Vale', 'Suburb=Yallambie', 'Suburb=Yarra Glen', 'Suburb=Yarraville', 'Type=h', 'Type=t', 'Type=u', 'CouncilArea=Banyule', 'CouncilArea=Bayside', 'CouncilArea=Boroondara', 'CouncilArea=Brimbank', 'CouncilArea=Cardinia', 'CouncilArea=Casey', 'CouncilArea=Darebin', 'CouncilArea=Frankston', 'CouncilArea=Glen Eira', 'CouncilArea=Greater Dandenong', 'CouncilArea=Hobsons Bay', 'CouncilArea=Hume', 'CouncilArea=Kingston', 'CouncilArea=Knox', 'CouncilArea=Macedon Ranges', 'CouncilArea=Manningham', 'CouncilArea=Maribyrnong', 'CouncilArea=Maroondah', 'CouncilArea=Melbourne', 'CouncilArea=Melton', 'CouncilArea=Mitchell', 'CouncilArea=Monash', 'CouncilArea=Moonee Valley', 'CouncilArea=Moorabool', 'CouncilArea=Moreland', 'CouncilArea=Nillumbik', 'CouncilArea=Port Phillip', 'CouncilArea=Shire of Macedon Ranges', 'CouncilArea=Stonnington', 'CouncilArea=Unavailable', 'CouncilArea=Whitehorse', 'CouncilArea=Whittlesea', 'CouncilArea=Wyndham', 'CouncilArea=Yarra', 'CouncilArea=Yarra Ranges']\n",
            "Matrix has shape (13518, 352), with columns: ['Suburb=Abbotsford', 'Suburb=Aberfeldie', 'Suburb=Airport West', 'Suburb=Albanvale', 'Suburb=Albert Park', 'Suburb=Albion', 'Suburb=Alphington', 'Suburb=Altona', 'Suburb=Altona Meadows', 'Suburb=Altona North', 'Suburb=Ardeer', 'Suburb=Armadale', 'Suburb=Ascot Vale', 'Suburb=Ashburton', 'Suburb=Ashwood', 'Suburb=Aspendale', 'Suburb=Aspendale Gardens', 'Suburb=Attwood', 'Suburb=Avondale Heights', 'Suburb=Bacchus Marsh', 'Suburb=Balaclava', 'Suburb=Balwyn', 'Suburb=Balwyn North', 'Suburb=Bayswater', 'Suburb=Bayswater North', 'Suburb=Beaconsfield', 'Suburb=Beaconsfield Upper', 'Suburb=Beaumaris', 'Suburb=Bellfield', 'Suburb=Bentleigh', 'Suburb=Bentleigh East', 'Suburb=Berwick', 'Suburb=Black Rock', 'Suburb=Blackburn', 'Suburb=Blackburn North', 'Suburb=Blackburn South', 'Suburb=Bonbeach', 'Suburb=Boronia', 'Suburb=Box Hill', 'Suburb=Braybrook', 'Suburb=Briar Hill', 'Suburb=Brighton', 'Suburb=Brighton East', 'Suburb=Broadmeadows', 'Suburb=Brookfield', 'Suburb=Brooklyn', 'Suburb=Brunswick', 'Suburb=Brunswick East', 'Suburb=Brunswick West', 'Suburb=Bulleen', 'Suburb=Bullengarook', 'Suburb=Bundoora', 'Suburb=Burnley', 'Suburb=Burnside', 'Suburb=Burnside Heights', 'Suburb=Burwood', 'Suburb=Burwood East', 'Suburb=Cairnlea', 'Suburb=Camberwell', 'Suburb=Campbellfield', 'Suburb=Canterbury', 'Suburb=Carlton', 'Suburb=Carlton North', 'Suburb=Carnegie', 'Suburb=Caroline Springs', 'Suburb=Carrum', 'Suburb=Carrum Downs', 'Suburb=Caulfield', 'Suburb=Caulfield East', 'Suburb=Caulfield North', 'Suburb=Caulfield South', 'Suburb=Chadstone', 'Suburb=Chelsea', 'Suburb=Chelsea Heights', 'Suburb=Cheltenham', 'Suburb=Chirnside Park', 'Suburb=Clarinda', 'Suburb=Clayton', 'Suburb=Clayton South', 'Suburb=Clifton Hill', 'Suburb=Coburg', 'Suburb=Coburg North', 'Suburb=Collingwood', 'Suburb=Coolaroo', 'Suburb=Craigieburn', 'Suburb=Cranbourne', 'Suburb=Cranbourne North', 'Suburb=Cremorne', 'Suburb=Croydon', 'Suburb=Croydon Hills', 'Suburb=Croydon North', 'Suburb=Croydon South', 'Suburb=Dallas', 'Suburb=Dandenong', 'Suburb=Dandenong North', 'Suburb=Deepdene', 'Suburb=Deer Park', 'Suburb=Delahey', 'Suburb=Derrimut', 'Suburb=Diamond Creek', 'Suburb=Diggers Rest', 'Suburb=Dingley Village', 'Suburb=Docklands', 'Suburb=Doncaster', 'Suburb=Doncaster East', 'Suburb=Donvale', 'Suburb=Doreen', 'Suburb=Doveton', 'Suburb=Eaglemont', 'Suburb=East Melbourne', 'Suburb=Edithvale', 'Suburb=Elsternwick', 'Suburb=Eltham', 'Suburb=Eltham North', 'Suburb=Elwood', 'Suburb=Emerald', 'Suburb=Endeavour Hills', 'Suburb=Epping', 'Suburb=Essendon', 'Suburb=Essendon North', 'Suburb=Essendon West', 'Suburb=Fairfield', 'Suburb=Fawkner', 'Suburb=Ferntree Gully', 'Suburb=Fitzroy', 'Suburb=Fitzroy North', 'Suburb=Flemington', 'Suburb=Footscray', 'Suburb=Forest Hill', 'Suburb=Frankston', 'Suburb=Frankston North', 'Suburb=Frankston South', 'Suburb=Gardenvale', 'Suburb=Gisborne', 'Suburb=Gladstone Park', 'Suburb=Glen Huntly', 'Suburb=Glen Iris', 'Suburb=Glen Waverley', 'Suburb=Glenroy', 'Suburb=Gowanbrae', 'Suburb=Greensborough', 'Suburb=Greenvale', 'Suburb=Hadfield', 'Suburb=Hallam', 'Suburb=Hampton', 'Suburb=Hampton East', 'Suburb=Hampton Park', 'Suburb=Hawthorn', 'Suburb=Hawthorn East', 'Suburb=Healesville', 'Suburb=Heathmont', 'Suburb=Heidelberg', 'Suburb=Heidelberg Heights', 'Suburb=Heidelberg West', 'Suburb=Highett', 'Suburb=Hillside', 'Suburb=Hoppers Crossing', 'Suburb=Hughesdale', 'Suburb=Huntingdale', 'Suburb=Hurstbridge', 'Suburb=Ivanhoe', 'Suburb=Ivanhoe East', 'Suburb=Jacana', 'Suburb=Kealba', 'Suburb=Keilor', 'Suburb=Keilor Downs', 'Suburb=Keilor East', 'Suburb=Keilor Lodge', 'Suburb=Keilor Park', 'Suburb=Kensington', 'Suburb=Kew', 'Suburb=Kew East', 'Suburb=Keysborough', 'Suburb=Kilsyth', 'Suburb=Kings Park', 'Suburb=Kingsbury', 'Suburb=Kingsville', 'Suburb=Knoxfield', 'Suburb=Kooyong', 'Suburb=Kurunjang', 'Suburb=Lalor', 'Suburb=Langwarrin', 'Suburb=Lower Plenty', 'Suburb=Maidstone', 'Suburb=Malvern', 'Suburb=Malvern East', 'Suburb=Maribyrnong', 'Suburb=McKinnon', 'Suburb=Meadow Heights', 'Suburb=Melbourne', 'Suburb=Melton', 'Suburb=Melton South', 'Suburb=Melton West', 'Suburb=Mentone', 'Suburb=Mernda', 'Suburb=Middle Park', 'Suburb=Mill Park', 'Suburb=Mitcham', 'Suburb=Monbulk', 'Suburb=Mont Albert', 'Suburb=Montmorency', 'Suburb=Montrose', 'Suburb=Moonee Ponds', 'Suburb=Moorabbin', 'Suburb=Mooroolbark', 'Suburb=Mordialloc', 'Suburb=Mount Evelyn', 'Suburb=Mount Waverley', 'Suburb=Mulgrave', 'Suburb=Murrumbeena', 'Suburb=Narre Warren', 'Suburb=New Gisborne', 'Suburb=Newport', 'Suburb=Niddrie', 'Suburb=Noble Park', 'Suburb=North Melbourne', 'Suburb=North Warrandyte', 'Suburb=Northcote', 'Suburb=Notting Hill', 'Suburb=Nunawading', 'Suburb=Oak Park', 'Suburb=Oakleigh', 'Suburb=Oakleigh East', 'Suburb=Oakleigh South', 'Suburb=Officer', 'Suburb=Ormond', 'Suburb=Pakenham', 'Suburb=Parkdale', 'Suburb=Parkville', 'Suburb=Pascoe Vale', 'Suburb=Plumpton', 'Suburb=Point Cook', 'Suburb=Port Melbourne', 'Suburb=Prahran', 'Suburb=Preston', 'Suburb=Princes Hill', 'Suburb=Reservoir', 'Suburb=Richmond', 'Suburb=Riddells Creek', 'Suburb=Ringwood', 'Suburb=Ringwood East', 'Suburb=Ringwood North', 'Suburb=Ripponlea', 'Suburb=Rockbank', 'Suburb=Rosanna', 'Suburb=Rowville', 'Suburb=Roxburgh Park', 'Suburb=Sandhurst', 'Suburb=Sandringham', 'Suburb=Scoresby', 'Suburb=Seabrook', 'Suburb=Seaford', 'Suburb=Seaholme', 'Suburb=Seddon', 'Suburb=Silvan', 'Suburb=Skye', 'Suburb=South Kingsville', 'Suburb=South Melbourne', 'Suburb=South Morang', 'Suburb=South Yarra', 'Suburb=Southbank', 'Suburb=Spotswood', 'Suburb=Springvale', 'Suburb=Springvale South', 'Suburb=St Albans', 'Suburb=St Helena', 'Suburb=St Kilda', 'Suburb=Strathmore', 'Suburb=Strathmore Heights', 'Suburb=Sunbury', 'Suburb=Sunshine', 'Suburb=Sunshine North', 'Suburb=Sunshine West', 'Suburb=Surrey Hills', 'Suburb=Sydenham', 'Suburb=Tarneit', 'Suburb=Taylors Hill', 'Suburb=Taylors Lakes', 'Suburb=Templestowe', 'Suburb=Templestowe Lower', 'Suburb=The Basin', 'Suburb=Thomastown', 'Suburb=Thornbury', 'Suburb=Toorak', 'Suburb=Travancore', 'Suburb=Truganina', 'Suburb=Tullamarine', 'Suburb=Upwey', 'Suburb=Vermont', 'Suburb=Vermont South', 'Suburb=Viewbank', 'Suburb=Wallan', 'Suburb=Wantirna', 'Suburb=Wantirna South', 'Suburb=Warrandyte', 'Suburb=Waterways', 'Suburb=Watsonia', 'Suburb=Watsonia North', 'Suburb=Werribee', 'Suburb=West Footscray', 'Suburb=West Melbourne', 'Suburb=Westmeadows', 'Suburb=Wheelers Hill', 'Suburb=Whittlesea', 'Suburb=Williams Landing', 'Suburb=Williamstown', 'Suburb=Williamstown North', 'Suburb=Windsor', 'Suburb=Wollert', 'Suburb=Wonga Park', 'Suburb=Wyndham Vale', 'Suburb=Yallambie', 'Suburb=Yarra Glen', 'Suburb=Yarraville', 'Type=h', 'Type=t', 'Type=u', 'CouncilArea=Banyule', 'CouncilArea=Bayside', 'CouncilArea=Boroondara', 'CouncilArea=Brimbank', 'CouncilArea=Cardinia', 'CouncilArea=Casey', 'CouncilArea=Darebin', 'CouncilArea=Frankston', 'CouncilArea=Glen Eira', 'CouncilArea=Greater Dandenong', 'CouncilArea=Hobsons Bay', 'CouncilArea=Hume', 'CouncilArea=Kingston', 'CouncilArea=Knox', 'CouncilArea=Macedon Ranges', 'CouncilArea=Manningham', 'CouncilArea=Maribyrnong', 'CouncilArea=Maroondah', 'CouncilArea=Melbourne', 'CouncilArea=Melton', 'CouncilArea=Mitchell', 'CouncilArea=Monash', 'CouncilArea=Moonee Valley', 'CouncilArea=Moorabool', 'CouncilArea=Moreland', 'CouncilArea=Nillumbik', 'CouncilArea=Port Phillip', 'CouncilArea=Shire of Macedon Ranges', 'CouncilArea=Stonnington', 'CouncilArea=Unavailable', 'CouncilArea=Whitehorse', 'CouncilArea=Whittlesea', 'CouncilArea=Wyndham', 'CouncilArea=Yarra', 'CouncilArea=Yarra Ranges', 'Price', 'Postcode', 'Bathroom', 'Car', 'Landsize', 'Lattitude', 'Longtitude', 'airbnb_price_mean', 'airbnb_weekly_price_mean', 'airbnb_monthly_price_mean', 'Rooms']\n"
          ]
        },
        {
          "output_type": "execute_result",
          "data": {
            "text/plain": [
              "   Suburb=Abbotsford  Suburb=Aberfeldie  Suburb=Airport West  \\\n",
              "0               1.00               0.00                 0.00   \n",
              "1               1.00               0.00                 0.00   \n",
              "2               1.00               0.00                 0.00   \n",
              "3               1.00               0.00                 0.00   \n",
              "4               1.00               0.00                 0.00   \n",
              "\n",
              "   Suburb=Albanvale  Suburb=Albert Park  Suburb=Albion  Suburb=Alphington  \\\n",
              "0              0.00                0.00           0.00               0.00   \n",
              "1              0.00                0.00           0.00               0.00   \n",
              "2              0.00                0.00           0.00               0.00   \n",
              "3              0.00                0.00           0.00               0.00   \n",
              "4              0.00                0.00           0.00               0.00   \n",
              "\n",
              "   Suburb=Altona  Suburb=Altona Meadows  Suburb=Altona North  ...  Car  \\\n",
              "0           0.00                   0.00                 0.00  ... 1.00   \n",
              "1           0.00                   0.00                 0.00  ... 0.00   \n",
              "2           0.00                   0.00                 0.00  ... 0.00   \n",
              "3           0.00                   0.00                 0.00  ... 1.00   \n",
              "4           0.00                   0.00                 0.00  ... 2.00   \n",
              "\n",
              "   Landsize  Lattitude  Longtitude  airbnb_price_mean  \\\n",
              "0    202.00     -37.80      145.00             130.62   \n",
              "1    156.00     -37.81      144.99             130.62   \n",
              "2    134.00     -37.81      144.99             130.62   \n",
              "3     94.00     -37.80      145.00             130.62   \n",
              "4    120.00     -37.81      144.99             130.62   \n",
              "\n",
              "   airbnb_weekly_price_mean  airbnb_monthly_price_mean  Rooms       pca1  \\\n",
              "0                    605.15                    2187.03   2.00  405203.25   \n",
              "1                    605.15                    2187.03   2.00  -39796.70   \n",
              "2                    605.15                    2187.03   3.00  390203.23   \n",
              "3                    605.15                    2187.03   3.00 -224796.68   \n",
              "4                    605.15                    2187.03   4.00  525203.21   \n",
              "\n",
              "     pca2  \n",
              "0 -450.02  \n",
              "1 -392.16  \n",
              "2 -514.52  \n",
              "3 -410.98  \n",
              "4 -560.03  \n",
              "\n",
              "[5 rows x 365 columns]"
            ],
            "text/html": [
              "\n",
              "  <div id=\"df-4253d731-5e52-4786-9dac-cb0e20cab1ea\">\n",
              "    <div class=\"colab-df-container\">\n",
              "      <div>\n",
              "<style scoped>\n",
              "    .dataframe tbody tr th:only-of-type {\n",
              "        vertical-align: middle;\n",
              "    }\n",
              "\n",
              "    .dataframe tbody tr th {\n",
              "        vertical-align: top;\n",
              "    }\n",
              "\n",
              "    .dataframe thead th {\n",
              "        text-align: right;\n",
              "    }\n",
              "</style>\n",
              "<table border=\"1\" class=\"dataframe\">\n",
              "  <thead>\n",
              "    <tr style=\"text-align: right;\">\n",
              "      <th></th>\n",
              "      <th>Suburb=Abbotsford</th>\n",
              "      <th>Suburb=Aberfeldie</th>\n",
              "      <th>Suburb=Airport West</th>\n",
              "      <th>Suburb=Albanvale</th>\n",
              "      <th>Suburb=Albert Park</th>\n",
              "      <th>Suburb=Albion</th>\n",
              "      <th>Suburb=Alphington</th>\n",
              "      <th>Suburb=Altona</th>\n",
              "      <th>Suburb=Altona Meadows</th>\n",
              "      <th>Suburb=Altona North</th>\n",
              "      <th>...</th>\n",
              "      <th>Car</th>\n",
              "      <th>Landsize</th>\n",
              "      <th>Lattitude</th>\n",
              "      <th>Longtitude</th>\n",
              "      <th>airbnb_price_mean</th>\n",
              "      <th>airbnb_weekly_price_mean</th>\n",
              "      <th>airbnb_monthly_price_mean</th>\n",
              "      <th>Rooms</th>\n",
              "      <th>pca1</th>\n",
              "      <th>pca2</th>\n",
              "    </tr>\n",
              "  </thead>\n",
              "  <tbody>\n",
              "    <tr>\n",
              "      <th>0</th>\n",
              "      <td>1.00</td>\n",
              "      <td>0.00</td>\n",
              "      <td>0.00</td>\n",
              "      <td>0.00</td>\n",
              "      <td>0.00</td>\n",
              "      <td>0.00</td>\n",
              "      <td>0.00</td>\n",
              "      <td>0.00</td>\n",
              "      <td>0.00</td>\n",
              "      <td>0.00</td>\n",
              "      <td>...</td>\n",
              "      <td>1.00</td>\n",
              "      <td>202.00</td>\n",
              "      <td>-37.80</td>\n",
              "      <td>145.00</td>\n",
              "      <td>130.62</td>\n",
              "      <td>605.15</td>\n",
              "      <td>2187.03</td>\n",
              "      <td>2.00</td>\n",
              "      <td>405203.25</td>\n",
              "      <td>-450.02</td>\n",
              "    </tr>\n",
              "    <tr>\n",
              "      <th>1</th>\n",
              "      <td>1.00</td>\n",
              "      <td>0.00</td>\n",
              "      <td>0.00</td>\n",
              "      <td>0.00</td>\n",
              "      <td>0.00</td>\n",
              "      <td>0.00</td>\n",
              "      <td>0.00</td>\n",
              "      <td>0.00</td>\n",
              "      <td>0.00</td>\n",
              "      <td>0.00</td>\n",
              "      <td>...</td>\n",
              "      <td>0.00</td>\n",
              "      <td>156.00</td>\n",
              "      <td>-37.81</td>\n",
              "      <td>144.99</td>\n",
              "      <td>130.62</td>\n",
              "      <td>605.15</td>\n",
              "      <td>2187.03</td>\n",
              "      <td>2.00</td>\n",
              "      <td>-39796.70</td>\n",
              "      <td>-392.16</td>\n",
              "    </tr>\n",
              "    <tr>\n",
              "      <th>2</th>\n",
              "      <td>1.00</td>\n",
              "      <td>0.00</td>\n",
              "      <td>0.00</td>\n",
              "      <td>0.00</td>\n",
              "      <td>0.00</td>\n",
              "      <td>0.00</td>\n",
              "      <td>0.00</td>\n",
              "      <td>0.00</td>\n",
              "      <td>0.00</td>\n",
              "      <td>0.00</td>\n",
              "      <td>...</td>\n",
              "      <td>0.00</td>\n",
              "      <td>134.00</td>\n",
              "      <td>-37.81</td>\n",
              "      <td>144.99</td>\n",
              "      <td>130.62</td>\n",
              "      <td>605.15</td>\n",
              "      <td>2187.03</td>\n",
              "      <td>3.00</td>\n",
              "      <td>390203.23</td>\n",
              "      <td>-514.52</td>\n",
              "    </tr>\n",
              "    <tr>\n",
              "      <th>3</th>\n",
              "      <td>1.00</td>\n",
              "      <td>0.00</td>\n",
              "      <td>0.00</td>\n",
              "      <td>0.00</td>\n",
              "      <td>0.00</td>\n",
              "      <td>0.00</td>\n",
              "      <td>0.00</td>\n",
              "      <td>0.00</td>\n",
              "      <td>0.00</td>\n",
              "      <td>0.00</td>\n",
              "      <td>...</td>\n",
              "      <td>1.00</td>\n",
              "      <td>94.00</td>\n",
              "      <td>-37.80</td>\n",
              "      <td>145.00</td>\n",
              "      <td>130.62</td>\n",
              "      <td>605.15</td>\n",
              "      <td>2187.03</td>\n",
              "      <td>3.00</td>\n",
              "      <td>-224796.68</td>\n",
              "      <td>-410.98</td>\n",
              "    </tr>\n",
              "    <tr>\n",
              "      <th>4</th>\n",
              "      <td>1.00</td>\n",
              "      <td>0.00</td>\n",
              "      <td>0.00</td>\n",
              "      <td>0.00</td>\n",
              "      <td>0.00</td>\n",
              "      <td>0.00</td>\n",
              "      <td>0.00</td>\n",
              "      <td>0.00</td>\n",
              "      <td>0.00</td>\n",
              "      <td>0.00</td>\n",
              "      <td>...</td>\n",
              "      <td>2.00</td>\n",
              "      <td>120.00</td>\n",
              "      <td>-37.81</td>\n",
              "      <td>144.99</td>\n",
              "      <td>130.62</td>\n",
              "      <td>605.15</td>\n",
              "      <td>2187.03</td>\n",
              "      <td>4.00</td>\n",
              "      <td>525203.21</td>\n",
              "      <td>-560.03</td>\n",
              "    </tr>\n",
              "  </tbody>\n",
              "</table>\n",
              "<p>5 rows × 365 columns</p>\n",
              "</div>\n",
              "      <button class=\"colab-df-convert\" onclick=\"convertToInteractive('df-4253d731-5e52-4786-9dac-cb0e20cab1ea')\"\n",
              "              title=\"Convert this dataframe to an interactive table.\"\n",
              "              style=\"display:none;\">\n",
              "        \n",
              "  <svg xmlns=\"http://www.w3.org/2000/svg\" height=\"24px\"viewBox=\"0 0 24 24\"\n",
              "       width=\"24px\">\n",
              "    <path d=\"M0 0h24v24H0V0z\" fill=\"none\"/>\n",
              "    <path d=\"M18.56 5.44l.94 2.06.94-2.06 2.06-.94-2.06-.94-.94-2.06-.94 2.06-2.06.94zm-11 1L8.5 8.5l.94-2.06 2.06-.94-2.06-.94L8.5 2.5l-.94 2.06-2.06.94zm10 10l.94 2.06.94-2.06 2.06-.94-2.06-.94-.94-2.06-.94 2.06-2.06.94z\"/><path d=\"M17.41 7.96l-1.37-1.37c-.4-.4-.92-.59-1.43-.59-.52 0-1.04.2-1.43.59L10.3 9.45l-7.72 7.72c-.78.78-.78 2.05 0 2.83L4 21.41c.39.39.9.59 1.41.59.51 0 1.02-.2 1.41-.59l7.78-7.78 2.81-2.81c.8-.78.8-2.07 0-2.86zM5.41 20L4 18.59l7.72-7.72 1.47 1.35L5.41 20z\"/>\n",
              "  </svg>\n",
              "      </button>\n",
              "      \n",
              "  <style>\n",
              "    .colab-df-container {\n",
              "      display:flex;\n",
              "      flex-wrap:wrap;\n",
              "      gap: 12px;\n",
              "    }\n",
              "\n",
              "    .colab-df-convert {\n",
              "      background-color: #E8F0FE;\n",
              "      border: none;\n",
              "      border-radius: 50%;\n",
              "      cursor: pointer;\n",
              "      display: none;\n",
              "      fill: #1967D2;\n",
              "      height: 32px;\n",
              "      padding: 0 0 0 0;\n",
              "      width: 32px;\n",
              "    }\n",
              "\n",
              "    .colab-df-convert:hover {\n",
              "      background-color: #E2EBFA;\n",
              "      box-shadow: 0px 1px 2px rgba(60, 64, 67, 0.3), 0px 1px 3px 1px rgba(60, 64, 67, 0.15);\n",
              "      fill: #174EA6;\n",
              "    }\n",
              "\n",
              "    [theme=dark] .colab-df-convert {\n",
              "      background-color: #3B4455;\n",
              "      fill: #D2E3FC;\n",
              "    }\n",
              "\n",
              "    [theme=dark] .colab-df-convert:hover {\n",
              "      background-color: #434B5C;\n",
              "      box-shadow: 0px 1px 3px 1px rgba(0, 0, 0, 0.15);\n",
              "      filter: drop-shadow(0px 1px 2px rgba(0, 0, 0, 0.3));\n",
              "      fill: #FFFFFF;\n",
              "    }\n",
              "  </style>\n",
              "\n",
              "      <script>\n",
              "        const buttonEl =\n",
              "          document.querySelector('#df-4253d731-5e52-4786-9dac-cb0e20cab1ea button.colab-df-convert');\n",
              "        buttonEl.style.display =\n",
              "          google.colab.kernel.accessAllowed ? 'block' : 'none';\n",
              "\n",
              "        async function convertToInteractive(key) {\n",
              "          const element = document.querySelector('#df-4253d731-5e52-4786-9dac-cb0e20cab1ea');\n",
              "          const dataTable =\n",
              "            await google.colab.kernel.invokeFunction('convertToInteractive',\n",
              "                                                     [key], {});\n",
              "          if (!dataTable) return;\n",
              "\n",
              "          const docLinkHtml = 'Like what you see? Visit the ' +\n",
              "            '<a target=\"_blank\" href=https://colab.research.google.com/notebooks/data_table.ipynb>data table notebook</a>'\n",
              "            + ' to learn more about interactive tables.';\n",
              "          element.innerHTML = '';\n",
              "          dataTable['output_type'] = 'display_data';\n",
              "          await google.colab.output.renderOutput(dataTable, element);\n",
              "          const docLink = document.createElement('div');\n",
              "          docLink.innerHTML = docLinkHtml;\n",
              "          element.appendChild(docLink);\n",
              "        }\n",
              "      </script>\n",
              "    </div>\n",
              "  </div>\n",
              "  "
            ]
          },
          "metadata": {},
          "execution_count": 85
        }
      ]
    },
    {
      "cell_type": "code",
      "source": [
        "new_columns"
      ],
      "metadata": {
        "colab": {
          "base_uri": "https://localhost:8080/"
        },
        "id": "s0S6fstNzpBp",
        "outputId": "a7417e0c-a863-4447-8a47-e68344774f04"
      },
      "execution_count": null,
      "outputs": [
        {
          "output_type": "execute_result",
          "data": {
            "text/plain": [
              "['Suburb=Abbotsford',\n",
              " 'Suburb=Aberfeldie',\n",
              " 'Suburb=Airport West',\n",
              " 'Suburb=Albanvale',\n",
              " 'Suburb=Albert Park',\n",
              " 'Suburb=Albion',\n",
              " 'Suburb=Alphington',\n",
              " 'Suburb=Altona',\n",
              " 'Suburb=Altona Meadows',\n",
              " 'Suburb=Altona North',\n",
              " 'Suburb=Ardeer',\n",
              " 'Suburb=Armadale',\n",
              " 'Suburb=Ascot Vale',\n",
              " 'Suburb=Ashburton',\n",
              " 'Suburb=Ashwood',\n",
              " 'Suburb=Aspendale',\n",
              " 'Suburb=Aspendale Gardens',\n",
              " 'Suburb=Attwood',\n",
              " 'Suburb=Avondale Heights',\n",
              " 'Suburb=Bacchus Marsh',\n",
              " 'Suburb=Balaclava',\n",
              " 'Suburb=Balwyn',\n",
              " 'Suburb=Balwyn North',\n",
              " 'Suburb=Bayswater',\n",
              " 'Suburb=Bayswater North',\n",
              " 'Suburb=Beaconsfield',\n",
              " 'Suburb=Beaconsfield Upper',\n",
              " 'Suburb=Beaumaris',\n",
              " 'Suburb=Bellfield',\n",
              " 'Suburb=Bentleigh',\n",
              " 'Suburb=Bentleigh East',\n",
              " 'Suburb=Berwick',\n",
              " 'Suburb=Black Rock',\n",
              " 'Suburb=Blackburn',\n",
              " 'Suburb=Blackburn North',\n",
              " 'Suburb=Blackburn South',\n",
              " 'Suburb=Bonbeach',\n",
              " 'Suburb=Boronia',\n",
              " 'Suburb=Box Hill',\n",
              " 'Suburb=Braybrook',\n",
              " 'Suburb=Briar Hill',\n",
              " 'Suburb=Brighton',\n",
              " 'Suburb=Brighton East',\n",
              " 'Suburb=Broadmeadows',\n",
              " 'Suburb=Brookfield',\n",
              " 'Suburb=Brooklyn',\n",
              " 'Suburb=Brunswick',\n",
              " 'Suburb=Brunswick East',\n",
              " 'Suburb=Brunswick West',\n",
              " 'Suburb=Bulleen',\n",
              " 'Suburb=Bullengarook',\n",
              " 'Suburb=Bundoora',\n",
              " 'Suburb=Burnley',\n",
              " 'Suburb=Burnside',\n",
              " 'Suburb=Burnside Heights',\n",
              " 'Suburb=Burwood',\n",
              " 'Suburb=Burwood East',\n",
              " 'Suburb=Cairnlea',\n",
              " 'Suburb=Camberwell',\n",
              " 'Suburb=Campbellfield',\n",
              " 'Suburb=Canterbury',\n",
              " 'Suburb=Carlton',\n",
              " 'Suburb=Carlton North',\n",
              " 'Suburb=Carnegie',\n",
              " 'Suburb=Caroline Springs',\n",
              " 'Suburb=Carrum',\n",
              " 'Suburb=Carrum Downs',\n",
              " 'Suburb=Caulfield',\n",
              " 'Suburb=Caulfield East',\n",
              " 'Suburb=Caulfield North',\n",
              " 'Suburb=Caulfield South',\n",
              " 'Suburb=Chadstone',\n",
              " 'Suburb=Chelsea',\n",
              " 'Suburb=Chelsea Heights',\n",
              " 'Suburb=Cheltenham',\n",
              " 'Suburb=Chirnside Park',\n",
              " 'Suburb=Clarinda',\n",
              " 'Suburb=Clayton',\n",
              " 'Suburb=Clayton South',\n",
              " 'Suburb=Clifton Hill',\n",
              " 'Suburb=Coburg',\n",
              " 'Suburb=Coburg North',\n",
              " 'Suburb=Collingwood',\n",
              " 'Suburb=Coolaroo',\n",
              " 'Suburb=Craigieburn',\n",
              " 'Suburb=Cranbourne',\n",
              " 'Suburb=Cranbourne North',\n",
              " 'Suburb=Cremorne',\n",
              " 'Suburb=Croydon',\n",
              " 'Suburb=Croydon Hills',\n",
              " 'Suburb=Croydon North',\n",
              " 'Suburb=Croydon South',\n",
              " 'Suburb=Dallas',\n",
              " 'Suburb=Dandenong',\n",
              " 'Suburb=Dandenong North',\n",
              " 'Suburb=Deepdene',\n",
              " 'Suburb=Deer Park',\n",
              " 'Suburb=Delahey',\n",
              " 'Suburb=Derrimut',\n",
              " 'Suburb=Diamond Creek',\n",
              " 'Suburb=Diggers Rest',\n",
              " 'Suburb=Dingley Village',\n",
              " 'Suburb=Docklands',\n",
              " 'Suburb=Doncaster',\n",
              " 'Suburb=Doncaster East',\n",
              " 'Suburb=Donvale',\n",
              " 'Suburb=Doreen',\n",
              " 'Suburb=Doveton',\n",
              " 'Suburb=Eaglemont',\n",
              " 'Suburb=East Melbourne',\n",
              " 'Suburb=Edithvale',\n",
              " 'Suburb=Elsternwick',\n",
              " 'Suburb=Eltham',\n",
              " 'Suburb=Eltham North',\n",
              " 'Suburb=Elwood',\n",
              " 'Suburb=Emerald',\n",
              " 'Suburb=Endeavour Hills',\n",
              " 'Suburb=Epping',\n",
              " 'Suburb=Essendon',\n",
              " 'Suburb=Essendon North',\n",
              " 'Suburb=Essendon West',\n",
              " 'Suburb=Fairfield',\n",
              " 'Suburb=Fawkner',\n",
              " 'Suburb=Ferntree Gully',\n",
              " 'Suburb=Fitzroy',\n",
              " 'Suburb=Fitzroy North',\n",
              " 'Suburb=Flemington',\n",
              " 'Suburb=Footscray',\n",
              " 'Suburb=Forest Hill',\n",
              " 'Suburb=Frankston',\n",
              " 'Suburb=Frankston North',\n",
              " 'Suburb=Frankston South',\n",
              " 'Suburb=Gardenvale',\n",
              " 'Suburb=Gisborne',\n",
              " 'Suburb=Gladstone Park',\n",
              " 'Suburb=Glen Huntly',\n",
              " 'Suburb=Glen Iris',\n",
              " 'Suburb=Glen Waverley',\n",
              " 'Suburb=Glenroy',\n",
              " 'Suburb=Gowanbrae',\n",
              " 'Suburb=Greensborough',\n",
              " 'Suburb=Greenvale',\n",
              " 'Suburb=Hadfield',\n",
              " 'Suburb=Hallam',\n",
              " 'Suburb=Hampton',\n",
              " 'Suburb=Hampton East',\n",
              " 'Suburb=Hampton Park',\n",
              " 'Suburb=Hawthorn',\n",
              " 'Suburb=Hawthorn East',\n",
              " 'Suburb=Healesville',\n",
              " 'Suburb=Heathmont',\n",
              " 'Suburb=Heidelberg',\n",
              " 'Suburb=Heidelberg Heights',\n",
              " 'Suburb=Heidelberg West',\n",
              " 'Suburb=Highett',\n",
              " 'Suburb=Hillside',\n",
              " 'Suburb=Hoppers Crossing',\n",
              " 'Suburb=Hughesdale',\n",
              " 'Suburb=Huntingdale',\n",
              " 'Suburb=Hurstbridge',\n",
              " 'Suburb=Ivanhoe',\n",
              " 'Suburb=Ivanhoe East',\n",
              " 'Suburb=Jacana',\n",
              " 'Suburb=Kealba',\n",
              " 'Suburb=Keilor',\n",
              " 'Suburb=Keilor Downs',\n",
              " 'Suburb=Keilor East',\n",
              " 'Suburb=Keilor Lodge',\n",
              " 'Suburb=Keilor Park',\n",
              " 'Suburb=Kensington',\n",
              " 'Suburb=Kew',\n",
              " 'Suburb=Kew East',\n",
              " 'Suburb=Keysborough',\n",
              " 'Suburb=Kilsyth',\n",
              " 'Suburb=Kings Park',\n",
              " 'Suburb=Kingsbury',\n",
              " 'Suburb=Kingsville',\n",
              " 'Suburb=Knoxfield',\n",
              " 'Suburb=Kooyong',\n",
              " 'Suburb=Kurunjang',\n",
              " 'Suburb=Lalor',\n",
              " 'Suburb=Langwarrin',\n",
              " 'Suburb=Lower Plenty',\n",
              " 'Suburb=Maidstone',\n",
              " 'Suburb=Malvern',\n",
              " 'Suburb=Malvern East',\n",
              " 'Suburb=Maribyrnong',\n",
              " 'Suburb=McKinnon',\n",
              " 'Suburb=Meadow Heights',\n",
              " 'Suburb=Melbourne',\n",
              " 'Suburb=Melton',\n",
              " 'Suburb=Melton South',\n",
              " 'Suburb=Melton West',\n",
              " 'Suburb=Mentone',\n",
              " 'Suburb=Mernda',\n",
              " 'Suburb=Middle Park',\n",
              " 'Suburb=Mill Park',\n",
              " 'Suburb=Mitcham',\n",
              " 'Suburb=Monbulk',\n",
              " 'Suburb=Mont Albert',\n",
              " 'Suburb=Montmorency',\n",
              " 'Suburb=Montrose',\n",
              " 'Suburb=Moonee Ponds',\n",
              " 'Suburb=Moorabbin',\n",
              " 'Suburb=Mooroolbark',\n",
              " 'Suburb=Mordialloc',\n",
              " 'Suburb=Mount Evelyn',\n",
              " 'Suburb=Mount Waverley',\n",
              " 'Suburb=Mulgrave',\n",
              " 'Suburb=Murrumbeena',\n",
              " 'Suburb=Narre Warren',\n",
              " 'Suburb=New Gisborne',\n",
              " 'Suburb=Newport',\n",
              " 'Suburb=Niddrie',\n",
              " 'Suburb=Noble Park',\n",
              " 'Suburb=North Melbourne',\n",
              " 'Suburb=North Warrandyte',\n",
              " 'Suburb=Northcote',\n",
              " 'Suburb=Notting Hill',\n",
              " 'Suburb=Nunawading',\n",
              " 'Suburb=Oak Park',\n",
              " 'Suburb=Oakleigh',\n",
              " 'Suburb=Oakleigh East',\n",
              " 'Suburb=Oakleigh South',\n",
              " 'Suburb=Officer',\n",
              " 'Suburb=Ormond',\n",
              " 'Suburb=Pakenham',\n",
              " 'Suburb=Parkdale',\n",
              " 'Suburb=Parkville',\n",
              " 'Suburb=Pascoe Vale',\n",
              " 'Suburb=Plumpton',\n",
              " 'Suburb=Point Cook',\n",
              " 'Suburb=Port Melbourne',\n",
              " 'Suburb=Prahran',\n",
              " 'Suburb=Preston',\n",
              " 'Suburb=Princes Hill',\n",
              " 'Suburb=Reservoir',\n",
              " 'Suburb=Richmond',\n",
              " 'Suburb=Riddells Creek',\n",
              " 'Suburb=Ringwood',\n",
              " 'Suburb=Ringwood East',\n",
              " 'Suburb=Ringwood North',\n",
              " 'Suburb=Ripponlea',\n",
              " 'Suburb=Rockbank',\n",
              " 'Suburb=Rosanna',\n",
              " 'Suburb=Rowville',\n",
              " 'Suburb=Roxburgh Park',\n",
              " 'Suburb=Sandhurst',\n",
              " 'Suburb=Sandringham',\n",
              " 'Suburb=Scoresby',\n",
              " 'Suburb=Seabrook',\n",
              " 'Suburb=Seaford',\n",
              " 'Suburb=Seaholme',\n",
              " 'Suburb=Seddon',\n",
              " 'Suburb=Silvan',\n",
              " 'Suburb=Skye',\n",
              " 'Suburb=South Kingsville',\n",
              " 'Suburb=South Melbourne',\n",
              " 'Suburb=South Morang',\n",
              " 'Suburb=South Yarra',\n",
              " 'Suburb=Southbank',\n",
              " 'Suburb=Spotswood',\n",
              " 'Suburb=Springvale',\n",
              " 'Suburb=Springvale South',\n",
              " 'Suburb=St Albans',\n",
              " 'Suburb=St Helena',\n",
              " 'Suburb=St Kilda',\n",
              " 'Suburb=Strathmore',\n",
              " 'Suburb=Strathmore Heights',\n",
              " 'Suburb=Sunbury',\n",
              " 'Suburb=Sunshine',\n",
              " 'Suburb=Sunshine North',\n",
              " 'Suburb=Sunshine West',\n",
              " 'Suburb=Surrey Hills',\n",
              " 'Suburb=Sydenham',\n",
              " 'Suburb=Tarneit',\n",
              " 'Suburb=Taylors Hill',\n",
              " 'Suburb=Taylors Lakes',\n",
              " 'Suburb=Templestowe',\n",
              " 'Suburb=Templestowe Lower',\n",
              " 'Suburb=The Basin',\n",
              " 'Suburb=Thomastown',\n",
              " 'Suburb=Thornbury',\n",
              " 'Suburb=Toorak',\n",
              " 'Suburb=Travancore',\n",
              " 'Suburb=Truganina',\n",
              " 'Suburb=Tullamarine',\n",
              " 'Suburb=Upwey',\n",
              " 'Suburb=Vermont',\n",
              " 'Suburb=Vermont South',\n",
              " 'Suburb=Viewbank',\n",
              " 'Suburb=Wallan',\n",
              " 'Suburb=Wantirna',\n",
              " 'Suburb=Wantirna South',\n",
              " 'Suburb=Warrandyte',\n",
              " 'Suburb=Waterways',\n",
              " 'Suburb=Watsonia',\n",
              " 'Suburb=Watsonia North',\n",
              " 'Suburb=Werribee',\n",
              " 'Suburb=West Footscray',\n",
              " 'Suburb=West Melbourne',\n",
              " 'Suburb=Westmeadows',\n",
              " 'Suburb=Wheelers Hill',\n",
              " 'Suburb=Whittlesea',\n",
              " 'Suburb=Williams Landing',\n",
              " 'Suburb=Williamstown',\n",
              " 'Suburb=Williamstown North',\n",
              " 'Suburb=Windsor',\n",
              " 'Suburb=Wollert',\n",
              " 'Suburb=Wonga Park',\n",
              " 'Suburb=Wyndham Vale',\n",
              " 'Suburb=Yallambie',\n",
              " 'Suburb=Yarra Glen',\n",
              " 'Suburb=Yarraville',\n",
              " 'Type=h',\n",
              " 'Type=t',\n",
              " 'Type=u',\n",
              " 'CouncilArea=Banyule',\n",
              " 'CouncilArea=Bayside',\n",
              " 'CouncilArea=Boroondara',\n",
              " 'CouncilArea=Brimbank',\n",
              " 'CouncilArea=Cardinia',\n",
              " 'CouncilArea=Casey',\n",
              " 'CouncilArea=Darebin',\n",
              " 'CouncilArea=Frankston',\n",
              " 'CouncilArea=Glen Eira',\n",
              " 'CouncilArea=Greater Dandenong',\n",
              " 'CouncilArea=Hobsons Bay',\n",
              " 'CouncilArea=Hume',\n",
              " 'CouncilArea=Kingston',\n",
              " 'CouncilArea=Knox',\n",
              " 'CouncilArea=Macedon Ranges',\n",
              " 'CouncilArea=Manningham',\n",
              " 'CouncilArea=Maribyrnong',\n",
              " 'CouncilArea=Maroondah',\n",
              " 'CouncilArea=Melbourne',\n",
              " 'CouncilArea=Melton',\n",
              " 'CouncilArea=Mitchell',\n",
              " 'CouncilArea=Monash',\n",
              " 'CouncilArea=Moonee Valley',\n",
              " 'CouncilArea=Moorabool',\n",
              " 'CouncilArea=Moreland',\n",
              " 'CouncilArea=Nillumbik',\n",
              " 'CouncilArea=Port Phillip',\n",
              " 'CouncilArea=Shire of Macedon Ranges',\n",
              " 'CouncilArea=Stonnington',\n",
              " 'CouncilArea=Unavailable',\n",
              " 'CouncilArea=Whitehorse',\n",
              " 'CouncilArea=Whittlesea',\n",
              " 'CouncilArea=Wyndham',\n",
              " 'CouncilArea=Yarra',\n",
              " 'CouncilArea=Yarra Ranges',\n",
              " 'Price',\n",
              " 'Postcode',\n",
              " 'Bathroom',\n",
              " 'Car',\n",
              " 'Landsize',\n",
              " 'Lattitude',\n",
              " 'Longtitude',\n",
              " 'airbnb_price_mean',\n",
              " 'airbnb_weekly_price_mean',\n",
              " 'airbnb_monthly_price_mean',\n",
              " 'Rooms',\n",
              " 'pca1',\n",
              " 'pca2']"
            ]
          },
          "metadata": {},
          "execution_count": 86
        }
      ]
    },
    {
      "cell_type": "code",
      "source": [
        "#Bajamos el archivo a formato csv\n",
        "\n",
        "processed_melb_df.to_csv(\"processed_melb_df.csv\", index=None)\n",
        "from google.colab import files \n",
        "files.download('processed_melb_df.csv')\n"
      ],
      "metadata": {
        "colab": {
          "base_uri": "https://localhost:8080/",
          "height": 17
        },
        "id": "1uE75dxlp9oX",
        "outputId": "88d0faef-b435-48c9-ecb4-aee119f70bb2"
      },
      "execution_count": null,
      "outputs": [
        {
          "output_type": "display_data",
          "data": {
            "text/plain": [
              "<IPython.core.display.Javascript object>"
            ],
            "application/javascript": [
              "\n",
              "    async function download(id, filename, size) {\n",
              "      if (!google.colab.kernel.accessAllowed) {\n",
              "        return;\n",
              "      }\n",
              "      const div = document.createElement('div');\n",
              "      const label = document.createElement('label');\n",
              "      label.textContent = `Downloading \"${filename}\": `;\n",
              "      div.appendChild(label);\n",
              "      const progress = document.createElement('progress');\n",
              "      progress.max = size;\n",
              "      div.appendChild(progress);\n",
              "      document.body.appendChild(div);\n",
              "\n",
              "      const buffers = [];\n",
              "      let downloaded = 0;\n",
              "\n",
              "      const channel = await google.colab.kernel.comms.open(id);\n",
              "      // Send a message to notify the kernel that we're ready.\n",
              "      channel.send({})\n",
              "\n",
              "      for await (const message of channel.messages) {\n",
              "        // Send a message to notify the kernel that we're ready.\n",
              "        channel.send({})\n",
              "        if (message.buffers) {\n",
              "          for (const buffer of message.buffers) {\n",
              "            buffers.push(buffer);\n",
              "            downloaded += buffer.byteLength;\n",
              "            progress.value = downloaded;\n",
              "          }\n",
              "        }\n",
              "      }\n",
              "      const blob = new Blob(buffers, {type: 'application/binary'});\n",
              "      const a = document.createElement('a');\n",
              "      a.href = window.URL.createObjectURL(blob);\n",
              "      a.download = filename;\n",
              "      div.appendChild(a);\n",
              "      a.click();\n",
              "      div.remove();\n",
              "    }\n",
              "  "
            ]
          },
          "metadata": {}
        },
        {
          "output_type": "display_data",
          "data": {
            "text/plain": [
              "<IPython.core.display.Javascript object>"
            ],
            "application/javascript": [
              "download(\"download_5e8aac06-0b0f-4c0e-96ee-78b79ad1e10e\", \"processed_melb_df.csv\", 20826767)"
            ]
          },
          "metadata": {}
        }
      ]
    },
    {
      "cell_type": "markdown",
      "metadata": {
        "id": "mVBLFc8PhRtW"
      },
      "source": [
        "## Ejercicio 5: Documentación\n",
        "\n",
        "En un documento `.pdf` o `.md` realizar un reporte de las operaciones que realizaron para obtener el conjunto de datos final. Se debe incluir:\n",
        "  1. Criterios de exclusión (o inclusión) de filas\n",
        "  2. Interpretación de las columnas presentes\n",
        "  2. Todas las transofrmaciones realizadas\n",
        "\n",
        "Este documento es de uso técnico exclusivamente, y su objetivo es permitir que otres desarrolladores puedan reproducir los mismos pasos y obtener el mismo resultado. Debe ser detallado pero consiso. Por ejemplo:\n",
        "\n",
        "```\n",
        "  ## Criterios de exclusión de ejemplos\n",
        "  1. Se eliminan ejemplos donde el campo Car tiene valores nulos.\n",
        "  2. Se asignan valores al dato CouncilArea para los registros nulos se realiza una asignacion segun codpost y a su vez para los siguientes casos, se realizado la siguiente imputacion:\n",
        "Buscando en la web obtuvimos lo siguiente:\n",
        "Para Suburb=Wallan - Postcode 3756 el CouncilArea es Mitchell\n",
        "https://data.gov.au/search?organisation=Mitchell%20Shire%20Council\n",
        "Para Suburb= New Gisborne - Postcode 3438 el CouncilArea es Shire of Macedon Ranges\n",
        "https://data.gov.au/organisations/org-dga-6dedc5ae-02f3-4c38-bb9f-c4e2d028f7aa\n",
        "Para Suburb= Monbulk - Postcode 3793 el CouncilArea es Yarra Ranges https://knowyourcouncil.vic.gov.au/councils/yarra-ranges\n",
        "\n",
        "  ## Características seleccionadas\n",
        "  ### Características categóricas\n",
        "  1. Type: tipo de propiedad. 3 valores posibles\n",
        "  2. ...\n",
        "  Todas las características categóricas fueron codificadas con un\n",
        "  método OneHotEncoding utilizando como máximo sus 30 valores más \n",
        "  frecuentes.\n",
        "  \n",
        "  ### Características numéricas\n",
        "  1. Rooms: Cantidad de habitaciones\n",
        "  2. Distance: Distancia al centro de la ciudad.\n",
        "  3. airbnb_mean_price: Se agrega el precio promedio diario de \n",
        "     publicaciones de la plataforma AirBnB en el mismo código \n",
        "     postal. [Link al repositorio con datos externos].\n",
        "\n",
        "  ### Transformaciones:\n",
        "     Todas las características numéricas fueron estandarizadas.\n",
        "\n",
        "  # 1. Encoding\n",
        "  ## 1.1. Seleccionar todas las filas y columnas del conjunto de datos obtenido en la parte 1 del entregable, excepto BuildingArea y YearBuilt, que volveremos a imputar más adelante.\n",
        "  1. Se generó un dataframe con los datos obtenidos anteriormente.\n",
        "  2. Se eliminaron las columas BuildingArea y YearBuilt con la función drop(). Estas columnas serán imputadas más adelante.\n",
        "  ## 1.2. Aplicar una codificación One-hot encoding a cada fila, tanto para variables numéricas como categóricas. Si lo consideran necesario, pueden volver a reducir el número de categorías únicas.\n",
        "  1. Se generó una lista con las variables categóricas del dataframe c_cat = ['Suburb', 'Type', 'Method', 'SellerG', 'Date', 'CouncilArea', 'Regionname'].  \n",
        "  2. Para cada columna categóricas se codificaron sus datos con el método OneHotEncoding.\n",
        "  3. Los valores codificados fueron transformados a arreglos correspondientes a cada columna.\n",
        "\n",
        "  ### Datos aumentados\n",
        "  1. Se agregan las 2 primeras columnas obtenidas a través del\n",
        "     método de PCA, aplicado sobre el conjunto de datos\n",
        "     totalmente procesado.\n",
        "```\n"
      ]
    },
    {
      "cell_type": "markdown",
      "metadata": {
        "id": "Bq7nuPg2HIYx"
      },
      "source": [
        "```\n",
        "\n",
        "  \n",
        "\n",
        "```"
      ]
    }
  ]
}